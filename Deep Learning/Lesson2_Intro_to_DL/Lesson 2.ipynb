{
 "cells": [
  {
   "cell_type": "markdown",
   "id": "6600cbe2",
   "metadata": {},
   "source": [
    "# Задание 1\n",
    "\n",
    "Напишите функцию `create_model`, которая должна возвращать полносвязную нейронную сеть из двух слоев. На вход должно быть 100 чисел, на выход 1, посередине 10. В качестве нелинейности используйте `ReLU`. Воспользуйтесь `nn.Sequential` и передайте слои как последовательность."
   ]
  },
  {
   "cell_type": "code",
   "execution_count": 1,
   "id": "d4ecf5a4",
   "metadata": {
    "ExecuteTime": {
     "end_time": "2023-02-15T16:03:27.866360Z",
     "start_time": "2023-02-15T16:03:26.830246Z"
    }
   },
   "outputs": [],
   "source": [
    "import torch\n",
    "import torch.nn as nn"
   ]
  },
  {
   "cell_type": "code",
   "execution_count": 4,
   "id": "5a91ce34",
   "metadata": {
    "ExecuteTime": {
     "end_time": "2023-02-15T16:07:33.313531Z",
     "start_time": "2023-02-15T16:07:33.301675Z"
    }
   },
   "outputs": [],
   "source": [
    "def create_model() -> nn.Sequential:\n",
    "    result = nn.Sequential(\n",
    "        nn.Linear(in_features=100, out_features=10),\n",
    "        nn.ReLU(),\n",
    "        nn.Linear(in_features=10, out_features=1)\n",
    "    )\n",
    "    return result\n",
    "\n",
    "# test = create_model()"
   ]
  },
  {
   "cell_type": "code",
   "execution_count": 5,
   "id": "ec182cfd",
   "metadata": {
    "ExecuteTime": {
     "end_time": "2023-02-15T16:07:33.643094Z",
     "start_time": "2023-02-15T16:07:33.629186Z"
    }
   },
   "outputs": [
    {
     "data": {
      "text/plain": [
       "Sequential(\n",
       "  (0): Linear(in_features=100, out_features=10, bias=True)\n",
       "  (1): ReLU()\n",
       "  (2): Linear(in_features=10, out_features=1, bias=True)\n",
       ")"
      ]
     },
     "execution_count": 5,
     "metadata": {},
     "output_type": "execute_result"
    }
   ],
   "source": [
    "test"
   ]
  },
  {
   "cell_type": "markdown",
   "id": "ed8c4df5",
   "metadata": {},
   "source": [
    "# Задание 2\n",
    "\n",
    "Напишите функцию `train`. Она должна принимать на вход нейронную сеть, даталоадер, оптимизатор и функцию потерь. Она должна иметь следующую сигнатуру: `def train(model: nn.Module, data_loader: DataLoader, optimizer: Optimizer, loss_fn):`\n",
    "\n",
    "Внутри функции сделайте следующие шаги:\n",
    "\n",
    "1. Переведите модель в режим обучения.\n",
    "\n",
    "2. Проитерируйтесь по даталоадеру.\n",
    "\n",
    "3. На каждой итерации:\n",
    "\n",
    "    - Занулите градиенты с помощью оптимизатора\n",
    "\n",
    "    - Сделайте проход вперед (forward pass)\n",
    "\n",
    "    - Посчитайте ошибку\n",
    "\n",
    "    - Сделайте проход назад (backward pass)\n",
    "\n",
    "    - Напечатайте ошибку на текущем батче с точностью до 5 символов после запятой (только число)\n",
    "\n",
    "    - Сделайте шаг оптимизации\n",
    "\n",
    "Функция должна вернуть среднюю ошибку за время прохода по даталоадеру.\n",
    "\n"
   ]
  },
  {
   "cell_type": "code",
   "execution_count": null,
   "id": "c1571ad6",
   "metadata": {},
   "outputs": [],
   "source": [
    "import torch.nn as nn\n",
    "\n",
    "nn.L1Loss, nn.MSELoss, nn.CrossEntropyLoss\n",
    "\n",
    "from torch import optim\n",
    "\n",
    "optim.SGD, optim.Adam\n",
    "optimizer = optim.Adam(net.parameters(), lr=0.0001)\n",
    "\n",
    "optimizer = optim.SGD(\n",
    "    [\n",
    "        {'params': net.linear1.parameters()},\n",
    "        {'params': net.linear2.parameters(), 'lr': 1e-3}\n",
    "    ],\n",
    "    lr=1e-2,\n",
    "    momentum=0.9\n",
    ")\n",
    "\n",
    "from torch.utils.data import TensorDataset\n",
    "\n",
    "dataset = TensorDataset(X, Y)\n",
    "\n",
    "from torch.utils.data import DataLoader\n",
    "\n",
    "loader = DataLoader(dataset, batch_size=4, shuffle=True)"
   ]
  },
  {
   "cell_type": "code",
   "execution_count": 12,
   "id": "794c6f1b",
   "metadata": {
    "ExecuteTime": {
     "end_time": "2023-03-08T13:48:56.507945Z",
     "start_time": "2023-03-08T13:48:56.492570Z"
    }
   },
   "outputs": [],
   "source": [
    "import torch\n",
    "import torch.nn as nn\n",
    "\n",
    "from torch import optim\n",
    "from torch.optim import Optimizer\n",
    "from torch.utils.data import Dataset\n",
    "from torch.utils.data import TensorDataset\n",
    "from torch.utils.data import DataLoader\n",
    "\n",
    "\n",
    "def train(model: nn.Module, data_loader: DataLoader, optimizer: Optimizer, loss_fn):\n",
    "    model.train()\n",
    "    total_loss = 0\n",
    "    for x, y in data_loader:\n",
    "\n",
    "        optimizer.zero_grad()\n",
    "        out = model(x)\n",
    "        loss = loss_fn(out, y)\n",
    "        total_loss += loss.item()\n",
    "        loss.backward()\n",
    "\n",
    "        print(f'{loss.item():.5f}')\n",
    "\n",
    "        optimizer.step()\n",
    "    return total_loss / len(data_loader)"
   ]
  },
  {
   "cell_type": "markdown",
   "id": "69770136",
   "metadata": {},
   "source": [
    "# Задание 3\n",
    "\n",
    "Напишите функцию `evaluate`. Она должна принимать на вход нейронную сеть, даталоадер и функцию потерь. Она должна иметь следующую сигнатуру: `def evaluate(model: nn.Module, data_loader: DataLoader, loss_fn):`\n",
    "\n",
    "Внутри функции сделайте следующие шаги:\n",
    "\n",
    "1. Переведите модель в режим инференса (применения)\n",
    "\n",
    "2. Проитерируйтесь по даталоадеру\n",
    "\n",
    "3. На каждой итерации:\n",
    "\n",
    "    - Сделайте проход вперед (`forward pass`)\n",
    "\n",
    "    - Посчитайте ошибку\n",
    "\n",
    "Функция должна вернуть среднюю ошибку за время прохода по даталоадеру."
   ]
  },
  {
   "cell_type": "code",
   "execution_count": 15,
   "id": "9aa28985",
   "metadata": {
    "ExecuteTime": {
     "end_time": "2023-03-08T13:55:42.807438Z",
     "start_time": "2023-03-08T13:55:42.789591Z"
    }
   },
   "outputs": [],
   "source": [
    "import torch\n",
    "import torch.nn as nn\n",
    "from torch.utils.data import DataLoader\n",
    "\n",
    "\n",
    "# @torch.inference_mode()\n",
    "def evaluate(model: nn.Module, data_loader: DataLoader, loss_fn):\n",
    "    \n",
    "    total_loss = 0\n",
    "    model.eval()\n",
    "    for x, y in data_loader:\n",
    "        out = model(x)\n",
    "        loss = loss_fn(out, y).item()\n",
    "        total_loss += loss\n",
    "    \n",
    "    return total_loss / len(data_loader)"
   ]
  },
  {
   "cell_type": "code",
   "execution_count": null,
   "id": "18fed43a",
   "metadata": {},
   "outputs": [],
   "source": []
  }
 ],
 "metadata": {
  "kernelspec": {
   "display_name": "Python 3 (ipykernel)",
   "language": "python",
   "name": "python3"
  },
  "language_info": {
   "codemirror_mode": {
    "name": "ipython",
    "version": 3
   },
   "file_extension": ".py",
   "mimetype": "text/x-python",
   "name": "python",
   "nbconvert_exporter": "python",
   "pygments_lexer": "ipython3",
   "version": "3.9.13"
  },
  "varInspector": {
   "cols": {
    "lenName": 16,
    "lenType": 16,
    "lenVar": 40
   },
   "kernels_config": {
    "python": {
     "delete_cmd_postfix": "",
     "delete_cmd_prefix": "del ",
     "library": "var_list.py",
     "varRefreshCmd": "print(var_dic_list())"
    },
    "r": {
     "delete_cmd_postfix": ") ",
     "delete_cmd_prefix": "rm(",
     "library": "var_list.r",
     "varRefreshCmd": "cat(var_dic_list()) "
    }
   },
   "types_to_exclude": [
    "module",
    "function",
    "builtin_function_or_method",
    "instance",
    "_Feature"
   ],
   "window_display": false
  }
 },
 "nbformat": 4,
 "nbformat_minor": 5
}
