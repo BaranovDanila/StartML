{
 "cells": [
  {
   "cell_type": "code",
   "execution_count": 1,
   "id": "f7412e0b-95f0-4d61-9505-af940c9c081e",
   "metadata": {
    "ExecuteTime": {
     "end_time": "2023-02-13T19:38:18.404116Z",
     "start_time": "2023-02-13T19:38:16.758518Z"
    }
   },
   "outputs": [],
   "source": [
    "import torch"
   ]
  },
  {
   "cell_type": "markdown",
   "id": "81ecd910-2b76-47a5-a026-079f86677f40",
   "metadata": {},
   "source": [
    "# Задание 1\n",
    "\n",
    "Напишите функцию `function01`. Она должна иметь следующую сигнатуру:\n",
    "\n",
    "`def function01(tensor: torch.Tensor, count_over: str) -> torch.Tensor:`\n",
    "\n",
    "Если `count_over` равен `'columns'`, верните среднее тензора по колонкам. Если равен `'rows'`, то верните среднее по рядам. Гарантируется, что тензор будет матрицей (то есть будет иметь размерность 2)."
   ]
  },
  {
   "cell_type": "code",
   "execution_count": 11,
   "id": "d7b42a79-aef9-4af8-aa95-066484d6ec90",
   "metadata": {
    "ExecuteTime": {
     "end_time": "2023-02-13T19:00:21.303264Z",
     "start_time": "2023-02-13T19:00:21.293128Z"
    }
   },
   "outputs": [],
   "source": [
    "def function01(tensor: torch.Tensor, count_over: str) -> torch.Tensor:\n",
    "    result = torch.mean(tensor, dim=1) if count_over == 'rows' else torch.mean(tensor, dim=0)\n",
    "    return result"
   ]
  },
  {
   "cell_type": "code",
   "execution_count": 12,
   "id": "04497ebc-4071-4900-bd70-9fb00dbbf0ce",
   "metadata": {
    "ExecuteTime": {
     "end_time": "2023-02-13T19:00:22.017336Z",
     "start_time": "2023-02-13T19:00:21.996987Z"
    }
   },
   "outputs": [
    {
     "name": "stdout",
     "output_type": "stream",
     "text": [
      "tensor([[0.9731, 0.2700, 0.9100, 0.2467, 0.2202],\n",
      "        [0.4365, 0.3612, 0.1924, 0.5175, 0.9052]])\n",
      "tensor([0.5240, 0.4826])\n",
      "tensor([0.7048, 0.3156, 0.5512, 0.3821, 0.5627])\n"
     ]
    }
   ],
   "source": [
    "test = torch.rand((2, 5))\n",
    "\n",
    "print(test)\n",
    "\n",
    "print(function01(test, 'rows'))\n",
    "print(function01(test, 'columns'))"
   ]
  },
  {
   "cell_type": "markdown",
   "id": "a110cbe2",
   "metadata": {},
   "source": [
    "\n",
    "# Задание 2\n",
    "\n",
    "Напишите функцию `function02`. Функции на вход должен приходить датасет — тензор-матрица признаков объектов. Ваша функция должна создать тензор-вектор с весами (пусть они будут из равномерного распределения на отрезке от 0 до 1) и вернуть их для дальнейшего обучения линейной регрессии без свободного коэффициента. Сделайте эти веса типа `float32`, для них нужно будет в процессе обучения вычислять градиенты (воспользуйтесь `requires_grad`).\n",
    "\n"
   ]
  },
  {
   "cell_type": "code",
   "execution_count": 20,
   "id": "672b64ca",
   "metadata": {
    "ExecuteTime": {
     "end_time": "2023-02-13T19:09:48.732696Z",
     "start_time": "2023-02-13T19:09:48.721617Z"
    }
   },
   "outputs": [],
   "source": [
    "def function02(tensor: torch.Tensor) -> torch.Tensor:\n",
    "    w = torch.rand(tensor.shape[1], dtype=torch.float32, requires_grad=True)\n",
    "    return w"
   ]
  },
  {
   "cell_type": "code",
   "execution_count": 21,
   "id": "25fc760d",
   "metadata": {
    "ExecuteTime": {
     "end_time": "2023-02-13T19:09:50.545666Z",
     "start_time": "2023-02-13T19:09:50.527925Z"
    }
   },
   "outputs": [
    {
     "data": {
      "text/plain": [
       "tensor([0.1685, 0.6305, 0.1092, 0.8027, 0.7927], requires_grad=True)"
      ]
     },
     "execution_count": 21,
     "metadata": {},
     "output_type": "execute_result"
    }
   ],
   "source": [
    "function02(test)"
   ]
  },
  {
   "cell_type": "code",
   "execution_count": 22,
   "id": "9c38e28d",
   "metadata": {
    "ExecuteTime": {
     "end_time": "2023-02-13T19:09:51.088827Z",
     "start_time": "2023-02-13T19:09:51.071061Z"
    }
   },
   "outputs": [
    {
     "data": {
      "text/plain": [
       "tensor([1.6156, 1.2080], grad_fn=<MvBackward0>)"
      ]
     },
     "execution_count": 22,
     "metadata": {},
     "output_type": "execute_result"
    }
   ],
   "source": [
    "torch.matmul(test, function02(test).t())"
   ]
  },
  {
   "cell_type": "markdown",
   "id": "9831214c",
   "metadata": {},
   "source": [
    "# Задание 3\n",
    "\n",
    "Напишите функцию `function03`. Она должна принимать тензор-матрицу с объектами и тензор-вектор с правильными ответами, будем решать задачу регрессии: `def function03(x: torch.Tensor, y: torch.Tensor)`:\n",
    "\n",
    "Создайте внутри функции веса для линейной регрессии (без свободного коэффициента), можете воспользоваться функцией из предыдущего степа. С помощью градиентного спуска подберите оптимальные веса для входных данных (используйте длину шага около `1e-2`). Верните тензор-вектор с оптимальными весами из функции. Ваши обученные веса должны давать `MSE` на обучающей выборке меньше единицы."
   ]
  },
  {
   "cell_type": "code",
   "execution_count": null,
   "id": "4aa69988",
   "metadata": {},
   "outputs": [],
   "source": [
    "# 5 x 4 @ 4 x 1 -> 5 x 1"
   ]
  },
  {
   "cell_type": "code",
   "execution_count": null,
   "id": "2412419e",
   "metadata": {},
   "outputs": [],
   "source": [
    "test.zero_"
   ]
  },
  {
   "cell_type": "code",
   "execution_count": 24,
   "id": "d8e24d66",
   "metadata": {
    "ExecuteTime": {
     "end_time": "2023-02-13T19:18:26.583704Z",
     "start_time": "2023-02-13T19:18:26.575213Z"
    }
   },
   "outputs": [],
   "source": [
    "test.requires_grad = True\n",
    "test.grad"
   ]
  },
  {
   "cell_type": "code",
   "execution_count": 5,
   "id": "d4ec5706",
   "metadata": {
    "ExecuteTime": {
     "end_time": "2023-02-13T19:38:31.435994Z",
     "start_time": "2023-02-13T19:38:31.422921Z"
    }
   },
   "outputs": [],
   "source": [
    "def function03(x: torch.Tensor, y: torch.Tensor):\n",
    "    step = 1e-2\n",
    "    w = torch.rand(x.shape[1], dtype=torch.float32, requires_grad=True)\n",
    "    \n",
    "    while True:\n",
    "        y_pred = (x @ w.t()).ravel()\n",
    "        mse = torch.mean((y - y_pred) ** 2)\n",
    "        mse.backward()\n",
    "        \n",
    "        if mse < 1:\n",
    "            return w\n",
    "        \n",
    "        with torch.no_grad():\n",
    "            w -= step * w.grad\n",
    "        \n",
    "        w.grad.zero_()"
   ]
  },
  {
   "cell_type": "code",
   "execution_count": 6,
   "id": "1e95b76b",
   "metadata": {
    "ExecuteTime": {
     "end_time": "2023-02-13T19:38:31.901629Z",
     "start_time": "2023-02-13T19:38:31.864563Z"
    }
   },
   "outputs": [],
   "source": [
    "n_features = 2\n",
    "n_objects = 300\n",
    "\n",
    "w_true = torch.randn(n_features)\n",
    "X = (torch.rand(n_objects, n_features) - 0.5) * 5\n",
    "Y = X @ w_true + torch.randn(n_objects) / 2\n",
    "\n",
    "w = function03(X, Y)"
   ]
  },
  {
   "cell_type": "code",
   "execution_count": 43,
   "id": "1e535c5c",
   "metadata": {
    "ExecuteTime": {
     "end_time": "2023-02-13T19:25:26.752149Z",
     "start_time": "2023-02-13T19:25:26.737078Z"
    }
   },
   "outputs": [
    {
     "data": {
      "text/plain": [
       "tensor(0.9661, grad_fn=<MeanBackward0>)"
      ]
     },
     "execution_count": 43,
     "metadata": {},
     "output_type": "execute_result"
    }
   ],
   "source": [
    "torch.mean(((X @ w.t()) - Y) ** 2)"
   ]
  },
  {
   "cell_type": "markdown",
   "id": "ae673aae",
   "metadata": {},
   "source": [
    "# Задание 4\n",
    "\n",
    "Напишите функцию `function04`. Она должна принимать тензор-матрицу с объектами и тензор с правильными ответами, будем решать задачу регрессии: `def function04(x: torch.Tensor, y: torch.Tensor):`\n",
    "\n",
    "Создайте внутри функции полносвязный слой, обучите этот полносвязный слой на входных данных с помощью градиентного спуска (используйте длину шага около 1e-2). Верните его из функции. Ваш полносвязный слой должен давать `MSE` на обучающей выборке меньше 0.3."
   ]
  },
  {
   "cell_type": "code",
   "execution_count": 20,
   "id": "116ce154",
   "metadata": {
    "ExecuteTime": {
     "end_time": "2023-02-13T19:42:46.308576Z",
     "start_time": "2023-02-13T19:42:46.293098Z"
    }
   },
   "outputs": [],
   "source": [
    "import torch.nn as nn\n",
    "\n",
    "def function04(x: torch.Tensor, y: torch.Tensor) -> torch.nn.Linear:\n",
    "    \n",
    "    out_features = 1 if y.ndim == 1 else y.shape[0]\n",
    "    layer = nn.Linear(in_features=x.shape[1], out_features=out_features)\n",
    "    step = 1e-2\n",
    "    while True:\n",
    "        y_pred = layer(x).ravel()\n",
    "        mse = torch.mean((y_pred - y) ** 2)\n",
    "        mse.backward()\n",
    "        \n",
    "        if mse < 0.3:\n",
    "            return layer\n",
    "        \n",
    "        with torch.no_grad():\n",
    "            layer.weight -= step * layer.weight.grad\n",
    "            layer.bias -= step * layer.bias.grad\n",
    "            \n",
    "        layer.zero_grad()"
   ]
  },
  {
   "cell_type": "code",
   "execution_count": 21,
   "id": "0d16aa91",
   "metadata": {
    "ExecuteTime": {
     "end_time": "2023-02-13T19:42:46.896558Z",
     "start_time": "2023-02-13T19:42:46.865634Z"
    }
   },
   "outputs": [],
   "source": [
    "layer = function04(X, Y)"
   ]
  },
  {
   "cell_type": "code",
   "execution_count": 22,
   "id": "e1dd794e",
   "metadata": {
    "ExecuteTime": {
     "end_time": "2023-02-13T19:42:48.030302Z",
     "start_time": "2023-02-13T19:42:48.015404Z"
    }
   },
   "outputs": [],
   "source": [
    "layer = nn.Linear(in_features=X.shape[1], out_features=Y.shape[0])"
   ]
  },
  {
   "cell_type": "code",
   "execution_count": 26,
   "id": "e9f4bec8",
   "metadata": {
    "ExecuteTime": {
     "end_time": "2023-02-13T19:43:41.220521Z",
     "start_time": "2023-02-13T19:43:41.204460Z"
    }
   },
   "outputs": [
    {
     "data": {
      "text/plain": [
       "tensor([ 2.1721,  2.9376, -2.6368, -0.6423,  1.1223,  4.3183,  1.7834,  3.8030,\n",
       "        -1.5654,  3.4786, -4.1216, -3.1978, -3.5100,  1.4994, -3.1281,  0.4475,\n",
       "        -0.0897,  2.2667, -3.5698, -3.3759, -1.0608,  1.0593, -3.2828, -3.8367,\n",
       "        -0.7850,  2.7310,  0.1547, -2.4260,  0.7030,  4.3691, -1.5849,  1.3319,\n",
       "         2.7297,  0.8296, -0.9350, -2.4084, -0.6570, -0.4758, -0.4140, -3.9284,\n",
       "        -3.2118,  1.9100, -2.4981, -4.0884, -4.8914,  2.2569, -1.0902, -0.6397,\n",
       "         0.6339,  3.0710, -3.2772, -2.9522, -2.6351,  3.9192, -0.5444, -4.0229,\n",
       "         3.9050,  3.5146, -0.0304, -3.7932, -1.7378, -3.8651, -3.7100,  4.9246,\n",
       "        -0.9597, -1.5853, -2.4326, -4.2317, -2.7564,  3.3147,  1.9527,  4.3455,\n",
       "         1.0749,  0.4111, -1.3890,  1.3347, -5.0745,  0.5908,  4.8613,  2.8471,\n",
       "         1.7008, -2.8906, -2.5066,  2.3527, -1.6173,  3.8387, -3.5366,  3.2961,\n",
       "        -3.7041, -1.7643,  0.5645, -0.6159,  4.4446,  1.1422, -4.4085, -2.3697,\n",
       "        -0.5402, -4.0997, -3.1368, -2.7661, -3.7023, -1.5885, -2.0087,  1.7702,\n",
       "         0.5545,  2.8369,  2.4443, -4.1196, -3.7259,  2.6009,  3.4855, -3.0084,\n",
       "        -0.0637, -2.3825, -4.8411,  2.9747,  3.6575,  3.5605, -1.3647,  2.1144,\n",
       "        -3.5154, -1.7286,  1.9520,  1.9599,  1.6781,  0.6940,  3.3931, -3.1801,\n",
       "        -0.1230, -2.0373, -3.2248, -3.9139,  2.6316, -1.6636, -1.5561, -0.9305,\n",
       "        -1.6668,  1.4940, -3.2347, -2.6270,  0.1724, -4.6615,  4.0624,  1.5031,\n",
       "        -3.7431, -3.2678, -0.3534, -0.9820,  0.0112, -3.4659,  1.6663, -0.2368,\n",
       "         0.2587, -0.2124, -0.9547, -2.5948,  2.4703, -2.8253,  3.6951, -1.7056,\n",
       "         0.8774,  0.6559, -0.7525,  3.1628, -1.7554,  3.3498,  0.7757,  1.7675,\n",
       "         2.6120, -3.0660, -0.7215, -3.8637,  3.7683, -1.4524, -1.9063, -2.8279,\n",
       "         1.9894, -2.0637, -0.1712,  1.0728,  4.2671,  0.8228, -1.5595, -3.0321,\n",
       "         1.0871, -1.2147, -3.0215,  3.7437,  1.6961, -3.5880,  0.7120, -1.7396,\n",
       "         3.6136, -1.0826,  2.3464, -4.3051,  2.8544, -3.4623, -0.6280,  2.0115,\n",
       "         0.0495,  2.0089, -2.9699, -2.3699, -2.2772, -3.8736, -0.4503, -0.6559,\n",
       "         2.1760,  0.6133,  1.1501, -1.8666,  1.2971, -1.1218, -1.6324, -1.5395,\n",
       "        -2.9385,  3.0977,  1.1619,  3.8691, -1.1755, -0.3221,  3.0703,  0.3774,\n",
       "         2.9427,  0.1234, -3.5289,  0.2297, -3.6715, -0.3657, -1.3845,  4.5676,\n",
       "        -2.2162, -1.3679, -2.7389,  3.1119,  0.7250, -3.8835,  3.8708,  2.8222,\n",
       "        -3.7562,  3.0470,  4.0619,  2.4401,  2.0445,  0.4297,  1.0039,  3.5774,\n",
       "        -0.5328, -1.9440,  0.1511,  2.2845,  1.3097, -1.5949,  1.6442, -3.9628,\n",
       "        -0.6364, -1.7594,  0.4010,  1.2814,  3.2876, -2.0521, -3.4790, -2.6598,\n",
       "         4.0391, -1.2606, -2.1951, -2.0726,  0.1153,  3.1067,  3.2895, -3.9817,\n",
       "         3.8499, -0.2871, -1.6690, -0.3735,  3.6318,  3.0179, -2.0033, -2.0492,\n",
       "         0.2071, -3.0848,  2.8516,  2.1518,  3.9793,  3.9179, -4.7116, -1.6598,\n",
       "        -2.8341,  4.2732, -3.9878, -5.3706, -4.1809,  2.0388, -1.0725,  2.2747,\n",
       "         1.3515,  2.6071,  2.2505, -3.4799])"
      ]
     },
     "execution_count": 26,
     "metadata": {},
     "output_type": "execute_result"
    }
   ],
   "source": [
    "Y"
   ]
  },
  {
   "cell_type": "code",
   "execution_count": 28,
   "id": "90b3b481",
   "metadata": {
    "ExecuteTime": {
     "end_time": "2023-02-13T19:43:51.054211Z",
     "start_time": "2023-02-13T19:43:51.042212Z"
    }
   },
   "outputs": [
    {
     "data": {
      "text/plain": [
       "torch.Size([90000])"
      ]
     },
     "execution_count": 28,
     "metadata": {},
     "output_type": "execute_result"
    }
   ],
   "source": [
    "layer(X).ravel().shape"
   ]
  },
  {
   "cell_type": "code",
   "execution_count": null,
   "id": "fa45ddde",
   "metadata": {},
   "outputs": [],
   "source": []
  }
 ],
 "metadata": {
  "kernelspec": {
   "display_name": "Python 3 (ipykernel)",
   "language": "python",
   "name": "python3"
  },
  "language_info": {
   "codemirror_mode": {
    "name": "ipython",
    "version": 3
   },
   "file_extension": ".py",
   "mimetype": "text/x-python",
   "name": "python",
   "nbconvert_exporter": "python",
   "pygments_lexer": "ipython3",
   "version": "3.9.13"
  },
  "varInspector": {
   "cols": {
    "lenName": 16,
    "lenType": 16,
    "lenVar": 40
   },
   "kernels_config": {
    "python": {
     "delete_cmd_postfix": "",
     "delete_cmd_prefix": "del ",
     "library": "var_list.py",
     "varRefreshCmd": "print(var_dic_list())"
    },
    "r": {
     "delete_cmd_postfix": ") ",
     "delete_cmd_prefix": "rm(",
     "library": "var_list.r",
     "varRefreshCmd": "cat(var_dic_list()) "
    }
   },
   "types_to_exclude": [
    "module",
    "function",
    "builtin_function_or_method",
    "instance",
    "_Feature"
   ],
   "window_display": false
  }
 },
 "nbformat": 4,
 "nbformat_minor": 5
}
