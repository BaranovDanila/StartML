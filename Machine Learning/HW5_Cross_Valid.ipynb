{
 "cells": [
  {
   "cell_type": "markdown",
   "id": "430caf85",
   "metadata": {},
   "source": [
    "К текущему моменту мы научились обучать простейшую линейную регрессию: причем научились пользоваться как готовыми методами из sklearn, так и реализовывать поиск решения оптимальных коэффициентов самостоятельно с помощью градиентного спуска.\n",
    "\n",
    "На последних занятиях мы узнали, что на практике часто приходится прибегать к некоторым хитростям, чтобы оценить, действительно ли модель отлично справляется со своей главной задачей - делать хорошие предсказания на новых данных в будущем, или, как еще говорят, в проде - после запуска.\n",
    "\n",
    "Для этого было введено понятие так называемой обобщающей способности модели. Оно помогает нам оценить, насколько наша модель подогналась под увиденные данные и насколько она окажется хороша на новых данных.\n",
    "\n",
    "Обобщающую способность мы научились оценивать с помощью метода Кросс-Валидации."
   ]
  },
  {
   "cell_type": "markdown",
   "id": "38b6e4cd",
   "metadata": {},
   "source": [
    "Построим для старой задачи с предсказанием длительности поездки в такси 2 модели линейной регрессии. Для каждой из них замерим качество на кросс-валидации и на тесте, заранее его отложив.\n",
    "\n",
    "Считается, что если для K-Fold Кросс-Валидации брать большие значения K (то есть большое количество сплитов для разбиения тренировочной выборки на тренировку-валидацию), то оценка среднеквадратической ошибки будет получаться более справедливой. Так, например, когда K оказывается максимальным, а именно равным количеству объектов в выборке (каждый раз в валидации у нас 1 новый объект), то такой метод Кросс-Валидации еще называют LeaveOneOut.\n",
    "\n",
    "Главная причина, почему мало где его используют, состоит в дороговизне такого метода. Например, в данной задаче в TAXI_train.csv лежит почти 1,2 млн. объектов. Тогда, чтобы замерить качество на LeaveOneOut валидации, нам пришлось бы обучить 1,2 млн. различных версий одной модели, что, конечно, не вписыватеся в рамки адекватного времени и прочих ресурсов.\n",
    "\n",
    "Поэтому выберем компромиссное значение в виде 20 фолдов для K-Fold Кросс-Валидации.\n",
    "\n",
    "Внимание! Для каждой из 2 моделей очевидно было бы справедливым замерять качество на тех же самых объектах, поэтому сплиты лучше зафиксировать сразу.\n",
    "\n",
    "P.S. Оптимизировать будем MSLE метрику. И сравнивать модели тоже будем по ней будем. Как из домашнего задания про метрики, только без корня! :)\n",
    "\n",
    "$$\\text{MSLE}(X, y, a) = \\frac{1}{\\ell}\\sum_{i=1}^{\\ell} \\big(\\log{(y_i + 1)} - \\log{(a(x_i) + 1)}\\big)^2$$\n"
   ]
  },
  {
   "cell_type": "markdown",
   "id": "e9829d42",
   "metadata": {},
   "source": [
    "### Модель №1 Для начала посчитаем ошибку на Кросс-Валидации и Тесте для нашей самой базовой модели до вычленения каких-либо признаков, а просто взяв все вещественные колонки."
   ]
  },
  {
   "cell_type": "code",
   "execution_count": 1,
   "id": "d6401464",
   "metadata": {
    "ExecuteTime": {
     "end_time": "2022-07-05T08:31:38.023119Z",
     "start_time": "2022-07-05T08:31:37.576905Z"
    }
   },
   "outputs": [],
   "source": [
    "import pandas as pd"
   ]
  },
  {
   "cell_type": "code",
   "execution_count": 2,
   "id": "edd189a6",
   "metadata": {
    "ExecuteTime": {
     "end_time": "2022-07-05T08:31:40.555753Z",
     "start_time": "2022-07-05T08:31:38.024274Z"
    }
   },
   "outputs": [],
   "source": [
    "initial_data = pd.read_csv('initial_data.csv', index_col='id')\n",
    "\n",
    "initial_cols = ['vendor_id', 'passenger_count', 'pickup_longitude',\n",
    "                'pickup_latitude', 'dropoff_longitude', 'dropoff_latitude',\n",
    "                'trip_duration']\n",
    "\n",
    "initial_data = initial_data[initial_cols]"
   ]
  },
  {
   "cell_type": "markdown",
   "id": "7cfe7f87",
   "metadata": {},
   "source": [
    "### ТрюК!"
   ]
  },
  {
   "cell_type": "code",
   "execution_count": 3,
   "id": "8fd34e59",
   "metadata": {
    "ExecuteTime": {
     "end_time": "2022-07-05T08:31:40.611038Z",
     "start_time": "2022-07-05T08:31:40.557609Z"
    }
   },
   "outputs": [],
   "source": [
    "### Замерять будем MSLE. Можно показать, что для оптимизации MSLE,\n",
    "### Достаточно логарифмировать таргетную переменную, \n",
    "### а потом оптимизировать привычные MSE\n",
    "import numpy as np\n",
    "\n",
    "initial_data = initial_data.assign(log_trip_duration=np.log1p(initial_data['trip_duration']))\n",
    "initial_data = initial_data.drop('trip_duration', axis=1)"
   ]
  },
  {
   "cell_type": "code",
   "execution_count": 4,
   "id": "98e7060b",
   "metadata": {
    "ExecuteTime": {
     "end_time": "2022-07-05T08:31:40.624168Z",
     "start_time": "2022-07-05T08:31:40.612002Z"
    }
   },
   "outputs": [
    {
     "data": {
      "text/html": [
       "<div>\n",
       "<style scoped>\n",
       "    .dataframe tbody tr th:only-of-type {\n",
       "        vertical-align: middle;\n",
       "    }\n",
       "\n",
       "    .dataframe tbody tr th {\n",
       "        vertical-align: top;\n",
       "    }\n",
       "\n",
       "    .dataframe thead th {\n",
       "        text-align: right;\n",
       "    }\n",
       "</style>\n",
       "<table border=\"1\" class=\"dataframe\">\n",
       "  <thead>\n",
       "    <tr style=\"text-align: right;\">\n",
       "      <th></th>\n",
       "      <th>vendor_id</th>\n",
       "      <th>passenger_count</th>\n",
       "      <th>pickup_longitude</th>\n",
       "      <th>pickup_latitude</th>\n",
       "      <th>dropoff_longitude</th>\n",
       "      <th>dropoff_latitude</th>\n",
       "      <th>log_trip_duration</th>\n",
       "    </tr>\n",
       "    <tr>\n",
       "      <th>id</th>\n",
       "      <th></th>\n",
       "      <th></th>\n",
       "      <th></th>\n",
       "      <th></th>\n",
       "      <th></th>\n",
       "      <th></th>\n",
       "      <th></th>\n",
       "    </tr>\n",
       "  </thead>\n",
       "  <tbody>\n",
       "    <tr>\n",
       "      <th>id2875421</th>\n",
       "      <td>2</td>\n",
       "      <td>1</td>\n",
       "      <td>-73.982155</td>\n",
       "      <td>40.767937</td>\n",
       "      <td>-73.964630</td>\n",
       "      <td>40.765602</td>\n",
       "      <td>6.122493</td>\n",
       "    </tr>\n",
       "    <tr>\n",
       "      <th>id2377394</th>\n",
       "      <td>1</td>\n",
       "      <td>1</td>\n",
       "      <td>-73.980415</td>\n",
       "      <td>40.738564</td>\n",
       "      <td>-73.999481</td>\n",
       "      <td>40.731152</td>\n",
       "      <td>6.498282</td>\n",
       "    </tr>\n",
       "    <tr>\n",
       "      <th>id3858529</th>\n",
       "      <td>2</td>\n",
       "      <td>1</td>\n",
       "      <td>-73.979027</td>\n",
       "      <td>40.763939</td>\n",
       "      <td>-74.005333</td>\n",
       "      <td>40.710087</td>\n",
       "      <td>7.661527</td>\n",
       "    </tr>\n",
       "    <tr>\n",
       "      <th>id3504673</th>\n",
       "      <td>2</td>\n",
       "      <td>1</td>\n",
       "      <td>-74.010040</td>\n",
       "      <td>40.719971</td>\n",
       "      <td>-74.012268</td>\n",
       "      <td>40.706718</td>\n",
       "      <td>6.063785</td>\n",
       "    </tr>\n",
       "    <tr>\n",
       "      <th>id2181028</th>\n",
       "      <td>2</td>\n",
       "      <td>1</td>\n",
       "      <td>-73.973053</td>\n",
       "      <td>40.793209</td>\n",
       "      <td>-73.972923</td>\n",
       "      <td>40.782520</td>\n",
       "      <td>6.077642</td>\n",
       "    </tr>\n",
       "  </tbody>\n",
       "</table>\n",
       "</div>"
      ],
      "text/plain": [
       "           vendor_id  passenger_count  pickup_longitude  pickup_latitude  \\\n",
       "id                                                                         \n",
       "id2875421          2                1        -73.982155        40.767937   \n",
       "id2377394          1                1        -73.980415        40.738564   \n",
       "id3858529          2                1        -73.979027        40.763939   \n",
       "id3504673          2                1        -74.010040        40.719971   \n",
       "id2181028          2                1        -73.973053        40.793209   \n",
       "\n",
       "           dropoff_longitude  dropoff_latitude  log_trip_duration  \n",
       "id                                                                 \n",
       "id2875421         -73.964630         40.765602           6.122493  \n",
       "id2377394         -73.999481         40.731152           6.498282  \n",
       "id3858529         -74.005333         40.710087           7.661527  \n",
       "id3504673         -74.012268         40.706718           6.063785  \n",
       "id2181028         -73.972923         40.782520           6.077642  "
      ]
     },
     "execution_count": 4,
     "metadata": {},
     "output_type": "execute_result"
    }
   ],
   "source": [
    "initial_data.head()"
   ]
  },
  {
   "cell_type": "markdown",
   "id": "6440592a",
   "metadata": {},
   "source": [
    "### Объяснение:\n",
    "\n",
    "Пусть имеем модель $a(x)$, обученную на MSE от $y$:\n",
    "$$\n",
    "\\text{MSE}(X, y, a) = \\frac{1}{\\ell}\\sum_{i=1}^{\\ell} \\big(y_i - a(x_i)\\big)^2 \\rightarrow min\n",
    "$$\n",
    "\n",
    "Также представим модель $a^*(x)$, обученную на MSE от $\\log{(y + 1)}$:\n",
    "$$\n",
    "\\text{MSE}(X, \\log{(y+1)}, a^*) = \\frac{1}{\\ell}\\sum_{i=1}^{\\ell} \\big(\\log{(y_i + 1)} - a^*(x_i)\\big)^2 \\rightarrow min\n",
    "$$\n",
    "\n",
    "Так как вторая модель старается аппроксимироваться ответы в виде $a^*(x) \\approx \\log{(y+1)}$, то для того, чтобы получить изначальные таргеты, необходимо выходы $a^*(x)$ проэкспоненцировать в виде следующего отношения: $a(x) = e^{a^*(x)} - 1$, то есть $a^*(x) = \\log{(a(x) + 1)}$, где $a^*(x)$ дает логарифмические выходы, а $a(x)$ - изначальные. Подставим данное соотношение в MSE выше, получим:\n",
    "\n",
    "$$\n",
    "\\text{MSE}(X, \\log{(y+1)}, \\log{(a(x) + 1)}) = \\frac{1}{\\ell}\\sum_{i=1}^{\\ell} \\big(\\log{(y_i + 1)} - \\log{(a(x_i) + 1)}\\big)^2 \\rightarrow min\n",
    "$$\n",
    "\n",
    "А это в точности MSLE от $y$:\n",
    "\n",
    "$$\n",
    "\\text{MSLE}(X, y, a) = \\frac{1}{\\ell}\\sum_{i=1}^{\\ell} \\big(\\log{(y_i + 1)} - \\log{(a(x_i) + 1)}\\big)^2 \\rightarrow min\n",
    "$$"
   ]
  },
  {
   "cell_type": "code",
   "execution_count": 5,
   "id": "4f477832",
   "metadata": {
    "ExecuteTime": {
     "end_time": "2022-07-05T08:31:41.608006Z",
     "start_time": "2022-07-05T08:31:40.625300Z"
    }
   },
   "outputs": [],
   "source": [
    "### Выделим test\n",
    "\n",
    "from sklearn.model_selection import train_test_split\n",
    "\n",
    "X = initial_data.drop('log_trip_duration', axis=1)\n",
    "y = initial_data['log_trip_duration']\n",
    "\n",
    "X_train, X_test, y_train, y_test = train_test_split(X, y, \n",
    "                                                    test_size=0.2, \n",
    "                                                    random_state=42)"
   ]
  },
  {
   "cell_type": "code",
   "execution_count": 6,
   "id": "a48a3440",
   "metadata": {
    "ExecuteTime": {
     "end_time": "2022-07-05T08:31:41.611236Z",
     "start_time": "2022-07-05T08:31:41.609116Z"
    }
   },
   "outputs": [],
   "source": [
    "### Применим K-Fold на оставшуюяся валидационную часть X_train, y_train\n",
    "\n",
    "from sklearn.model_selection import KFold\n",
    "\n",
    "splitter = KFold(n_splits=20, shuffle=True, random_state=33)"
   ]
  },
  {
   "cell_type": "code",
   "execution_count": 7,
   "id": "e0ce1469",
   "metadata": {
    "ExecuteTime": {
     "end_time": "2022-07-05T08:31:46.600647Z",
     "start_time": "2022-07-05T08:31:41.612131Z"
    }
   },
   "outputs": [],
   "source": [
    "from sklearn.linear_model import LinearRegression\n",
    "from sklearn.metrics import mean_squared_error\n",
    "\n",
    "\n",
    "errors_list = []\n",
    "for train_id, test_id in splitter.split(X_train):\n",
    "    X_tr, X_val = X_train.values[train_id], X_train.values[test_id]\n",
    "    Y_tr, Y_val = y_train.values[train_id], y_train.values[test_id]\n",
    "    \n",
    "    model = LinearRegression()\n",
    "    model.fit(X_tr, Y_tr)\n",
    "    errors_list.append(mean_squared_error(Y_val, model.predict(X_val)))\n",
    "    "
   ]
  },
  {
   "cell_type": "code",
   "execution_count": 8,
   "id": "1f70d377",
   "metadata": {
    "ExecuteTime": {
     "end_time": "2022-07-05T08:31:46.629461Z",
     "start_time": "2022-07-05T08:31:46.602930Z"
    }
   },
   "outputs": [
    {
     "data": {
      "text/plain": [
       "[0.6662086054966694,\n",
       " 0.6038429437853058,\n",
       " 0.6154430241538889,\n",
       " 0.6040628283362878,\n",
       " 0.606993445451438,\n",
       " 0.5909279165348569,\n",
       " 0.6202768968732926,\n",
       " 0.6000613547901174,\n",
       " 0.6129546454790263,\n",
       " 0.6154911149897611,\n",
       " 0.6004858107948284,\n",
       " 0.6054577581801217,\n",
       " 0.6057251219713791,\n",
       " 0.6104045238379127,\n",
       " 0.6238037332813563,\n",
       " 0.613234942525733,\n",
       " 0.6041684116965789,\n",
       " 0.6623807542701916,\n",
       " 0.6030933265555046,\n",
       " 0.6034210516527914]"
      ]
     },
     "execution_count": 8,
     "metadata": {},
     "output_type": "execute_result"
    }
   ],
   "source": [
    "errors_list"
   ]
  },
  {
   "cell_type": "code",
   "execution_count": 9,
   "id": "3551fee9",
   "metadata": {
    "ExecuteTime": {
     "end_time": "2022-07-05T08:31:46.641945Z",
     "start_time": "2022-07-05T08:31:46.636892Z"
    }
   },
   "outputs": [
    {
     "data": {
      "text/plain": [
       "0.613"
      ]
     },
     "execution_count": 9,
     "metadata": {},
     "output_type": "execute_result"
    }
   ],
   "source": [
    "### Укажите в ответе на задание 4 среднее качество моделей на валидационных выборках\n",
    "### и качество модели, обученной на полной тренировочной выборке, на тестовой выборке.\n",
    "### В качестве разделителя используйте точку, ответ округлите до тысячных.\n",
    "\n",
    "round(np.mean(errors_list), 3)"
   ]
  },
  {
   "cell_type": "code",
   "execution_count": 10,
   "id": "203e917f",
   "metadata": {
    "ExecuteTime": {
     "end_time": "2022-07-05T08:31:46.877662Z",
     "start_time": "2022-07-05T08:31:46.651185Z"
    }
   },
   "outputs": [
    {
     "data": {
      "text/plain": [
       "0.606"
      ]
     },
     "execution_count": 10,
     "metadata": {},
     "output_type": "execute_result"
    }
   ],
   "source": [
    "model = LinearRegression()\n",
    "model.fit(X_train, y_train)\n",
    "round(mean_squared_error(y_test, model.predict(X_test)), 3)"
   ]
  },
  {
   "cell_type": "markdown",
   "id": "805fc200",
   "metadata": {},
   "source": [
    "### Модель №2. Проделаем все то же самое, только для модели с более осознанными признаками, которые удалось получить ранее"
   ]
  },
  {
   "cell_type": "code",
   "execution_count": 11,
   "id": "87c60481",
   "metadata": {
    "ExecuteTime": {
     "end_time": "2022-07-05T08:31:48.346789Z",
     "start_time": "2022-07-05T08:31:46.879823Z"
    }
   },
   "outputs": [],
   "source": [
    "processed_data = pd.read_csv('processed_data.csv', index_col='id')"
   ]
  },
  {
   "cell_type": "code",
   "execution_count": 12,
   "id": "011be125",
   "metadata": {
    "ExecuteTime": {
     "end_time": "2022-07-05T08:31:48.352965Z",
     "start_time": "2022-07-05T08:31:48.347810Z"
    }
   },
   "outputs": [
    {
     "data": {
      "text/html": [
       "<div>\n",
       "<style scoped>\n",
       "    .dataframe tbody tr th:only-of-type {\n",
       "        vertical-align: middle;\n",
       "    }\n",
       "\n",
       "    .dataframe tbody tr th {\n",
       "        vertical-align: top;\n",
       "    }\n",
       "\n",
       "    .dataframe thead th {\n",
       "        text-align: right;\n",
       "    }\n",
       "</style>\n",
       "<table border=\"1\" class=\"dataframe\">\n",
       "  <thead>\n",
       "    <tr style=\"text-align: right;\">\n",
       "      <th></th>\n",
       "      <th>vendor_id</th>\n",
       "      <th>passenger_count</th>\n",
       "      <th>store_and_fwd_flag</th>\n",
       "      <th>trip_duration</th>\n",
       "      <th>distance_km</th>\n",
       "    </tr>\n",
       "    <tr>\n",
       "      <th>id</th>\n",
       "      <th></th>\n",
       "      <th></th>\n",
       "      <th></th>\n",
       "      <th></th>\n",
       "      <th></th>\n",
       "    </tr>\n",
       "  </thead>\n",
       "  <tbody>\n",
       "    <tr>\n",
       "      <th>id2875421</th>\n",
       "      <td>1</td>\n",
       "      <td>930.399753</td>\n",
       "      <td>0</td>\n",
       "      <td>455.0</td>\n",
       "      <td>1.500479</td>\n",
       "    </tr>\n",
       "    <tr>\n",
       "      <th>id2377394</th>\n",
       "      <td>0</td>\n",
       "      <td>930.399753</td>\n",
       "      <td>0</td>\n",
       "      <td>663.0</td>\n",
       "      <td>1.807119</td>\n",
       "    </tr>\n",
       "    <tr>\n",
       "      <th>id3858529</th>\n",
       "      <td>1</td>\n",
       "      <td>930.399753</td>\n",
       "      <td>0</td>\n",
       "      <td>2124.0</td>\n",
       "      <td>6.392080</td>\n",
       "    </tr>\n",
       "    <tr>\n",
       "      <th>id3504673</th>\n",
       "      <td>1</td>\n",
       "      <td>930.399753</td>\n",
       "      <td>0</td>\n",
       "      <td>429.0</td>\n",
       "      <td>1.487155</td>\n",
       "    </tr>\n",
       "    <tr>\n",
       "      <th>id2181028</th>\n",
       "      <td>1</td>\n",
       "      <td>930.399753</td>\n",
       "      <td>0</td>\n",
       "      <td>435.0</td>\n",
       "      <td>1.189925</td>\n",
       "    </tr>\n",
       "  </tbody>\n",
       "</table>\n",
       "</div>"
      ],
      "text/plain": [
       "           vendor_id  passenger_count  store_and_fwd_flag  trip_duration  \\\n",
       "id                                                                         \n",
       "id2875421          1       930.399753                   0          455.0   \n",
       "id2377394          0       930.399753                   0          663.0   \n",
       "id3858529          1       930.399753                   0         2124.0   \n",
       "id3504673          1       930.399753                   0          429.0   \n",
       "id2181028          1       930.399753                   0          435.0   \n",
       "\n",
       "           distance_km  \n",
       "id                      \n",
       "id2875421     1.500479  \n",
       "id2377394     1.807119  \n",
       "id3858529     6.392080  \n",
       "id3504673     1.487155  \n",
       "id2181028     1.189925  "
      ]
     },
     "execution_count": 12,
     "metadata": {},
     "output_type": "execute_result"
    }
   ],
   "source": [
    "processed_data.head()"
   ]
  },
  {
   "cell_type": "code",
   "execution_count": 13,
   "id": "ea1fa59a",
   "metadata": {
    "ExecuteTime": {
     "end_time": "2022-07-05T08:31:48.410013Z",
     "start_time": "2022-07-05T08:31:48.353841Z"
    }
   },
   "outputs": [],
   "source": [
    "### Замерять будем MSLE. Можно показать, что для оптимизации MSLE,\n",
    "### Достаточно логарифмировать таргетную переменную, \n",
    "### а потом оптимизировать привычные MSE\n",
    "import numpy as np\n",
    "\n",
    "processed_data = processed_data.assign(log_trip_duration=np.log1p(processed_data['trip_duration']))\n",
    "processed_data = processed_data.drop('trip_duration', axis=1)"
   ]
  },
  {
   "cell_type": "code",
   "execution_count": 14,
   "id": "05c4f52b",
   "metadata": {
    "ExecuteTime": {
     "end_time": "2022-07-05T08:31:48.421142Z",
     "start_time": "2022-07-05T08:31:48.410978Z"
    }
   },
   "outputs": [],
   "source": [
    "X_2 = processed_data.drop('log_trip_duration', axis=1)\n",
    "y_2 = processed_data['log_trip_duration']"
   ]
  },
  {
   "cell_type": "code",
   "execution_count": 15,
   "id": "8c1dae09",
   "metadata": {
    "ExecuteTime": {
     "end_time": "2022-07-05T08:31:49.771373Z",
     "start_time": "2022-07-05T08:31:48.422715Z"
    }
   },
   "outputs": [],
   "source": [
    "### Важно! Когда сравниваем модели по их качеству\n",
    "### на валидации и на тесте, не шаффлим данные заново!\n",
    "\n",
    "test_indexes = X_test.index\n",
    "train_indexes = X_train.index\n",
    "\n",
    "X_train_2 = X_2[X_2.index.isin(train_indexes)]\n",
    "y_train_2 = y_2[y_2.index.isin(train_indexes)]\n",
    "\n",
    "X_test_2 = X_2[X_2.index.isin(test_indexes)]\n",
    "y_test_2 = y_2[y_2.index.isin(test_indexes)]"
   ]
  },
  {
   "cell_type": "code",
   "execution_count": 16,
   "id": "4a0f93a4",
   "metadata": {
    "ExecuteTime": {
     "end_time": "2022-07-05T08:31:53.168177Z",
     "start_time": "2022-07-05T08:31:49.772411Z"
    }
   },
   "outputs": [],
   "source": [
    "from sklearn.model_selection import KFold\n",
    "from sklearn.metrics import mean_squared_error\n",
    "\n",
    "splitter = KFold(n_splits=20, shuffle=True, random_state=33)\n",
    "\n",
    "errors_list_2 = []\n",
    "for train_id, test_id in splitter.split(X_train_2):\n",
    "    X_tr, Y_tr = X_train_2.values[train_id], y_train_2.values[train_id]\n",
    "    X_val, Y_val = X_train_2.values[test_id], y_train_2.values[test_id]\n",
    "    \n",
    "    model = LinearRegression()\n",
    "    model.fit(X_tr, Y_tr)\n",
    "    \n",
    "    errors_list_2.append(mean_squared_error(Y_val, model.predict(X_val)))"
   ]
  },
  {
   "cell_type": "code",
   "execution_count": 17,
   "id": "e76e2cc1",
   "metadata": {
    "ExecuteTime": {
     "end_time": "2022-07-05T08:31:53.208655Z",
     "start_time": "2022-07-05T08:31:53.182729Z"
    }
   },
   "outputs": [
    {
     "data": {
      "text/plain": [
       "[0.40447868662889197,\n",
       " 0.3872895029255194,\n",
       " 0.3993301493406328,\n",
       " 0.3935645380916404,\n",
       " 0.39986810617159624,\n",
       " 0.39456503120233,\n",
       " 0.3943632670266804,\n",
       " 0.45977054642196624,\n",
       " 0.39565016608256554,\n",
       " 0.45286204953061004,\n",
       " 0.41899685473423265,\n",
       " 0.39249233648255477,\n",
       " 0.388367502491278,\n",
       " 0.7121944750882008,\n",
       " 0.39417373043053144,\n",
       " 0.45312640642578444,\n",
       " 0.41534411722512893,\n",
       " 0.44542833520641345,\n",
       " 0.38201042458117423,\n",
       " 0.5426391823781622]"
      ]
     },
     "execution_count": 17,
     "metadata": {},
     "output_type": "execute_result"
    }
   ],
   "source": [
    "errors_list_2"
   ]
  },
  {
   "cell_type": "code",
   "execution_count": 18,
   "id": "ff0e0d3d",
   "metadata": {
    "ExecuteTime": {
     "end_time": "2022-07-05T08:31:53.224063Z",
     "start_time": "2022-07-05T08:31:53.211503Z"
    }
   },
   "outputs": [
    {
     "data": {
      "text/plain": [
       "0.431"
      ]
     },
     "execution_count": 18,
     "metadata": {},
     "output_type": "execute_result"
    }
   ],
   "source": [
    "round(np.mean(errors_list_2), 3)"
   ]
  },
  {
   "cell_type": "code",
   "execution_count": 19,
   "id": "92a57515",
   "metadata": {
    "ExecuteTime": {
     "end_time": "2022-07-05T08:31:53.406806Z",
     "start_time": "2022-07-05T08:31:53.239291Z"
    }
   },
   "outputs": [
    {
     "data": {
      "text/plain": [
       "0.407"
      ]
     },
     "execution_count": 19,
     "metadata": {},
     "output_type": "execute_result"
    }
   ],
   "source": [
    "model = LinearRegression()\n",
    "model.fit(X_train_2, y_train_2)\n",
    "round(mean_squared_error(y_test_2, model.predict(X_test_2)), 3)"
   ]
  },
  {
   "cell_type": "markdown",
   "id": "967208e5",
   "metadata": {},
   "source": [
    "### Какую модель среди двух стоило бы выбрать? Помогла ли нам базовая обработка признаков с первых уроков? "
   ]
  },
  {
   "cell_type": "markdown",
   "id": "c2bdbbc9",
   "metadata": {},
   "source": [
    "Таким образом, базовая обработка признаков позволила увеличить качество модели на ~ треть. Правильная обработка признаков - хорошая практитка)"
   ]
  },
  {
   "cell_type": "code",
   "execution_count": null,
   "id": "c7ec34df",
   "metadata": {},
   "outputs": [],
   "source": []
  }
 ],
 "metadata": {
  "kernelspec": {
   "display_name": "Python 3 (ipykernel)",
   "language": "python",
   "name": "python3"
  },
  "language_info": {
   "codemirror_mode": {
    "name": "ipython",
    "version": 3
   },
   "file_extension": ".py",
   "mimetype": "text/x-python",
   "name": "python",
   "nbconvert_exporter": "python",
   "pygments_lexer": "ipython3",
   "version": "3.9.12"
  },
  "varInspector": {
   "cols": {
    "lenName": 16,
    "lenType": 16,
    "lenVar": 40
   },
   "kernels_config": {
    "python": {
     "delete_cmd_postfix": "",
     "delete_cmd_prefix": "del ",
     "library": "var_list.py",
     "varRefreshCmd": "print(var_dic_list())"
    },
    "r": {
     "delete_cmd_postfix": ") ",
     "delete_cmd_prefix": "rm(",
     "library": "var_list.r",
     "varRefreshCmd": "cat(var_dic_list()) "
    }
   },
   "types_to_exclude": [
    "module",
    "function",
    "builtin_function_or_method",
    "instance",
    "_Feature"
   ],
   "window_display": false
  }
 },
 "nbformat": 4,
 "nbformat_minor": 5
}
