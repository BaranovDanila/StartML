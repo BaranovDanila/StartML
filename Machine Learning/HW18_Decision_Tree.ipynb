{
 "cells": [
  {
   "cell_type": "code",
   "execution_count": 1,
   "metadata": {
    "ExecuteTime": {
     "end_time": "2022-08-09T19:50:58.431978Z",
     "start_time": "2022-08-09T19:50:57.566573Z"
    }
   },
   "outputs": [],
   "source": [
    "import pandas as pd\n",
    "import numpy as np\n",
    "import matplotlib.pyplot as plt\n",
    "import seaborn as sns\n",
    "\n",
    "pd.options.display.max_columns = 500"
   ]
  },
  {
   "cell_type": "markdown",
   "metadata": {},
   "source": [
    "### Загрузим датасет с машинами. Цель - верно восстанавливать для каждой из них цену продажи!"
   ]
  },
  {
   "cell_type": "code",
   "execution_count": 2,
   "metadata": {
    "ExecuteTime": {
     "end_time": "2022-08-09T19:50:58.442213Z",
     "start_time": "2022-08-09T19:50:58.432706Z"
    }
   },
   "outputs": [
    {
     "data": {
      "text/html": [
       "<div>\n",
       "<style scoped>\n",
       "    .dataframe tbody tr th:only-of-type {\n",
       "        vertical-align: middle;\n",
       "    }\n",
       "\n",
       "    .dataframe tbody tr th {\n",
       "        vertical-align: top;\n",
       "    }\n",
       "\n",
       "    .dataframe thead th {\n",
       "        text-align: right;\n",
       "    }\n",
       "</style>\n",
       "<table border=\"1\" class=\"dataframe\">\n",
       "  <thead>\n",
       "    <tr style=\"text-align: right;\">\n",
       "      <th></th>\n",
       "      <th>name</th>\n",
       "      <th>year</th>\n",
       "      <th>selling_price</th>\n",
       "      <th>km_driven</th>\n",
       "      <th>fuel</th>\n",
       "      <th>seller_type</th>\n",
       "      <th>transmission</th>\n",
       "      <th>owner</th>\n",
       "    </tr>\n",
       "  </thead>\n",
       "  <tbody>\n",
       "    <tr>\n",
       "      <th>0</th>\n",
       "      <td>Maruti 800 AC</td>\n",
       "      <td>2007</td>\n",
       "      <td>60000</td>\n",
       "      <td>70000</td>\n",
       "      <td>Petrol</td>\n",
       "      <td>Individual</td>\n",
       "      <td>Manual</td>\n",
       "      <td>First Owner</td>\n",
       "    </tr>\n",
       "    <tr>\n",
       "      <th>1</th>\n",
       "      <td>Maruti Wagon R LXI Minor</td>\n",
       "      <td>2007</td>\n",
       "      <td>135000</td>\n",
       "      <td>50000</td>\n",
       "      <td>Petrol</td>\n",
       "      <td>Individual</td>\n",
       "      <td>Manual</td>\n",
       "      <td>First Owner</td>\n",
       "    </tr>\n",
       "    <tr>\n",
       "      <th>2</th>\n",
       "      <td>Hyundai Verna 1.6 SX</td>\n",
       "      <td>2012</td>\n",
       "      <td>600000</td>\n",
       "      <td>100000</td>\n",
       "      <td>Diesel</td>\n",
       "      <td>Individual</td>\n",
       "      <td>Manual</td>\n",
       "      <td>First Owner</td>\n",
       "    </tr>\n",
       "    <tr>\n",
       "      <th>3</th>\n",
       "      <td>Datsun RediGO T Option</td>\n",
       "      <td>2017</td>\n",
       "      <td>250000</td>\n",
       "      <td>46000</td>\n",
       "      <td>Petrol</td>\n",
       "      <td>Individual</td>\n",
       "      <td>Manual</td>\n",
       "      <td>First Owner</td>\n",
       "    </tr>\n",
       "    <tr>\n",
       "      <th>4</th>\n",
       "      <td>Honda Amaze VX i-DTEC</td>\n",
       "      <td>2014</td>\n",
       "      <td>450000</td>\n",
       "      <td>141000</td>\n",
       "      <td>Diesel</td>\n",
       "      <td>Individual</td>\n",
       "      <td>Manual</td>\n",
       "      <td>Second Owner</td>\n",
       "    </tr>\n",
       "  </tbody>\n",
       "</table>\n",
       "</div>"
      ],
      "text/plain": [
       "                       name  year  selling_price  km_driven    fuel  \\\n",
       "0             Maruti 800 AC  2007          60000      70000  Petrol   \n",
       "1  Maruti Wagon R LXI Minor  2007         135000      50000  Petrol   \n",
       "2      Hyundai Verna 1.6 SX  2012         600000     100000  Diesel   \n",
       "3    Datsun RediGO T Option  2017         250000      46000  Petrol   \n",
       "4     Honda Amaze VX i-DTEC  2014         450000     141000  Diesel   \n",
       "\n",
       "  seller_type transmission         owner  \n",
       "0  Individual       Manual   First Owner  \n",
       "1  Individual       Manual   First Owner  \n",
       "2  Individual       Manual   First Owner  \n",
       "3  Individual       Manual   First Owner  \n",
       "4  Individual       Manual  Second Owner  "
      ]
     },
     "execution_count": 2,
     "metadata": {},
     "output_type": "execute_result"
    }
   ],
   "source": [
    "data = pd.read_csv('autos.csv')\n",
    "\n",
    "data.head()"
   ]
  },
  {
   "cell_type": "code",
   "execution_count": 3,
   "metadata": {
    "ExecuteTime": {
     "end_time": "2022-08-09T19:50:58.445471Z",
     "start_time": "2022-08-09T19:50:58.443388Z"
    }
   },
   "outputs": [],
   "source": [
    "### Колонка с тергетом - \"selling price\"\n",
    "\n",
    "X = data.drop(\"selling_price\", axis=1)\n",
    "y = data[\"selling_price\"]\n",
    "\n",
    "### Будем замерять MSLE!\n",
    "### Поэтому прологарифмируем таргет\n",
    "### А после оптимизируем MSE\n",
    "\n",
    "y = y.apply(np.log1p)"
   ]
  },
  {
   "cell_type": "code",
   "execution_count": 4,
   "metadata": {
    "ExecuteTime": {
     "end_time": "2022-08-09T19:50:58.499715Z",
     "start_time": "2022-08-09T19:50:58.446101Z"
    }
   },
   "outputs": [],
   "source": [
    "### Разделим выборку на трейн и тест!\n",
    "\n",
    "from sklearn.model_selection import train_test_split \n",
    "\n",
    "X_train, X_test, y_train, y_test = train_test_split(X, y, test_size=0.2, random_state=1)"
   ]
  },
  {
   "cell_type": "markdown",
   "metadata": {},
   "source": [
    "__Задание__ \n",
    "\n",
    "Реализуйте свой MeanTargetEncoder с добавленем некоторого шума!\n",
    "\n",
    "Однажды в лекционном материале, обсуждая счетчики, мы говорили с вами о том, что из-за них модели могут переобучаться. Один из способов бороться с этим - валидировать расчеты среднего таргета (стратегия отложенной выборки / расчеты на кросс-валидации). Но есть еще проще!\n",
    "\n",
    "Можно просто к значению счетчика добавить случайный шум (зашумить данные)!\n",
    "\n",
    "Напомним, что рассчитываться новые признаки должны по такой формуле:\n",
    "\n",
    "$$\n",
    "g_j = \\frac{\\sum_{i=1}^{l} [f_j(x) = f_j(x_i)]}{l} + C * \\epsilon\n",
    "$$\n",
    "\n",
    "\n",
    "Пусть шум будет случайной величиной из нормального стандартного распределения, то есть $\\epsilon \\sim N(0, 1) $, а $ C = 0.006$."
   ]
  },
  {
   "cell_type": "markdown",
   "metadata": {},
   "source": [
    "Создавай свой класс-трансформер, наследуйтесь от классов `BaseEstimator, TransformerMixin` из `sklearn.base`. Трансформер не должен модифицировать передаваемую ему выборку inplace, а все необходимые статистики нужно считать только по обучающей выборке в методе `fit`. \n",
    "Ваш трансформер должен принимать при инициализации список из категориальных признаков и список из числовых признаков. \n",
    "\n",
    "Если для какого-то признака в тестовой выборке отсутствует значение, трансформер должен поставить там 0.\n",
    "\n",
    "На выходе должен получиться датасет того же размера с измененными категориальными признаками"
   ]
  },
  {
   "cell_type": "code",
   "execution_count": 5,
   "metadata": {
    "ExecuteTime": {
     "end_time": "2022-08-09T19:50:58.504326Z",
     "start_time": "2022-08-09T19:50:58.500437Z"
    }
   },
   "outputs": [
    {
     "data": {
      "text/html": [
       "<div>\n",
       "<style scoped>\n",
       "    .dataframe tbody tr th:only-of-type {\n",
       "        vertical-align: middle;\n",
       "    }\n",
       "\n",
       "    .dataframe tbody tr th {\n",
       "        vertical-align: top;\n",
       "    }\n",
       "\n",
       "    .dataframe thead th {\n",
       "        text-align: right;\n",
       "    }\n",
       "</style>\n",
       "<table border=\"1\" class=\"dataframe\">\n",
       "  <thead>\n",
       "    <tr style=\"text-align: right;\">\n",
       "      <th></th>\n",
       "      <th>name</th>\n",
       "      <th>year</th>\n",
       "      <th>km_driven</th>\n",
       "      <th>fuel</th>\n",
       "      <th>seller_type</th>\n",
       "      <th>transmission</th>\n",
       "      <th>owner</th>\n",
       "    </tr>\n",
       "  </thead>\n",
       "  <tbody>\n",
       "    <tr>\n",
       "      <th>0</th>\n",
       "      <td>Maruti 800 AC</td>\n",
       "      <td>2007</td>\n",
       "      <td>70000</td>\n",
       "      <td>Petrol</td>\n",
       "      <td>Individual</td>\n",
       "      <td>Manual</td>\n",
       "      <td>First Owner</td>\n",
       "    </tr>\n",
       "    <tr>\n",
       "      <th>1</th>\n",
       "      <td>Maruti Wagon R LXI Minor</td>\n",
       "      <td>2007</td>\n",
       "      <td>50000</td>\n",
       "      <td>Petrol</td>\n",
       "      <td>Individual</td>\n",
       "      <td>Manual</td>\n",
       "      <td>First Owner</td>\n",
       "    </tr>\n",
       "    <tr>\n",
       "      <th>2</th>\n",
       "      <td>Hyundai Verna 1.6 SX</td>\n",
       "      <td>2012</td>\n",
       "      <td>100000</td>\n",
       "      <td>Diesel</td>\n",
       "      <td>Individual</td>\n",
       "      <td>Manual</td>\n",
       "      <td>First Owner</td>\n",
       "    </tr>\n",
       "    <tr>\n",
       "      <th>3</th>\n",
       "      <td>Datsun RediGO T Option</td>\n",
       "      <td>2017</td>\n",
       "      <td>46000</td>\n",
       "      <td>Petrol</td>\n",
       "      <td>Individual</td>\n",
       "      <td>Manual</td>\n",
       "      <td>First Owner</td>\n",
       "    </tr>\n",
       "    <tr>\n",
       "      <th>4</th>\n",
       "      <td>Honda Amaze VX i-DTEC</td>\n",
       "      <td>2014</td>\n",
       "      <td>141000</td>\n",
       "      <td>Diesel</td>\n",
       "      <td>Individual</td>\n",
       "      <td>Manual</td>\n",
       "      <td>Second Owner</td>\n",
       "    </tr>\n",
       "  </tbody>\n",
       "</table>\n",
       "</div>"
      ],
      "text/plain": [
       "                       name  year  km_driven    fuel seller_type transmission  \\\n",
       "0             Maruti 800 AC  2007      70000  Petrol  Individual       Manual   \n",
       "1  Maruti Wagon R LXI Minor  2007      50000  Petrol  Individual       Manual   \n",
       "2      Hyundai Verna 1.6 SX  2012     100000  Diesel  Individual       Manual   \n",
       "3    Datsun RediGO T Option  2017      46000  Petrol  Individual       Manual   \n",
       "4     Honda Amaze VX i-DTEC  2014     141000  Diesel  Individual       Manual   \n",
       "\n",
       "          owner  \n",
       "0   First Owner  \n",
       "1   First Owner  \n",
       "2   First Owner  \n",
       "3   First Owner  \n",
       "4  Second Owner  "
      ]
     },
     "execution_count": 5,
     "metadata": {},
     "output_type": "execute_result"
    }
   ],
   "source": [
    "object_cols = ['name', 'year', 'fuel', 'seller_type', 'transmission', 'owner']\n",
    "num_cols = ['km_driven']\n",
    "\n",
    "X.head()"
   ]
  },
  {
   "cell_type": "code",
   "execution_count": 6,
   "metadata": {
    "ExecuteTime": {
     "end_time": "2022-08-09T19:50:58.512122Z",
     "start_time": "2022-08-09T19:50:58.505131Z"
    }
   },
   "outputs": [
    {
     "data": {
      "text/plain": [
       "{'name': name\n",
       " Ambassador CLASSIC 1500 DSL AC          1.200000e+05\n",
       " Ambassador Classic 2000 Dsz             5.000000e+04\n",
       " Ambassador Grand 1800 ISZ MPFI PW CL    4.300000e+05\n",
       " Audi A4 1.8 TFSI                        1.200000e+06\n",
       " Audi A4 2.0 TDI                         1.295000e+06\n",
       "                                             ...     \n",
       " Volkswagen Vento Petrol Highline AT     2.845000e+05\n",
       " Volvo V40 D3 R Design                   1.975000e+06\n",
       " Volvo XC 90 D5 Inscription BSIV         4.500000e+06\n",
       " Volvo XC60 D3 Kinetic                   1.750000e+06\n",
       " Volvo XC60 D5 Inscription               2.000000e+06\n",
       " Name: selling_price, Length: 1491, dtype: float64,\n",
       " 'year': year\n",
       " 1992    5.000000e+04\n",
       " 1995    9.500000e+04\n",
       " 1996    2.250000e+05\n",
       " 1997    9.300000e+04\n",
       " 1998    2.140000e+05\n",
       " 1999    7.350000e+04\n",
       " 2000    8.150000e+04\n",
       " 2001    1.176499e+05\n",
       " 2002    9.071429e+04\n",
       " 2003    8.656522e+04\n",
       " 2004    1.217500e+05\n",
       " 2005    1.090130e+05\n",
       " 2006    1.577999e+05\n",
       " 2007    1.628284e+05\n",
       " 2008    1.742013e+05\n",
       " 2009    2.295647e+05\n",
       " 2010    2.696781e+05\n",
       " 2011    2.936383e+05\n",
       " 2012    3.716289e+05\n",
       " 2013    4.848010e+05\n",
       " 2014    5.232316e+05\n",
       " 2015    5.289430e+05\n",
       " 2016    6.083641e+05\n",
       " 2017    7.689098e+05\n",
       " 2018    9.107705e+05\n",
       " 2019    1.059020e+06\n",
       " 2020    8.184791e+05\n",
       " Name: selling_price, dtype: float64,\n",
       " 'fuel': fuel\n",
       " CNG         277174.927194\n",
       " Diesel      669094.254400\n",
       " Electric    310000.002194\n",
       " LPG         167826.045672\n",
       " Petrol      344840.139735\n",
       " Name: selling_price, dtype: float64,\n",
       " 'seller_type': seller_type\n",
       " Dealer              721822.893518\n",
       " Individual          424505.422412\n",
       " Trustmark Dealer    914950.983569\n",
       " Name: selling_price, dtype: float64,\n",
       " 'transmission': transmission\n",
       " Automatic    1.408154e+06\n",
       " Manual       4.000667e+05\n",
       " Name: selling_price, dtype: float64,\n",
       " 'owner': owner\n",
       " First Owner             598636.968143\n",
       " Fourth & Above Owner    173901.196041\n",
       " Second Owner            343891.087118\n",
       " Test Drive Car          954293.939687\n",
       " Third Owner             269474.001800\n",
       " Name: selling_price, dtype: float64}"
      ]
     },
     "execution_count": 6,
     "metadata": {},
     "output_type": "execute_result"
    }
   ],
   "source": [
    "X_with_target = data.copy()\n",
    "\n",
    "{col: X_with_target.groupby(col)['selling_price'].mean() + 0.006 * np.random.normal()\n",
    "                    for col in object_cols}"
   ]
  },
  {
   "cell_type": "code",
   "execution_count": 7,
   "metadata": {
    "ExecuteTime": {
     "end_time": "2022-08-09T19:50:58.516917Z",
     "start_time": "2022-08-09T19:50:58.512872Z"
    }
   },
   "outputs": [
    {
     "data": {
      "text/plain": [
       "name             0\n",
       "year             0\n",
       "selling_price    0\n",
       "km_driven        0\n",
       "fuel             0\n",
       "seller_type      0\n",
       "transmission     0\n",
       "owner            0\n",
       "dtype: int64"
      ]
     },
     "execution_count": 7,
     "metadata": {},
     "output_type": "execute_result"
    }
   ],
   "source": [
    "data.isna().sum()"
   ]
  },
  {
   "cell_type": "code",
   "execution_count": 8,
   "metadata": {
    "ExecuteTime": {
     "end_time": "2022-08-09T19:50:58.521018Z",
     "start_time": "2022-08-09T19:50:58.517652Z"
    }
   },
   "outputs": [],
   "source": [
    "from sklearn.base import BaseEstimator, TransformerMixin\n",
    "\n",
    "class MeanTargetEncoderNoise(BaseEstimator, TransformerMixin):\n",
    "    \n",
    "    def __init__(self, categorical, numeric, target_col='selling_price'):\n",
    "        self.categorical = categorical\n",
    "        self.numeric = numeric\n",
    "        self.target_col = target_col\n",
    "        \n",
    "    def fit(self, X, y):\n",
    "        \n",
    "        X_fit = X.copy()\n",
    "        y_fit = y.copy()\n",
    "        \n",
    "        # Определили числовые колонки\n",
    "        # self.numeric_cols = [col for col in X_fit.columns if col not in self.categorical]\n",
    "        \n",
    "        # Объединяем с таргетом\n",
    "        X_with_target = pd.concat((X_fit, y_fit), axis=1)\n",
    "        \n",
    "        # Создаем словарь, каждый элемент которого - колонка (ключ) и серия с зашумленным значением таргета (значение)\n",
    "        self.mte_dict = {col: X_with_target.groupby(col)[self.target_col].mean() + 0.006 * np.random.normal()\n",
    "                         for col in self.categorical}\n",
    "        \n",
    "        # Список всех колонок с mte\n",
    "        self.mte_cols = self.mte_dict.keys()\n",
    "        \n",
    "        return self\n",
    "        \n",
    "    def transform(self, df):\n",
    "        \n",
    "        X_ = df.copy()\n",
    "        \n",
    "        for col in self.categorical:\n",
    "            X_[col] = X_[col].map(self.mte_dict[col])\n",
    "            X_[col] = X_[col].fillna(0)\n",
    "        \n",
    "        return X_"
   ]
  },
  {
   "cell_type": "code",
   "execution_count": 9,
   "metadata": {
    "ExecuteTime": {
     "end_time": "2022-08-09T19:50:58.533151Z",
     "start_time": "2022-08-09T19:50:58.522804Z"
    }
   },
   "outputs": [
    {
     "data": {
      "text/html": [
       "<div>\n",
       "<style scoped>\n",
       "    .dataframe tbody tr th:only-of-type {\n",
       "        vertical-align: middle;\n",
       "    }\n",
       "\n",
       "    .dataframe tbody tr th {\n",
       "        vertical-align: top;\n",
       "    }\n",
       "\n",
       "    .dataframe thead th {\n",
       "        text-align: right;\n",
       "    }\n",
       "</style>\n",
       "<table border=\"1\" class=\"dataframe\">\n",
       "  <thead>\n",
       "    <tr style=\"text-align: right;\">\n",
       "      <th></th>\n",
       "      <th>name</th>\n",
       "      <th>year</th>\n",
       "      <th>km_driven</th>\n",
       "      <th>fuel</th>\n",
       "      <th>seller_type</th>\n",
       "      <th>transmission</th>\n",
       "      <th>owner</th>\n",
       "    </tr>\n",
       "  </thead>\n",
       "  <tbody>\n",
       "    <tr>\n",
       "      <th>3294</th>\n",
       "      <td>13.478865</td>\n",
       "      <td>13.435892</td>\n",
       "      <td>50000</td>\n",
       "      <td>13.085954</td>\n",
       "      <td>12.611658</td>\n",
       "      <td>13.776443</td>\n",
       "      <td>12.959126</td>\n",
       "    </tr>\n",
       "    <tr>\n",
       "      <th>2290</th>\n",
       "      <td>12.125200</td>\n",
       "      <td>11.906484</td>\n",
       "      <td>70000</td>\n",
       "      <td>12.450179</td>\n",
       "      <td>12.611658</td>\n",
       "      <td>13.776443</td>\n",
       "      <td>12.959126</td>\n",
       "    </tr>\n",
       "    <tr>\n",
       "      <th>874</th>\n",
       "      <td>12.311508</td>\n",
       "      <td>13.333058</td>\n",
       "      <td>50000</td>\n",
       "      <td>12.450179</td>\n",
       "      <td>12.611658</td>\n",
       "      <td>12.643381</td>\n",
       "      <td>12.959126</td>\n",
       "    </tr>\n",
       "    <tr>\n",
       "      <th>1907</th>\n",
       "      <td>12.493842</td>\n",
       "      <td>13.053677</td>\n",
       "      <td>92198</td>\n",
       "      <td>12.450179</td>\n",
       "      <td>13.140882</td>\n",
       "      <td>12.643381</td>\n",
       "      <td>12.446379</td>\n",
       "    </tr>\n",
       "    <tr>\n",
       "      <th>3244</th>\n",
       "      <td>12.401697</td>\n",
       "      <td>12.857085</td>\n",
       "      <td>3240</td>\n",
       "      <td>12.450179</td>\n",
       "      <td>12.611658</td>\n",
       "      <td>12.643381</td>\n",
       "      <td>12.446379</td>\n",
       "    </tr>\n",
       "  </tbody>\n",
       "</table>\n",
       "</div>"
      ],
      "text/plain": [
       "           name       year  km_driven       fuel  seller_type  transmission  \\\n",
       "3294  13.478865  13.435892      50000  13.085954    12.611658     13.776443   \n",
       "2290  12.125200  11.906484      70000  12.450179    12.611658     13.776443   \n",
       "874   12.311508  13.333058      50000  12.450179    12.611658     12.643381   \n",
       "1907  12.493842  13.053677      92198  12.450179    13.140882     12.643381   \n",
       "3244  12.401697  12.857085       3240  12.450179    12.611658     12.643381   \n",
       "\n",
       "          owner  \n",
       "3294  12.959126  \n",
       "2290  12.959126  \n",
       "874   12.959126  \n",
       "1907  12.446379  \n",
       "3244  12.446379  "
      ]
     },
     "execution_count": 9,
     "metadata": {},
     "output_type": "execute_result"
    }
   ],
   "source": [
    "### Проверка работы трансформера\n",
    "\n",
    "np.random.seed(1)\n",
    "transformer = MeanTargetEncoderNoise(categorical=object_cols, numeric=num_cols)\n",
    "\n",
    "transformer.fit(X_train, y_train)\n",
    "\n",
    "train = transformer.transform(X_train)\n",
    "test = transformer.transform(X_test)\n",
    "\n",
    "train.head()"
   ]
  },
  {
   "cell_type": "markdown",
   "metadata": {},
   "source": [
    "Обучите несколько деревьев, перебирая максимальную глубину алгоритма из списка `max_depth_list`, а остальные параметры оставьте дефолтными. Выведите лучшее значение гиперпараметра. Постройте график зависимости MSLE на тестовой выборке от значения гиперпараметра. Воспользуйтесь `Pipeline` без `GridSearch`. Проделайте то же самое с `min_samples_split`, `min_impurity_decrease`, `max_leaf_nodes`. (по 2б на каждый параметр)"
   ]
  },
  {
   "cell_type": "code",
   "execution_count": 10,
   "metadata": {
    "ExecuteTime": {
     "end_time": "2022-08-09T19:50:58.535603Z",
     "start_time": "2022-08-09T19:50:58.533848Z"
    }
   },
   "outputs": [],
   "source": [
    "max_depth_list = [3, 5, 8, 12]\n",
    "min_samples_split_list = [10, 50, 100, 500]\n",
    "min_impurity_decrease_list = [0, 0.1, 0.15, 0.2]\n",
    "max_leaf_nodes_list = [100, 200, 500]"
   ]
  },
  {
   "cell_type": "code",
   "execution_count": 11,
   "metadata": {
    "ExecuteTime": {
     "end_time": "2022-08-09T19:50:58.604226Z",
     "start_time": "2022-08-09T19:50:58.536417Z"
    }
   },
   "outputs": [],
   "source": [
    "from sklearn.metrics import mean_squared_error as mse\n",
    "from sklearn.tree import DecisionTreeRegressor\n",
    "from sklearn.pipeline import Pipeline\n",
    "\n",
    "np.random.seed(1)\n",
    "\n",
    "score_list_depth = []\n",
    "\n",
    "for depth in max_depth_list:\n",
    "    \n",
    "    pipe = Pipeline([('transformer', MeanTargetEncoderNoise(categorical=object_cols, numeric=num_cols)),\n",
    "                     ('dt', DecisionTreeRegressor(max_depth=depth))])\n",
    "    pipe.fit(X_train, y_train)\n",
    "    \n",
    "    score_list_depth.append(np.mean((pipe.predict(X_test) - y_test) ** 2))"
   ]
  },
  {
   "cell_type": "code",
   "execution_count": 12,
   "metadata": {
    "ExecuteTime": {
     "end_time": "2022-08-09T19:50:58.606724Z",
     "start_time": "2022-08-09T19:50:58.604868Z"
    }
   },
   "outputs": [
    {
     "data": {
      "text/plain": [
       "[0.7968292144891994, 1.441863393873008, 1.9886790473777394, 1.9831678836075346]"
      ]
     },
     "execution_count": 12,
     "metadata": {},
     "output_type": "execute_result"
    }
   ],
   "source": [
    "score_list_depth"
   ]
  },
  {
   "cell_type": "code",
   "execution_count": 13,
   "metadata": {
    "ExecuteTime": {
     "end_time": "2022-08-09T19:50:58.661021Z",
     "start_time": "2022-08-09T19:50:58.607345Z"
    }
   },
   "outputs": [
    {
     "data": {
      "image/png": "[encoded data removed]",
      "text/plain": [
       "<Figure size 720x432 with 1 Axes>"
      ]
     },
     "metadata": {
      "needs_background": "light"
     },
     "output_type": "display_data"
    }
   ],
   "source": [
    "fig = plt.figure(figsize=(10, 6))\n",
    "\n",
    "plt.plot(max_depth_list, score_list_depth)\n",
    "plt.title('Зависимость MSLE на тестовой выборке от глубины дерева')\n",
    "plt.xlabel('Tree Max Depth')\n",
    "plt.ylabel('MSLE')\n",
    "plt.xticks(max_depth_list)\n",
    "plt.grid()\n",
    "plt.show()"
   ]
  },
  {
   "cell_type": "code",
   "execution_count": 14,
   "metadata": {
    "ExecuteTime": {
     "end_time": "2022-08-09T19:50:58.749109Z",
     "start_time": "2022-08-09T19:50:58.661663Z"
    }
   },
   "outputs": [
    {
     "data": {
      "image/png": "[encoded data removed]",
      "text/plain": [
       "<Figure size 720x432 with 1 Axes>"
      ]
     },
     "metadata": {
      "needs_background": "light"
     },
     "output_type": "display_data"
    }
   ],
   "source": [
    "score_list_samples_split = []\n",
    "\n",
    "for samples in min_samples_split_list:\n",
    "    \n",
    "    pipe = Pipeline([('transformer', MeanTargetEncoderNoise(categorical=object_cols, numeric=num_cols)),\n",
    "                     ('dt', DecisionTreeRegressor(min_samples_split=samples))])\n",
    "    pipe.fit(X_train, y_train)\n",
    "    \n",
    "    score_list_samples_split.append(np.mean((pipe.predict(X_test) - y_test) ** 2))\n",
    "    \n",
    "fig = plt.figure(figsize=(10, 6))\n",
    "\n",
    "plt.plot(min_samples_split_list, score_list_samples_split)\n",
    "plt.title('Зависимость MSLE на тестовой выборке от минимального числа объектов в вершине дерева')\n",
    "plt.xlabel('Min samples split')\n",
    "plt.ylabel('MSLE')\n",
    "plt.xticks(min_samples_split_list)\n",
    "plt.grid()\n",
    "plt.show()"
   ]
  },
  {
   "cell_type": "code",
   "execution_count": 15,
   "metadata": {
    "ExecuteTime": {
     "end_time": "2022-08-09T19:50:58.832690Z",
     "start_time": "2022-08-09T19:50:58.749830Z"
    }
   },
   "outputs": [
    {
     "data": {
      "image/png": "[encoded data removed]",
      "text/plain": [
       "<Figure size 720x432 with 1 Axes>"
      ]
     },
     "metadata": {
      "needs_background": "light"
     },
     "output_type": "display_data"
    }
   ],
   "source": [
    "score_list_decreace = []\n",
    "\n",
    "for decrease in min_impurity_decrease_list:\n",
    "    \n",
    "    pipe = Pipeline([('transformer', MeanTargetEncoderNoise(categorical=object_cols, numeric=num_cols)),\n",
    "                     ('dt', DecisionTreeRegressor(min_impurity_decrease=decrease))])\n",
    "    pipe.fit(X_train, y_train)\n",
    "    \n",
    "    score_list_decreace.append(np.mean((pipe.predict(X_test) - y_test) ** 2))\n",
    "    \n",
    "fig = plt.figure(figsize=(10, 6))\n",
    "\n",
    "plt.plot(min_impurity_decrease_list, score_list_decreace)\n",
    "plt.title('Зависимость MSLE на тестовой выборке от значения снижения критерия информативности')\n",
    "plt.xlabel('Min impurity')\n",
    "plt.ylabel('MSLE')\n",
    "plt.xticks(min_impurity_decrease_list)\n",
    "plt.grid()\n",
    "plt.show()"
   ]
  },
  {
   "cell_type": "code",
   "execution_count": 16,
   "metadata": {
    "ExecuteTime": {
     "end_time": "2022-08-09T19:50:58.835726Z",
     "start_time": "2022-08-09T19:50:58.833399Z"
    }
   },
   "outputs": [
    {
     "data": {
      "text/plain": [
       "0.5204871413036622"
      ]
     },
     "execution_count": 16,
     "metadata": {},
     "output_type": "execute_result"
    }
   ],
   "source": [
    "min(score_list_decreace)"
   ]
  },
  {
   "cell_type": "code",
   "execution_count": 17,
   "metadata": {
    "ExecuteTime": {
     "end_time": "2022-08-09T19:50:58.912464Z",
     "start_time": "2022-08-09T19:50:58.836317Z"
    }
   },
   "outputs": [
    {
     "data": {
      "image/png": "[encoded data removed]",
      "text/plain": [
       "<Figure size 720x432 with 1 Axes>"
      ]
     },
     "metadata": {
      "needs_background": "light"
     },
     "output_type": "display_data"
    }
   ],
   "source": [
    "score_list_leaf_nodes = []\n",
    "\n",
    "for leaf_nodes in max_leaf_nodes_list:\n",
    "    \n",
    "    pipe = Pipeline([('transformer', MeanTargetEncoderNoise(categorical=object_cols, numeric=num_cols)),\n",
    "                     ('dt', DecisionTreeRegressor(max_leaf_nodes=leaf_nodes))])\n",
    "    pipe.fit(X_train, y_train)\n",
    "    \n",
    "    score_list_leaf_nodes.append(np.mean((pipe.predict(X_test) - y_test) ** 2))\n",
    "    \n",
    "fig = plt.figure(figsize=(10, 6))\n",
    "\n",
    "plt.plot(max_leaf_nodes_list, score_list_leaf_nodes)\n",
    "plt.title('Зависимость MSLE на тестовой выборке от максимального числа листов в дереве')\n",
    "plt.xlabel('Max leaf nodes')\n",
    "plt.ylabel('MSLE')\n",
    "plt.xticks(max_leaf_nodes_list)\n",
    "plt.grid()\n",
    "plt.show()"
   ]
  },
  {
   "cell_type": "markdown",
   "metadata": {},
   "source": [
    "Подберите лучшую комбинацию параметров, используя `GridSearchCV` и набор массивов значений параметров из предыдущего задания. Для лучшей комбинации посчитайте MSLE на тестовой выборке. Получились ли лучшие параметры такими же, как если бы вы подбирали их по-отдельности при остальных гиперпараметрах по умолчанию (предыдущее задание)? (2б)"
   ]
  },
  {
   "cell_type": "code",
   "execution_count": 18,
   "metadata": {
    "ExecuteTime": {
     "end_time": "2022-08-09T19:50:58.917316Z",
     "start_time": "2022-08-09T19:50:58.913201Z"
    }
   },
   "outputs": [
    {
     "data": {
      "text/plain": [
       "{'memory': None,\n",
       " 'steps': [('transformer',\n",
       "   MeanTargetEncoderNoise(categorical=['name', 'year', 'fuel', 'seller_type',\n",
       "                                       'transmission', 'owner'],\n",
       "                          numeric=['km_driven'])),\n",
       "  ('dt', DecisionTreeRegressor(max_leaf_nodes=500))],\n",
       " 'verbose': False,\n",
       " 'transformer': MeanTargetEncoderNoise(categorical=['name', 'year', 'fuel', 'seller_type',\n",
       "                                     'transmission', 'owner'],\n",
       "                        numeric=['km_driven']),\n",
       " 'dt': DecisionTreeRegressor(max_leaf_nodes=500),\n",
       " 'transformer__categorical': ['name',\n",
       "  'year',\n",
       "  'fuel',\n",
       "  'seller_type',\n",
       "  'transmission',\n",
       "  'owner'],\n",
       " 'transformer__numeric': ['km_driven'],\n",
       " 'transformer__target_col': 'selling_price',\n",
       " 'dt__ccp_alpha': 0.0,\n",
       " 'dt__criterion': 'squared_error',\n",
       " 'dt__max_depth': None,\n",
       " 'dt__max_features': None,\n",
       " 'dt__max_leaf_nodes': 500,\n",
       " 'dt__min_impurity_decrease': 0.0,\n",
       " 'dt__min_samples_leaf': 1,\n",
       " 'dt__min_samples_split': 2,\n",
       " 'dt__min_weight_fraction_leaf': 0.0,\n",
       " 'dt__random_state': None,\n",
       " 'dt__splitter': 'best'}"
      ]
     },
     "execution_count": 18,
     "metadata": {},
     "output_type": "execute_result"
    }
   ],
   "source": [
    "pipe.get_params()"
   ]
  },
  {
   "cell_type": "code",
   "execution_count": 19,
   "metadata": {
    "ExecuteTime": {
     "end_time": "2022-08-09T19:51:05.954846Z",
     "start_time": "2022-08-09T19:50:58.917904Z"
    }
   },
   "outputs": [
    {
     "data": {
      "text/plain": [
       "GridSearchCV(estimator=Pipeline(steps=[('transformer',\n",
       "                                        MeanTargetEncoderNoise(categorical=['name',\n",
       "                                                                            'year',\n",
       "                                                                            'fuel',\n",
       "                                                                            'seller_type',\n",
       "                                                                            'transmission',\n",
       "                                                                            'owner'],\n",
       "                                                               numeric=['km_driven'])),\n",
       "                                       ('dt', DecisionTreeRegressor())]),\n",
       "             param_grid={'dt__max_depth': [3, 5, 8, 12],\n",
       "                         'dt__max_leaf_nodes': [100, 200, 500],\n",
       "                         'dt__min_impurity_decrease': [0, 0.1, 0.15, 0.2],\n",
       "                         'dt__min_samples_split': [10, 50, 100, 500]},\n",
       "             scoring='neg_mean_squared_error')"
      ]
     },
     "execution_count": 19,
     "metadata": {},
     "output_type": "execute_result"
    }
   ],
   "source": [
    "from sklearn.model_selection import GridSearchCV\n",
    "\n",
    "param_grid = {\n",
    "    \"dt__max_depth\": [3, 5, 8, 12],\n",
    "    \"dt__min_samples_split\": [10, 50, 100, 500],\n",
    "    \"dt__min_impurity_decrease\": [0, 0.1, 0.15, 0.2],\n",
    "    \"dt__max_leaf_nodes\": [100, 200, 500]\n",
    "}\n",
    "np.random.seed(1)\n",
    "\n",
    "pipe = Pipeline([('transformer', MeanTargetEncoderNoise(categorical=object_cols, numeric=num_cols)),\n",
    "                 ('dt', DecisionTreeRegressor())])\n",
    "\n",
    "\n",
    "search = GridSearchCV(pipe, param_grid, scoring='neg_mean_squared_error')\n",
    "\n",
    "search.fit(X_train, y_train)"
   ]
  },
  {
   "cell_type": "code",
   "execution_count": 20,
   "metadata": {
    "ExecuteTime": {
     "end_time": "2022-08-09T19:51:05.957307Z",
     "start_time": "2022-08-09T19:51:05.955499Z"
    }
   },
   "outputs": [
    {
     "data": {
      "text/plain": [
       "{'dt__max_depth': 8,\n",
       " 'dt__max_leaf_nodes': 500,\n",
       " 'dt__min_impurity_decrease': 0.1,\n",
       " 'dt__min_samples_split': 50}"
      ]
     },
     "execution_count": 20,
     "metadata": {},
     "output_type": "execute_result"
    }
   ],
   "source": [
    "search.best_params_"
   ]
  },
  {
   "cell_type": "code",
   "execution_count": 21,
   "metadata": {
    "ExecuteTime": {
     "end_time": "2022-08-09T19:51:05.962119Z",
     "start_time": "2022-08-09T19:51:05.957833Z"
    }
   },
   "outputs": [
    {
     "data": {
      "text/plain": [
       "-0.520487141303668"
      ]
     },
     "execution_count": 21,
     "metadata": {},
     "output_type": "execute_result"
    }
   ],
   "source": [
    "search.score(X_test, y_test)"
   ]
  }
 ],
 "metadata": {
  "interpreter": {
   "hash": "8db21564b35bbdf2f1295d2e540489014671416f5dc577a5b9d4ca56833a3713"
  },
  "kernelspec": {
   "display_name": "Python 3 (ipykernel)",
   "language": "python",
   "name": "python3"
  },
  "language_info": {
   "codemirror_mode": {
    "name": "ipython",
    "version": 3
   },
   "file_extension": ".py",
   "mimetype": "text/x-python",
   "name": "python",
   "nbconvert_exporter": "python",
   "pygments_lexer": "ipython3",
   "version": "3.9.12"
  },
  "varInspector": {
   "cols": {
    "lenName": 16,
    "lenType": 16,
    "lenVar": 40
   },
   "kernels_config": {
    "python": {
     "delete_cmd_postfix": "",
     "delete_cmd_prefix": "del ",
     "library": "var_list.py",
     "varRefreshCmd": "print(var_dic_list())"
    },
    "r": {
     "delete_cmd_postfix": ") ",
     "delete_cmd_prefix": "rm(",
     "library": "var_list.r",
     "varRefreshCmd": "cat(var_dic_list()) "
    }
   },
   "types_to_exclude": [
    "module",
    "function",
    "builtin_function_or_method",
    "instance",
    "_Feature"
   ],
   "window_display": false
  }
 },
 "nbformat": 4,
 "nbformat_minor": 4
}
