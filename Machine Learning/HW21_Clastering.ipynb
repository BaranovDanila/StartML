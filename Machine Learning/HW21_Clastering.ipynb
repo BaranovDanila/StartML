{
 "cells": [
  {
   "cell_type": "code",
   "execution_count": 1,
   "metadata": {
    "ExecuteTime": {
     "end_time": "2022-08-28T15:21:17.552132Z",
     "start_time": "2022-08-28T15:21:16.798689Z"
    }
   },
   "outputs": [],
   "source": [
    "import warnings\n",
    "warnings.filterwarnings('ignore')\n",
    "\n",
    "import pandas as pd\n",
    "import numpy as np\n",
    "import matplotlib.pyplot as plt\n",
    "import seaborn as sns\n",
    "\n",
    "pd.options.display.max_columns = 500\n",
    "\n",
    "from sklearn.linear_model import LogisticRegression\n",
    "from sklearn.model_selection import train_test_split\n",
    "from sklearn.metrics import accuracy_score\n",
    "from sklearn.cluster import KMeans\n",
    "from sklearn.preprocessing import StandardScaler\n",
    "from sklearn.svm import LinearSVC\n",
    "from sklearn.ensemble import RandomForestClassifier\n",
    "from sklearn.decomposition import PCA"
   ]
  },
  {
   "cell_type": "markdown",
   "metadata": {},
   "source": [
    "# Кластеризация"
   ]
  },
  {
   "cell_type": "markdown",
   "metadata": {},
   "source": [
    "Наша задача - предсказать есть диабет у индивида или нет. В качестве таргета - колонка Diabetes. В нем три различных значения: `0`, `1`, `2`. `0` означает, что наблюдаемой здоров, `1` значит, что есть риск диабета, `2` означает наличие диабета. В качестве признаков будем использовать пол, количество лет в США, доход семьи и некоторые показатели, измеренные медицинскими работниками.  "
   ]
  },
  {
   "cell_type": "markdown",
   "metadata": {},
   "source": [
    "**Задание 1.** В этой части ДЗ попробуем использовать кластеризацию как инструмент при проведении моделирования в задаче классификации"
   ]
  },
  {
   "cell_type": "code",
   "execution_count": 2,
   "metadata": {
    "ExecuteTime": {
     "end_time": "2022-08-28T15:21:17.562769Z",
     "start_time": "2022-08-28T15:21:17.552818Z"
    }
   },
   "outputs": [
    {
     "data": {
      "text/html": [
       "<div>\n",
       "<style scoped>\n",
       "    .dataframe tbody tr th:only-of-type {\n",
       "        vertical-align: middle;\n",
       "    }\n",
       "\n",
       "    .dataframe tbody tr th {\n",
       "        vertical-align: top;\n",
       "    }\n",
       "\n",
       "    .dataframe thead th {\n",
       "        text-align: right;\n",
       "    }\n",
       "</style>\n",
       "<table border=\"1\" class=\"dataframe\">\n",
       "  <thead>\n",
       "    <tr style=\"text-align: right;\">\n",
       "      <th></th>\n",
       "      <th>Gender</th>\n",
       "      <th>Years_in_US</th>\n",
       "      <th>Family_income</th>\n",
       "      <th>ArmCircum</th>\n",
       "      <th>SaggitalAbdominal</th>\n",
       "      <th>GripStrength</th>\n",
       "      <th>Breast_fed</th>\n",
       "      <th>Diabetes</th>\n",
       "    </tr>\n",
       "  </thead>\n",
       "  <tbody>\n",
       "    <tr>\n",
       "      <th>0</th>\n",
       "      <td>1</td>\n",
       "      <td>0.0</td>\n",
       "      <td>0.84</td>\n",
       "      <td>35.3</td>\n",
       "      <td>20.6</td>\n",
       "      <td>55.2</td>\n",
       "      <td>2.0</td>\n",
       "      <td>2.0</td>\n",
       "    </tr>\n",
       "    <tr>\n",
       "      <th>1</th>\n",
       "      <td>1</td>\n",
       "      <td>0.0</td>\n",
       "      <td>1.78</td>\n",
       "      <td>34.7</td>\n",
       "      <td>24.4</td>\n",
       "      <td>61.5</td>\n",
       "      <td>2.0</td>\n",
       "      <td>2.0</td>\n",
       "    </tr>\n",
       "    <tr>\n",
       "      <th>2</th>\n",
       "      <td>1</td>\n",
       "      <td>0.0</td>\n",
       "      <td>4.51</td>\n",
       "      <td>33.5</td>\n",
       "      <td>25.6</td>\n",
       "      <td>91.0</td>\n",
       "      <td>2.0</td>\n",
       "      <td>2.0</td>\n",
       "    </tr>\n",
       "    <tr>\n",
       "      <th>3</th>\n",
       "      <td>1</td>\n",
       "      <td>0.0</td>\n",
       "      <td>2.52</td>\n",
       "      <td>21.0</td>\n",
       "      <td>14.9</td>\n",
       "      <td>32.2</td>\n",
       "      <td>2.0</td>\n",
       "      <td>0.0</td>\n",
       "    </tr>\n",
       "    <tr>\n",
       "      <th>4</th>\n",
       "      <td>2</td>\n",
       "      <td>0.0</td>\n",
       "      <td>5.00</td>\n",
       "      <td>25.2</td>\n",
       "      <td>20.7</td>\n",
       "      <td>30.9</td>\n",
       "      <td>2.0</td>\n",
       "      <td>0.0</td>\n",
       "    </tr>\n",
       "  </tbody>\n",
       "</table>\n",
       "</div>"
      ],
      "text/plain": [
       "   Gender  Years_in_US  Family_income  ArmCircum  SaggitalAbdominal  \\\n",
       "0       1          0.0           0.84       35.3               20.6   \n",
       "1       1          0.0           1.78       34.7               24.4   \n",
       "2       1          0.0           4.51       33.5               25.6   \n",
       "3       1          0.0           2.52       21.0               14.9   \n",
       "4       2          0.0           5.00       25.2               20.7   \n",
       "\n",
       "   GripStrength  Breast_fed  Diabetes  \n",
       "0          55.2         2.0       2.0  \n",
       "1          61.5         2.0       2.0  \n",
       "2          91.0         2.0       2.0  \n",
       "3          32.2         2.0       0.0  \n",
       "4          30.9         2.0       0.0  "
      ]
     },
     "execution_count": 2,
     "metadata": {},
     "output_type": "execute_result"
    }
   ],
   "source": [
    "df = pd.read_csv('datahw21.csv', index_col='Unnamed: 0')\n",
    "\n",
    "df.head()"
   ]
  },
  {
   "cell_type": "code",
   "execution_count": 3,
   "metadata": {
    "ExecuteTime": {
     "end_time": "2022-08-28T15:21:17.569906Z",
     "start_time": "2022-08-28T15:21:17.563867Z"
    }
   },
   "outputs": [
    {
     "data": {
      "text/html": [
       "<div>\n",
       "<style scoped>\n",
       "    .dataframe tbody tr th:only-of-type {\n",
       "        vertical-align: middle;\n",
       "    }\n",
       "\n",
       "    .dataframe tbody tr th {\n",
       "        vertical-align: top;\n",
       "    }\n",
       "\n",
       "    .dataframe thead th {\n",
       "        text-align: right;\n",
       "    }\n",
       "</style>\n",
       "<table border=\"1\" class=\"dataframe\">\n",
       "  <thead>\n",
       "    <tr style=\"text-align: right;\">\n",
       "      <th></th>\n",
       "      <th>Gender</th>\n",
       "      <th>Years_in_US</th>\n",
       "      <th>Family_income</th>\n",
       "      <th>ArmCircum</th>\n",
       "      <th>SaggitalAbdominal</th>\n",
       "      <th>GripStrength</th>\n",
       "      <th>Breast_fed</th>\n",
       "      <th>Diabetes</th>\n",
       "    </tr>\n",
       "  </thead>\n",
       "  <tbody>\n",
       "    <tr>\n",
       "      <th>Gender</th>\n",
       "      <td>1.000000</td>\n",
       "      <td>-0.010853</td>\n",
       "      <td>-0.023562</td>\n",
       "      <td>0.008623</td>\n",
       "      <td>-0.010282</td>\n",
       "      <td>-0.007977</td>\n",
       "      <td>0.007323</td>\n",
       "      <td>-0.012659</td>\n",
       "    </tr>\n",
       "    <tr>\n",
       "      <th>Years_in_US</th>\n",
       "      <td>-0.010853</td>\n",
       "      <td>1.000000</td>\n",
       "      <td>-0.008250</td>\n",
       "      <td>0.010886</td>\n",
       "      <td>0.003559</td>\n",
       "      <td>0.000672</td>\n",
       "      <td>-0.000016</td>\n",
       "      <td>0.000029</td>\n",
       "    </tr>\n",
       "    <tr>\n",
       "      <th>Family_income</th>\n",
       "      <td>-0.023562</td>\n",
       "      <td>-0.008250</td>\n",
       "      <td>1.000000</td>\n",
       "      <td>0.033123</td>\n",
       "      <td>0.026428</td>\n",
       "      <td>0.012737</td>\n",
       "      <td>0.003194</td>\n",
       "      <td>0.006065</td>\n",
       "    </tr>\n",
       "    <tr>\n",
       "      <th>ArmCircum</th>\n",
       "      <td>0.008623</td>\n",
       "      <td>0.010886</td>\n",
       "      <td>0.033123</td>\n",
       "      <td>1.000000</td>\n",
       "      <td>0.604606</td>\n",
       "      <td>0.467491</td>\n",
       "      <td>0.150802</td>\n",
       "      <td>0.278418</td>\n",
       "    </tr>\n",
       "    <tr>\n",
       "      <th>SaggitalAbdominal</th>\n",
       "      <td>-0.010282</td>\n",
       "      <td>0.003559</td>\n",
       "      <td>0.026428</td>\n",
       "      <td>0.604606</td>\n",
       "      <td>1.000000</td>\n",
       "      <td>0.318300</td>\n",
       "      <td>0.052172</td>\n",
       "      <td>0.344956</td>\n",
       "    </tr>\n",
       "    <tr>\n",
       "      <th>GripStrength</th>\n",
       "      <td>-0.007977</td>\n",
       "      <td>0.000672</td>\n",
       "      <td>0.012737</td>\n",
       "      <td>0.467491</td>\n",
       "      <td>0.318300</td>\n",
       "      <td>1.000000</td>\n",
       "      <td>0.105704</td>\n",
       "      <td>0.051316</td>\n",
       "    </tr>\n",
       "    <tr>\n",
       "      <th>Breast_fed</th>\n",
       "      <td>0.007323</td>\n",
       "      <td>-0.000016</td>\n",
       "      <td>0.003194</td>\n",
       "      <td>0.150802</td>\n",
       "      <td>0.052172</td>\n",
       "      <td>0.105704</td>\n",
       "      <td>1.000000</td>\n",
       "      <td>0.026744</td>\n",
       "    </tr>\n",
       "    <tr>\n",
       "      <th>Diabetes</th>\n",
       "      <td>-0.012659</td>\n",
       "      <td>0.000029</td>\n",
       "      <td>0.006065</td>\n",
       "      <td>0.278418</td>\n",
       "      <td>0.344956</td>\n",
       "      <td>0.051316</td>\n",
       "      <td>0.026744</td>\n",
       "      <td>1.000000</td>\n",
       "    </tr>\n",
       "  </tbody>\n",
       "</table>\n",
       "</div>"
      ],
      "text/plain": [
       "                     Gender  Years_in_US  Family_income  ArmCircum  \\\n",
       "Gender             1.000000    -0.010853      -0.023562   0.008623   \n",
       "Years_in_US       -0.010853     1.000000      -0.008250   0.010886   \n",
       "Family_income     -0.023562    -0.008250       1.000000   0.033123   \n",
       "ArmCircum          0.008623     0.010886       0.033123   1.000000   \n",
       "SaggitalAbdominal -0.010282     0.003559       0.026428   0.604606   \n",
       "GripStrength      -0.007977     0.000672       0.012737   0.467491   \n",
       "Breast_fed         0.007323    -0.000016       0.003194   0.150802   \n",
       "Diabetes          -0.012659     0.000029       0.006065   0.278418   \n",
       "\n",
       "                   SaggitalAbdominal  GripStrength  Breast_fed  Diabetes  \n",
       "Gender                     -0.010282     -0.007977    0.007323 -0.012659  \n",
       "Years_in_US                 0.003559      0.000672   -0.000016  0.000029  \n",
       "Family_income               0.026428      0.012737    0.003194  0.006065  \n",
       "ArmCircum                   0.604606      0.467491    0.150802  0.278418  \n",
       "SaggitalAbdominal           1.000000      0.318300    0.052172  0.344956  \n",
       "GripStrength                0.318300      1.000000    0.105704  0.051316  \n",
       "Breast_fed                  0.052172      0.105704    1.000000  0.026744  \n",
       "Diabetes                    0.344956      0.051316    0.026744  1.000000  "
      ]
     },
     "execution_count": 3,
     "metadata": {},
     "output_type": "execute_result"
    }
   ],
   "source": [
    "df.corr()"
   ]
  },
  {
   "cell_type": "code",
   "execution_count": 4,
   "metadata": {
    "ExecuteTime": {
     "end_time": "2022-08-28T15:21:17.728291Z",
     "start_time": "2022-08-28T15:21:17.570646Z"
    }
   },
   "outputs": [
    {
     "data": {
      "image/png": "[encoded data removed]",
      "text/plain": [
       "<Figure size 720x720 with 2 Axes>"
      ]
     },
     "metadata": {
      "needs_background": "light"
     },
     "output_type": "display_data"
    }
   ],
   "source": [
    "# Посмотрим как устроены данные\n",
    "# Изобразим корреляционную матрицу\n",
    "\n",
    "colormap = plt.cm.viridis\n",
    "plt.figure(figsize=(10,10))\n",
    "sns.heatmap(df.corr(), linewidths=0.1, vmax=1.0, vmin=-1.0, square=True, cmap=colormap, annot=True)\n",
    "plt.show()"
   ]
  },
  {
   "cell_type": "code",
   "execution_count": 5,
   "metadata": {
    "ExecuteTime": {
     "end_time": "2022-08-28T15:21:17.734073Z",
     "start_time": "2022-08-28T15:21:17.729095Z"
    }
   },
   "outputs": [],
   "source": [
    "# Разделим выборку на трейн-тест\n",
    "\n",
    "data = df.drop(['Diabetes'], axis=1)\n",
    "target = df[['Diabetes']]\n",
    "\n",
    "X_train, X_test, y_train, y_test = train_test_split(data, target, \n",
    "                                                    test_size=0.25,\n",
    "                                                    random_state=1)"
   ]
  },
  {
   "cell_type": "markdown",
   "metadata": {},
   "source": [
    "Для того, чтобы использовать K-means, лучше будет отнормировать данные. "
   ]
  },
  {
   "cell_type": "code",
   "execution_count": 6,
   "metadata": {
    "ExecuteTime": {
     "end_time": "2022-08-28T15:21:17.736869Z",
     "start_time": "2022-08-28T15:21:17.734933Z"
    }
   },
   "outputs": [],
   "source": [
    "# Воспользуемся StandardScaler\n",
    "\n",
    "scaler = StandardScaler()"
   ]
  },
  {
   "cell_type": "markdown",
   "metadata": {},
   "source": [
    "Обучим K-Means с параметрами `n_clusters` = 3, `tol` = 0.0005. Выбор параметров обусловлен тем, что у нас три возможных значения таргета. Но в целом основной подход подбора количества кластеров - по кривой зависимости внутрикластерного и межкластерного расстояний от количества кластеров.\n",
    "\n",
    "Установите `random_state` = 1"
   ]
  },
  {
   "cell_type": "code",
   "execution_count": 7,
   "metadata": {
    "ExecuteTime": {
     "end_time": "2022-08-28T15:21:17.970392Z",
     "start_time": "2022-08-28T15:21:17.737706Z"
    }
   },
   "outputs": [
    {
     "data": {
      "text/plain": [
       "KMeans(n_clusters=3, random_state=1, tol=0.0005)"
      ]
     },
     "execution_count": 7,
     "metadata": {},
     "output_type": "execute_result"
    }
   ],
   "source": [
    "from sklearn.cluster import KMeans\n",
    "\n",
    "k_means = KMeans(n_clusters=3, tol=0.0005, random_state=1)\n",
    "\n",
    "k_means.fit(scaler.fit_transform(X_train))"
   ]
  },
  {
   "cell_type": "code",
   "execution_count": 8,
   "metadata": {
    "ExecuteTime": {
     "end_time": "2022-08-28T15:21:17.983229Z",
     "start_time": "2022-08-28T15:21:17.975029Z"
    }
   },
   "outputs": [],
   "source": [
    "scaler.fit(X_train)\n",
    "X_train_norm = scaler.transform(X_train)\n",
    "X_test_norm = scaler.transform(X_test)"
   ]
  },
  {
   "cell_type": "markdown",
   "metadata": {},
   "source": [
    "Посчитаем качество на изначальных данных(нормированных). Для этого обучите с дефолтными параметрами `RandomForestClassifier`, `LogisticRegression`, `LinearSVC`. Там, где нужно, установите `random_state` = 1. (1б)"
   ]
  },
  {
   "cell_type": "code",
   "execution_count": 9,
   "metadata": {
    "ExecuteTime": {
     "end_time": "2022-08-28T15:21:19.085669Z",
     "start_time": "2022-08-28T15:21:17.989720Z"
    }
   },
   "outputs": [
    {
     "data": {
      "text/plain": [
       "LinearSVC(random_state=1)"
      ]
     },
     "execution_count": 9,
     "metadata": {},
     "output_type": "execute_result"
    }
   ],
   "source": [
    "rf = RandomForestClassifier(random_state=1)\n",
    "lr = LogisticRegression(random_state=1)\n",
    "svm = LinearSVC(random_state=1)\n",
    "\n",
    "rf.fit(X_train_norm, y_train)\n",
    "lr.fit(X_train_norm, y_train)\n",
    "svm.fit(X_train_norm, y_train)"
   ]
  },
  {
   "cell_type": "code",
   "execution_count": 10,
   "metadata": {
    "ExecuteTime": {
     "end_time": "2022-08-28T15:21:19.116170Z",
     "start_time": "2022-08-28T15:21:19.086359Z"
    }
   },
   "outputs": [
    {
     "name": "stdout",
     "output_type": "stream",
     "text": [
      "Random forest accuracy: 0.886\n",
      "Log-reg accuracy: 0.888\n",
      "SVM accuracy: 0.892\n"
     ]
    }
   ],
   "source": [
    "print(f'Random forest accuracy: {rf.score(X_test_norm, y_test):.3f}')\n",
    "print(f'Log-reg accuracy: {lr.score(X_test_norm, y_test):.3f}')\n",
    "print(f'SVM accuracy: {svm.score(X_test_norm, y_test):.3f}')"
   ]
  },
  {
   "cell_type": "markdown",
   "metadata": {},
   "source": [
    "Добавьте в признаковое описание номер кластера и посчитайте качество с новым признаком! Стало ли качество хоть сколько-то лучше? (1б)"
   ]
  },
  {
   "cell_type": "code",
   "execution_count": 11,
   "metadata": {
    "ExecuteTime": {
     "end_time": "2022-08-28T15:21:19.131242Z",
     "start_time": "2022-08-28T15:21:19.116994Z"
    }
   },
   "outputs": [],
   "source": [
    "X_train_norm = np.c_[X_train_norm, k_means.predict(X_train_norm)]\n",
    "X_test_norm = np.c_[X_test_norm, k_means.predict(X_test_norm)]"
   ]
  },
  {
   "cell_type": "code",
   "execution_count": 12,
   "metadata": {
    "ExecuteTime": {
     "end_time": "2022-08-28T15:21:20.198110Z",
     "start_time": "2022-08-28T15:21:19.132123Z"
    }
   },
   "outputs": [
    {
     "name": "stdout",
     "output_type": "stream",
     "text": [
      "Random forest accuracy: 0.888\n",
      "Log-reg accuracy: 0.888\n",
      "SVM accuracy: 0.892\n"
     ]
    }
   ],
   "source": [
    "rf.fit(X_train_norm, y_train)\n",
    "lr.fit(X_train_norm, y_train)\n",
    "svm.fit(X_train_norm, y_train)\n",
    "\n",
    "print(f'Random forest accuracy: {rf.score(X_test_norm, y_test):.3f}')\n",
    "print(f'Log-reg accuracy: {lr.score(X_test_norm, y_test):.3f}')\n",
    "print(f'SVM accuracy: {svm.score(X_test_norm, y_test):.3f}')"
   ]
  },
  {
   "cell_type": "markdown",
   "metadata": {},
   "source": [
    "Посчитаем расстояния от объектов до центров кластеров. Для этого воспользуемся методом `transform` обученного класса kmeans.\n",
    "\n",
    "Обучим и посчитаем метрики исключительно на расстояниях до центра. Убедимся, что такой подход имеет право на существование, если данные позволяют, то качество не сильно должно пострадать. А в каких-то случаях может оказаться даже лучше! Таким образом можно снижать размерность данных. (2б)"
   ]
  },
  {
   "cell_type": "code",
   "execution_count": 13,
   "metadata": {
    "ExecuteTime": {
     "end_time": "2022-08-28T15:21:20.202697Z",
     "start_time": "2022-08-28T15:21:20.198947Z"
    }
   },
   "outputs": [],
   "source": [
    "X_train_new = k_means.transform(scaler.transform(X_train))\n",
    "X_test_new = k_means.transform(scaler.transform(X_test))"
   ]
  },
  {
   "cell_type": "code",
   "execution_count": 14,
   "metadata": {
    "ExecuteTime": {
     "end_time": "2022-08-28T15:21:21.388387Z",
     "start_time": "2022-08-28T15:21:20.203491Z"
    }
   },
   "outputs": [
    {
     "name": "stdout",
     "output_type": "stream",
     "text": [
      "Random forest accuracy: 0.881\n",
      "Log-reg accuracy: 0.892\n",
      "SVM accuracy: 0.892\n"
     ]
    }
   ],
   "source": [
    "rf.fit(X_train_new, y_train)\n",
    "lr.fit(X_train_new, y_train)\n",
    "svm.fit(X_train_new, y_train)\n",
    "\n",
    "print(f'Random forest accuracy: {rf.score(X_test_new, y_test):.3f}')\n",
    "print(f'Log-reg accuracy: {lr.score(X_test_new, y_test):.3f}')\n",
    "print(f'SVM accuracy: {svm.score(X_test_new, y_test):.3f}')"
   ]
  },
  {
   "cell_type": "markdown",
   "metadata": {},
   "source": [
    "**Задание 2** Задача кластеризации может использоваться не только для специфических задач группировки данных, но и для оптимизации других методов. Вы уже знаете, что одна из основных проблем kNN в скорости его предсказания. В этом задании попробуем ускорить работу kNN с помощью кластеризации, не теряя при этом сильно в качестве.\n",
    "\n",
    "Сначала загрузим уже известные вам данные клиентов страховой компании."
   ]
  },
  {
   "cell_type": "code",
   "execution_count": 15,
   "metadata": {
    "ExecuteTime": {
     "end_time": "2022-08-28T15:21:21.514271Z",
     "start_time": "2022-08-28T15:21:21.389085Z"
    }
   },
   "outputs": [
    {
     "data": {
      "text/html": [
       "<div>\n",
       "<style scoped>\n",
       "    .dataframe tbody tr th:only-of-type {\n",
       "        vertical-align: middle;\n",
       "    }\n",
       "\n",
       "    .dataframe tbody tr th {\n",
       "        vertical-align: top;\n",
       "    }\n",
       "\n",
       "    .dataframe thead th {\n",
       "        text-align: right;\n",
       "    }\n",
       "</style>\n",
       "<table border=\"1\" class=\"dataframe\">\n",
       "  <thead>\n",
       "    <tr style=\"text-align: right;\">\n",
       "      <th></th>\n",
       "      <th>Gender</th>\n",
       "      <th>Age</th>\n",
       "      <th>Driving_License</th>\n",
       "      <th>Region_Code</th>\n",
       "      <th>Previously_Insured</th>\n",
       "      <th>Vehicle_Age</th>\n",
       "      <th>Vehicle_Damage</th>\n",
       "      <th>Annual_Premium</th>\n",
       "      <th>Policy_Sales_Channel</th>\n",
       "      <th>Vintage</th>\n",
       "      <th>Response</th>\n",
       "    </tr>\n",
       "  </thead>\n",
       "  <tbody>\n",
       "    <tr>\n",
       "      <th>0</th>\n",
       "      <td>1</td>\n",
       "      <td>44</td>\n",
       "      <td>1</td>\n",
       "      <td>28.0</td>\n",
       "      <td>0</td>\n",
       "      <td>3</td>\n",
       "      <td>1</td>\n",
       "      <td>40454.0</td>\n",
       "      <td>26.0</td>\n",
       "      <td>217</td>\n",
       "      <td>1</td>\n",
       "    </tr>\n",
       "    <tr>\n",
       "      <th>1</th>\n",
       "      <td>1</td>\n",
       "      <td>76</td>\n",
       "      <td>1</td>\n",
       "      <td>3.0</td>\n",
       "      <td>0</td>\n",
       "      <td>2</td>\n",
       "      <td>0</td>\n",
       "      <td>33536.0</td>\n",
       "      <td>26.0</td>\n",
       "      <td>183</td>\n",
       "      <td>0</td>\n",
       "    </tr>\n",
       "    <tr>\n",
       "      <th>2</th>\n",
       "      <td>1</td>\n",
       "      <td>47</td>\n",
       "      <td>1</td>\n",
       "      <td>28.0</td>\n",
       "      <td>0</td>\n",
       "      <td>3</td>\n",
       "      <td>1</td>\n",
       "      <td>38294.0</td>\n",
       "      <td>26.0</td>\n",
       "      <td>27</td>\n",
       "      <td>1</td>\n",
       "    </tr>\n",
       "    <tr>\n",
       "      <th>3</th>\n",
       "      <td>1</td>\n",
       "      <td>21</td>\n",
       "      <td>1</td>\n",
       "      <td>11.0</td>\n",
       "      <td>1</td>\n",
       "      <td>1</td>\n",
       "      <td>0</td>\n",
       "      <td>28619.0</td>\n",
       "      <td>152.0</td>\n",
       "      <td>203</td>\n",
       "      <td>0</td>\n",
       "    </tr>\n",
       "    <tr>\n",
       "      <th>4</th>\n",
       "      <td>0</td>\n",
       "      <td>29</td>\n",
       "      <td>1</td>\n",
       "      <td>41.0</td>\n",
       "      <td>1</td>\n",
       "      <td>1</td>\n",
       "      <td>0</td>\n",
       "      <td>27496.0</td>\n",
       "      <td>152.0</td>\n",
       "      <td>39</td>\n",
       "      <td>0</td>\n",
       "    </tr>\n",
       "  </tbody>\n",
       "</table>\n",
       "</div>"
      ],
      "text/plain": [
       "   Gender  Age  Driving_License  Region_Code  Previously_Insured  Vehicle_Age  \\\n",
       "0       1   44                1         28.0                   0            3   \n",
       "1       1   76                1          3.0                   0            2   \n",
       "2       1   47                1         28.0                   0            3   \n",
       "3       1   21                1         11.0                   1            1   \n",
       "4       0   29                1         41.0                   1            1   \n",
       "\n",
       "   Vehicle_Damage  Annual_Premium  Policy_Sales_Channel  Vintage  Response  \n",
       "0               1         40454.0                  26.0      217         1  \n",
       "1               0         33536.0                  26.0      183         0  \n",
       "2               1         38294.0                  26.0       27         1  \n",
       "3               0         28619.0                 152.0      203         0  \n",
       "4               0         27496.0                 152.0       39         0  "
      ]
     },
     "execution_count": 15,
     "metadata": {},
     "output_type": "execute_result"
    }
   ],
   "source": [
    "data = pd.read_csv('processed_vehicle_inssurance.csv')\n",
    "data.head()"
   ]
  },
  {
   "cell_type": "code",
   "execution_count": 16,
   "metadata": {
    "ExecuteTime": {
     "end_time": "2022-08-28T15:21:21.524050Z",
     "start_time": "2022-08-28T15:21:21.515068Z"
    }
   },
   "outputs": [],
   "source": [
    "# Разделим выборку на трейн-тест\n",
    "\n",
    "from sklearn.model_selection import train_test_split\n",
    "X = data.drop('Response', axis=1)[:25000]\n",
    "y = data['Response'][:25000]\n",
    "\n",
    "X_train, X_test, y_train, y_test = train_test_split(X, y.values,\n",
    "                                                    random_state=0,\n",
    "                                                    test_size=0.2)"
   ]
  },
  {
   "cell_type": "code",
   "execution_count": 17,
   "metadata": {
    "ExecuteTime": {
     "end_time": "2022-08-28T15:21:21.530721Z",
     "start_time": "2022-08-28T15:21:21.524744Z"
    }
   },
   "outputs": [],
   "source": [
    "# Нормируем данные\n",
    "\n",
    "from sklearn.preprocessing import StandardScaler\n",
    "\n",
    "scaler = StandardScaler()\n",
    "X_train = scaler.fit_transform(X_train)\n",
    "X_test = scaler.transform(X_test)"
   ]
  },
  {
   "cell_type": "markdown",
   "metadata": {},
   "source": [
    "Обучите обычный kNN с одним соседом и измерьте качество, например, взвешенную f-меру, чтобы потом сравнить с нашей реализацией (1б)."
   ]
  },
  {
   "cell_type": "code",
   "execution_count": 18,
   "metadata": {
    "ExecuteTime": {
     "end_time": "2022-08-28T15:21:21.542116Z",
     "start_time": "2022-08-28T15:21:21.531857Z"
    },
    "scrolled": true
   },
   "outputs": [
    {
     "data": {
      "text/plain": [
       "KNeighborsClassifier(n_neighbors=1)"
      ]
     },
     "execution_count": 18,
     "metadata": {},
     "output_type": "execute_result"
    }
   ],
   "source": [
    "from sklearn.neighbors import KNeighborsClassifier\n",
    "from sklearn.metrics import f1_score\n",
    "\n",
    "knn = KNeighborsClassifier(n_neighbors=1)\n",
    "knn.fit(X_train, y_train)"
   ]
  },
  {
   "cell_type": "code",
   "execution_count": 19,
   "metadata": {
    "ExecuteTime": {
     "end_time": "2022-08-28T15:21:21.692167Z",
     "start_time": "2022-08-28T15:21:21.543035Z"
    },
    "scrolled": false
   },
   "outputs": [
    {
     "name": "stdout",
     "output_type": "stream",
     "text": [
      "KNN f1 test score: 0.8259679418155178\n"
     ]
    }
   ],
   "source": [
    "print(f'KNN f1 test score: {f1_score(y_test, knn.predict(X_test), average=\"weighted\")}')"
   ]
  },
  {
   "cell_type": "markdown",
   "metadata": {},
   "source": [
    "Идея ускорения kNN заключается в том, чтобы разбить признаковое пространство (то есть столбцы, а не объекты-строки!) на несколько блоков и кластеризовать каждый блок по-отдельности.\n",
    "\n",
    "Далее нужно будет заменить в обучающей выборке объекты на их некоторое представление, а именно вместо каждого блока вставить центр кластера, к которому принадлежит эта часть исходного объекта.\n",
    "\n",
    "Затем подсчет расстояний на этапе применения производится по блокам. Главный плюс алгоритма в том, что у нас уже будут иметься предподсчитанные расстояния по блокам до всех центров кластеров.\n",
    "\n",
    "Этот алгоритм называется **Product Quantization**. \n"
   ]
  },
  {
   "cell_type": "markdown",
   "metadata": {},
   "source": [
    "Сам алгоритм:\n",
    "\n",
    "1. Разделите обучающую и контрольную выборки на блоки: равномерно по индексам столбцов.\n",
    "\n",
    "\n",
    "2. На каждом блоке обучите K-Means и примените transform к соотв. блоку контрольной выборки.\n",
    "\n",
    "\n",
    "3. Посчитайте расстояния от каждого обучающего объекта до каждого объекта из контрольной выборки\n",
    "(это вы должны сделать, используя матрицы из предыдущего пункта)\n",
    "\n",
    "\n",
    "4. Определите для каждого тестового объекта k ближайших"
   ]
  },
  {
   "cell_type": "markdown",
   "metadata": {},
   "source": [
    "В нашей реализации будем использовать следующие значения параметров: \\\n",
    "`m_blocks` = 5 \\\n",
    "`n_clusters` = 100 \\\n",
    "`k` = 1"
   ]
  },
  {
   "cell_type": "markdown",
   "metadata": {},
   "source": [
    "**Совет на будущее в практике:** Обучайте все на подвыборке данных, так как итоговая матрица при подсчете kNN будет занимать очень много оперативной памяти. \n"
   ]
  },
  {
   "cell_type": "code",
   "execution_count": 20,
   "metadata": {
    "ExecuteTime": {
     "end_time": "2022-08-28T15:21:28.716869Z",
     "start_time": "2022-08-28T15:21:21.692888Z"
    }
   },
   "outputs": [],
   "source": [
    "def product_quantization(X_train, X_test, m_blocks=5, n_clusters=100):\n",
    "    dist_table = np.zeros([X_test.shape[0], n_clusters, m_blocks])\n",
    "    X_train_clusters = np.zeros([X_train.shape[0], m_blocks])\n",
    "\n",
    "    for i in range(m_blocks):\n",
    "        # Вырежьте блок из обучающей и контрольной выборок\n",
    "        block_size = X_test.shape[1] // m_blocks\n",
    "        X_train_block = X_train[:, i * block_size: (i + 1) * block_size].copy()\n",
    "        X_test_block = X_test[:, i * block_size: (i + 1) * block_size].copy()\n",
    "\n",
    "        # Обучите K-Means и примените transform на тестовой выборке\n",
    "        # Положите посчитанные расстояния до центров в матрицу dist_table\n",
    "        kmeans = KMeans(n_clusters=n_clusters).fit(X_train_block)\n",
    "        dist_table[:, :, i] = kmeans.transform(X_test_block)\n",
    "\n",
    "        # Положите метки кластеров в матрицу X_train_clusters\n",
    "        X_train_clusters[:, i] = kmeans.predict(X_train_block)\n",
    "\n",
    "    return X_train_clusters, dist_table\n",
    "\n",
    "\n",
    "X_train_clusters, dist_table = product_quantization(X_train, X_test,\n",
    "                                                    m_blocks=5,\n",
    "                                                    n_clusters=100)"
   ]
  },
  {
   "cell_type": "markdown",
   "metadata": {},
   "source": [
    "Теперь с помощью полученных таблиц осталось посчитать расстояния до каждого объекта обучающей выборки. \n",
    "1. Сначала возведите в квадрат `dist_table`, чтобы получить сумму квадратов, а не l2-норму.\n",
    "\n",
    "2. Для каждого блока по предсказанным меткам класса в `X_train_clusters` отберите соответсвтующие расстояния из `dist_table`\n",
    "\n",
    "3. Просуммируйте квадраты расстояний по всем блокам.\n",
    "\n",
    "4. Найдите индексы самых маленьких расстояний и по ним выберите объекты из `y_train`, это и будут наши предсказания\n",
    "\n",
    "Замерьте качество, как изменилась скорость работы? (2б)"
   ]
  },
  {
   "cell_type": "code",
   "execution_count": 21,
   "metadata": {
    "ExecuteTime": {
     "end_time": "2022-08-28T15:21:31.605066Z",
     "start_time": "2022-08-28T15:21:28.718626Z"
    }
   },
   "outputs": [],
   "source": [
    "sq_dist_table = dist_table ** 2\n",
    "m_blocks = 5\n",
    "\n",
    "dist = np.zeros(shape=(sq_dist_table.shape[0], X_train.shape[0]))\n",
    "X_train_clusters = X_train_clusters.astype(int)\n",
    "\n",
    "for i in range(m_blocks):\n",
    "    dist += sq_dist_table[:, X_train_clusters[:, i], i]"
   ]
  },
  {
   "cell_type": "code",
   "execution_count": 22,
   "metadata": {
    "ExecuteTime": {
     "end_time": "2022-08-28T15:21:31.641445Z",
     "start_time": "2022-08-28T15:21:31.605866Z"
    }
   },
   "outputs": [
    {
     "data": {
      "text/plain": [
       "array([0, 0, 0, ..., 0, 0, 0])"
      ]
     },
     "execution_count": 22,
     "metadata": {},
     "output_type": "execute_result"
    }
   ],
   "source": [
    "y_pred = y_train[np.argmin(dist, axis=1)]\n",
    "y_pred"
   ]
  },
  {
   "cell_type": "code",
   "execution_count": 23,
   "metadata": {
    "ExecuteTime": {
     "end_time": "2022-08-28T15:21:31.645944Z",
     "start_time": "2022-08-28T15:21:31.642138Z"
    }
   },
   "outputs": [
    {
     "name": "stdout",
     "output_type": "stream",
     "text": [
      "Test f1 score: 0.828\n"
     ]
    }
   ],
   "source": [
    "print(f'Test f1 score: {f1_score(y_test, y_pred, average=\"weighted\"):.3f}')"
   ]
  },
  {
   "cell_type": "markdown",
   "metadata": {},
   "source": [
    "Наша реализация на python работает медленнее по сравнению с библиотечным kNN. Однако реализация на более низкоуровневых языках программирования (C++) и на большом количестве данных данный метод на самом деле позволяет ускорять подсчет расстояний."
   ]
  }
 ],
 "metadata": {
  "kernelspec": {
   "display_name": "Python 3 (ipykernel)",
   "language": "python",
   "name": "python3"
  },
  "language_info": {
   "codemirror_mode": {
    "name": "ipython",
    "version": 3
   },
   "file_extension": ".py",
   "mimetype": "text/x-python",
   "name": "python",
   "nbconvert_exporter": "python",
   "pygments_lexer": "ipython3",
   "version": "3.9.12"
  },
  "varInspector": {
   "cols": {
    "lenName": 16,
    "lenType": 16,
    "lenVar": 40
   },
   "kernels_config": {
    "python": {
     "delete_cmd_postfix": "",
     "delete_cmd_prefix": "del ",
     "library": "var_list.py",
     "varRefreshCmd": "print(var_dic_list())"
    },
    "r": {
     "delete_cmd_postfix": ") ",
     "delete_cmd_prefix": "rm(",
     "library": "var_list.r",
     "varRefreshCmd": "cat(var_dic_list()) "
    }
   },
   "types_to_exclude": [
    "module",
    "function",
    "builtin_function_or_method",
    "instance",
    "_Feature"
   ],
   "window_display": false
  },
  "vscode": {
   "interpreter": {
    "hash": "8db21564b35bbdf2f1295d2e540489014671416f5dc577a5b9d4ca56833a3713"
   }
  }
 },
 "nbformat": 4,
 "nbformat_minor": 2
}
