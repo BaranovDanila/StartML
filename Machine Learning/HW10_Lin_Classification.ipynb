{
 "cells": [
  {
   "cell_type": "markdown",
   "id": "ee3ea6ad",
   "metadata": {},
   "source": [
    "## В этом домашнем задании вы сделаете первые шаги в мире линейной бинарной классификации!"
   ]
  },
  {
   "cell_type": "code",
   "execution_count": 1,
   "id": "1abde663",
   "metadata": {
    "ExecuteTime": {
     "end_time": "2022-07-18T18:02:14.753250Z",
     "start_time": "2022-07-18T18:02:14.513776Z"
    }
   },
   "outputs": [],
   "source": [
    "import pandas as pd\n",
    "import numpy as np\n",
    "import warnings"
   ]
  },
  {
   "cell_type": "code",
   "execution_count": 2,
   "id": "37e589a5",
   "metadata": {
    "ExecuteTime": {
     "end_time": "2022-07-18T18:02:14.774316Z",
     "start_time": "2022-07-18T18:02:14.755355Z"
    }
   },
   "outputs": [],
   "source": [
    "warnings.filterwarnings('ignore')"
   ]
  },
  {
   "cell_type": "markdown",
   "id": "8df27337",
   "metadata": {},
   "source": [
    "#### Задание 1\n",
    "\n",
    "Мы будем работать с данными **Microsoft Malware Detection**\n",
    "\n",
    "Таргетом будет последний столбец `HasDetection`, который принимает значения $\\{0,\\, 1\\}$ в случае отсутствия или наличия вируса на компьютере соответственно. Признаками будут выступать всевозможные характеристики компьютера."
   ]
  },
  {
   "cell_type": "code",
   "execution_count": 3,
   "id": "7a1dae59",
   "metadata": {
    "ExecuteTime": {
     "end_time": "2022-07-18T18:02:15.824483Z",
     "start_time": "2022-07-18T18:02:14.787374Z"
    }
   },
   "outputs": [],
   "source": [
    "data = pd.read_csv('train.csv')"
   ]
  },
  {
   "cell_type": "code",
   "execution_count": 4,
   "id": "3c8fee3f",
   "metadata": {
    "ExecuteTime": {
     "end_time": "2022-07-18T18:02:15.836206Z",
     "start_time": "2022-07-18T18:02:15.825284Z"
    }
   },
   "outputs": [
    {
     "data": {
      "text/html": [
       "<div>\n",
       "<style scoped>\n",
       "    .dataframe tbody tr th:only-of-type {\n",
       "        vertical-align: middle;\n",
       "    }\n",
       "\n",
       "    .dataframe tbody tr th {\n",
       "        vertical-align: top;\n",
       "    }\n",
       "\n",
       "    .dataframe thead th {\n",
       "        text-align: right;\n",
       "    }\n",
       "</style>\n",
       "<table border=\"1\" class=\"dataframe\">\n",
       "  <thead>\n",
       "    <tr style=\"text-align: right;\">\n",
       "      <th></th>\n",
       "      <th>MachineIdentifier</th>\n",
       "      <th>ProductName</th>\n",
       "      <th>EngineVersion</th>\n",
       "      <th>AppVersion</th>\n",
       "      <th>AvSigVersion</th>\n",
       "      <th>IsBeta</th>\n",
       "      <th>RtpStateBitfield</th>\n",
       "      <th>IsSxsPassiveMode</th>\n",
       "      <th>DefaultBrowsersIdentifier</th>\n",
       "      <th>AVProductStatesIdentifier</th>\n",
       "      <th>...</th>\n",
       "      <th>Census_FirmwareVersionIdentifier</th>\n",
       "      <th>Census_IsSecureBootEnabled</th>\n",
       "      <th>Census_IsWIMBootEnabled</th>\n",
       "      <th>Census_IsVirtualDevice</th>\n",
       "      <th>Census_IsTouchEnabled</th>\n",
       "      <th>Census_IsPenCapable</th>\n",
       "      <th>Census_IsAlwaysOnAlwaysConnectedCapable</th>\n",
       "      <th>Wdft_IsGamer</th>\n",
       "      <th>Wdft_RegionIdentifier</th>\n",
       "      <th>HasDetections</th>\n",
       "    </tr>\n",
       "  </thead>\n",
       "  <tbody>\n",
       "    <tr>\n",
       "      <th>0</th>\n",
       "      <td>0000028988387b115f69f31a3bf04f09</td>\n",
       "      <td>win8defender</td>\n",
       "      <td>1.1.15100.1</td>\n",
       "      <td>4.18.1807.18075</td>\n",
       "      <td>1.273.1735.0</td>\n",
       "      <td>0</td>\n",
       "      <td>7.0</td>\n",
       "      <td>0</td>\n",
       "      <td>NaN</td>\n",
       "      <td>53447.0</td>\n",
       "      <td>...</td>\n",
       "      <td>36144.0</td>\n",
       "      <td>0</td>\n",
       "      <td>NaN</td>\n",
       "      <td>0.0</td>\n",
       "      <td>0</td>\n",
       "      <td>0</td>\n",
       "      <td>0.0</td>\n",
       "      <td>0.0</td>\n",
       "      <td>10.0</td>\n",
       "      <td>0</td>\n",
       "    </tr>\n",
       "    <tr>\n",
       "      <th>1</th>\n",
       "      <td>000007535c3f730efa9ea0b7ef1bd645</td>\n",
       "      <td>win8defender</td>\n",
       "      <td>1.1.14600.4</td>\n",
       "      <td>4.13.17134.1</td>\n",
       "      <td>1.263.48.0</td>\n",
       "      <td>0</td>\n",
       "      <td>7.0</td>\n",
       "      <td>0</td>\n",
       "      <td>NaN</td>\n",
       "      <td>53447.0</td>\n",
       "      <td>...</td>\n",
       "      <td>57858.0</td>\n",
       "      <td>0</td>\n",
       "      <td>NaN</td>\n",
       "      <td>0.0</td>\n",
       "      <td>0</td>\n",
       "      <td>0</td>\n",
       "      <td>0.0</td>\n",
       "      <td>0.0</td>\n",
       "      <td>8.0</td>\n",
       "      <td>0</td>\n",
       "    </tr>\n",
       "    <tr>\n",
       "      <th>2</th>\n",
       "      <td>000007905a28d863f6d0d597892cd692</td>\n",
       "      <td>win8defender</td>\n",
       "      <td>1.1.15100.1</td>\n",
       "      <td>4.18.1807.18075</td>\n",
       "      <td>1.273.1341.0</td>\n",
       "      <td>0</td>\n",
       "      <td>7.0</td>\n",
       "      <td>0</td>\n",
       "      <td>NaN</td>\n",
       "      <td>53447.0</td>\n",
       "      <td>...</td>\n",
       "      <td>52682.0</td>\n",
       "      <td>0</td>\n",
       "      <td>NaN</td>\n",
       "      <td>0.0</td>\n",
       "      <td>0</td>\n",
       "      <td>0</td>\n",
       "      <td>0.0</td>\n",
       "      <td>0.0</td>\n",
       "      <td>3.0</td>\n",
       "      <td>0</td>\n",
       "    </tr>\n",
       "    <tr>\n",
       "      <th>3</th>\n",
       "      <td>00000b11598a75ea8ba1beea8459149f</td>\n",
       "      <td>win8defender</td>\n",
       "      <td>1.1.15100.1</td>\n",
       "      <td>4.18.1807.18075</td>\n",
       "      <td>1.273.1527.0</td>\n",
       "      <td>0</td>\n",
       "      <td>7.0</td>\n",
       "      <td>0</td>\n",
       "      <td>NaN</td>\n",
       "      <td>53447.0</td>\n",
       "      <td>...</td>\n",
       "      <td>20050.0</td>\n",
       "      <td>0</td>\n",
       "      <td>NaN</td>\n",
       "      <td>0.0</td>\n",
       "      <td>0</td>\n",
       "      <td>0</td>\n",
       "      <td>0.0</td>\n",
       "      <td>0.0</td>\n",
       "      <td>3.0</td>\n",
       "      <td>1</td>\n",
       "    </tr>\n",
       "    <tr>\n",
       "      <th>4</th>\n",
       "      <td>000014a5f00daa18e76b81417eeb99fc</td>\n",
       "      <td>win8defender</td>\n",
       "      <td>1.1.15100.1</td>\n",
       "      <td>4.18.1807.18075</td>\n",
       "      <td>1.273.1379.0</td>\n",
       "      <td>0</td>\n",
       "      <td>7.0</td>\n",
       "      <td>0</td>\n",
       "      <td>NaN</td>\n",
       "      <td>53447.0</td>\n",
       "      <td>...</td>\n",
       "      <td>19844.0</td>\n",
       "      <td>0</td>\n",
       "      <td>0.0</td>\n",
       "      <td>0.0</td>\n",
       "      <td>0</td>\n",
       "      <td>0</td>\n",
       "      <td>0.0</td>\n",
       "      <td>0.0</td>\n",
       "      <td>1.0</td>\n",
       "      <td>1</td>\n",
       "    </tr>\n",
       "  </tbody>\n",
       "</table>\n",
       "<p>5 rows × 83 columns</p>\n",
       "</div>"
      ],
      "text/plain": [
       "                  MachineIdentifier   ProductName EngineVersion  \\\n",
       "0  0000028988387b115f69f31a3bf04f09  win8defender   1.1.15100.1   \n",
       "1  000007535c3f730efa9ea0b7ef1bd645  win8defender   1.1.14600.4   \n",
       "2  000007905a28d863f6d0d597892cd692  win8defender   1.1.15100.1   \n",
       "3  00000b11598a75ea8ba1beea8459149f  win8defender   1.1.15100.1   \n",
       "4  000014a5f00daa18e76b81417eeb99fc  win8defender   1.1.15100.1   \n",
       "\n",
       "        AppVersion  AvSigVersion  IsBeta  RtpStateBitfield  IsSxsPassiveMode  \\\n",
       "0  4.18.1807.18075  1.273.1735.0       0               7.0                 0   \n",
       "1     4.13.17134.1    1.263.48.0       0               7.0                 0   \n",
       "2  4.18.1807.18075  1.273.1341.0       0               7.0                 0   \n",
       "3  4.18.1807.18075  1.273.1527.0       0               7.0                 0   \n",
       "4  4.18.1807.18075  1.273.1379.0       0               7.0                 0   \n",
       "\n",
       "   DefaultBrowsersIdentifier  AVProductStatesIdentifier  ...  \\\n",
       "0                        NaN                    53447.0  ...   \n",
       "1                        NaN                    53447.0  ...   \n",
       "2                        NaN                    53447.0  ...   \n",
       "3                        NaN                    53447.0  ...   \n",
       "4                        NaN                    53447.0  ...   \n",
       "\n",
       "   Census_FirmwareVersionIdentifier  Census_IsSecureBootEnabled  \\\n",
       "0                           36144.0                           0   \n",
       "1                           57858.0                           0   \n",
       "2                           52682.0                           0   \n",
       "3                           20050.0                           0   \n",
       "4                           19844.0                           0   \n",
       "\n",
       "   Census_IsWIMBootEnabled  Census_IsVirtualDevice  Census_IsTouchEnabled  \\\n",
       "0                      NaN                     0.0                      0   \n",
       "1                      NaN                     0.0                      0   \n",
       "2                      NaN                     0.0                      0   \n",
       "3                      NaN                     0.0                      0   \n",
       "4                      0.0                     0.0                      0   \n",
       "\n",
       "   Census_IsPenCapable  Census_IsAlwaysOnAlwaysConnectedCapable  Wdft_IsGamer  \\\n",
       "0                    0                                      0.0           0.0   \n",
       "1                    0                                      0.0           0.0   \n",
       "2                    0                                      0.0           0.0   \n",
       "3                    0                                      0.0           0.0   \n",
       "4                    0                                      0.0           0.0   \n",
       "\n",
       "  Wdft_RegionIdentifier HasDetections  \n",
       "0                  10.0             0  \n",
       "1                   8.0             0  \n",
       "2                   3.0             0  \n",
       "3                   3.0             1  \n",
       "4                   1.0             1  \n",
       "\n",
       "[5 rows x 83 columns]"
      ]
     },
     "execution_count": 4,
     "metadata": {},
     "output_type": "execute_result"
    }
   ],
   "source": [
    "data.head()"
   ]
  },
  {
   "cell_type": "markdown",
   "id": "48d2c02e",
   "metadata": {},
   "source": [
    "Удалите константные признаки и признаки `ProductName` `MachineIdentifier`"
   ]
  },
  {
   "cell_type": "code",
   "execution_count": 5,
   "id": "98479515",
   "metadata": {
    "ExecuteTime": {
     "end_time": "2022-07-18T18:02:15.853351Z",
     "start_time": "2022-07-18T18:02:15.837017Z"
    }
   },
   "outputs": [],
   "source": [
    "numeric_cols = data.loc[:, data.dtypes != object].columns"
   ]
  },
  {
   "cell_type": "code",
   "execution_count": 6,
   "id": "77053f38",
   "metadata": {
    "ExecuteTime": {
     "end_time": "2022-07-18T18:02:16.256783Z",
     "start_time": "2022-07-18T18:02:15.854181Z"
    }
   },
   "outputs": [
    {
     "data": {
      "text/plain": [
       "VarianceThreshold(threshold=0)"
      ]
     },
     "execution_count": 6,
     "metadata": {},
     "output_type": "execute_result"
    }
   ],
   "source": [
    "from sklearn.feature_selection import VarianceThreshold\n",
    "\n",
    "cutter = VarianceThreshold(threshold=0)\n",
    "cutter.fit(data[numeric_cols])"
   ]
  },
  {
   "cell_type": "code",
   "execution_count": 7,
   "id": "bda275ff",
   "metadata": {
    "ExecuteTime": {
     "end_time": "2022-07-18T18:02:16.259285Z",
     "start_time": "2022-07-18T18:02:16.257500Z"
    }
   },
   "outputs": [],
   "source": [
    "features_to_drop = [col for col in numeric_cols if col not in cutter.get_feature_names_out()]"
   ]
  },
  {
   "cell_type": "code",
   "execution_count": 8,
   "id": "e83750a5",
   "metadata": {
    "ExecuteTime": {
     "end_time": "2022-07-18T18:02:16.264706Z",
     "start_time": "2022-07-18T18:02:16.259974Z"
    },
    "scrolled": false
   },
   "outputs": [
    {
     "data": {
      "text/html": [
       "<div>\n",
       "<style scoped>\n",
       "    .dataframe tbody tr th:only-of-type {\n",
       "        vertical-align: middle;\n",
       "    }\n",
       "\n",
       "    .dataframe tbody tr th {\n",
       "        vertical-align: top;\n",
       "    }\n",
       "\n",
       "    .dataframe thead th {\n",
       "        text-align: right;\n",
       "    }\n",
       "</style>\n",
       "<table border=\"1\" class=\"dataframe\">\n",
       "  <thead>\n",
       "    <tr style=\"text-align: right;\">\n",
       "      <th></th>\n",
       "      <th>IsBeta</th>\n",
       "      <th>Census_IsWIMBootEnabled</th>\n",
       "    </tr>\n",
       "  </thead>\n",
       "  <tbody>\n",
       "    <tr>\n",
       "      <th>0</th>\n",
       "      <td>0</td>\n",
       "      <td>NaN</td>\n",
       "    </tr>\n",
       "    <tr>\n",
       "      <th>1</th>\n",
       "      <td>0</td>\n",
       "      <td>NaN</td>\n",
       "    </tr>\n",
       "    <tr>\n",
       "      <th>2</th>\n",
       "      <td>0</td>\n",
       "      <td>NaN</td>\n",
       "    </tr>\n",
       "    <tr>\n",
       "      <th>3</th>\n",
       "      <td>0</td>\n",
       "      <td>NaN</td>\n",
       "    </tr>\n",
       "    <tr>\n",
       "      <th>4</th>\n",
       "      <td>0</td>\n",
       "      <td>0.0</td>\n",
       "    </tr>\n",
       "    <tr>\n",
       "      <th>...</th>\n",
       "      <td>...</td>\n",
       "      <td>...</td>\n",
       "    </tr>\n",
       "    <tr>\n",
       "      <th>199995</th>\n",
       "      <td>0</td>\n",
       "      <td>0.0</td>\n",
       "    </tr>\n",
       "    <tr>\n",
       "      <th>199996</th>\n",
       "      <td>0</td>\n",
       "      <td>NaN</td>\n",
       "    </tr>\n",
       "    <tr>\n",
       "      <th>199997</th>\n",
       "      <td>0</td>\n",
       "      <td>NaN</td>\n",
       "    </tr>\n",
       "    <tr>\n",
       "      <th>199998</th>\n",
       "      <td>0</td>\n",
       "      <td>NaN</td>\n",
       "    </tr>\n",
       "    <tr>\n",
       "      <th>199999</th>\n",
       "      <td>0</td>\n",
       "      <td>NaN</td>\n",
       "    </tr>\n",
       "  </tbody>\n",
       "</table>\n",
       "<p>200000 rows × 2 columns</p>\n",
       "</div>"
      ],
      "text/plain": [
       "        IsBeta  Census_IsWIMBootEnabled\n",
       "0            0                      NaN\n",
       "1            0                      NaN\n",
       "2            0                      NaN\n",
       "3            0                      NaN\n",
       "4            0                      0.0\n",
       "...        ...                      ...\n",
       "199995       0                      0.0\n",
       "199996       0                      NaN\n",
       "199997       0                      NaN\n",
       "199998       0                      NaN\n",
       "199999       0                      NaN\n",
       "\n",
       "[200000 rows x 2 columns]"
      ]
     },
     "execution_count": 8,
     "metadata": {},
     "output_type": "execute_result"
    }
   ],
   "source": [
    "data[features_to_drop]"
   ]
  },
  {
   "cell_type": "code",
   "execution_count": 9,
   "id": "90679f16",
   "metadata": {
    "ExecuteTime": {
     "end_time": "2022-07-18T18:02:16.269358Z",
     "start_time": "2022-07-18T18:02:16.266680Z"
    }
   },
   "outputs": [
    {
     "data": {
      "text/plain": [
       "['IsBeta', 'Census_IsWIMBootEnabled', 'ProductName', 'MachineIdentifier']"
      ]
     },
     "execution_count": 9,
     "metadata": {},
     "output_type": "execute_result"
    }
   ],
   "source": [
    "features_to_drop.extend(['ProductName', 'MachineIdentifier'])\n",
    "features_to_drop"
   ]
  },
  {
   "cell_type": "code",
   "execution_count": 10,
   "id": "97fa50d7",
   "metadata": {
    "ExecuteTime": {
     "end_time": "2022-07-18T18:02:16.304795Z",
     "start_time": "2022-07-18T18:02:16.270276Z"
    }
   },
   "outputs": [],
   "source": [
    "data = data.drop(features_to_drop, axis=1)"
   ]
  },
  {
   "cell_type": "code",
   "execution_count": 11,
   "id": "9176f79f",
   "metadata": {
    "ExecuteTime": {
     "end_time": "2022-07-18T18:02:16.314641Z",
     "start_time": "2022-07-18T18:02:16.305513Z"
    }
   },
   "outputs": [
    {
     "data": {
      "text/html": [
       "<div>\n",
       "<style scoped>\n",
       "    .dataframe tbody tr th:only-of-type {\n",
       "        vertical-align: middle;\n",
       "    }\n",
       "\n",
       "    .dataframe tbody tr th {\n",
       "        vertical-align: top;\n",
       "    }\n",
       "\n",
       "    .dataframe thead th {\n",
       "        text-align: right;\n",
       "    }\n",
       "</style>\n",
       "<table border=\"1\" class=\"dataframe\">\n",
       "  <thead>\n",
       "    <tr style=\"text-align: right;\">\n",
       "      <th></th>\n",
       "      <th>EngineVersion</th>\n",
       "      <th>AppVersion</th>\n",
       "      <th>AvSigVersion</th>\n",
       "      <th>RtpStateBitfield</th>\n",
       "      <th>IsSxsPassiveMode</th>\n",
       "      <th>DefaultBrowsersIdentifier</th>\n",
       "      <th>AVProductStatesIdentifier</th>\n",
       "      <th>AVProductsInstalled</th>\n",
       "      <th>AVProductsEnabled</th>\n",
       "      <th>HasTpm</th>\n",
       "      <th>...</th>\n",
       "      <th>Census_FirmwareManufacturerIdentifier</th>\n",
       "      <th>Census_FirmwareVersionIdentifier</th>\n",
       "      <th>Census_IsSecureBootEnabled</th>\n",
       "      <th>Census_IsVirtualDevice</th>\n",
       "      <th>Census_IsTouchEnabled</th>\n",
       "      <th>Census_IsPenCapable</th>\n",
       "      <th>Census_IsAlwaysOnAlwaysConnectedCapable</th>\n",
       "      <th>Wdft_IsGamer</th>\n",
       "      <th>Wdft_RegionIdentifier</th>\n",
       "      <th>HasDetections</th>\n",
       "    </tr>\n",
       "  </thead>\n",
       "  <tbody>\n",
       "    <tr>\n",
       "      <th>0</th>\n",
       "      <td>1.1.15100.1</td>\n",
       "      <td>4.18.1807.18075</td>\n",
       "      <td>1.273.1735.0</td>\n",
       "      <td>7.0</td>\n",
       "      <td>0</td>\n",
       "      <td>NaN</td>\n",
       "      <td>53447.0</td>\n",
       "      <td>1.0</td>\n",
       "      <td>1.0</td>\n",
       "      <td>1</td>\n",
       "      <td>...</td>\n",
       "      <td>628.0</td>\n",
       "      <td>36144.0</td>\n",
       "      <td>0</td>\n",
       "      <td>0.0</td>\n",
       "      <td>0</td>\n",
       "      <td>0</td>\n",
       "      <td>0.0</td>\n",
       "      <td>0.0</td>\n",
       "      <td>10.0</td>\n",
       "      <td>0</td>\n",
       "    </tr>\n",
       "    <tr>\n",
       "      <th>1</th>\n",
       "      <td>1.1.14600.4</td>\n",
       "      <td>4.13.17134.1</td>\n",
       "      <td>1.263.48.0</td>\n",
       "      <td>7.0</td>\n",
       "      <td>0</td>\n",
       "      <td>NaN</td>\n",
       "      <td>53447.0</td>\n",
       "      <td>1.0</td>\n",
       "      <td>1.0</td>\n",
       "      <td>1</td>\n",
       "      <td>...</td>\n",
       "      <td>628.0</td>\n",
       "      <td>57858.0</td>\n",
       "      <td>0</td>\n",
       "      <td>0.0</td>\n",
       "      <td>0</td>\n",
       "      <td>0</td>\n",
       "      <td>0.0</td>\n",
       "      <td>0.0</td>\n",
       "      <td>8.0</td>\n",
       "      <td>0</td>\n",
       "    </tr>\n",
       "    <tr>\n",
       "      <th>2</th>\n",
       "      <td>1.1.15100.1</td>\n",
       "      <td>4.18.1807.18075</td>\n",
       "      <td>1.273.1341.0</td>\n",
       "      <td>7.0</td>\n",
       "      <td>0</td>\n",
       "      <td>NaN</td>\n",
       "      <td>53447.0</td>\n",
       "      <td>1.0</td>\n",
       "      <td>1.0</td>\n",
       "      <td>1</td>\n",
       "      <td>...</td>\n",
       "      <td>142.0</td>\n",
       "      <td>52682.0</td>\n",
       "      <td>0</td>\n",
       "      <td>0.0</td>\n",
       "      <td>0</td>\n",
       "      <td>0</td>\n",
       "      <td>0.0</td>\n",
       "      <td>0.0</td>\n",
       "      <td>3.0</td>\n",
       "      <td>0</td>\n",
       "    </tr>\n",
       "    <tr>\n",
       "      <th>3</th>\n",
       "      <td>1.1.15100.1</td>\n",
       "      <td>4.18.1807.18075</td>\n",
       "      <td>1.273.1527.0</td>\n",
       "      <td>7.0</td>\n",
       "      <td>0</td>\n",
       "      <td>NaN</td>\n",
       "      <td>53447.0</td>\n",
       "      <td>1.0</td>\n",
       "      <td>1.0</td>\n",
       "      <td>1</td>\n",
       "      <td>...</td>\n",
       "      <td>355.0</td>\n",
       "      <td>20050.0</td>\n",
       "      <td>0</td>\n",
       "      <td>0.0</td>\n",
       "      <td>0</td>\n",
       "      <td>0</td>\n",
       "      <td>0.0</td>\n",
       "      <td>0.0</td>\n",
       "      <td>3.0</td>\n",
       "      <td>1</td>\n",
       "    </tr>\n",
       "    <tr>\n",
       "      <th>4</th>\n",
       "      <td>1.1.15100.1</td>\n",
       "      <td>4.18.1807.18075</td>\n",
       "      <td>1.273.1379.0</td>\n",
       "      <td>7.0</td>\n",
       "      <td>0</td>\n",
       "      <td>NaN</td>\n",
       "      <td>53447.0</td>\n",
       "      <td>1.0</td>\n",
       "      <td>1.0</td>\n",
       "      <td>1</td>\n",
       "      <td>...</td>\n",
       "      <td>355.0</td>\n",
       "      <td>19844.0</td>\n",
       "      <td>0</td>\n",
       "      <td>0.0</td>\n",
       "      <td>0</td>\n",
       "      <td>0</td>\n",
       "      <td>0.0</td>\n",
       "      <td>0.0</td>\n",
       "      <td>1.0</td>\n",
       "      <td>1</td>\n",
       "    </tr>\n",
       "  </tbody>\n",
       "</table>\n",
       "<p>5 rows × 79 columns</p>\n",
       "</div>"
      ],
      "text/plain": [
       "  EngineVersion       AppVersion  AvSigVersion  RtpStateBitfield  \\\n",
       "0   1.1.15100.1  4.18.1807.18075  1.273.1735.0               7.0   \n",
       "1   1.1.14600.4     4.13.17134.1    1.263.48.0               7.0   \n",
       "2   1.1.15100.1  4.18.1807.18075  1.273.1341.0               7.0   \n",
       "3   1.1.15100.1  4.18.1807.18075  1.273.1527.0               7.0   \n",
       "4   1.1.15100.1  4.18.1807.18075  1.273.1379.0               7.0   \n",
       "\n",
       "   IsSxsPassiveMode  DefaultBrowsersIdentifier  AVProductStatesIdentifier  \\\n",
       "0                 0                        NaN                    53447.0   \n",
       "1                 0                        NaN                    53447.0   \n",
       "2                 0                        NaN                    53447.0   \n",
       "3                 0                        NaN                    53447.0   \n",
       "4                 0                        NaN                    53447.0   \n",
       "\n",
       "   AVProductsInstalled  AVProductsEnabled  HasTpm  ...  \\\n",
       "0                  1.0                1.0       1  ...   \n",
       "1                  1.0                1.0       1  ...   \n",
       "2                  1.0                1.0       1  ...   \n",
       "3                  1.0                1.0       1  ...   \n",
       "4                  1.0                1.0       1  ...   \n",
       "\n",
       "   Census_FirmwareManufacturerIdentifier  Census_FirmwareVersionIdentifier  \\\n",
       "0                                  628.0                           36144.0   \n",
       "1                                  628.0                           57858.0   \n",
       "2                                  142.0                           52682.0   \n",
       "3                                  355.0                           20050.0   \n",
       "4                                  355.0                           19844.0   \n",
       "\n",
       "   Census_IsSecureBootEnabled  Census_IsVirtualDevice  Census_IsTouchEnabled  \\\n",
       "0                           0                     0.0                      0   \n",
       "1                           0                     0.0                      0   \n",
       "2                           0                     0.0                      0   \n",
       "3                           0                     0.0                      0   \n",
       "4                           0                     0.0                      0   \n",
       "\n",
       "  Census_IsPenCapable Census_IsAlwaysOnAlwaysConnectedCapable Wdft_IsGamer  \\\n",
       "0                   0                                     0.0          0.0   \n",
       "1                   0                                     0.0          0.0   \n",
       "2                   0                                     0.0          0.0   \n",
       "3                   0                                     0.0          0.0   \n",
       "4                   0                                     0.0          0.0   \n",
       "\n",
       "   Wdft_RegionIdentifier  HasDetections  \n",
       "0                   10.0              0  \n",
       "1                    8.0              0  \n",
       "2                    3.0              0  \n",
       "3                    3.0              1  \n",
       "4                    1.0              1  \n",
       "\n",
       "[5 rows x 79 columns]"
      ]
     },
     "execution_count": 11,
     "metadata": {},
     "output_type": "execute_result"
    }
   ],
   "source": [
    "data.head()"
   ]
  },
  {
   "cell_type": "markdown",
   "id": "01037472",
   "metadata": {},
   "source": [
    "Посмотрите на соотношение классов в таргете. Все ли хорошо?"
   ]
  },
  {
   "cell_type": "code",
   "execution_count": 12,
   "id": "ff1bca71",
   "metadata": {
    "ExecuteTime": {
     "end_time": "2022-07-18T18:02:16.318030Z",
     "start_time": "2022-07-18T18:02:16.315474Z"
    }
   },
   "outputs": [
    {
     "data": {
      "text/plain": [
       "100060"
      ]
     },
     "execution_count": 12,
     "metadata": {},
     "output_type": "execute_result"
    }
   ],
   "source": [
    "(data['HasDetections'] == 1).sum()"
   ]
  },
  {
   "cell_type": "code",
   "execution_count": 13,
   "id": "edcec5ee",
   "metadata": {
    "ExecuteTime": {
     "end_time": "2022-07-18T18:02:16.334746Z",
     "start_time": "2022-07-18T18:02:16.318637Z"
    }
   },
   "outputs": [
    {
     "name": "stdout",
     "output_type": "stream",
     "text": [
      "100060 - positive class,\n",
      "99940 - negative class\n"
     ]
    }
   ],
   "source": [
    "print(sum(data['HasDetections'] == 1), '- positive class,')\n",
    "print(sum(data['HasDetections'] == 0), '- negative class')"
   ]
  },
  {
   "cell_type": "markdown",
   "id": "5cd08081",
   "metadata": {},
   "source": [
    "Ответьте на вопрос: почему с вашей точки зрения важно иметь представление о балансе классов в ваших данных?"
   ]
  },
  {
   "cell_type": "markdown",
   "id": "45287dc1",
   "metadata": {},
   "source": [
    "Избавьтесь от пропусков в данных! \n",
    "\n",
    "Новый для нас прием: признаки с более чем половиной пропусков следует удалить.\n",
    "\n",
    "Согласитесь, если в вашей колонке среди 100 объектов всего лишь у 2 есть какое-то непропущенное значение, странно все остальные заполнять средним от этих двух чисел. Такие \"редкие\" признаки лучше вообще опустить!\n",
    "\n",
    "\n",
    "В категориальных колонках заменим отсутствующую категорию просто некоторой новой и назовем ее `NaN`.\n",
    "\n",
    "А в числовых, ради разнообразия, заполним пропуски медианным значением."
   ]
  },
  {
   "cell_type": "code",
   "execution_count": 14,
   "id": "d9790db8",
   "metadata": {
    "ExecuteTime": {
     "end_time": "2022-07-18T18:02:17.875793Z",
     "start_time": "2022-07-18T18:02:16.335467Z"
    }
   },
   "outputs": [],
   "source": [
    "# Заполняем пропуски медианой/NaN для колонок с малым числом пропусков\n",
    "# Колонки с большим числом пропусков удаляем\n",
    "\n",
    "for col in data.columns:\n",
    "    if data[col].isna().sum() / data.shape[0] > 0.5:\n",
    "        data = data.drop(col, axis=1)\n",
    "    else:\n",
    "        if data[col].dtype == object:\n",
    "            data[col] = data[col].fillna('NaN')\n",
    "        else:\n",
    "            median = data[col].median()\n",
    "            data[col] = data[col].fillna(median)"
   ]
  },
  {
   "cell_type": "code",
   "execution_count": 15,
   "id": "15f97534",
   "metadata": {
    "ExecuteTime": {
     "end_time": "2022-07-18T18:02:18.181277Z",
     "start_time": "2022-07-18T18:02:17.876609Z"
    },
    "scrolled": true
   },
   "outputs": [
    {
     "data": {
      "text/plain": [
       "EngineVersion                 0\n",
       "Census_PrimaryDiskTypeName    0\n",
       "Census_OSSkuName              0\n",
       "Census_OSEdition              0\n",
       "Census_OSBuildRevision        0\n",
       "                             ..\n",
       "SMode                         0\n",
       "AutoSampleOptIn               0\n",
       "IsProtected                   0\n",
       "SkuEdition                    0\n",
       "HasDetections                 0\n",
       "Length: 73, dtype: int64"
      ]
     },
     "execution_count": 15,
     "metadata": {},
     "output_type": "execute_result"
    }
   ],
   "source": [
    "# Пропусков больше нет!\n",
    "data.isna().sum().sort_values(ascending=False)"
   ]
  },
  {
   "cell_type": "code",
   "execution_count": 16,
   "id": "76d39aa0",
   "metadata": {
    "ExecuteTime": {
     "end_time": "2022-07-18T18:02:18.183856Z",
     "start_time": "2022-07-18T18:02:18.181979Z"
    }
   },
   "outputs": [
    {
     "data": {
      "text/plain": [
       "(200000, 73)"
      ]
     },
     "execution_count": 16,
     "metadata": {},
     "output_type": "execute_result"
    }
   ],
   "source": [
    "data.shape"
   ]
  },
  {
   "cell_type": "markdown",
   "id": "facd15f0",
   "metadata": {},
   "source": [
    "Создайте копию полученного датафрейма и положите ее в переменную data_2. Понадобится в следующих заданиях."
   ]
  },
  {
   "cell_type": "code",
   "execution_count": 17,
   "id": "c7b4d129",
   "metadata": {
    "ExecuteTime": {
     "end_time": "2022-07-18T18:02:18.233033Z",
     "start_time": "2022-07-18T18:02:18.184482Z"
    }
   },
   "outputs": [],
   "source": [
    "data_2 = data.copy()"
   ]
  },
  {
   "cell_type": "markdown",
   "id": "e58d3f5e",
   "metadata": {},
   "source": [
    "Так же поработаем над всеми категориальными колонкам перед запуском непосредственно моделей.\n",
    "\n",
    "Провернем самый базовый и наглый метод - несмотря на количество уникальных значений в каждой категории, просто применим ко всей категориальной части датасета `OneHotEncoding`"
   ]
  },
  {
   "cell_type": "code",
   "execution_count": 18,
   "id": "b73a0327",
   "metadata": {
    "ExecuteTime": {
     "end_time": "2022-07-18T18:02:18.276247Z",
     "start_time": "2022-07-18T18:02:18.233729Z"
    }
   },
   "outputs": [],
   "source": [
    "categorical_cols = data.loc[:, data.dtypes == object].columns"
   ]
  },
  {
   "cell_type": "code",
   "execution_count": 19,
   "id": "5bf0a0d3",
   "metadata": {
    "ExecuteTime": {
     "end_time": "2022-07-18T18:02:54.048846Z",
     "start_time": "2022-07-18T18:02:18.276957Z"
    }
   },
   "outputs": [],
   "source": [
    "# Делаем OneHotEncoding для всех категориальных фичей\n",
    "\n",
    "for col in categorical_cols:\n",
    "    one_hot = pd.get_dummies(data[col], drop_first=True, prefix=col)\n",
    "    data = pd.concat([data, one_hot], axis=1)\n",
    "    data = data.drop(col, axis=1)"
   ]
  },
  {
   "cell_type": "code",
   "execution_count": 20,
   "id": "6d83513b",
   "metadata": {
    "ExecuteTime": {
     "end_time": "2022-07-18T18:02:54.054089Z",
     "start_time": "2022-07-18T18:02:54.051001Z"
    }
   },
   "outputs": [
    {
     "data": {
      "text/plain": [
       "(200000, 6114)"
      ]
     },
     "execution_count": 20,
     "metadata": {},
     "output_type": "execute_result"
    }
   ],
   "source": [
    "data.shape"
   ]
  },
  {
   "cell_type": "markdown",
   "id": "dfce2974",
   "metadata": {},
   "source": [
    "###  Разделим выборку на тренировочную и тестовую"
   ]
  },
  {
   "cell_type": "markdown",
   "id": "de517b20",
   "metadata": {},
   "source": [
    "P.S. в задачах классификации, как и в задаче регрессии, можно использовать технологию Кросс-Валидации. Например, по одному из двух следующих сценариев:\n",
    "\n",
    "1) Отделить валидацию и тест, произвести подбор лучшей модели с помощью `K-Fold` на валидации, финально обучить выбранную модель на всей валидации и замерить качество на заранее отложенном финальном тесте!\n",
    "\n",
    "2) Всю выборку назвать валидационной и на ней применить `K-Fold` без финального замера.\n",
    "\n",
    "В этой домашней работе попросим Вас быть еще проще! :)\n",
    "Реализуем просто технологию отложенной выборки в пропорции 3:1"
   ]
  },
  {
   "cell_type": "code",
   "execution_count": 21,
   "id": "cc48522d",
   "metadata": {
    "ExecuteTime": {
     "end_time": "2022-07-18T18:02:58.321505Z",
     "start_time": "2022-07-18T18:02:54.054870Z"
    }
   },
   "outputs": [],
   "source": [
    "from sklearn.model_selection import train_test_split \n",
    "\n",
    "X = data.drop(columns=['HasDetections'])\n",
    "y = data['HasDetections']\n",
    "\n",
    "X_train, X_test, y_train, y_test = train_test_split(X, y,\n",
    "                                                    test_size=0.25,\n",
    "                                                    shuffle=True,\n",
    "                                                    random_state=1)"
   ]
  },
  {
   "cell_type": "markdown",
   "id": "bd1d0bfd",
   "metadata": {},
   "source": [
    "Соберите `Pipeline`, реализовав в нем 2 шага: стандартизация данных через `StandardScaler` и обучение логистической регрессии с помощью `LogisticRegression`, положите результаты в переменную `pipe`, а в классе модели `LogisticRegression` укажите параметр `penalty='none'`"
   ]
  },
  {
   "cell_type": "code",
   "execution_count": 22,
   "id": "feca6182",
   "metadata": {
    "ExecuteTime": {
     "end_time": "2022-07-18T18:02:58.329236Z",
     "start_time": "2022-07-18T18:02:58.323369Z"
    }
   },
   "outputs": [],
   "source": [
    "from sklearn.preprocessing import StandardScaler\n",
    "from sklearn.linear_model import LogisticRegression\n",
    "from sklearn.pipeline import Pipeline\n",
    "\n",
    "pipe = Pipeline([('Scaler', StandardScaler()), ('LR', LogisticRegression(penalty='none'))])"
   ]
  },
  {
   "cell_type": "markdown",
   "id": "dc2f05eb",
   "metadata": {},
   "source": [
    "Чтобы замерить качество работы такой модели на трейне и на тесте воспользуемся функцией `cross_validate`\n",
    "\n",
    "Вопрос: что передавать ей в параметр cv? Ведь мы уже разделили нашу выборку на трейн и тест (имеем всего 1 fold). Для этого можно просто передать список от кортежа, содержащего индексы тренировочных и тестовых объектов."
   ]
  },
  {
   "cell_type": "markdown",
   "id": "7353abc0",
   "metadata": {
    "ExecuteTime": {
     "end_time": "2022-07-15T10:06:18.645240Z",
     "start_time": "2022-07-15T09:52:55.450292Z"
    }
   },
   "source": [
    "```python\n",
    "from sklearn.model_selection import cross_validate\n",
    "import datetime\n",
    "\n",
    "custom_cv = [(X_train.index.to_list(), X_test.index.to_list())]\n",
    "\n",
    "begin_time = datetime.datetime.now()\n",
    "\n",
    "cv_result_pipe = cross_validate(pipe, X, y, scoring='accuracy',\n",
    "                                cv=custom_cv, return_train_score=True)\n",
    "\n",
    "\n",
    "print(f\"Accuracy на трейне: {np.mean(cv_result_pipe['train_score']).round(3)}\")\n",
    "print(f\"Accuracy на тесте: {np.mean(cv_result_pipe['test_score']).round(3)}\")\n",
    "\n",
    "print(f\"Время работы алгоритма: {datetime.datetime.now() - begin_time}\")\n",
    "```"
   ]
  },
  {
   "cell_type": "markdown",
   "id": "400a9dcd",
   "metadata": {},
   "source": [
    "Что можете сказать про время работы алгоритма?\n",
    "\n",
    "Очевидно, оно достаточно большие. Уж тем более для линейных моделей.\n",
    "\n",
    "Такое как раз-таки происходит из-за того, что количество фичей, который мы передали нашей модели - гигантское! Классу требуется много времени и памяти, чтобы обработать датасет.\n",
    "\n",
    "Поэтому те колонки, в которых количество уникальных категорий превышает какое-то адекватное число, следует кодировать иначе, нежели с помощью технологии `One-Hot-Encoding`.\n",
    "\n",
    "Теперь вы верите, что более умные кодировки зачастую прям необходимы! Раньше мы этот факт не демонстрировали!\n",
    "\n",
    "Дело еще вот в чем: в классе `LogisticRegression`, как и, например, `Lasso`, есть параметр, ограничивающий максимальное количество итераций во время обучения модели. Так, если данных много и итераций тоже ожидается большое число, найденная разделяющая гиперплоскость может оказаться не самой лучшей, так как наш алгоритм (будь то градиентный спуск или любой иной) просто 'не доползет'. "
   ]
  },
  {
   "cell_type": "markdown",
   "id": "3299ba39",
   "metadata": {},
   "source": [
    "#### Задание 2"
   ]
  },
  {
   "cell_type": "markdown",
   "id": "addf6a87",
   "metadata": {},
   "source": [
    "Теперь попробуем другой метод кодирования категориальных колонок, а именно счётчики.\n",
    "Построем ту же модель и на том же разделении, просто заново иначе переобработаем датасет. \n",
    "\n",
    "Для тех категориальных признаков, у которых количество уникальных значений в колоночках больше 5, применим `MeanTargetEncoding`.\n",
    "\n",
    "Для остальных оставим любимый `OneHotEncoding` (как делали на практике и в предыдущем уроке)."
   ]
  },
  {
   "cell_type": "code",
   "execution_count": 23,
   "id": "38f9d5de",
   "metadata": {
    "ExecuteTime": {
     "end_time": "2022-07-18T18:02:58.369591Z",
     "start_time": "2022-07-18T18:02:58.330014Z"
    }
   },
   "outputs": [],
   "source": [
    "categorical_cols = data_2.loc[:, data_2.dtypes == object].columns"
   ]
  },
  {
   "cell_type": "code",
   "execution_count": 24,
   "id": "1ece20d0",
   "metadata": {
    "ExecuteTime": {
     "end_time": "2022-07-18T18:02:59.346072Z",
     "start_time": "2022-07-18T18:02:58.370410Z"
    }
   },
   "outputs": [],
   "source": [
    "for col in categorical_cols:\n",
    "    if data_2[col].nunique() < 5:\n",
    "        one_hot = pd.get_dummies(data_2[col], prefix=col, drop_first=True)\n",
    "        data_2 = pd.concat([data_2, one_hot], axis=1)\n",
    "        data_2 = data_2.drop(col, axis=1)\n",
    "    else:\n",
    "        mean_target = data_2.groupby(col)['HasDetections'].mean()\n",
    "        data_2[col] = data_2[col].map(mean_target)   "
   ]
  },
  {
   "cell_type": "code",
   "execution_count": 25,
   "id": "91a1747b",
   "metadata": {
    "ExecuteTime": {
     "end_time": "2022-07-18T18:02:59.349356Z",
     "start_time": "2022-07-18T18:02:59.347042Z"
    }
   },
   "outputs": [
    {
     "data": {
      "text/plain": [
       "(200000, 79)"
      ]
     },
     "execution_count": 25,
     "metadata": {},
     "output_type": "execute_result"
    }
   ],
   "source": [
    "data_2.shape"
   ]
  },
  {
   "cell_type": "code",
   "execution_count": 26,
   "id": "c8f00acb",
   "metadata": {
    "ExecuteTime": {
     "end_time": "2022-07-18T18:02:59.390938Z",
     "start_time": "2022-07-18T18:02:59.350071Z"
    }
   },
   "outputs": [],
   "source": [
    "X_2 = data_2.drop(columns=['HasDetections'])\n",
    "y_2 = data_2['HasDetections']"
   ]
  },
  {
   "cell_type": "markdown",
   "id": "3b46a361",
   "metadata": {},
   "source": [
    "Опять обучим модель, пока что без изменений! Скажите, стало ли быстрее? А что с качеством?"
   ]
  },
  {
   "cell_type": "code",
   "execution_count": 27,
   "id": "39376a40",
   "metadata": {
    "ExecuteTime": {
     "end_time": "2022-07-18T18:03:05.538439Z",
     "start_time": "2022-07-18T18:02:59.395829Z"
    }
   },
   "outputs": [
    {
     "name": "stdout",
     "output_type": "stream",
     "text": [
      "Accuracy на трейне: 0.638\n",
      "Accuracy на тесте: 0.638\n",
      "CPU times: user 18.6 s, sys: 850 ms, total: 19.4 s\n",
      "Wall time: 6.14 s\n"
     ]
    }
   ],
   "source": [
    "%%time\n",
    "\n",
    "from sklearn.model_selection import cross_validate\n",
    "import datetime\n",
    "\n",
    "X_train_2, X_test_2, y_train_2, y_test_2 = train_test_split(X, y, test_size=0.25, \n",
    "                                                            shuffle=True, random_state=1)\n",
    "\n",
    "custom_cv_2 = [(X_train_2.index.to_list(), y_train_2.index.to_list())]\n",
    "\n",
    "result_cv = cross_validate(pipe, X_2, y_2, scoring='accuracy', \n",
    "                           cv=custom_cv_2, return_train_score=True)\n",
    "\n",
    "print(f\"Accuracy на трейне: {np.mean(result_cv['train_score']).round(3)}\")\n",
    "print(f\"Accuracy на тесте: {np.mean(result_cv['test_score']).round(3)}\")"
   ]
  },
  {
   "cell_type": "code",
   "execution_count": 28,
   "id": "b8cbb972",
   "metadata": {
    "ExecuteTime": {
     "end_time": "2022-07-18T18:03:05.598955Z",
     "start_time": "2022-07-18T18:03:05.585897Z"
    },
    "scrolled": true
   },
   "outputs": [
    {
     "data": {
      "text/plain": [
       "{'fit_time': array([2.37891912]),\n",
       " 'score_time': array([0.05946207]),\n",
       " 'test_score': array([0.63812667]),\n",
       " 'train_score': array([0.63812667])}"
      ]
     },
     "execution_count": 28,
     "metadata": {},
     "output_type": "execute_result"
    }
   ],
   "source": [
    "result_cv"
   ]
  },
  {
   "cell_type": "markdown",
   "id": "2b324226",
   "metadata": {},
   "source": [
    "#### Задание 3: Регуляризация"
   ]
  },
  {
   "cell_type": "markdown",
   "id": "6af38fe1",
   "metadata": {},
   "source": [
    "Как и в моделях регрессии, решая задачу классификации, можем штрафовать минимизируемый функционал за большие веса, добавив к нему L1 или L2 норму весов (все как раньше!).\n",
    "\n",
    "Для этого в изначальном классе `LogisticRegression` изменить параметр `penalty` на l1 или l2 соответственно. Выберите второй вариант! Можно воспользоваться методом `set_params` и применить его к `pipe`."
   ]
  },
  {
   "cell_type": "code",
   "execution_count": 29,
   "id": "7c4d6974",
   "metadata": {
    "ExecuteTime": {
     "end_time": "2022-07-18T18:03:05.619475Z",
     "start_time": "2022-07-18T18:03:05.608011Z"
    }
   },
   "outputs": [
    {
     "data": {
      "text/plain": [
       "{'memory': None,\n",
       " 'steps': [('Scaler', StandardScaler()),\n",
       "  ('LR', LogisticRegression(penalty='none'))],\n",
       " 'verbose': False,\n",
       " 'Scaler': StandardScaler(),\n",
       " 'LR': LogisticRegression(penalty='none'),\n",
       " 'Scaler__copy': True,\n",
       " 'Scaler__with_mean': True,\n",
       " 'Scaler__with_std': True,\n",
       " 'LR__C': 1.0,\n",
       " 'LR__class_weight': None,\n",
       " 'LR__dual': False,\n",
       " 'LR__fit_intercept': True,\n",
       " 'LR__intercept_scaling': 1,\n",
       " 'LR__l1_ratio': None,\n",
       " 'LR__max_iter': 100,\n",
       " 'LR__multi_class': 'auto',\n",
       " 'LR__n_jobs': None,\n",
       " 'LR__penalty': 'none',\n",
       " 'LR__random_state': None,\n",
       " 'LR__solver': 'lbfgs',\n",
       " 'LR__tol': 0.0001,\n",
       " 'LR__verbose': 0,\n",
       " 'LR__warm_start': False}"
      ]
     },
     "execution_count": 29,
     "metadata": {},
     "output_type": "execute_result"
    }
   ],
   "source": [
    "pipe.get_params()"
   ]
  },
  {
   "cell_type": "code",
   "execution_count": 30,
   "id": "cde11473",
   "metadata": {
    "ExecuteTime": {
     "end_time": "2022-07-18T18:03:08.186302Z",
     "start_time": "2022-07-18T18:03:05.624439Z"
    }
   },
   "outputs": [
    {
     "name": "stdout",
     "output_type": "stream",
     "text": [
      "Accuracy на трейне: 0.638\n",
      "Accuracy на тесте: 0.638\n"
     ]
    }
   ],
   "source": [
    "pipe.set_params(LR__penalty='l2')\n",
    "\n",
    "cv_result_pipe = cross_validate(pipe, X_2, y_2, scoring='accuracy',\n",
    "                           cv=custom_cv_2, return_train_score=True)\n",
    "\n",
    "\n",
    "print(f\"Accuracy на трейне: {np.mean(cv_result_pipe['train_score']).round(3)}\")\n",
    "print(f\"Accuracy на тесте: {np.mean(cv_result_pipe['test_score']).round(3)}\")"
   ]
  },
  {
   "cell_type": "markdown",
   "id": "9699b947",
   "metadata": {},
   "source": [
    "Теперь наша модель будет строить логистическую регрессию с L2 регуляризатором! Помним, что у регуляризируемых моделей есть гиперпараметр, контролирующий силу регуляризации, который выбирается ДО запуска метода fit, то есть заранее, когда модель еще не обучена. \n",
    "\n",
    "Конечно же, выбор этого параметра влияет итоговые результаты. Хочется поперебирать различные параметры регуляризации и найти такой, при котором качество на тесте окажется лучшим! \n",
    "\n",
    "Сгенерируем массив гиперпараметра, которые планируем перебрать:"
   ]
  },
  {
   "cell_type": "code",
   "execution_count": 31,
   "id": "b36caae8",
   "metadata": {
    "ExecuteTime": {
     "end_time": "2022-07-18T18:03:08.219428Z",
     "start_time": "2022-07-18T18:03:08.194861Z"
    }
   },
   "outputs": [
    {
     "data": {
      "text/plain": [
       "array([1.000e-02, 1.020e+00, 2.030e+00, 3.040e+00, 4.050e+00, 5.060e+00,\n",
       "       6.070e+00, 7.080e+00, 8.090e+00, 9.100e+00, 1.011e+01, 1.112e+01,\n",
       "       1.213e+01, 1.314e+01, 1.415e+01, 1.516e+01, 1.617e+01, 1.718e+01,\n",
       "       1.819e+01, 1.920e+01, 2.021e+01, 2.122e+01, 2.223e+01, 2.324e+01,\n",
       "       2.425e+01, 2.526e+01, 2.627e+01, 2.728e+01, 2.829e+01, 2.930e+01,\n",
       "       3.031e+01, 3.132e+01, 3.233e+01, 3.334e+01, 3.435e+01, 3.536e+01,\n",
       "       3.637e+01, 3.738e+01, 3.839e+01, 3.940e+01, 4.041e+01, 4.142e+01,\n",
       "       4.243e+01, 4.344e+01, 4.445e+01, 4.546e+01, 4.647e+01, 4.748e+01,\n",
       "       4.849e+01, 4.950e+01, 5.051e+01, 5.152e+01, 5.253e+01, 5.354e+01,\n",
       "       5.455e+01, 5.556e+01, 5.657e+01, 5.758e+01, 5.859e+01, 5.960e+01,\n",
       "       6.061e+01, 6.162e+01, 6.263e+01, 6.364e+01, 6.465e+01, 6.566e+01,\n",
       "       6.667e+01, 6.768e+01, 6.869e+01, 6.970e+01, 7.071e+01, 7.172e+01,\n",
       "       7.273e+01, 7.374e+01, 7.475e+01, 7.576e+01, 7.677e+01, 7.778e+01,\n",
       "       7.879e+01, 7.980e+01, 8.081e+01, 8.182e+01, 8.283e+01, 8.384e+01,\n",
       "       8.485e+01, 8.586e+01, 8.687e+01, 8.788e+01, 8.889e+01, 8.990e+01,\n",
       "       9.091e+01, 9.192e+01, 9.293e+01, 9.394e+01, 9.495e+01, 9.596e+01,\n",
       "       9.697e+01, 9.798e+01, 9.899e+01, 1.000e+02])"
      ]
     },
     "execution_count": 31,
     "metadata": {},
     "output_type": "execute_result"
    }
   ],
   "source": [
    "alphas = np.linspace(0.01, 100, 100)\n",
    "alphas"
   ]
  },
  {
   "cell_type": "markdown",
   "id": "e8659125",
   "metadata": {},
   "source": [
    "Чтобы отобрать среди данного массива гиперпараметров лучший, воспользуйтесь конструкцией `GridSearchCV` из `sklearn`"
   ]
  },
  {
   "cell_type": "code",
   "execution_count": 32,
   "id": "02f9baab",
   "metadata": {
    "ExecuteTime": {
     "end_time": "2022-07-18T18:07:37.821369Z",
     "start_time": "2022-07-18T18:03:08.229240Z"
    }
   },
   "outputs": [
    {
     "name": "stdout",
     "output_type": "stream",
     "text": [
      "Лучший параметр {'LR__C': 32.33} и лучшая ошибка 0.6381466666666666\n"
     ]
    }
   ],
   "source": [
    "from sklearn.model_selection import GridSearchCV\n",
    "\n",
    "param_grid ={\n",
    "    'LR__C': alphas\n",
    "}\n",
    "\n",
    "search = GridSearchCV(pipe, param_grid, \n",
    "                      cv=custom_cv_2, scoring='accuracy')\n",
    "\n",
    "search.fit(X_2, y_2)\n",
    "print(f'Лучший параметр {search.best_params_} и лучшая ошибка {search.best_score_}')"
   ]
  },
  {
   "cell_type": "markdown",
   "id": "1f68df3d",
   "metadata": {},
   "source": [
    "#### Задание 4: Бонус\n",
    "\n",
    "Как вы знаете, подбор признаков является одной из самых важных частей машинного обучения. Сейчас вы попробуете на основе имеющихся признаков сгенерировать новые. В качестве новых признаков будем использовать мономы 2 степени. Можно использовать регуляризацию различного рода, выбор энкодера тоже за вами. Ваша задача - добиться качества `0.65` на тестовой выборке"
   ]
  },
  {
   "cell_type": "code",
   "execution_count": null,
   "id": "a2e2d599",
   "metadata": {},
   "outputs": [],
   "source": []
  }
 ],
 "metadata": {
  "kernelspec": {
   "display_name": "Python 3 (ipykernel)",
   "language": "python",
   "name": "python3"
  },
  "language_info": {
   "codemirror_mode": {
    "name": "ipython",
    "version": 3
   },
   "file_extension": ".py",
   "mimetype": "text/x-python",
   "name": "python",
   "nbconvert_exporter": "python",
   "pygments_lexer": "ipython3",
   "version": "3.9.12"
  },
  "varInspector": {
   "cols": {
    "lenName": 16,
    "lenType": 16,
    "lenVar": 40
   },
   "kernels_config": {
    "python": {
     "delete_cmd_postfix": "",
     "delete_cmd_prefix": "del ",
     "library": "var_list.py",
     "varRefreshCmd": "print(var_dic_list())"
    },
    "r": {
     "delete_cmd_postfix": ") ",
     "delete_cmd_prefix": "rm(",
     "library": "var_list.r",
     "varRefreshCmd": "cat(var_dic_list()) "
    }
   },
   "types_to_exclude": [
    "module",
    "function",
    "builtin_function_or_method",
    "instance",
    "_Feature"
   ],
   "window_display": false
  }
 },
 "nbformat": 4,
 "nbformat_minor": 5
}
