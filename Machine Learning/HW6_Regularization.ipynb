{
 "cells": [
  {
   "cell_type": "markdown",
   "id": "71833815",
   "metadata": {},
   "source": [
    "### Замерим качество Линейной регрессии после обработки данных не просто на отложенной выборке, но и на Кросс-Валидации на 4 фолдах!"
   ]
  },
  {
   "cell_type": "code",
   "execution_count": 1,
   "id": "4355dcb3",
   "metadata": {
    "ExecuteTime": {
     "end_time": "2022-07-09T11:40:01.363245Z",
     "start_time": "2022-07-09T11:40:00.125250Z"
    }
   },
   "outputs": [],
   "source": [
    "import numpy as np\n",
    "import pandas as pd\n",
    "\n",
    "processed_data = pd.read_csv('processed_data.csv', index_col='id')"
   ]
  },
  {
   "cell_type": "code",
   "execution_count": 2,
   "id": "dccac595",
   "metadata": {
    "ExecuteTime": {
     "end_time": "2022-07-09T11:40:01.380282Z",
     "start_time": "2022-07-09T11:40:01.364044Z"
    }
   },
   "outputs": [
    {
     "data": {
      "text/plain": [
       "vendor_id             0\n",
       "passenger_count       0\n",
       "store_and_fwd_flag    0\n",
       "distance_km           0\n",
       "log_trip_duration     0\n",
       "dtype: int64"
      ]
     },
     "execution_count": 2,
     "metadata": {},
     "output_type": "execute_result"
    }
   ],
   "source": [
    "processed_data.isna().sum()"
   ]
  },
  {
   "cell_type": "code",
   "execution_count": 3,
   "id": "eb298541",
   "metadata": {
    "ExecuteTime": {
     "end_time": "2022-07-09T11:40:01.386526Z",
     "start_time": "2022-07-09T11:40:01.381505Z"
    }
   },
   "outputs": [
    {
     "data": {
      "text/html": [
       "<div>\n",
       "<style scoped>\n",
       "    .dataframe tbody tr th:only-of-type {\n",
       "        vertical-align: middle;\n",
       "    }\n",
       "\n",
       "    .dataframe tbody tr th {\n",
       "        vertical-align: top;\n",
       "    }\n",
       "\n",
       "    .dataframe thead th {\n",
       "        text-align: right;\n",
       "    }\n",
       "</style>\n",
       "<table border=\"1\" class=\"dataframe\">\n",
       "  <thead>\n",
       "    <tr style=\"text-align: right;\">\n",
       "      <th></th>\n",
       "      <th>vendor_id</th>\n",
       "      <th>passenger_count</th>\n",
       "      <th>store_and_fwd_flag</th>\n",
       "      <th>distance_km</th>\n",
       "      <th>log_trip_duration</th>\n",
       "    </tr>\n",
       "    <tr>\n",
       "      <th>id</th>\n",
       "      <th></th>\n",
       "      <th></th>\n",
       "      <th></th>\n",
       "      <th></th>\n",
       "      <th></th>\n",
       "    </tr>\n",
       "  </thead>\n",
       "  <tbody>\n",
       "    <tr>\n",
       "      <th>id2875421</th>\n",
       "      <td>1</td>\n",
       "      <td>930.399753</td>\n",
       "      <td>0</td>\n",
       "      <td>1.500479</td>\n",
       "      <td>6.122493</td>\n",
       "    </tr>\n",
       "    <tr>\n",
       "      <th>id2377394</th>\n",
       "      <td>0</td>\n",
       "      <td>930.399753</td>\n",
       "      <td>0</td>\n",
       "      <td>1.807119</td>\n",
       "      <td>6.498282</td>\n",
       "    </tr>\n",
       "    <tr>\n",
       "      <th>id3858529</th>\n",
       "      <td>1</td>\n",
       "      <td>930.399753</td>\n",
       "      <td>0</td>\n",
       "      <td>6.392080</td>\n",
       "      <td>7.661527</td>\n",
       "    </tr>\n",
       "    <tr>\n",
       "      <th>id3504673</th>\n",
       "      <td>1</td>\n",
       "      <td>930.399753</td>\n",
       "      <td>0</td>\n",
       "      <td>1.487155</td>\n",
       "      <td>6.063785</td>\n",
       "    </tr>\n",
       "    <tr>\n",
       "      <th>id2181028</th>\n",
       "      <td>1</td>\n",
       "      <td>930.399753</td>\n",
       "      <td>0</td>\n",
       "      <td>1.189925</td>\n",
       "      <td>6.077642</td>\n",
       "    </tr>\n",
       "  </tbody>\n",
       "</table>\n",
       "</div>"
      ],
      "text/plain": [
       "           vendor_id  passenger_count  store_and_fwd_flag  distance_km  \\\n",
       "id                                                                       \n",
       "id2875421          1       930.399753                   0     1.500479   \n",
       "id2377394          0       930.399753                   0     1.807119   \n",
       "id3858529          1       930.399753                   0     6.392080   \n",
       "id3504673          1       930.399753                   0     1.487155   \n",
       "id2181028          1       930.399753                   0     1.189925   \n",
       "\n",
       "           log_trip_duration  \n",
       "id                            \n",
       "id2875421           6.122493  \n",
       "id2377394           6.498282  \n",
       "id3858529           7.661527  \n",
       "id3504673           6.063785  \n",
       "id2181028           6.077642  "
      ]
     },
     "execution_count": 3,
     "metadata": {},
     "output_type": "execute_result"
    }
   ],
   "source": [
    "processed_data.head()"
   ]
  },
  {
   "cell_type": "markdown",
   "id": "5debb58c",
   "metadata": {},
   "source": [
    "#### ! Не перемешивайте данные"
   ]
  },
  {
   "cell_type": "code",
   "execution_count": 4,
   "id": "b8678af8",
   "metadata": {
    "ExecuteTime": {
     "end_time": "2022-07-09T11:40:02.184072Z",
     "start_time": "2022-07-09T11:40:01.387418Z"
    }
   },
   "outputs": [
    {
     "name": "stdout",
     "output_type": "stream",
     "text": [
      "MSLE на Кросс-валидации: 0.426\n"
     ]
    }
   ],
   "source": [
    "from sklearn.model_selection import KFold\n",
    "from sklearn.linear_model import LinearRegression\n",
    "from sklearn.metrics import mean_squared_error\n",
    "\n",
    "\n",
    "selector = KFold(n_splits=4)\n",
    "\n",
    "### Задание 4\n",
    "### Замерьте качество (MSLE, как и раньше) на Кросс-валидации, \n",
    "### используя MSE от log_trip_duration и назначенный selector\n",
    "X = processed_data.drop('log_trip_duration', axis=1)\n",
    "Y = processed_data['log_trip_duration']\n",
    "\n",
    "errors_list = []\n",
    "\n",
    "for train_id, test_id in selector.split(X):\n",
    "    X_train, Y_train = X.values[train_id], Y.values[train_id]\n",
    "    X_test, Y_test = X.values[test_id], Y.values[test_id]\n",
    "    \n",
    "    model = LinearRegression()\n",
    "    model.fit(X_train, Y_train)\n",
    "    errors_list.append(mean_squared_error(Y_test, model.predict(X_test)))\n",
    "    \n",
    "cross_val_error = np.mean(errors_list)\n",
    "print(f\"MSLE на Кросс-валидации: {round(cross_val_error, 3)}\")"
   ]
  },
  {
   "cell_type": "markdown",
   "id": "a586759d",
   "metadata": {},
   "source": [
    "## Поработал один из хитрых гномов!"
   ]
  },
  {
   "cell_type": "markdown",
   "id": "ec9a763e",
   "metadata": {},
   "source": [
    "В отличие от своих собратьев, третий гном оказался тем еще бездельником в школьные годы, но все равно страстно желал во всем догнать первых двух. И сейчас, желая помочь им в построении модели по предсказанию длительности поездки такси, добавил в данные 20 зашифрованных фичей (их смысл нам не рассказали: какая-то секретная информация о водителях).\n",
    "\n",
    "Гном думал следующим образом: \"Ну не может же модель стать хуже! А тут вот авось и мое нововведение уменьшит ошибку в разы! Тогда и меня станут звать на гномий  data-саммит.\"\n",
    "\n",
    "Проверим на кросс-валидации, насколько гном оказался прав!"
   ]
  },
  {
   "cell_type": "code",
   "execution_count": 5,
   "id": "538a0adf",
   "metadata": {
    "ExecuteTime": {
     "end_time": "2022-07-09T11:40:05.385959Z",
     "start_time": "2022-07-09T11:40:02.198428Z"
    }
   },
   "outputs": [],
   "source": [
    "new_data = pd.read_csv('new_data.csv', index_col='id')"
   ]
  },
  {
   "cell_type": "code",
   "execution_count": 6,
   "id": "53c5dd26",
   "metadata": {
    "ExecuteTime": {
     "end_time": "2022-07-09T11:40:05.405353Z",
     "start_time": "2022-07-09T11:40:05.388348Z"
    }
   },
   "outputs": [
    {
     "data": {
      "text/html": [
       "<div>\n",
       "<style scoped>\n",
       "    .dataframe tbody tr th:only-of-type {\n",
       "        vertical-align: middle;\n",
       "    }\n",
       "\n",
       "    .dataframe tbody tr th {\n",
       "        vertical-align: top;\n",
       "    }\n",
       "\n",
       "    .dataframe thead th {\n",
       "        text-align: right;\n",
       "    }\n",
       "</style>\n",
       "<table border=\"1\" class=\"dataframe\">\n",
       "  <thead>\n",
       "    <tr style=\"text-align: right;\">\n",
       "      <th></th>\n",
       "      <th>vendor_id</th>\n",
       "      <th>passenger_count</th>\n",
       "      <th>store_and_fwd_flag</th>\n",
       "      <th>distance_km</th>\n",
       "      <th>log_trip_duration</th>\n",
       "      <th>feature_1</th>\n",
       "      <th>feature_2</th>\n",
       "      <th>feature_3</th>\n",
       "      <th>feature_4</th>\n",
       "      <th>feature_5</th>\n",
       "      <th>...</th>\n",
       "      <th>feature_11</th>\n",
       "      <th>feature_12</th>\n",
       "      <th>feature_13</th>\n",
       "      <th>feature_14</th>\n",
       "      <th>feature_15</th>\n",
       "      <th>feature_16</th>\n",
       "      <th>feature_17</th>\n",
       "      <th>feature_18</th>\n",
       "      <th>feature_19</th>\n",
       "      <th>feature_20</th>\n",
       "    </tr>\n",
       "    <tr>\n",
       "      <th>id</th>\n",
       "      <th></th>\n",
       "      <th></th>\n",
       "      <th></th>\n",
       "      <th></th>\n",
       "      <th></th>\n",
       "      <th></th>\n",
       "      <th></th>\n",
       "      <th></th>\n",
       "      <th></th>\n",
       "      <th></th>\n",
       "      <th></th>\n",
       "      <th></th>\n",
       "      <th></th>\n",
       "      <th></th>\n",
       "      <th></th>\n",
       "      <th></th>\n",
       "      <th></th>\n",
       "      <th></th>\n",
       "      <th></th>\n",
       "      <th></th>\n",
       "      <th></th>\n",
       "    </tr>\n",
       "  </thead>\n",
       "  <tbody>\n",
       "    <tr>\n",
       "      <th>id2875421</th>\n",
       "      <td>1</td>\n",
       "      <td>930.399753</td>\n",
       "      <td>0</td>\n",
       "      <td>1.500479</td>\n",
       "      <td>6.122493</td>\n",
       "      <td>1</td>\n",
       "      <td>1</td>\n",
       "      <td>1</td>\n",
       "      <td>1</td>\n",
       "      <td>1</td>\n",
       "      <td>...</td>\n",
       "      <td>0</td>\n",
       "      <td>0</td>\n",
       "      <td>0</td>\n",
       "      <td>0</td>\n",
       "      <td>0</td>\n",
       "      <td>1.500479</td>\n",
       "      <td>2.251437</td>\n",
       "      <td>3.378234</td>\n",
       "      <td>5.068969</td>\n",
       "      <td>7.605881</td>\n",
       "    </tr>\n",
       "    <tr>\n",
       "      <th>id2377394</th>\n",
       "      <td>0</td>\n",
       "      <td>930.399753</td>\n",
       "      <td>0</td>\n",
       "      <td>1.807119</td>\n",
       "      <td>6.498282</td>\n",
       "      <td>0</td>\n",
       "      <td>0</td>\n",
       "      <td>0</td>\n",
       "      <td>0</td>\n",
       "      <td>0</td>\n",
       "      <td>...</td>\n",
       "      <td>0</td>\n",
       "      <td>0</td>\n",
       "      <td>0</td>\n",
       "      <td>0</td>\n",
       "      <td>0</td>\n",
       "      <td>1.807119</td>\n",
       "      <td>3.265681</td>\n",
       "      <td>5.901475</td>\n",
       "      <td>10.664670</td>\n",
       "      <td>19.272331</td>\n",
       "    </tr>\n",
       "    <tr>\n",
       "      <th>id3858529</th>\n",
       "      <td>1</td>\n",
       "      <td>930.399753</td>\n",
       "      <td>0</td>\n",
       "      <td>6.392080</td>\n",
       "      <td>7.661527</td>\n",
       "      <td>1</td>\n",
       "      <td>1</td>\n",
       "      <td>1</td>\n",
       "      <td>1</td>\n",
       "      <td>1</td>\n",
       "      <td>...</td>\n",
       "      <td>0</td>\n",
       "      <td>0</td>\n",
       "      <td>0</td>\n",
       "      <td>0</td>\n",
       "      <td>0</td>\n",
       "      <td>6.392080</td>\n",
       "      <td>40.858690</td>\n",
       "      <td>261.172025</td>\n",
       "      <td>1669.432545</td>\n",
       "      <td>10671.146803</td>\n",
       "    </tr>\n",
       "    <tr>\n",
       "      <th>id3504673</th>\n",
       "      <td>1</td>\n",
       "      <td>930.399753</td>\n",
       "      <td>0</td>\n",
       "      <td>1.487155</td>\n",
       "      <td>6.063785</td>\n",
       "      <td>1</td>\n",
       "      <td>1</td>\n",
       "      <td>1</td>\n",
       "      <td>1</td>\n",
       "      <td>1</td>\n",
       "      <td>...</td>\n",
       "      <td>0</td>\n",
       "      <td>0</td>\n",
       "      <td>0</td>\n",
       "      <td>0</td>\n",
       "      <td>0</td>\n",
       "      <td>1.487155</td>\n",
       "      <td>2.211629</td>\n",
       "      <td>3.289035</td>\n",
       "      <td>4.891303</td>\n",
       "      <td>7.274125</td>\n",
       "    </tr>\n",
       "    <tr>\n",
       "      <th>id2181028</th>\n",
       "      <td>1</td>\n",
       "      <td>930.399753</td>\n",
       "      <td>0</td>\n",
       "      <td>1.189925</td>\n",
       "      <td>6.077642</td>\n",
       "      <td>1</td>\n",
       "      <td>1</td>\n",
       "      <td>1</td>\n",
       "      <td>1</td>\n",
       "      <td>1</td>\n",
       "      <td>...</td>\n",
       "      <td>0</td>\n",
       "      <td>0</td>\n",
       "      <td>0</td>\n",
       "      <td>0</td>\n",
       "      <td>0</td>\n",
       "      <td>1.189925</td>\n",
       "      <td>1.415923</td>\n",
       "      <td>1.684842</td>\n",
       "      <td>2.004837</td>\n",
       "      <td>2.385606</td>\n",
       "    </tr>\n",
       "  </tbody>\n",
       "</table>\n",
       "<p>5 rows × 25 columns</p>\n",
       "</div>"
      ],
      "text/plain": [
       "           vendor_id  passenger_count  store_and_fwd_flag  distance_km  \\\n",
       "id                                                                       \n",
       "id2875421          1       930.399753                   0     1.500479   \n",
       "id2377394          0       930.399753                   0     1.807119   \n",
       "id3858529          1       930.399753                   0     6.392080   \n",
       "id3504673          1       930.399753                   0     1.487155   \n",
       "id2181028          1       930.399753                   0     1.189925   \n",
       "\n",
       "           log_trip_duration  feature_1  feature_2  feature_3  feature_4  \\\n",
       "id                                                                         \n",
       "id2875421           6.122493          1          1          1          1   \n",
       "id2377394           6.498282          0          0          0          0   \n",
       "id3858529           7.661527          1          1          1          1   \n",
       "id3504673           6.063785          1          1          1          1   \n",
       "id2181028           6.077642          1          1          1          1   \n",
       "\n",
       "           feature_5  ...  feature_11  feature_12  feature_13  feature_14  \\\n",
       "id                    ...                                                   \n",
       "id2875421          1  ...           0           0           0           0   \n",
       "id2377394          0  ...           0           0           0           0   \n",
       "id3858529          1  ...           0           0           0           0   \n",
       "id3504673          1  ...           0           0           0           0   \n",
       "id2181028          1  ...           0           0           0           0   \n",
       "\n",
       "           feature_15  feature_16  feature_17  feature_18   feature_19  \\\n",
       "id                                                                       \n",
       "id2875421           0    1.500479    2.251437    3.378234     5.068969   \n",
       "id2377394           0    1.807119    3.265681    5.901475    10.664670   \n",
       "id3858529           0    6.392080   40.858690  261.172025  1669.432545   \n",
       "id3504673           0    1.487155    2.211629    3.289035     4.891303   \n",
       "id2181028           0    1.189925    1.415923    1.684842     2.004837   \n",
       "\n",
       "             feature_20  \n",
       "id                       \n",
       "id2875421      7.605881  \n",
       "id2377394     19.272331  \n",
       "id3858529  10671.146803  \n",
       "id3504673      7.274125  \n",
       "id2181028      2.385606  \n",
       "\n",
       "[5 rows x 25 columns]"
      ]
     },
     "execution_count": 6,
     "metadata": {},
     "output_type": "execute_result"
    }
   ],
   "source": [
    "new_data.head()"
   ]
  },
  {
   "cell_type": "code",
   "execution_count": 7,
   "id": "a0ae3eed",
   "metadata": {
    "ExecuteTime": {
     "end_time": "2022-07-09T11:40:08.397961Z",
     "start_time": "2022-07-09T11:40:05.406630Z"
    }
   },
   "outputs": [
    {
     "name": "stdout",
     "output_type": "stream",
     "text": [
      "MSLE на Кросс-валидации: 140.921\n"
     ]
    }
   ],
   "source": [
    "### Задание №5\n",
    "### Замерьте качество (MSLE, как и раньше) на Кросс-валидации, \n",
    "### используя MSE от log_trip_duration и назначенный ранее selector\n",
    "\n",
    "X_new = new_data.drop('log_trip_duration', axis=1)\n",
    "Y_new = new_data['log_trip_duration']\n",
    "\n",
    "errors_list_new = []\n",
    "for train_id, test_id in selector.split(X_new):\n",
    "    X_train, Y_train = X_new.values[train_id], Y_new.values[train_id]\n",
    "    X_test, Y_test = X_new.values[test_id], Y_new.values[test_id]\n",
    "    \n",
    "    model = LinearRegression()\n",
    "    model.fit(X_train, Y_train)\n",
    "    \n",
    "    errors_list_new.append(mean_squared_error(Y_test, model.predict(X_test)))\n",
    "\n",
    "cross_val_error_2 = np.mean(errors_list_new)\n",
    "print(f\"MSLE на Кросс-валидации: {round(cross_val_error_2, 3)}\")"
   ]
  },
  {
   "cell_type": "markdown",
   "id": "bd8f2945",
   "metadata": {},
   "source": [
    "В линейной алгербре зачастую используют понятие **ранга матрицы**. Оно соответствует кол-ву линейно независимых столбцов в матрице. Иными словами, позволяет оценить, есть ли избыток информации в нашем датафрейме. Если ранг матрицы меньше, чем кол-во используемых столбцов, то некоторые фичи следует удалить, ведь иначе возникает ситуация строгой мультиколлинеарности.\n",
    "\n",
    "Чтобы замерить ранг в наших матрицах объект-признак, можно воспользоваться функцией numpy.linalg.matrix_rank\n",
    "\n",
    "Константным признаком в данном упражнении можно пренебречь."
   ]
  },
  {
   "cell_type": "code",
   "execution_count": 8,
   "id": "e3de617d",
   "metadata": {
    "ExecuteTime": {
     "end_time": "2022-07-09T11:40:09.105850Z",
     "start_time": "2022-07-09T11:40:08.402627Z"
    }
   },
   "outputs": [],
   "source": [
    "### Создайте переменные rank_processed, rank_new \n",
    "### Соответственно равные рангу изначальной матрицы\n",
    "### с данными и рангу матрицы третьего гнома\n",
    "\n",
    "rank_processed = np.linalg.matrix_rank(X)\n",
    "rank_new = np.linalg.matrix_rank(X_new)"
   ]
  },
  {
   "cell_type": "code",
   "execution_count": 9,
   "id": "687d03a7",
   "metadata": {
    "ExecuteTime": {
     "end_time": "2022-07-09T11:40:09.143889Z",
     "start_time": "2022-07-09T11:40:09.131405Z"
    }
   },
   "outputs": [],
   "source": [
    "### Создайте переменные num_features_processed, num_features_new\n",
    "### Соответственно равные кол-ву фичей в изначальной матрицы\n",
    "### с данными и кол-ву фичей у третьего гнома\n",
    "\n",
    "num_features_processed = processed_data.shape[1] - 1\n",
    "num_features_new = new_data.shape[1] - 1"
   ]
  },
  {
   "cell_type": "code",
   "execution_count": 10,
   "id": "2820bee9",
   "metadata": {
    "ExecuteTime": {
     "end_time": "2022-07-09T11:40:09.167078Z",
     "start_time": "2022-07-09T11:40:09.146073Z"
    }
   },
   "outputs": [
    {
     "name": "stdout",
     "output_type": "stream",
     "text": [
      "В первой модели всего фичей: 4, - а ранг равен 4\n",
      "Во второй модели всего фичей: 24, - а ранг равен 5\n"
     ]
    }
   ],
   "source": [
    "### Задание №6\n",
    "print(f\"В первой модели всего фичей: {num_features_processed}, - а ранг равен {rank_processed}\")\n",
    "\n",
    "print(f\"Во второй модели всего фичей: {num_features_new}, - а ранг равен {rank_new}\")"
   ]
  },
  {
   "cell_type": "markdown",
   "id": "a194b8ab",
   "metadata": {},
   "source": [
    "Не кажется ли нам, что из-за новых 20 фичей появилась проблема мультиколлинеарности? Как поступить гному, чтобы, с одной стороны, получить адекватное качество, а с другой стороны, не повредить свое самолюбие и не убирать новые признаки?\n",
    "\n",
    "Верно! Например, с помощью регуляризации.\n",
    "\n",
    "Найдите такой параметр регуляризации $\\alpha$ для Ridge и Lasso случая, чтобы ошибка MSLE на кросс-валидации оказалась строго меньше 0.4\n",
    "\n",
    "**ALARM**: используйте процедуру масштабирования данных (воспользуйтесь методом MinMaxScaler) перед тем как применить регуляризацию. Важно - чтобы сохранить концепцию независимости обучения на трейне и на тесте, на каждой итерации кросс-валидации необходимо замерять параметры стандартизации исключительно на трейне, а потом применять на валидационном фолде."
   ]
  },
  {
   "cell_type": "code",
   "execution_count": 11,
   "id": "141bbaae",
   "metadata": {
    "ExecuteTime": {
     "end_time": "2022-07-09T11:40:11.729338Z",
     "start_time": "2022-07-09T11:40:09.190685Z"
    }
   },
   "outputs": [
    {
     "name": "stdout",
     "output_type": "stream",
     "text": [
      "MSLE on CV: 0.6332330617999488\n"
     ]
    }
   ],
   "source": [
    "### Пример, как это можно сделать в цикле\n",
    "### То есть обучить Lasso, учитывая масштабирование\n",
    "### Исключительно на трейне на каждой итерации\n",
    "\n",
    "X = new_data.drop('log_trip_duration', axis=1)\n",
    "Y = new_data['log_trip_duration']\n",
    "\n",
    "from sklearn.preprocessing import MinMaxScaler\n",
    "from sklearn.linear_model import Lasso\n",
    "\n",
    "\n",
    "scores = []\n",
    "\n",
    "for train_index, test_index in selector.split(X):\n",
    "\n",
    "    X_train, X_test = X.values[train_index], X.values[test_index]\n",
    "    Y_train, Y_test = Y.values[train_index], Y.values[test_index]\n",
    "\n",
    "    ### Фитим исключительно на трейне!\n",
    "    scaler = MinMaxScaler()\n",
    "    scaler.fit(X_train)\n",
    "\n",
    "    ### Применяем обученный scaler на трейн и тест\n",
    "    X_train_scaled = scaler.transform(X_train)\n",
    "    X_test_scaled = scaler.transform(X_test)\n",
    "\n",
    "    ### max_iter иногда требуется ставить побольше, \n",
    "    ### особенно когда данных много и/или они сложные\n",
    "    ### этот параметр регулирует верхнюю границу кол-ва\n",
    "    ### итераций во время обучения\n",
    "    ### подробнее - в документации\n",
    "\n",
    "    ### По дефолту здесь параметр регуляризации alpha=1\n",
    "    model_lasso = Lasso(max_iter=100000) \n",
    "    model_lasso.fit(X_train_scaled, Y_train)\n",
    "    predictions = model_lasso.predict(X_test_scaled)\n",
    "    scores.append(np.mean((predictions - Y_test)**2))\n",
    "    \n",
    "    \n",
    "print(f'MSLE on CV: {np.mean(scores)}')\n",
    "    \n",
    "### P.S. если вы уже умеете работать с конструкциями\n",
    "### Pipeline, GridSearchCV, cross_validate\n",
    "### Можете использовать их. Мы познакомимся с ними позже."
   ]
  },
  {
   "cell_type": "code",
   "execution_count": 12,
   "id": "aa4bf132",
   "metadata": {
    "ExecuteTime": {
     "end_time": "2022-07-09T11:40:13.969430Z",
     "start_time": "2022-07-09T11:40:11.743449Z"
    }
   },
   "outputs": [
    {
     "name": "stdout",
     "output_type": "stream",
     "text": [
      "alpha is 0.01 and result mean CV MSLE is 0.38256820336794073\n"
     ]
    }
   ],
   "source": [
    "### Теперь найдите оптимальный параметр регуляризации\n",
    "### для случая Ridge\n",
    "### Напомним: ошибка на кросс-валидации должно быть \n",
    "### строго меньше 0.4\n",
    "\n",
    "X = new_data.drop('log_trip_duration', axis=1)\n",
    "y = new_data['log_trip_duration']\n",
    "\n",
    "from sklearn.preprocessing import MinMaxScaler\n",
    "from sklearn.linear_model import Ridge\n",
    "from sklearn.model_selection import KFold\n",
    "from sklearn.metrics import mean_squared_error\n",
    "\n",
    "selector = KFold(n_splits=4)\n",
    "scores = []\n",
    "\n",
    "for alpha_i in np.linspace(0.01, 1, 100):\n",
    "    \n",
    "    scores = []\n",
    "    \n",
    "    for train_id, test_id in selector.split(X):\n",
    "        X_tr, X_tst = X.values[train_id], X.values[test_id]\n",
    "        y_tr, y_tst = y.values[train_id], y.values[test_id]\n",
    "\n",
    "        scaler = MinMaxScaler()\n",
    "        scaler.fit(X_tr)\n",
    "\n",
    "        scaled_X_tr = scaler.transform(X_tr)\n",
    "        scaled_X_tst = scaler.transform(X_tst)\n",
    "\n",
    "        model = Ridge(max_iter=100000, alpha=alpha_i)\n",
    "        model.fit(scaled_X_tr, y_tr)\n",
    "        predicted_values = model.predict(scaled_X_tst)\n",
    "        scores.append(mean_squared_error(predicted_values, y_tst))\n",
    "        \n",
    "    mean_score = np.mean(scores)\n",
    "    \n",
    "    if mean_score < 0.4:\n",
    "        print(f'alpha is {alpha_i} and result mean CV MSLE is {mean_score}')\n",
    "        break        \n",
    "        \n",
    "# print(scores)\n",
    "# print(f'CV MSLE: {np.mean(scores)}')"
   ]
  },
  {
   "cell_type": "code",
   "execution_count": null,
   "id": "416beb41",
   "metadata": {},
   "outputs": [],
   "source": []
  }
 ],
 "metadata": {
  "kernelspec": {
   "display_name": "Python 3 (ipykernel)",
   "language": "python",
   "name": "python3"
  },
  "language_info": {
   "codemirror_mode": {
    "name": "ipython",
    "version": 3
   },
   "file_extension": ".py",
   "mimetype": "text/x-python",
   "name": "python",
   "nbconvert_exporter": "python",
   "pygments_lexer": "ipython3",
   "version": "3.9.12"
  },
  "varInspector": {
   "cols": {
    "lenName": 16,
    "lenType": 16,
    "lenVar": 40
   },
   "kernels_config": {
    "python": {
     "delete_cmd_postfix": "",
     "delete_cmd_prefix": "del ",
     "library": "var_list.py",
     "varRefreshCmd": "print(var_dic_list())"
    },
    "r": {
     "delete_cmd_postfix": ") ",
     "delete_cmd_prefix": "rm(",
     "library": "var_list.r",
     "varRefreshCmd": "cat(var_dic_list()) "
    }
   },
   "types_to_exclude": [
    "module",
    "function",
    "builtin_function_or_method",
    "instance",
    "_Feature"
   ],
   "window_display": false
  }
 },
 "nbformat": 4,
 "nbformat_minor": 5
}
