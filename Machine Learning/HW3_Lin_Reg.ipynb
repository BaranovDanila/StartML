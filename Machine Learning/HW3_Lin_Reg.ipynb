{
 "cells": [
  {
   "cell_type": "code",
   "execution_count": 1,
   "id": "601a86a5",
   "metadata": {
    "ExecuteTime": {
     "end_time": "2022-06-28T19:48:56.562519Z",
     "start_time": "2022-06-28T19:48:56.320389Z"
    }
   },
   "outputs": [],
   "source": [
    "import pandas as pd"
   ]
  },
  {
   "cell_type": "markdown",
   "id": "6dd4ece0",
   "metadata": {},
   "source": [
    "Загрузим табличку с нашими данными про длительность поездок такси! "
   ]
  },
  {
   "cell_type": "code",
   "execution_count": 2,
   "id": "e525fe48",
   "metadata": {
    "ExecuteTime": {
     "end_time": "2022-06-28T19:48:57.832616Z",
     "start_time": "2022-06-28T19:48:56.572648Z"
    },
    "scrolled": true
   },
   "outputs": [
    {
     "data": {
      "text/html": [
       "<div>\n",
       "<style scoped>\n",
       "    .dataframe tbody tr th:only-of-type {\n",
       "        vertical-align: middle;\n",
       "    }\n",
       "\n",
       "    .dataframe tbody tr th {\n",
       "        vertical-align: top;\n",
       "    }\n",
       "\n",
       "    .dataframe thead th {\n",
       "        text-align: right;\n",
       "    }\n",
       "</style>\n",
       "<table border=\"1\" class=\"dataframe\">\n",
       "  <thead>\n",
       "    <tr style=\"text-align: right;\">\n",
       "      <th></th>\n",
       "      <th>vendor_id</th>\n",
       "      <th>pickup_datetime</th>\n",
       "      <th>passenger_count</th>\n",
       "      <th>store_and_fwd_flag</th>\n",
       "      <th>trip_duration</th>\n",
       "      <th>distance_km</th>\n",
       "    </tr>\n",
       "    <tr>\n",
       "      <th>id</th>\n",
       "      <th></th>\n",
       "      <th></th>\n",
       "      <th></th>\n",
       "      <th></th>\n",
       "      <th></th>\n",
       "      <th></th>\n",
       "    </tr>\n",
       "  </thead>\n",
       "  <tbody>\n",
       "    <tr>\n",
       "      <th>id2875421</th>\n",
       "      <td>1</td>\n",
       "      <td>2016-03-14 17:24:55</td>\n",
       "      <td>930.399753</td>\n",
       "      <td>0</td>\n",
       "      <td>455.0</td>\n",
       "      <td>1.500479</td>\n",
       "    </tr>\n",
       "    <tr>\n",
       "      <th>id2377394</th>\n",
       "      <td>0</td>\n",
       "      <td>2016-06-12 00:43:35</td>\n",
       "      <td>930.399753</td>\n",
       "      <td>0</td>\n",
       "      <td>663.0</td>\n",
       "      <td>1.807119</td>\n",
       "    </tr>\n",
       "    <tr>\n",
       "      <th>id3858529</th>\n",
       "      <td>1</td>\n",
       "      <td>2016-01-19 11:35:24</td>\n",
       "      <td>930.399753</td>\n",
       "      <td>0</td>\n",
       "      <td>2124.0</td>\n",
       "      <td>6.392080</td>\n",
       "    </tr>\n",
       "    <tr>\n",
       "      <th>id3504673</th>\n",
       "      <td>1</td>\n",
       "      <td>2016-04-06 19:32:31</td>\n",
       "      <td>930.399753</td>\n",
       "      <td>0</td>\n",
       "      <td>429.0</td>\n",
       "      <td>1.487155</td>\n",
       "    </tr>\n",
       "    <tr>\n",
       "      <th>id2181028</th>\n",
       "      <td>1</td>\n",
       "      <td>2016-03-26 13:30:55</td>\n",
       "      <td>930.399753</td>\n",
       "      <td>0</td>\n",
       "      <td>435.0</td>\n",
       "      <td>1.189925</td>\n",
       "    </tr>\n",
       "  </tbody>\n",
       "</table>\n",
       "</div>"
      ],
      "text/plain": [
       "           vendor_id      pickup_datetime  passenger_count  \\\n",
       "id                                                           \n",
       "id2875421          1  2016-03-14 17:24:55       930.399753   \n",
       "id2377394          0  2016-06-12 00:43:35       930.399753   \n",
       "id3858529          1  2016-01-19 11:35:24       930.399753   \n",
       "id3504673          1  2016-04-06 19:32:31       930.399753   \n",
       "id2181028          1  2016-03-26 13:30:55       930.399753   \n",
       "\n",
       "           store_and_fwd_flag  trip_duration  distance_km  \n",
       "id                                                         \n",
       "id2875421                   0          455.0     1.500479  \n",
       "id2377394                   0          663.0     1.807119  \n",
       "id3858529                   0         2124.0     6.392080  \n",
       "id3504673                   0          429.0     1.487155  \n",
       "id2181028                   0          435.0     1.189925  "
      ]
     },
     "execution_count": 2,
     "metadata": {},
     "output_type": "execute_result"
    }
   ],
   "source": [
    "df = pd.read_csv('taxi_dataset_with_target.csv', index_col=0)\n",
    "\n",
    "df.head()"
   ]
  },
  {
   "cell_type": "code",
   "execution_count": 3,
   "id": "2e1b6e2d",
   "metadata": {
    "ExecuteTime": {
     "end_time": "2022-06-28T19:48:57.976652Z",
     "start_time": "2022-06-28T19:48:57.833824Z"
    },
    "scrolled": true
   },
   "outputs": [],
   "source": [
    "df['pickup_datetime'] = pd.to_datetime(df['pickup_datetime'])"
   ]
  },
  {
   "cell_type": "code",
   "execution_count": 4,
   "id": "a9ea1659",
   "metadata": {
    "ExecuteTime": {
     "end_time": "2022-06-28T19:48:57.979521Z",
     "start_time": "2022-06-28T19:48:57.977345Z"
    }
   },
   "outputs": [
    {
     "data": {
      "text/plain": [
       "vendor_id                      int64\n",
       "pickup_datetime       datetime64[ns]\n",
       "passenger_count              float64\n",
       "store_and_fwd_flag             int64\n",
       "trip_duration                float64\n",
       "distance_km                  float64\n",
       "dtype: object"
      ]
     },
     "execution_count": 4,
     "metadata": {},
     "output_type": "execute_result"
    }
   ],
   "source": [
    "df.dtypes"
   ]
  },
  {
   "cell_type": "markdown",
   "id": "eae8224b",
   "metadata": {},
   "source": [
    "Попробуем построить модель Линейной Регрессии!\n",
    "\n",
    "В качестве Выборки используйте таргетную колонку (*trip_duration*) и все признаки, кроме времени начала заказа (*pickup_datetime*)\n",
    "\n",
    "Для начала воспользуемся \"коробочным решением\". Для этого создайте переменную model, положите в нее класс **LinearRegression** из модуля **linear_model** библиотеки **sklearn**.\n",
    "\n",
    "Далее воспользуйтесь методом **fit**, положите в него через запятую: массив **X**, состоящий из признаков объектов (можно pandas dataframe'ом, а можно numpy-массивом), и массив **Y** с таргетами."
   ]
  },
  {
   "cell_type": "code",
   "execution_count": 5,
   "id": "1d57966d",
   "metadata": {
    "ExecuteTime": {
     "end_time": "2022-06-28T19:48:58.245025Z",
     "start_time": "2022-06-28T19:48:57.980201Z"
    }
   },
   "outputs": [],
   "source": [
    "from sklearn.linear_model import LinearRegression\n",
    "\n",
    "X = df.drop(['trip_duration', 'pickup_datetime'], axis=1)\n",
    "Y = df['trip_duration']"
   ]
  },
  {
   "cell_type": "code",
   "execution_count": 6,
   "id": "23cbd5ae",
   "metadata": {
    "ExecuteTime": {
     "end_time": "2022-06-28T19:48:58.349826Z",
     "start_time": "2022-06-28T19:48:58.245846Z"
    }
   },
   "outputs": [
    {
     "data": {
      "text/plain": [
       "LinearRegression()"
      ]
     },
     "execution_count": 6,
     "metadata": {},
     "output_type": "execute_result"
    }
   ],
   "source": [
    "model = LinearRegression()\n",
    "\n",
    "model.fit(X, Y)"
   ]
  },
  {
   "cell_type": "markdown",
   "id": "82b2944c",
   "metadata": {},
   "source": [
    "Чтобы посмотреть на значения полученных коэффициентов модели, следует обратиться к атрибуту **coef_** класса линейной регрессии. Для просмотра свободного веса, к атрибуту **intercept_** "
   ]
  },
  {
   "cell_type": "code",
   "execution_count": 7,
   "id": "7b6f2009",
   "metadata": {
    "ExecuteTime": {
     "end_time": "2022-06-28T19:48:58.381232Z",
     "start_time": "2022-06-28T19:48:58.352545Z"
    }
   },
   "outputs": [
    {
     "name": "stdout",
     "output_type": "stream",
     "text": [
      "[198.463   0.296  56.469 115.274]\n",
      "171.657\n"
     ]
    }
   ],
   "source": [
    "print(model.coef_.round(3))\n",
    "print(model.intercept_.round(3))"
   ]
  },
  {
   "cell_type": "markdown",
   "id": "b699ffaf",
   "metadata": {},
   "source": [
    "Теперь реализуйте функцию LinearRegressionByMatrix, которая будет принимать на вход 3 параметра:\n",
    "\n",
    "Матрицу объект-признак **(X)**, вектор с ответами **(Y)**, булевый параметр **fit_intercept**, цель которого - добавить константный признак (состоящий из единичек), если True, и ничего не делать, если False.\n",
    "\n",
    "Функция должна вернуть одномерный np.array объект с оцененными **$\\beta_1, ..., \\beta_n, \\beta_0$**\n",
    "\n",
    "Реализуйте решение через аналитическое решение в матрицах из лекции и практики:\n",
    "\n",
    "$$\n",
    "\\beta^* = (X^T \\cdot X)^{-1} \\cdot X^T \\cdot Y\n",
    "$$"
   ]
  },
  {
   "cell_type": "code",
   "execution_count": 8,
   "id": "e16a9233",
   "metadata": {
    "ExecuteTime": {
     "end_time": "2022-06-28T19:48:58.392146Z",
     "start_time": "2022-06-28T19:48:58.384533Z"
    }
   },
   "outputs": [],
   "source": [
    "import numpy as np\n",
    "\n",
    "\n",
    "def LinearRegressionByMatrix(X: np.array, Y: np.array, fit_intercept: bool = True):\n",
    "    \"\"\"\n",
    "    :param X: матрица объектов\n",
    "    :param Y: вектор (матрица с 1 столбцом) ответов\n",
    "    :param fit_intercept: добавить ли константную переменную в данные?\n",
    "\n",
    "    :return: одномерный numpy-array с полученными коэффициентами beta\n",
    "    \"\"\"\n",
    "    np.linalg.inv(np.dot(X.T, X))\n",
    "\n",
    "    if fit_intercept:\n",
    "        col_to_add = np.ones(len(X))\n",
    "        X = np.column_stack((X, col_to_add))\n",
    "\n",
    "    result = np.dot(np.dot(np.linalg.inv(np.dot(X.T, X)), X.T), Y)\n",
    "\n",
    "    return result"
   ]
  },
  {
   "cell_type": "code",
   "execution_count": 9,
   "id": "e21ad95c",
   "metadata": {
    "ExecuteTime": {
     "end_time": "2022-06-28T19:48:58.494336Z",
     "start_time": "2022-06-28T19:48:58.421735Z"
    }
   },
   "outputs": [],
   "source": [
    "X_train = df.drop(['trip_duration', 'pickup_datetime'], axis=1).values\n",
    "Y_train = df['trip_duration'].values\n",
    "\n",
    "result_coef = LinearRegressionByMatrix(X_train, Y_train)"
   ]
  },
  {
   "cell_type": "code",
   "execution_count": 10,
   "id": "ffbf33f6",
   "metadata": {
    "ExecuteTime": {
     "end_time": "2022-06-28T19:48:58.522966Z",
     "start_time": "2022-06-28T19:48:58.499021Z"
    }
   },
   "outputs": [
    {
     "data": {
      "text/plain": [
       "array([198.463,   0.296,  56.469, 115.274, 171.657])"
      ]
     },
     "execution_count": 10,
     "metadata": {},
     "output_type": "execute_result"
    }
   ],
   "source": [
    "result_coef.round(3)"
   ]
  },
  {
   "cell_type": "markdown",
   "id": "263e9a80",
   "metadata": {},
   "source": [
    "**Полученные коэффициенты совпадают с коэффициентами, полученными в `LinearRegression` из `sklearn.linear_model`.**"
   ]
  },
  {
   "cell_type": "markdown",
   "id": "16cd1b7f",
   "metadata": {},
   "source": [
    "Получились ли коэффициенты такими же, как и в \"коробочном\" варианте?\n",
    "\n",
    "Имея коэффициенты модели, можно восстановить предсказания для каждого объекта!\n",
    "\n",
    "Сделайте это через операцию матричного произведения матрицы **X** и полученных коэффициентов (как результат работы *LinearRegressionByMatrix*)"
   ]
  },
  {
   "cell_type": "code",
   "execution_count": 11,
   "id": "61d27192",
   "metadata": {
    "ExecuteTime": {
     "end_time": "2022-06-28T19:48:58.553542Z",
     "start_time": "2022-06-28T19:48:58.531857Z"
    }
   },
   "outputs": [
    {
     "name": "stdout",
     "output_type": "stream",
     "text": [
      "[ 818.7747282   655.65912268 1382.6469154  ... 1548.74134353  573.4306718\n",
      "  578.2338068 ]\n"
     ]
    }
   ],
   "source": [
    "col_to_add = np.ones(len(X_train))\n",
    "X_train_with_one = np.column_stack((X_train, col_to_add))\n",
    "Y_predict = np.dot(X_train_with_one, result_coef)\n",
    "\n",
    "print(Y_predict)"
   ]
  },
  {
   "cell_type": "markdown",
   "id": "5a41671b",
   "metadata": {},
   "source": [
    "Результат из `LinearRegression` из `sklearn.linear_model`:"
   ]
  },
  {
   "cell_type": "code",
   "execution_count": 12,
   "id": "f018bbaa",
   "metadata": {
    "ExecuteTime": {
     "end_time": "2022-06-28T19:48:58.573697Z",
     "start_time": "2022-06-28T19:48:58.556639Z"
    }
   },
   "outputs": [],
   "source": [
    "Y_predict_skl = model.predict(X)"
   ]
  },
  {
   "cell_type": "markdown",
   "id": "dd936e92",
   "metadata": {},
   "source": [
    "Видно, что результаты равны, проверим это, посчитав `MSE`, `RMSE`, `MAE` для двух моделей."
   ]
  },
  {
   "cell_type": "code",
   "execution_count": 22,
   "id": "251c740d",
   "metadata": {
    "ExecuteTime": {
     "end_time": "2022-06-28T19:51:55.857242Z",
     "start_time": "2022-06-28T19:51:55.787065Z"
    }
   },
   "outputs": [
    {
     "name": "stdout",
     "output_type": "stream",
     "text": [
      "MSE для двух моделей (sklearn и LinearRegressionByMatrix) соответственно:      27173382.577597994, 27173382.577598065\n",
      "RMSE для двух моделей (sklearn и LinearRegressionByMatrix) соответственно:      5212.809470678742, 5212.80947067875\n",
      "MAE для двух моделей (sklearn и LinearRegressionByMatrix) соответственно:      466.0181622241299, 466.0181622240003\n"
     ]
    }
   ],
   "source": [
    "def MSE(Y, Y_predict):\n",
    "    return ((Y - Y_predict) ** 2).mean()\n",
    "\n",
    "\n",
    "def MAE(Y, Y_predict):\n",
    "    return (abs(Y - Y_predict)).mean()\n",
    "\n",
    "\n",
    "print(f'MSE для двух моделей (sklearn и LinearRegressionByMatrix) соответственно:\\\n",
    "      {MSE(Y, Y_predict_skl)}, {MSE(Y, Y_predict)}')\n",
    "\n",
    "print(f'RMSE для двух моделей (sklearn и LinearRegressionByMatrix) соответственно:\\\n",
    "      {(MSE(Y, Y_predict_skl)) ** 0.5}, {(MSE(Y, Y_predict)) ** 0.5}')\n",
    "\n",
    "print(f'MAE для двух моделей (sklearn и LinearRegressionByMatrix) соответственно:\\\n",
    "      {MAE(Y, Y_predict_skl)}, {MAE(Y, Y_predict)}')"
   ]
  },
  {
   "cell_type": "markdown",
   "id": "df077537",
   "metadata": {},
   "source": [
    "**Видно, что результаты аналогичны.**"
   ]
  },
  {
   "cell_type": "code",
   "execution_count": null,
   "id": "e1c8cb50",
   "metadata": {},
   "outputs": [],
   "source": []
  }
 ],
 "metadata": {
  "kernelspec": {
   "display_name": "Python 3 (ipykernel)",
   "language": "python",
   "name": "python3"
  },
  "language_info": {
   "codemirror_mode": {
    "name": "ipython",
    "version": 3
   },
   "file_extension": ".py",
   "mimetype": "text/x-python",
   "name": "python",
   "nbconvert_exporter": "python",
   "pygments_lexer": "ipython3",
   "version": "3.9.12"
  },
  "varInspector": {
   "cols": {
    "lenName": 16,
    "lenType": 16,
    "lenVar": 40
   },
   "kernels_config": {
    "python": {
     "delete_cmd_postfix": "",
     "delete_cmd_prefix": "del ",
     "library": "var_list.py",
     "varRefreshCmd": "print(var_dic_list())"
    },
    "r": {
     "delete_cmd_postfix": ") ",
     "delete_cmd_prefix": "rm(",
     "library": "var_list.r",
     "varRefreshCmd": "cat(var_dic_list()) "
    }
   },
   "types_to_exclude": [
    "module",
    "function",
    "builtin_function_or_method",
    "instance",
    "_Feature"
   ],
   "window_display": false
  }
 },
 "nbformat": 4,
 "nbformat_minor": 5
}
