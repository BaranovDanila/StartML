{
 "cells": [
  {
   "cell_type": "code",
   "execution_count": 1,
   "id": "f83cc527",
   "metadata": {
    "ExecuteTime": {
     "end_time": "2022-06-21T19:15:26.074318Z",
     "start_time": "2022-06-21T19:15:25.820101Z"
    }
   },
   "outputs": [],
   "source": [
    "from IPython.display import Image\n",
    "import pandas as pd\n",
    "import numpy as np"
   ]
  },
  {
   "cell_type": "code",
   "execution_count": 2,
   "id": "abef603e",
   "metadata": {
    "ExecuteTime": {
     "end_time": "2022-06-21T19:15:26.546594Z",
     "start_time": "2022-06-21T19:15:26.075335Z"
    }
   },
   "outputs": [],
   "source": [
    "data = pd.read_csv('ks.csv')"
   ]
  },
  {
   "cell_type": "code",
   "execution_count": 3,
   "id": "f90a35b9",
   "metadata": {
    "ExecuteTime": {
     "end_time": "2022-06-21T19:15:26.555661Z",
     "start_time": "2022-06-21T19:15:26.547308Z"
    }
   },
   "outputs": [
    {
     "data": {
      "text/html": [
       "<div>\n",
       "<style scoped>\n",
       "    .dataframe tbody tr th:only-of-type {\n",
       "        vertical-align: middle;\n",
       "    }\n",
       "\n",
       "    .dataframe tbody tr th {\n",
       "        vertical-align: top;\n",
       "    }\n",
       "\n",
       "    .dataframe thead th {\n",
       "        text-align: right;\n",
       "    }\n",
       "</style>\n",
       "<table border=\"1\" class=\"dataframe\">\n",
       "  <thead>\n",
       "    <tr style=\"text-align: right;\">\n",
       "      <th></th>\n",
       "      <th>Название</th>\n",
       "      <th>Категория</th>\n",
       "      <th>Главная категория</th>\n",
       "      <th>Валюта</th>\n",
       "      <th>Дедлайн</th>\n",
       "      <th>Дата публикации</th>\n",
       "      <th>Состояние</th>\n",
       "      <th>Инвесторов</th>\n",
       "      <th>Страна</th>\n",
       "      <th>Собрано в долларах</th>\n",
       "      <th>Цель в долларах</th>\n",
       "    </tr>\n",
       "  </thead>\n",
       "  <tbody>\n",
       "    <tr>\n",
       "      <th>0</th>\n",
       "      <td>Don't Call it a Comeback \"Telescopes\"</td>\n",
       "      <td>Music</td>\n",
       "      <td>Music</td>\n",
       "      <td>USD</td>\n",
       "      <td>2013-01-10</td>\n",
       "      <td>2012-12-09 06:03:52</td>\n",
       "      <td>successful</td>\n",
       "      <td>23</td>\n",
       "      <td>US</td>\n",
       "      <td>600.00</td>\n",
       "      <td>600.00</td>\n",
       "    </tr>\n",
       "    <tr>\n",
       "      <th>1</th>\n",
       "      <td>Arcade County (Canceled)</td>\n",
       "      <td>Games</td>\n",
       "      <td>Games</td>\n",
       "      <td>USD</td>\n",
       "      <td>2012-04-29</td>\n",
       "      <td>2012-03-30 23:40:45</td>\n",
       "      <td>canceled</td>\n",
       "      <td>5</td>\n",
       "      <td>US</td>\n",
       "      <td>71.00</td>\n",
       "      <td>9000.00</td>\n",
       "    </tr>\n",
       "    <tr>\n",
       "      <th>2</th>\n",
       "      <td>Hayashi Skate Co. Solar Skateboard backpack</td>\n",
       "      <td>Accessories</td>\n",
       "      <td>Fashion</td>\n",
       "      <td>CAD</td>\n",
       "      <td>2017-07-22</td>\n",
       "      <td>2017-05-23 23:00:13</td>\n",
       "      <td>canceled</td>\n",
       "      <td>8</td>\n",
       "      <td>CA</td>\n",
       "      <td>360.36</td>\n",
       "      <td>2391.77</td>\n",
       "    </tr>\n",
       "    <tr>\n",
       "      <th>3</th>\n",
       "      <td>Me &amp; You Coordinating Sunglasses- Optical Qual...</td>\n",
       "      <td>Accessories</td>\n",
       "      <td>Fashion</td>\n",
       "      <td>USD</td>\n",
       "      <td>2016-11-18</td>\n",
       "      <td>2016-10-19 22:06:41</td>\n",
       "      <td>failed</td>\n",
       "      <td>20</td>\n",
       "      <td>US</td>\n",
       "      <td>502.00</td>\n",
       "      <td>10000.00</td>\n",
       "    </tr>\n",
       "    <tr>\n",
       "      <th>4</th>\n",
       "      <td>New Carts for Istanbul Street Food Vendors</td>\n",
       "      <td>Food</td>\n",
       "      <td>Food</td>\n",
       "      <td>USD</td>\n",
       "      <td>2015-05-17</td>\n",
       "      <td>2015-04-17 18:10:47</td>\n",
       "      <td>successful</td>\n",
       "      <td>62</td>\n",
       "      <td>US</td>\n",
       "      <td>2414.00</td>\n",
       "      <td>1400.00</td>\n",
       "    </tr>\n",
       "  </tbody>\n",
       "</table>\n",
       "</div>"
      ],
      "text/plain": [
       "                                            Название    Категория  \\\n",
       "0              Don't Call it a Comeback \"Telescopes\"        Music   \n",
       "1                           Arcade County (Canceled)        Games   \n",
       "2        Hayashi Skate Co. Solar Skateboard backpack  Accessories   \n",
       "3  Me & You Coordinating Sunglasses- Optical Qual...  Accessories   \n",
       "4         New Carts for Istanbul Street Food Vendors         Food   \n",
       "\n",
       "  Главная категория Валюта     Дедлайн      Дата публикации   Состояние  \\\n",
       "0             Music    USD  2013-01-10  2012-12-09 06:03:52  successful   \n",
       "1             Games    USD  2012-04-29  2012-03-30 23:40:45    canceled   \n",
       "2           Fashion    CAD  2017-07-22  2017-05-23 23:00:13    canceled   \n",
       "3           Fashion    USD  2016-11-18  2016-10-19 22:06:41      failed   \n",
       "4              Food    USD  2015-05-17  2015-04-17 18:10:47  successful   \n",
       "\n",
       "   Инвесторов Страна  Собрано в долларах  Цель в долларах  \n",
       "0          23     US              600.00           600.00  \n",
       "1           5     US               71.00          9000.00  \n",
       "2           8     CA              360.36          2391.77  \n",
       "3          20     US              502.00         10000.00  \n",
       "4          62     US             2414.00          1400.00  "
      ]
     },
     "execution_count": 3,
     "metadata": {},
     "output_type": "execute_result"
    }
   ],
   "source": [
    "data.head()"
   ]
  },
  {
   "cell_type": "code",
   "execution_count": 4,
   "id": "c1df08c0",
   "metadata": {
    "ExecuteTime": {
     "end_time": "2022-06-21T19:15:26.558024Z",
     "start_time": "2022-06-21T19:15:26.556365Z"
    }
   },
   "outputs": [
    {
     "data": {
      "text/plain": [
       "(378661, 11)"
      ]
     },
     "execution_count": 4,
     "metadata": {},
     "output_type": "execute_result"
    }
   ],
   "source": [
    "data.shape"
   ]
  },
  {
   "cell_type": "code",
   "execution_count": 5,
   "id": "d22d0782",
   "metadata": {
    "ExecuteTime": {
     "end_time": "2022-06-21T19:15:26.591042Z",
     "start_time": "2022-06-21T19:15:26.559221Z"
    }
   },
   "outputs": [],
   "source": [
    "### Оставим только нужные состояния\n",
    "\n",
    "data = data[data['Состояние'].isin(['failed', 'successful'])]"
   ]
  },
  {
   "cell_type": "markdown",
   "id": "4d95f4e0",
   "metadata": {},
   "source": [
    "### Что берем за таргет? 2 варианта:\n",
    "\n",
    "- Будем решать задачу классификации, разметив объекты следующим образом: те проекты, у которых успешный статус, единичкой, а остальные ноликами\n",
    "\n",
    "- Можем предсказывать просто собранное количество денег, применять модель, а потом уже смотреть, нужная ли сумма получилось. Тогда мы решаем задачу регрессии."
   ]
  },
  {
   "cell_type": "code",
   "execution_count": 6,
   "id": "78cd8cb0",
   "metadata": {
    "ExecuteTime": {
     "end_time": "2022-06-21T19:15:26.610344Z",
     "start_time": "2022-06-21T19:15:26.591816Z"
    }
   },
   "outputs": [],
   "source": [
    "### Создадим колонку таргет1 (бинарный таргет)\n",
    "\n",
    "data.loc[(data['Состояние'] == 'failed'), 'таргет1'] = 0\n",
    "data['таргет1'] = data['таргет1'].fillna(1)"
   ]
  },
  {
   "cell_type": "code",
   "execution_count": null,
   "id": "393d412b",
   "metadata": {
    "ExecuteTime": {
     "end_time": "2022-06-20T19:13:59.005648Z",
     "start_time": "2022-06-20T19:13:58.984265Z"
    }
   },
   "outputs": [],
   "source": []
  },
  {
   "cell_type": "code",
   "execution_count": 7,
   "id": "abf0fa45",
   "metadata": {
    "ExecuteTime": {
     "end_time": "2022-06-21T19:15:26.633484Z",
     "start_time": "2022-06-21T19:15:26.611182Z"
    }
   },
   "outputs": [],
   "source": [
    "data = data.drop('Состояние', axis=1)"
   ]
  },
  {
   "cell_type": "code",
   "execution_count": 8,
   "id": "75f8e751",
   "metadata": {
    "ExecuteTime": {
     "end_time": "2022-06-21T19:15:26.651365Z",
     "start_time": "2022-06-21T19:15:26.634287Z"
    }
   },
   "outputs": [
    {
     "data": {
      "text/html": [
       "<div>\n",
       "<style scoped>\n",
       "    .dataframe tbody tr th:only-of-type {\n",
       "        vertical-align: middle;\n",
       "    }\n",
       "\n",
       "    .dataframe tbody tr th {\n",
       "        vertical-align: top;\n",
       "    }\n",
       "\n",
       "    .dataframe thead th {\n",
       "        text-align: right;\n",
       "    }\n",
       "</style>\n",
       "<table border=\"1\" class=\"dataframe\">\n",
       "  <thead>\n",
       "    <tr style=\"text-align: right;\">\n",
       "      <th></th>\n",
       "      <th>Название</th>\n",
       "      <th>Категория</th>\n",
       "      <th>Главная категория</th>\n",
       "      <th>Валюта</th>\n",
       "      <th>Дедлайн</th>\n",
       "      <th>Дата публикации</th>\n",
       "      <th>Инвесторов</th>\n",
       "      <th>Страна</th>\n",
       "      <th>таргет2</th>\n",
       "      <th>Цель в долларах</th>\n",
       "      <th>таргет1</th>\n",
       "    </tr>\n",
       "  </thead>\n",
       "  <tbody>\n",
       "    <tr>\n",
       "      <th>0</th>\n",
       "      <td>Don't Call it a Comeback \"Telescopes\"</td>\n",
       "      <td>Music</td>\n",
       "      <td>Music</td>\n",
       "      <td>USD</td>\n",
       "      <td>2013-01-10</td>\n",
       "      <td>2012-12-09 06:03:52</td>\n",
       "      <td>23</td>\n",
       "      <td>US</td>\n",
       "      <td>600.00</td>\n",
       "      <td>600.0</td>\n",
       "      <td>1.0</td>\n",
       "    </tr>\n",
       "    <tr>\n",
       "      <th>3</th>\n",
       "      <td>Me &amp; You Coordinating Sunglasses- Optical Qual...</td>\n",
       "      <td>Accessories</td>\n",
       "      <td>Fashion</td>\n",
       "      <td>USD</td>\n",
       "      <td>2016-11-18</td>\n",
       "      <td>2016-10-19 22:06:41</td>\n",
       "      <td>20</td>\n",
       "      <td>US</td>\n",
       "      <td>502.00</td>\n",
       "      <td>10000.0</td>\n",
       "      <td>0.0</td>\n",
       "    </tr>\n",
       "    <tr>\n",
       "      <th>4</th>\n",
       "      <td>New Carts for Istanbul Street Food Vendors</td>\n",
       "      <td>Food</td>\n",
       "      <td>Food</td>\n",
       "      <td>USD</td>\n",
       "      <td>2015-05-17</td>\n",
       "      <td>2015-04-17 18:10:47</td>\n",
       "      <td>62</td>\n",
       "      <td>US</td>\n",
       "      <td>2414.00</td>\n",
       "      <td>1400.0</td>\n",
       "      <td>1.0</td>\n",
       "    </tr>\n",
       "    <tr>\n",
       "      <th>5</th>\n",
       "      <td>New Improv Comedy Venue in Des Moines</td>\n",
       "      <td>Theater</td>\n",
       "      <td>Theater</td>\n",
       "      <td>USD</td>\n",
       "      <td>2013-06-17</td>\n",
       "      <td>2013-05-03 16:17:21</td>\n",
       "      <td>86</td>\n",
       "      <td>US</td>\n",
       "      <td>10030.88</td>\n",
       "      <td>10000.0</td>\n",
       "      <td>1.0</td>\n",
       "    </tr>\n",
       "    <tr>\n",
       "      <th>6</th>\n",
       "      <td>The Seer and the Sword</td>\n",
       "      <td>Shorts</td>\n",
       "      <td>Film &amp; Video</td>\n",
       "      <td>USD</td>\n",
       "      <td>2012-08-11</td>\n",
       "      <td>2012-07-12 05:19:53</td>\n",
       "      <td>0</td>\n",
       "      <td>US</td>\n",
       "      <td>0.00</td>\n",
       "      <td>10000.0</td>\n",
       "      <td>0.0</td>\n",
       "    </tr>\n",
       "  </tbody>\n",
       "</table>\n",
       "</div>"
      ],
      "text/plain": [
       "                                            Название    Категория  \\\n",
       "0              Don't Call it a Comeback \"Telescopes\"        Music   \n",
       "3  Me & You Coordinating Sunglasses- Optical Qual...  Accessories   \n",
       "4         New Carts for Istanbul Street Food Vendors         Food   \n",
       "5              New Improv Comedy Venue in Des Moines      Theater   \n",
       "6                             The Seer and the Sword       Shorts   \n",
       "\n",
       "  Главная категория Валюта     Дедлайн      Дата публикации  Инвесторов  \\\n",
       "0             Music    USD  2013-01-10  2012-12-09 06:03:52          23   \n",
       "3           Fashion    USD  2016-11-18  2016-10-19 22:06:41          20   \n",
       "4              Food    USD  2015-05-17  2015-04-17 18:10:47          62   \n",
       "5           Theater    USD  2013-06-17  2013-05-03 16:17:21          86   \n",
       "6      Film & Video    USD  2012-08-11  2012-07-12 05:19:53           0   \n",
       "\n",
       "  Страна   таргет2  Цель в долларах  таргет1  \n",
       "0     US    600.00            600.0      1.0  \n",
       "3     US    502.00          10000.0      0.0  \n",
       "4     US   2414.00           1400.0      1.0  \n",
       "5     US  10030.88          10000.0      1.0  \n",
       "6     US      0.00          10000.0      0.0  "
      ]
     },
     "execution_count": 8,
     "metadata": {},
     "output_type": "execute_result"
    }
   ],
   "source": [
    "### Создадим вещественную колонку таргет2\n",
    "data = data.rename({'Собрано в долларах':'таргет2'}, axis=1)\n",
    "data.head()"
   ]
  },
  {
   "cell_type": "markdown",
   "id": "221f84e6",
   "metadata": {},
   "source": [
    "### Чтобы получить матрицу объектов, зачастую нужно обработать сырые данные, то есть извлечь из имеющихся таблиц признаки там, где они не даны явно"
   ]
  },
  {
   "cell_type": "code",
   "execution_count": 9,
   "id": "01990128",
   "metadata": {
    "ExecuteTime": {
     "end_time": "2022-06-21T19:15:26.732626Z",
     "start_time": "2022-06-21T19:15:26.652151Z"
    }
   },
   "outputs": [],
   "source": [
    "### Оставим от колонок с датами разницу в днях \n",
    "\n",
    "data['Дедлайн'] = pd.to_datetime(data['Дедлайн'])\n",
    "data['Дата публикации'] = pd.to_datetime(data['Дата публикации'])"
   ]
  },
  {
   "cell_type": "code",
   "execution_count": 10,
   "id": "f86f66e3",
   "metadata": {
    "ExecuteTime": {
     "end_time": "2022-06-21T19:15:26.741372Z",
     "start_time": "2022-06-21T19:15:26.733314Z"
    }
   },
   "outputs": [],
   "source": [
    "data['Срок'] = (data['Дедлайн'] - data['Дата публикации']).dt.days"
   ]
  },
  {
   "cell_type": "code",
   "execution_count": 11,
   "id": "71305889",
   "metadata": {
    "ExecuteTime": {
     "end_time": "2022-06-21T19:15:26.756956Z",
     "start_time": "2022-06-21T19:15:26.742197Z"
    }
   },
   "outputs": [],
   "source": [
    "### Выделим год запуска проекта\n",
    "data['Год публикации'] = data['Дата публикации'].dt.year"
   ]
  },
  {
   "cell_type": "code",
   "execution_count": 12,
   "id": "dd439099",
   "metadata": {
    "ExecuteTime": {
     "end_time": "2022-06-21T19:15:26.764273Z",
     "start_time": "2022-06-21T19:15:26.757665Z"
    }
   },
   "outputs": [
    {
     "data": {
      "text/html": [
       "<div>\n",
       "<style scoped>\n",
       "    .dataframe tbody tr th:only-of-type {\n",
       "        vertical-align: middle;\n",
       "    }\n",
       "\n",
       "    .dataframe tbody tr th {\n",
       "        vertical-align: top;\n",
       "    }\n",
       "\n",
       "    .dataframe thead th {\n",
       "        text-align: right;\n",
       "    }\n",
       "</style>\n",
       "<table border=\"1\" class=\"dataframe\">\n",
       "  <thead>\n",
       "    <tr style=\"text-align: right;\">\n",
       "      <th></th>\n",
       "      <th>Название</th>\n",
       "      <th>Категория</th>\n",
       "      <th>Главная категория</th>\n",
       "      <th>Валюта</th>\n",
       "      <th>Дедлайн</th>\n",
       "      <th>Дата публикации</th>\n",
       "      <th>Инвесторов</th>\n",
       "      <th>Страна</th>\n",
       "      <th>таргет2</th>\n",
       "      <th>Цель в долларах</th>\n",
       "      <th>таргет1</th>\n",
       "      <th>Срок</th>\n",
       "      <th>Год публикации</th>\n",
       "    </tr>\n",
       "  </thead>\n",
       "  <tbody>\n",
       "    <tr>\n",
       "      <th>0</th>\n",
       "      <td>Don't Call it a Comeback \"Telescopes\"</td>\n",
       "      <td>Music</td>\n",
       "      <td>Music</td>\n",
       "      <td>USD</td>\n",
       "      <td>2013-01-10</td>\n",
       "      <td>2012-12-09 06:03:52</td>\n",
       "      <td>23</td>\n",
       "      <td>US</td>\n",
       "      <td>600.00</td>\n",
       "      <td>600.0</td>\n",
       "      <td>1.0</td>\n",
       "      <td>31</td>\n",
       "      <td>2012</td>\n",
       "    </tr>\n",
       "    <tr>\n",
       "      <th>3</th>\n",
       "      <td>Me &amp; You Coordinating Sunglasses- Optical Qual...</td>\n",
       "      <td>Accessories</td>\n",
       "      <td>Fashion</td>\n",
       "      <td>USD</td>\n",
       "      <td>2016-11-18</td>\n",
       "      <td>2016-10-19 22:06:41</td>\n",
       "      <td>20</td>\n",
       "      <td>US</td>\n",
       "      <td>502.00</td>\n",
       "      <td>10000.0</td>\n",
       "      <td>0.0</td>\n",
       "      <td>29</td>\n",
       "      <td>2016</td>\n",
       "    </tr>\n",
       "    <tr>\n",
       "      <th>4</th>\n",
       "      <td>New Carts for Istanbul Street Food Vendors</td>\n",
       "      <td>Food</td>\n",
       "      <td>Food</td>\n",
       "      <td>USD</td>\n",
       "      <td>2015-05-17</td>\n",
       "      <td>2015-04-17 18:10:47</td>\n",
       "      <td>62</td>\n",
       "      <td>US</td>\n",
       "      <td>2414.00</td>\n",
       "      <td>1400.0</td>\n",
       "      <td>1.0</td>\n",
       "      <td>29</td>\n",
       "      <td>2015</td>\n",
       "    </tr>\n",
       "    <tr>\n",
       "      <th>5</th>\n",
       "      <td>New Improv Comedy Venue in Des Moines</td>\n",
       "      <td>Theater</td>\n",
       "      <td>Theater</td>\n",
       "      <td>USD</td>\n",
       "      <td>2013-06-17</td>\n",
       "      <td>2013-05-03 16:17:21</td>\n",
       "      <td>86</td>\n",
       "      <td>US</td>\n",
       "      <td>10030.88</td>\n",
       "      <td>10000.0</td>\n",
       "      <td>1.0</td>\n",
       "      <td>44</td>\n",
       "      <td>2013</td>\n",
       "    </tr>\n",
       "    <tr>\n",
       "      <th>6</th>\n",
       "      <td>The Seer and the Sword</td>\n",
       "      <td>Shorts</td>\n",
       "      <td>Film &amp; Video</td>\n",
       "      <td>USD</td>\n",
       "      <td>2012-08-11</td>\n",
       "      <td>2012-07-12 05:19:53</td>\n",
       "      <td>0</td>\n",
       "      <td>US</td>\n",
       "      <td>0.00</td>\n",
       "      <td>10000.0</td>\n",
       "      <td>0.0</td>\n",
       "      <td>29</td>\n",
       "      <td>2012</td>\n",
       "    </tr>\n",
       "  </tbody>\n",
       "</table>\n",
       "</div>"
      ],
      "text/plain": [
       "                                            Название    Категория  \\\n",
       "0              Don't Call it a Comeback \"Telescopes\"        Music   \n",
       "3  Me & You Coordinating Sunglasses- Optical Qual...  Accessories   \n",
       "4         New Carts for Istanbul Street Food Vendors         Food   \n",
       "5              New Improv Comedy Venue in Des Moines      Theater   \n",
       "6                             The Seer and the Sword       Shorts   \n",
       "\n",
       "  Главная категория Валюта    Дедлайн     Дата публикации  Инвесторов Страна  \\\n",
       "0             Music    USD 2013-01-10 2012-12-09 06:03:52          23     US   \n",
       "3           Fashion    USD 2016-11-18 2016-10-19 22:06:41          20     US   \n",
       "4              Food    USD 2015-05-17 2015-04-17 18:10:47          62     US   \n",
       "5           Theater    USD 2013-06-17 2013-05-03 16:17:21          86     US   \n",
       "6      Film & Video    USD 2012-08-11 2012-07-12 05:19:53           0     US   \n",
       "\n",
       "    таргет2  Цель в долларах  таргет1  Срок  Год публикации  \n",
       "0    600.00            600.0      1.0    31            2012  \n",
       "3    502.00          10000.0      0.0    29            2016  \n",
       "4   2414.00           1400.0      1.0    29            2015  \n",
       "5  10030.88          10000.0      1.0    44            2013  \n",
       "6      0.00          10000.0      0.0    29            2012  "
      ]
     },
     "execution_count": 12,
     "metadata": {},
     "output_type": "execute_result"
    }
   ],
   "source": [
    "data.head()"
   ]
  },
  {
   "cell_type": "markdown",
   "id": "5a30903e",
   "metadata": {},
   "source": [
    "### Иногда может казаться, что признаков мало. Стоит подумать над тем, что еще может объяснять таргет-переменную."
   ]
  },
  {
   "cell_type": "code",
   "execution_count": 13,
   "id": "54833347",
   "metadata": {
    "ExecuteTime": {
     "end_time": "2022-06-21T19:15:27.385425Z",
     "start_time": "2022-06-21T19:15:26.765072Z"
    }
   },
   "outputs": [
    {
     "ename": "FileNotFoundError",
     "evalue": "[Errno 2] No such file or directory: 'macrofeatures.xlsx'",
     "output_type": "error",
     "traceback": [
      "\u001b[0;31m---------------------------------------------------------------------------\u001b[0m",
      "\u001b[0;31mFileNotFoundError\u001b[0m                         Traceback (most recent call last)",
      "Input \u001b[0;32mIn [13]\u001b[0m, in \u001b[0;36m<cell line: 1>\u001b[0;34m()\u001b[0m\n\u001b[0;32m----> 1\u001b[0m Macro \u001b[38;5;241m=\u001b[39m \u001b[43mpd\u001b[49m\u001b[38;5;241;43m.\u001b[39;49m\u001b[43mread_excel\u001b[49m\u001b[43m(\u001b[49m\u001b[38;5;124;43m\"\u001b[39;49m\u001b[38;5;124;43mmacrofeatures.xlsx\u001b[39;49m\u001b[38;5;124;43m\"\u001b[39;49m\u001b[43m,\u001b[49m\u001b[43m \u001b[49m\u001b[43mengine\u001b[49m\u001b[38;5;241;43m=\u001b[39;49m\u001b[38;5;124;43m\"\u001b[39;49m\u001b[38;5;124;43mopenpyxl\u001b[39;49m\u001b[38;5;124;43m\"\u001b[39;49m\u001b[43m)\u001b[49m\n\u001b[1;32m      3\u001b[0m Macro\u001b[38;5;241m.\u001b[39mhead()\n",
      "File \u001b[0;32m~/opt/anaconda3/lib/python3.9/site-packages/pandas/util/_decorators.py:311\u001b[0m, in \u001b[0;36mdeprecate_nonkeyword_arguments.<locals>.decorate.<locals>.wrapper\u001b[0;34m(*args, **kwargs)\u001b[0m\n\u001b[1;32m    305\u001b[0m \u001b[38;5;28;01mif\u001b[39;00m \u001b[38;5;28mlen\u001b[39m(args) \u001b[38;5;241m>\u001b[39m num_allow_args:\n\u001b[1;32m    306\u001b[0m     warnings\u001b[38;5;241m.\u001b[39mwarn(\n\u001b[1;32m    307\u001b[0m         msg\u001b[38;5;241m.\u001b[39mformat(arguments\u001b[38;5;241m=\u001b[39marguments),\n\u001b[1;32m    308\u001b[0m         \u001b[38;5;167;01mFutureWarning\u001b[39;00m,\n\u001b[1;32m    309\u001b[0m         stacklevel\u001b[38;5;241m=\u001b[39mstacklevel,\n\u001b[1;32m    310\u001b[0m     )\n\u001b[0;32m--> 311\u001b[0m \u001b[38;5;28;01mreturn\u001b[39;00m \u001b[43mfunc\u001b[49m\u001b[43m(\u001b[49m\u001b[38;5;241;43m*\u001b[39;49m\u001b[43margs\u001b[49m\u001b[43m,\u001b[49m\u001b[43m \u001b[49m\u001b[38;5;241;43m*\u001b[39;49m\u001b[38;5;241;43m*\u001b[39;49m\u001b[43mkwargs\u001b[49m\u001b[43m)\u001b[49m\n",
      "File \u001b[0;32m~/opt/anaconda3/lib/python3.9/site-packages/pandas/io/excel/_base.py:457\u001b[0m, in \u001b[0;36mread_excel\u001b[0;34m(io, sheet_name, header, names, index_col, usecols, squeeze, dtype, engine, converters, true_values, false_values, skiprows, nrows, na_values, keep_default_na, na_filter, verbose, parse_dates, date_parser, thousands, decimal, comment, skipfooter, convert_float, mangle_dupe_cols, storage_options)\u001b[0m\n\u001b[1;32m    455\u001b[0m \u001b[38;5;28;01mif\u001b[39;00m \u001b[38;5;129;01mnot\u001b[39;00m \u001b[38;5;28misinstance\u001b[39m(io, ExcelFile):\n\u001b[1;32m    456\u001b[0m     should_close \u001b[38;5;241m=\u001b[39m \u001b[38;5;28;01mTrue\u001b[39;00m\n\u001b[0;32m--> 457\u001b[0m     io \u001b[38;5;241m=\u001b[39m \u001b[43mExcelFile\u001b[49m\u001b[43m(\u001b[49m\u001b[43mio\u001b[49m\u001b[43m,\u001b[49m\u001b[43m \u001b[49m\u001b[43mstorage_options\u001b[49m\u001b[38;5;241;43m=\u001b[39;49m\u001b[43mstorage_options\u001b[49m\u001b[43m,\u001b[49m\u001b[43m \u001b[49m\u001b[43mengine\u001b[49m\u001b[38;5;241;43m=\u001b[39;49m\u001b[43mengine\u001b[49m\u001b[43m)\u001b[49m\n\u001b[1;32m    458\u001b[0m \u001b[38;5;28;01melif\u001b[39;00m engine \u001b[38;5;129;01mand\u001b[39;00m engine \u001b[38;5;241m!=\u001b[39m io\u001b[38;5;241m.\u001b[39mengine:\n\u001b[1;32m    459\u001b[0m     \u001b[38;5;28;01mraise\u001b[39;00m \u001b[38;5;167;01mValueError\u001b[39;00m(\n\u001b[1;32m    460\u001b[0m         \u001b[38;5;124m\"\u001b[39m\u001b[38;5;124mEngine should not be specified when passing \u001b[39m\u001b[38;5;124m\"\u001b[39m\n\u001b[1;32m    461\u001b[0m         \u001b[38;5;124m\"\u001b[39m\u001b[38;5;124man ExcelFile - ExcelFile already has the engine set\u001b[39m\u001b[38;5;124m\"\u001b[39m\n\u001b[1;32m    462\u001b[0m     )\n",
      "File \u001b[0;32m~/opt/anaconda3/lib/python3.9/site-packages/pandas/io/excel/_base.py:1419\u001b[0m, in \u001b[0;36mExcelFile.__init__\u001b[0;34m(self, path_or_buffer, engine, storage_options)\u001b[0m\n\u001b[1;32m   1416\u001b[0m \u001b[38;5;28mself\u001b[39m\u001b[38;5;241m.\u001b[39mengine \u001b[38;5;241m=\u001b[39m engine\n\u001b[1;32m   1417\u001b[0m \u001b[38;5;28mself\u001b[39m\u001b[38;5;241m.\u001b[39mstorage_options \u001b[38;5;241m=\u001b[39m storage_options\n\u001b[0;32m-> 1419\u001b[0m \u001b[38;5;28mself\u001b[39m\u001b[38;5;241m.\u001b[39m_reader \u001b[38;5;241m=\u001b[39m \u001b[38;5;28;43mself\u001b[39;49m\u001b[38;5;241;43m.\u001b[39;49m\u001b[43m_engines\u001b[49m\u001b[43m[\u001b[49m\u001b[43mengine\u001b[49m\u001b[43m]\u001b[49m\u001b[43m(\u001b[49m\u001b[38;5;28;43mself\u001b[39;49m\u001b[38;5;241;43m.\u001b[39;49m\u001b[43m_io\u001b[49m\u001b[43m,\u001b[49m\u001b[43m \u001b[49m\u001b[43mstorage_options\u001b[49m\u001b[38;5;241;43m=\u001b[39;49m\u001b[43mstorage_options\u001b[49m\u001b[43m)\u001b[49m\n",
      "File \u001b[0;32m~/opt/anaconda3/lib/python3.9/site-packages/pandas/io/excel/_openpyxl.py:525\u001b[0m, in \u001b[0;36mOpenpyxlReader.__init__\u001b[0;34m(self, filepath_or_buffer, storage_options)\u001b[0m\n\u001b[1;32m    514\u001b[0m \u001b[38;5;124;03m\"\"\"\u001b[39;00m\n\u001b[1;32m    515\u001b[0m \u001b[38;5;124;03mReader using openpyxl engine.\u001b[39;00m\n\u001b[1;32m    516\u001b[0m \n\u001b[0;32m   (...)\u001b[0m\n\u001b[1;32m    522\u001b[0m \u001b[38;5;124;03m    passed to fsspec for appropriate URLs (see ``_get_filepath_or_buffer``)\u001b[39;00m\n\u001b[1;32m    523\u001b[0m \u001b[38;5;124;03m\"\"\"\u001b[39;00m\n\u001b[1;32m    524\u001b[0m import_optional_dependency(\u001b[38;5;124m\"\u001b[39m\u001b[38;5;124mopenpyxl\u001b[39m\u001b[38;5;124m\"\u001b[39m)\n\u001b[0;32m--> 525\u001b[0m \u001b[38;5;28;43msuper\u001b[39;49m\u001b[43m(\u001b[49m\u001b[43m)\u001b[49m\u001b[38;5;241;43m.\u001b[39;49m\u001b[38;5;21;43m__init__\u001b[39;49m\u001b[43m(\u001b[49m\u001b[43mfilepath_or_buffer\u001b[49m\u001b[43m,\u001b[49m\u001b[43m \u001b[49m\u001b[43mstorage_options\u001b[49m\u001b[38;5;241;43m=\u001b[39;49m\u001b[43mstorage_options\u001b[49m\u001b[43m)\u001b[49m\n",
      "File \u001b[0;32m~/opt/anaconda3/lib/python3.9/site-packages/pandas/io/excel/_base.py:508\u001b[0m, in \u001b[0;36mBaseExcelReader.__init__\u001b[0;34m(self, filepath_or_buffer, storage_options)\u001b[0m\n\u001b[1;32m    504\u001b[0m \u001b[38;5;28mself\u001b[39m\u001b[38;5;241m.\u001b[39mhandles \u001b[38;5;241m=\u001b[39m IOHandles(\n\u001b[1;32m    505\u001b[0m     handle\u001b[38;5;241m=\u001b[39mfilepath_or_buffer, compression\u001b[38;5;241m=\u001b[39m{\u001b[38;5;124m\"\u001b[39m\u001b[38;5;124mmethod\u001b[39m\u001b[38;5;124m\"\u001b[39m: \u001b[38;5;28;01mNone\u001b[39;00m}\n\u001b[1;32m    506\u001b[0m )\n\u001b[1;32m    507\u001b[0m \u001b[38;5;28;01mif\u001b[39;00m \u001b[38;5;129;01mnot\u001b[39;00m \u001b[38;5;28misinstance\u001b[39m(filepath_or_buffer, (ExcelFile, \u001b[38;5;28mself\u001b[39m\u001b[38;5;241m.\u001b[39m_workbook_class)):\n\u001b[0;32m--> 508\u001b[0m     \u001b[38;5;28mself\u001b[39m\u001b[38;5;241m.\u001b[39mhandles \u001b[38;5;241m=\u001b[39m \u001b[43mget_handle\u001b[49m\u001b[43m(\u001b[49m\n\u001b[1;32m    509\u001b[0m \u001b[43m        \u001b[49m\u001b[43mfilepath_or_buffer\u001b[49m\u001b[43m,\u001b[49m\u001b[43m \u001b[49m\u001b[38;5;124;43m\"\u001b[39;49m\u001b[38;5;124;43mrb\u001b[39;49m\u001b[38;5;124;43m\"\u001b[39;49m\u001b[43m,\u001b[49m\u001b[43m \u001b[49m\u001b[43mstorage_options\u001b[49m\u001b[38;5;241;43m=\u001b[39;49m\u001b[43mstorage_options\u001b[49m\u001b[43m,\u001b[49m\u001b[43m \u001b[49m\u001b[43mis_text\u001b[49m\u001b[38;5;241;43m=\u001b[39;49m\u001b[38;5;28;43;01mFalse\u001b[39;49;00m\n\u001b[1;32m    510\u001b[0m \u001b[43m    \u001b[49m\u001b[43m)\u001b[49m\n\u001b[1;32m    512\u001b[0m \u001b[38;5;28;01mif\u001b[39;00m \u001b[38;5;28misinstance\u001b[39m(\u001b[38;5;28mself\u001b[39m\u001b[38;5;241m.\u001b[39mhandles\u001b[38;5;241m.\u001b[39mhandle, \u001b[38;5;28mself\u001b[39m\u001b[38;5;241m.\u001b[39m_workbook_class):\n\u001b[1;32m    513\u001b[0m     \u001b[38;5;28mself\u001b[39m\u001b[38;5;241m.\u001b[39mbook \u001b[38;5;241m=\u001b[39m \u001b[38;5;28mself\u001b[39m\u001b[38;5;241m.\u001b[39mhandles\u001b[38;5;241m.\u001b[39mhandle\n",
      "File \u001b[0;32m~/opt/anaconda3/lib/python3.9/site-packages/pandas/io/common.py:798\u001b[0m, in \u001b[0;36mget_handle\u001b[0;34m(path_or_buf, mode, encoding, compression, memory_map, is_text, errors, storage_options)\u001b[0m\n\u001b[1;32m    789\u001b[0m         handle \u001b[38;5;241m=\u001b[39m \u001b[38;5;28mopen\u001b[39m(\n\u001b[1;32m    790\u001b[0m             handle,\n\u001b[1;32m    791\u001b[0m             ioargs\u001b[38;5;241m.\u001b[39mmode,\n\u001b[0;32m   (...)\u001b[0m\n\u001b[1;32m    794\u001b[0m             newline\u001b[38;5;241m=\u001b[39m\u001b[38;5;124m\"\u001b[39m\u001b[38;5;124m\"\u001b[39m,\n\u001b[1;32m    795\u001b[0m         )\n\u001b[1;32m    796\u001b[0m     \u001b[38;5;28;01melse\u001b[39;00m:\n\u001b[1;32m    797\u001b[0m         \u001b[38;5;66;03m# Binary mode\u001b[39;00m\n\u001b[0;32m--> 798\u001b[0m         handle \u001b[38;5;241m=\u001b[39m \u001b[38;5;28;43mopen\u001b[39;49m\u001b[43m(\u001b[49m\u001b[43mhandle\u001b[49m\u001b[43m,\u001b[49m\u001b[43m \u001b[49m\u001b[43mioargs\u001b[49m\u001b[38;5;241;43m.\u001b[39;49m\u001b[43mmode\u001b[49m\u001b[43m)\u001b[49m\n\u001b[1;32m    799\u001b[0m     handles\u001b[38;5;241m.\u001b[39mappend(handle)\n\u001b[1;32m    801\u001b[0m \u001b[38;5;66;03m# Convert BytesIO or file objects passed with an encoding\u001b[39;00m\n",
      "\u001b[0;31mFileNotFoundError\u001b[0m: [Errno 2] No such file or directory: 'macrofeatures.xlsx'"
     ]
    }
   ],
   "source": [
    "Macro = pd.read_excel(\"macrofeatures.xlsx\", engine=\"openpyxl\")\n",
    "\n",
    "Macro.head()"
   ]
  },
  {
   "cell_type": "code",
   "execution_count": null,
   "id": "f6524df2",
   "metadata": {
    "ExecuteTime": {
     "end_time": "2022-06-21T19:15:27.388954Z",
     "start_time": "2022-06-21T19:15:27.388949Z"
    }
   },
   "outputs": [],
   "source": [
    "### Смерджим колонки. Оставим от макрофичей какую-нибудь одну.\n",
    "\n",
    "Macro = Macro[['Close_brent', 'dlk_cob_date']].drop_duplicates()"
   ]
  },
  {
   "cell_type": "code",
   "execution_count": null,
   "id": "602263a9",
   "metadata": {
    "ExecuteTime": {
     "end_time": "2022-06-21T19:15:27.389671Z",
     "start_time": "2022-06-21T19:15:27.389665Z"
    }
   },
   "outputs": [],
   "source": [
    "Macro['dlk_cob_date'] = pd.to_datetime(Macro['dlk_cob_date'])"
   ]
  },
  {
   "cell_type": "code",
   "execution_count": null,
   "id": "58513081",
   "metadata": {
    "ExecuteTime": {
     "end_time": "2022-06-21T19:15:27.390227Z",
     "start_time": "2022-06-21T19:15:27.390222Z"
    }
   },
   "outputs": [],
   "source": [
    "data['Дата публикации'] = data['Дата публикации'].astype('datetime64[ns]')"
   ]
  },
  {
   "cell_type": "code",
   "execution_count": null,
   "id": "e1683899",
   "metadata": {
    "ExecuteTime": {
     "end_time": "2022-06-21T19:15:27.390710Z",
     "start_time": "2022-06-21T19:15:27.390705Z"
    }
   },
   "outputs": [],
   "source": [
    "data = pd.merge(data,\n",
    "         Macro,\n",
    "         left_on=['Дата публикации'],\n",
    "         right_on=['dlk_cob_date'],\n",
    "         how='left')"
   ]
  },
  {
   "cell_type": "code",
   "execution_count": null,
   "id": "be924f11",
   "metadata": {
    "ExecuteTime": {
     "end_time": "2022-06-21T19:15:27.391313Z",
     "start_time": "2022-06-21T19:15:27.391307Z"
    }
   },
   "outputs": [],
   "source": [
    "data = data.sort_values('Дата публикации')"
   ]
  },
  {
   "cell_type": "code",
   "execution_count": null,
   "id": "b073aa61",
   "metadata": {
    "ExecuteTime": {
     "end_time": "2022-06-21T19:15:27.391777Z",
     "start_time": "2022-06-21T19:15:27.391768Z"
    }
   },
   "outputs": [],
   "source": [
    "data['Close_brent'] = data['Close_brent'].fillna(34.41)"
   ]
  },
  {
   "cell_type": "code",
   "execution_count": null,
   "id": "542841fd",
   "metadata": {
    "ExecuteTime": {
     "end_time": "2022-06-21T19:15:27.392156Z",
     "start_time": "2022-06-21T19:15:27.392151Z"
    }
   },
   "outputs": [],
   "source": [
    "data = data.drop(['Дедлайн', 'Дата публикации', 'dlk_cob_date'], axis=1)"
   ]
  },
  {
   "cell_type": "code",
   "execution_count": null,
   "id": "8d5679da",
   "metadata": {
    "ExecuteTime": {
     "end_time": "2022-06-21T19:15:27.392557Z",
     "start_time": "2022-06-21T19:15:27.392551Z"
    }
   },
   "outputs": [],
   "source": [
    "data.head()"
   ]
  },
  {
   "cell_type": "markdown",
   "id": "475faa83",
   "metadata": {},
   "source": [
    "### Финально, стоит избавиться от колонок, которые мы не считаем признаками"
   ]
  },
  {
   "cell_type": "code",
   "execution_count": null,
   "id": "9c6bd979",
   "metadata": {
    "ExecuteTime": {
     "end_time": "2022-06-21T19:15:27.392980Z",
     "start_time": "2022-06-21T19:15:27.392976Z"
    }
   },
   "outputs": [],
   "source": [
    "### Уберем колонки Дедлайн, Дата запуска, Инвесторы, Название, Страна\n",
    "\n",
    "data = data.drop(['Название', 'Страна', 'Инвесторов'], axis=1)"
   ]
  },
  {
   "cell_type": "code",
   "execution_count": null,
   "id": "0d417a78",
   "metadata": {
    "ExecuteTime": {
     "end_time": "2022-06-21T19:15:27.393431Z",
     "start_time": "2022-06-21T19:15:27.393426Z"
    }
   },
   "outputs": [],
   "source": [
    "data.head()"
   ]
  },
  {
   "cell_type": "markdown",
   "id": "614f72d9",
   "metadata": {},
   "source": [
    "## One-hot encoding"
   ]
  },
  {
   "cell_type": "code",
   "execution_count": null,
   "id": "7d7952c1",
   "metadata": {
    "ExecuteTime": {
     "end_time": "2022-06-21T19:15:27.394005Z",
     "start_time": "2022-06-21T19:15:27.394001Z"
    }
   },
   "outputs": [],
   "source": [
    "Image('ONEHOT.png')"
   ]
  },
  {
   "cell_type": "code",
   "execution_count": null,
   "id": "11ddc754",
   "metadata": {
    "ExecuteTime": {
     "end_time": "2022-06-21T19:15:27.394602Z",
     "start_time": "2022-06-21T19:15:27.394597Z"
    }
   },
   "outputs": [],
   "source": [
    "### One-hot encoding колонки с валютой\n",
    "\n",
    "data = pd.concat((data, pd.get_dummies(data['Валюта'])), axis=1)\n",
    "data = data.drop(['Валюта'], axis=1)"
   ]
  },
  {
   "cell_type": "code",
   "execution_count": null,
   "id": "337252fc",
   "metadata": {
    "ExecuteTime": {
     "end_time": "2022-06-21T19:15:27.395001Z",
     "start_time": "2022-06-21T19:15:27.394996Z"
    }
   },
   "outputs": [],
   "source": [
    "data.head()"
   ]
  },
  {
   "cell_type": "code",
   "execution_count": null,
   "id": "0aa972fc",
   "metadata": {
    "ExecuteTime": {
     "end_time": "2022-06-21T19:15:27.395447Z",
     "start_time": "2022-06-21T19:15:27.395442Z"
    }
   },
   "outputs": [],
   "source": [
    "### Почистим данные от лишней информации \n",
    "data = data.drop('AUD', axis=1)"
   ]
  },
  {
   "cell_type": "code",
   "execution_count": null,
   "id": "04740085",
   "metadata": {
    "ExecuteTime": {
     "end_time": "2022-06-21T19:15:27.395919Z",
     "start_time": "2022-06-21T19:15:27.395914Z"
    }
   },
   "outputs": [],
   "source": [
    "### Аналогично закодируем Главную категорию\n",
    "data = pd.concat((data, pd.get_dummies(data['Главная категория'])), axis=1)\n",
    "data = data.drop(['Главная категория'], axis=1)"
   ]
  },
  {
   "cell_type": "code",
   "execution_count": null,
   "id": "4957c2a2",
   "metadata": {
    "ExecuteTime": {
     "end_time": "2022-06-21T19:15:27.396477Z",
     "start_time": "2022-06-21T19:15:27.396472Z"
    }
   },
   "outputs": [],
   "source": [
    "data.head()"
   ]
  },
  {
   "cell_type": "code",
   "execution_count": null,
   "id": "037d29d3",
   "metadata": {
    "ExecuteTime": {
     "end_time": "2022-06-21T19:15:27.396946Z",
     "start_time": "2022-06-21T19:15:27.396941Z"
    }
   },
   "outputs": [],
   "source": [
    "data = data.drop('Games', axis=1)"
   ]
  },
  {
   "cell_type": "code",
   "execution_count": null,
   "id": "b8e9118b",
   "metadata": {
    "ExecuteTime": {
     "end_time": "2022-06-21T19:15:27.397337Z",
     "start_time": "2022-06-21T19:15:27.397332Z"
    }
   },
   "outputs": [],
   "source": [
    "### А что с колонкой Категория?\n",
    "\n",
    "len(data['Категория'].unique())"
   ]
  },
  {
   "cell_type": "markdown",
   "id": "f99b350d",
   "metadata": {},
   "source": [
    "## Mean-target encoding (Счетчики)"
   ]
  },
  {
   "cell_type": "code",
   "execution_count": null,
   "id": "60c14ae2",
   "metadata": {
    "ExecuteTime": {
     "end_time": "2022-06-21T19:15:27.397781Z",
     "start_time": "2022-06-21T19:15:27.397775Z"
    }
   },
   "outputs": [],
   "source": [
    "Image('Счетчики.png')"
   ]
  },
  {
   "cell_type": "code",
   "execution_count": 14,
   "id": "b1485682",
   "metadata": {
    "ExecuteTime": {
     "end_time": "2022-06-21T19:16:01.363179Z",
     "start_time": "2022-06-21T19:16:01.297795Z"
    }
   },
   "outputs": [],
   "source": [
    "### Произведем mean-target-encoding колонки Категория\n",
    "\n",
    "data['Категория'] = data['Категория'].map(data.groupby(['Категория'])['таргет2'].mean())"
   ]
  },
  {
   "cell_type": "code",
   "execution_count": 16,
   "id": "55ec63d6",
   "metadata": {
    "ExecuteTime": {
     "end_time": "2022-06-21T19:16:46.922785Z",
     "start_time": "2022-06-21T19:16:46.902394Z"
    }
   },
   "outputs": [
    {
     "data": {
      "text/plain": [
       "Категория\n",
       "317.617947        317.617947\n",
       "631.714603        631.714603\n",
       "946.153400        946.153400\n",
       "953.058936        953.058936\n",
       "1012.834051      1012.834051\n",
       "                    ...     \n",
       "57306.019691    57306.019691\n",
       "65854.270745    65854.270745\n",
       "73083.996370    73083.996370\n",
       "76876.211356    76876.211356\n",
       "95287.899486    95287.899486\n",
       "Name: таргет2, Length: 159, dtype: float64"
      ]
     },
     "execution_count": 16,
     "metadata": {},
     "output_type": "execute_result"
    }
   ],
   "source": [
    "data.groupby('Категория')['таргет2'].mean()"
   ]
  },
  {
   "cell_type": "code",
   "execution_count": 76,
   "id": "a7dcc68d",
   "metadata": {},
   "outputs": [
    {
     "data": {
      "text/html": [
       "<div>\n",
       "<style scoped>\n",
       "    .dataframe tbody tr th:only-of-type {\n",
       "        vertical-align: middle;\n",
       "    }\n",
       "\n",
       "    .dataframe tbody tr th {\n",
       "        vertical-align: top;\n",
       "    }\n",
       "\n",
       "    .dataframe thead th {\n",
       "        text-align: right;\n",
       "    }\n",
       "</style>\n",
       "<table border=\"1\" class=\"dataframe\">\n",
       "  <thead>\n",
       "    <tr style=\"text-align: right;\">\n",
       "      <th></th>\n",
       "      <th>Категория</th>\n",
       "      <th>таргет2</th>\n",
       "      <th>Цель в долларах</th>\n",
       "      <th>таргет1</th>\n",
       "      <th>Срок</th>\n",
       "      <th>Год публикации</th>\n",
       "      <th>Close_brent</th>\n",
       "      <th>CAD</th>\n",
       "      <th>CHF</th>\n",
       "      <th>DKK</th>\n",
       "      <th>...</th>\n",
       "      <th>Design</th>\n",
       "      <th>Fashion</th>\n",
       "      <th>Film &amp; Video</th>\n",
       "      <th>Food</th>\n",
       "      <th>Journalism</th>\n",
       "      <th>Music</th>\n",
       "      <th>Photography</th>\n",
       "      <th>Publishing</th>\n",
       "      <th>Technology</th>\n",
       "      <th>Theater</th>\n",
       "    </tr>\n",
       "  </thead>\n",
       "  <tbody>\n",
       "    <tr>\n",
       "      <th>176128</th>\n",
       "      <td>6035.989239</td>\n",
       "      <td>625.0</td>\n",
       "      <td>1000.0</td>\n",
       "      <td>0.0</td>\n",
       "      <td>39</td>\n",
       "      <td>2009</td>\n",
       "      <td>34.41</td>\n",
       "      <td>0</td>\n",
       "      <td>0</td>\n",
       "      <td>0</td>\n",
       "      <td>...</td>\n",
       "      <td>0</td>\n",
       "      <td>1</td>\n",
       "      <td>0</td>\n",
       "      <td>0</td>\n",
       "      <td>0</td>\n",
       "      <td>0</td>\n",
       "      <td>0</td>\n",
       "      <td>0</td>\n",
       "      <td>0</td>\n",
       "      <td>0</td>\n",
       "    </tr>\n",
       "    <tr>\n",
       "      <th>241929</th>\n",
       "      <td>3591.033473</td>\n",
       "      <td>22.0</td>\n",
       "      <td>80000.0</td>\n",
       "      <td>0.0</td>\n",
       "      <td>87</td>\n",
       "      <td>2009</td>\n",
       "      <td>34.41</td>\n",
       "      <td>0</td>\n",
       "      <td>0</td>\n",
       "      <td>0</td>\n",
       "      <td>...</td>\n",
       "      <td>0</td>\n",
       "      <td>0</td>\n",
       "      <td>1</td>\n",
       "      <td>0</td>\n",
       "      <td>0</td>\n",
       "      <td>0</td>\n",
       "      <td>0</td>\n",
       "      <td>0</td>\n",
       "      <td>0</td>\n",
       "      <td>0</td>\n",
       "    </tr>\n",
       "    <tr>\n",
       "      <th>244460</th>\n",
       "      <td>3661.424550</td>\n",
       "      <td>35.0</td>\n",
       "      <td>20.0</td>\n",
       "      <td>1.0</td>\n",
       "      <td>8</td>\n",
       "      <td>2009</td>\n",
       "      <td>34.41</td>\n",
       "      <td>0</td>\n",
       "      <td>0</td>\n",
       "      <td>0</td>\n",
       "      <td>...</td>\n",
       "      <td>0</td>\n",
       "      <td>0</td>\n",
       "      <td>0</td>\n",
       "      <td>0</td>\n",
       "      <td>0</td>\n",
       "      <td>0</td>\n",
       "      <td>0</td>\n",
       "      <td>0</td>\n",
       "      <td>0</td>\n",
       "      <td>0</td>\n",
       "    </tr>\n",
       "    <tr>\n",
       "      <th>80845</th>\n",
       "      <td>4321.245721</td>\n",
       "      <td>145.0</td>\n",
       "      <td>99.0</td>\n",
       "      <td>1.0</td>\n",
       "      <td>79</td>\n",
       "      <td>2009</td>\n",
       "      <td>34.41</td>\n",
       "      <td>0</td>\n",
       "      <td>0</td>\n",
       "      <td>0</td>\n",
       "      <td>...</td>\n",
       "      <td>0</td>\n",
       "      <td>0</td>\n",
       "      <td>0</td>\n",
       "      <td>0</td>\n",
       "      <td>0</td>\n",
       "      <td>0</td>\n",
       "      <td>0</td>\n",
       "      <td>0</td>\n",
       "      <td>1</td>\n",
       "      <td>0</td>\n",
       "    </tr>\n",
       "    <tr>\n",
       "      <th>181197</th>\n",
       "      <td>6035.989239</td>\n",
       "      <td>387.0</td>\n",
       "      <td>1900.0</td>\n",
       "      <td>0.0</td>\n",
       "      <td>28</td>\n",
       "      <td>2009</td>\n",
       "      <td>34.41</td>\n",
       "      <td>0</td>\n",
       "      <td>0</td>\n",
       "      <td>0</td>\n",
       "      <td>...</td>\n",
       "      <td>0</td>\n",
       "      <td>1</td>\n",
       "      <td>0</td>\n",
       "      <td>0</td>\n",
       "      <td>0</td>\n",
       "      <td>0</td>\n",
       "      <td>0</td>\n",
       "      <td>0</td>\n",
       "      <td>0</td>\n",
       "      <td>0</td>\n",
       "    </tr>\n",
       "  </tbody>\n",
       "</table>\n",
       "<p>5 rows × 34 columns</p>\n",
       "</div>"
      ],
      "text/plain": [
       "          Категория  таргет2  Цель в долларах  таргет1  Срок  Год публикации  \\\n",
       "176128  6035.989239    625.0           1000.0      0.0    39            2009   \n",
       "241929  3591.033473     22.0          80000.0      0.0    87            2009   \n",
       "244460  3661.424550     35.0             20.0      1.0     8            2009   \n",
       "80845   4321.245721    145.0             99.0      1.0    79            2009   \n",
       "181197  6035.989239    387.0           1900.0      0.0    28            2009   \n",
       "\n",
       "        Close_brent  CAD  CHF  DKK  ...  Design  Fashion  Film & Video  Food  \\\n",
       "176128        34.41    0    0    0  ...       0        1             0     0   \n",
       "241929        34.41    0    0    0  ...       0        0             1     0   \n",
       "244460        34.41    0    0    0  ...       0        0             0     0   \n",
       "80845         34.41    0    0    0  ...       0        0             0     0   \n",
       "181197        34.41    0    0    0  ...       0        1             0     0   \n",
       "\n",
       "        Journalism  Music  Photography  Publishing  Technology  Theater  \n",
       "176128           0      0            0           0           0        0  \n",
       "241929           0      0            0           0           0        0  \n",
       "244460           0      0            0           0           0        0  \n",
       "80845            0      0            0           0           1        0  \n",
       "181197           0      0            0           0           0        0  \n",
       "\n",
       "[5 rows x 34 columns]"
      ]
     },
     "execution_count": 76,
     "metadata": {},
     "output_type": "execute_result"
    }
   ],
   "source": [
    "data.head()"
   ]
  },
  {
   "cell_type": "markdown",
   "id": "0c6c72a2",
   "metadata": {},
   "source": [
    "## Определимся с таргетом"
   ]
  },
  {
   "cell_type": "code",
   "execution_count": 77,
   "id": "2d6fa6e7",
   "metadata": {},
   "outputs": [],
   "source": [
    "data = data.drop('таргет1', axis=1)"
   ]
  },
  {
   "cell_type": "code",
   "execution_count": 78,
   "id": "4ec052df",
   "metadata": {},
   "outputs": [],
   "source": [
    "### Разделим данные на объекты и ответы\n",
    "\n",
    "X = data.drop('таргет2', axis=1)\n",
    "Y = data['таргет2']"
   ]
  },
  {
   "cell_type": "code",
   "execution_count": 80,
   "id": "19a49dc3",
   "metadata": {},
   "outputs": [
    {
     "data": {
      "text/plain": [
       "176128    625.00\n",
       "241929     22.00\n",
       "244460     35.00\n",
       "80845     145.00\n",
       "181197    387.00\n",
       "           ...  \n",
       "247730    269.84\n",
       "318187    544.77\n",
       "264474    202.00\n",
       "293634    265.00\n",
       "23315     513.60\n",
       "Name: таргет2, Length: 331675, dtype: float64"
      ]
     },
     "execution_count": 80,
     "metadata": {},
     "output_type": "execute_result"
    }
   ],
   "source": [
    "Y"
   ]
  },
  {
   "cell_type": "markdown",
   "id": "35cbc3c7",
   "metadata": {},
   "source": [
    "### sklearn"
   ]
  },
  {
   "cell_type": "code",
   "execution_count": 90,
   "id": "1dc6398e",
   "metadata": {},
   "outputs": [
    {
     "data": {
      "text/html": [
       "<div>\n",
       "<style scoped>\n",
       "    .dataframe tbody tr th:only-of-type {\n",
       "        vertical-align: middle;\n",
       "    }\n",
       "\n",
       "    .dataframe tbody tr th {\n",
       "        vertical-align: top;\n",
       "    }\n",
       "\n",
       "    .dataframe thead th {\n",
       "        text-align: right;\n",
       "    }\n",
       "</style>\n",
       "<table border=\"1\" class=\"dataframe\">\n",
       "  <thead>\n",
       "    <tr style=\"text-align: right;\">\n",
       "      <th></th>\n",
       "      <th>Категория</th>\n",
       "      <th>Цель в долларах</th>\n",
       "      <th>Срок</th>\n",
       "      <th>Год публикации</th>\n",
       "      <th>Close_brent</th>\n",
       "      <th>CAD</th>\n",
       "      <th>CHF</th>\n",
       "      <th>DKK</th>\n",
       "      <th>EUR</th>\n",
       "      <th>GBP</th>\n",
       "      <th>...</th>\n",
       "      <th>Fashion</th>\n",
       "      <th>Film &amp; Video</th>\n",
       "      <th>Food</th>\n",
       "      <th>Journalism</th>\n",
       "      <th>Music</th>\n",
       "      <th>Photography</th>\n",
       "      <th>Publishing</th>\n",
       "      <th>Technology</th>\n",
       "      <th>Theater</th>\n",
       "      <th>Предсказание</th>\n",
       "    </tr>\n",
       "  </thead>\n",
       "  <tbody>\n",
       "    <tr>\n",
       "      <th>176128</th>\n",
       "      <td>6035.989239</td>\n",
       "      <td>1000.0</td>\n",
       "      <td>39</td>\n",
       "      <td>2009</td>\n",
       "      <td>34.41</td>\n",
       "      <td>0</td>\n",
       "      <td>0</td>\n",
       "      <td>0</td>\n",
       "      <td>0</td>\n",
       "      <td>0</td>\n",
       "      <td>...</td>\n",
       "      <td>1</td>\n",
       "      <td>0</td>\n",
       "      <td>0</td>\n",
       "      <td>0</td>\n",
       "      <td>0</td>\n",
       "      <td>0</td>\n",
       "      <td>0</td>\n",
       "      <td>0</td>\n",
       "      <td>0</td>\n",
       "      <td>3462.151236</td>\n",
       "    </tr>\n",
       "    <tr>\n",
       "      <th>241929</th>\n",
       "      <td>3591.033473</td>\n",
       "      <td>80000.0</td>\n",
       "      <td>87</td>\n",
       "      <td>2009</td>\n",
       "      <td>34.41</td>\n",
       "      <td>0</td>\n",
       "      <td>0</td>\n",
       "      <td>0</td>\n",
       "      <td>0</td>\n",
       "      <td>0</td>\n",
       "      <td>...</td>\n",
       "      <td>0</td>\n",
       "      <td>1</td>\n",
       "      <td>0</td>\n",
       "      <td>0</td>\n",
       "      <td>0</td>\n",
       "      <td>0</td>\n",
       "      <td>0</td>\n",
       "      <td>0</td>\n",
       "      <td>0</td>\n",
       "      <td>5388.839779</td>\n",
       "    </tr>\n",
       "    <tr>\n",
       "      <th>244460</th>\n",
       "      <td>3661.424550</td>\n",
       "      <td>20.0</td>\n",
       "      <td>8</td>\n",
       "      <td>2009</td>\n",
       "      <td>34.41</td>\n",
       "      <td>0</td>\n",
       "      <td>0</td>\n",
       "      <td>0</td>\n",
       "      <td>0</td>\n",
       "      <td>0</td>\n",
       "      <td>...</td>\n",
       "      <td>0</td>\n",
       "      <td>0</td>\n",
       "      <td>0</td>\n",
       "      <td>0</td>\n",
       "      <td>0</td>\n",
       "      <td>0</td>\n",
       "      <td>0</td>\n",
       "      <td>0</td>\n",
       "      <td>0</td>\n",
       "      <td>-1332.724207</td>\n",
       "    </tr>\n",
       "    <tr>\n",
       "      <th>80845</th>\n",
       "      <td>4321.245721</td>\n",
       "      <td>99.0</td>\n",
       "      <td>79</td>\n",
       "      <td>2009</td>\n",
       "      <td>34.41</td>\n",
       "      <td>0</td>\n",
       "      <td>0</td>\n",
       "      <td>0</td>\n",
       "      <td>0</td>\n",
       "      <td>0</td>\n",
       "      <td>...</td>\n",
       "      <td>0</td>\n",
       "      <td>0</td>\n",
       "      <td>0</td>\n",
       "      <td>0</td>\n",
       "      <td>0</td>\n",
       "      <td>0</td>\n",
       "      <td>0</td>\n",
       "      <td>1</td>\n",
       "      <td>0</td>\n",
       "      <td>5271.256319</td>\n",
       "    </tr>\n",
       "    <tr>\n",
       "      <th>181197</th>\n",
       "      <td>6035.989239</td>\n",
       "      <td>1900.0</td>\n",
       "      <td>28</td>\n",
       "      <td>2009</td>\n",
       "      <td>34.41</td>\n",
       "      <td>0</td>\n",
       "      <td>0</td>\n",
       "      <td>0</td>\n",
       "      <td>0</td>\n",
       "      <td>0</td>\n",
       "      <td>...</td>\n",
       "      <td>1</td>\n",
       "      <td>0</td>\n",
       "      <td>0</td>\n",
       "      <td>0</td>\n",
       "      <td>0</td>\n",
       "      <td>0</td>\n",
       "      <td>0</td>\n",
       "      <td>0</td>\n",
       "      <td>0</td>\n",
       "      <td>2529.810713</td>\n",
       "    </tr>\n",
       "  </tbody>\n",
       "</table>\n",
       "<p>5 rows × 33 columns</p>\n",
       "</div>"
      ],
      "text/plain": [
       "          Категория  Цель в долларах  Срок  Год публикации  Close_brent  CAD  \\\n",
       "176128  6035.989239           1000.0    39            2009        34.41    0   \n",
       "241929  3591.033473          80000.0    87            2009        34.41    0   \n",
       "244460  3661.424550             20.0     8            2009        34.41    0   \n",
       "80845   4321.245721             99.0    79            2009        34.41    0   \n",
       "181197  6035.989239           1900.0    28            2009        34.41    0   \n",
       "\n",
       "        CHF  DKK  EUR  GBP  ...  Fashion  Film & Video  Food  Journalism  \\\n",
       "176128    0    0    0    0  ...        1             0     0           0   \n",
       "241929    0    0    0    0  ...        0             1     0           0   \n",
       "244460    0    0    0    0  ...        0             0     0           0   \n",
       "80845     0    0    0    0  ...        0             0     0           0   \n",
       "181197    0    0    0    0  ...        1             0     0           0   \n",
       "\n",
       "        Music  Photography  Publishing  Technology  Theater  Предсказание  \n",
       "176128      0            0           0           0        0   3462.151236  \n",
       "241929      0            0           0           0        0   5388.839779  \n",
       "244460      0            0           0           0        0  -1332.724207  \n",
       "80845       0            0           0           1        0   5271.256319  \n",
       "181197      0            0           0           0        0   2529.810713  \n",
       "\n",
       "[5 rows x 33 columns]"
      ]
     },
     "execution_count": 90,
     "metadata": {},
     "output_type": "execute_result"
    }
   ],
   "source": [
    "### Сейчас будет магия!\n",
    "from sklearn.linear_model import LinearRegression\n",
    "\n",
    "model = LinearRegression()\n",
    "model.fit(X, Y)\n",
    "\n",
    "X['Предсказание'] = model.predict(X)\n",
    "\n",
    "X.head()"
   ]
  },
  {
   "cell_type": "code",
   "execution_count": 91,
   "id": "6350b5c9",
   "metadata": {},
   "outputs": [
    {
     "data": {
      "text/html": [
       "<div>\n",
       "<style scoped>\n",
       "    .dataframe tbody tr th:only-of-type {\n",
       "        vertical-align: middle;\n",
       "    }\n",
       "\n",
       "    .dataframe tbody tr th {\n",
       "        vertical-align: top;\n",
       "    }\n",
       "\n",
       "    .dataframe thead th {\n",
       "        text-align: right;\n",
       "    }\n",
       "</style>\n",
       "<table border=\"1\" class=\"dataframe\">\n",
       "  <thead>\n",
       "    <tr style=\"text-align: right;\">\n",
       "      <th></th>\n",
       "      <th>Категория</th>\n",
       "      <th>таргет2</th>\n",
       "      <th>Цель в долларах</th>\n",
       "      <th>Срок</th>\n",
       "      <th>Год публикации</th>\n",
       "      <th>Close_brent</th>\n",
       "      <th>CAD</th>\n",
       "      <th>CHF</th>\n",
       "      <th>DKK</th>\n",
       "      <th>EUR</th>\n",
       "      <th>...</th>\n",
       "      <th>Fashion</th>\n",
       "      <th>Film &amp; Video</th>\n",
       "      <th>Food</th>\n",
       "      <th>Journalism</th>\n",
       "      <th>Music</th>\n",
       "      <th>Photography</th>\n",
       "      <th>Publishing</th>\n",
       "      <th>Technology</th>\n",
       "      <th>Theater</th>\n",
       "      <th>prediction</th>\n",
       "    </tr>\n",
       "  </thead>\n",
       "  <tbody>\n",
       "    <tr>\n",
       "      <th>176128</th>\n",
       "      <td>6035.989239</td>\n",
       "      <td>625.0</td>\n",
       "      <td>1000.0</td>\n",
       "      <td>39</td>\n",
       "      <td>2009</td>\n",
       "      <td>34.41</td>\n",
       "      <td>0</td>\n",
       "      <td>0</td>\n",
       "      <td>0</td>\n",
       "      <td>0</td>\n",
       "      <td>...</td>\n",
       "      <td>1</td>\n",
       "      <td>0</td>\n",
       "      <td>0</td>\n",
       "      <td>0</td>\n",
       "      <td>0</td>\n",
       "      <td>0</td>\n",
       "      <td>0</td>\n",
       "      <td>0</td>\n",
       "      <td>0</td>\n",
       "      <td>3462.151236</td>\n",
       "    </tr>\n",
       "    <tr>\n",
       "      <th>241929</th>\n",
       "      <td>3591.033473</td>\n",
       "      <td>22.0</td>\n",
       "      <td>80000.0</td>\n",
       "      <td>87</td>\n",
       "      <td>2009</td>\n",
       "      <td>34.41</td>\n",
       "      <td>0</td>\n",
       "      <td>0</td>\n",
       "      <td>0</td>\n",
       "      <td>0</td>\n",
       "      <td>...</td>\n",
       "      <td>0</td>\n",
       "      <td>1</td>\n",
       "      <td>0</td>\n",
       "      <td>0</td>\n",
       "      <td>0</td>\n",
       "      <td>0</td>\n",
       "      <td>0</td>\n",
       "      <td>0</td>\n",
       "      <td>0</td>\n",
       "      <td>5388.839779</td>\n",
       "    </tr>\n",
       "    <tr>\n",
       "      <th>244460</th>\n",
       "      <td>3661.424550</td>\n",
       "      <td>35.0</td>\n",
       "      <td>20.0</td>\n",
       "      <td>8</td>\n",
       "      <td>2009</td>\n",
       "      <td>34.41</td>\n",
       "      <td>0</td>\n",
       "      <td>0</td>\n",
       "      <td>0</td>\n",
       "      <td>0</td>\n",
       "      <td>...</td>\n",
       "      <td>0</td>\n",
       "      <td>0</td>\n",
       "      <td>0</td>\n",
       "      <td>0</td>\n",
       "      <td>0</td>\n",
       "      <td>0</td>\n",
       "      <td>0</td>\n",
       "      <td>0</td>\n",
       "      <td>0</td>\n",
       "      <td>-1332.724207</td>\n",
       "    </tr>\n",
       "    <tr>\n",
       "      <th>80845</th>\n",
       "      <td>4321.245721</td>\n",
       "      <td>145.0</td>\n",
       "      <td>99.0</td>\n",
       "      <td>79</td>\n",
       "      <td>2009</td>\n",
       "      <td>34.41</td>\n",
       "      <td>0</td>\n",
       "      <td>0</td>\n",
       "      <td>0</td>\n",
       "      <td>0</td>\n",
       "      <td>...</td>\n",
       "      <td>0</td>\n",
       "      <td>0</td>\n",
       "      <td>0</td>\n",
       "      <td>0</td>\n",
       "      <td>0</td>\n",
       "      <td>0</td>\n",
       "      <td>0</td>\n",
       "      <td>1</td>\n",
       "      <td>0</td>\n",
       "      <td>5271.256319</td>\n",
       "    </tr>\n",
       "    <tr>\n",
       "      <th>181197</th>\n",
       "      <td>6035.989239</td>\n",
       "      <td>387.0</td>\n",
       "      <td>1900.0</td>\n",
       "      <td>28</td>\n",
       "      <td>2009</td>\n",
       "      <td>34.41</td>\n",
       "      <td>0</td>\n",
       "      <td>0</td>\n",
       "      <td>0</td>\n",
       "      <td>0</td>\n",
       "      <td>...</td>\n",
       "      <td>1</td>\n",
       "      <td>0</td>\n",
       "      <td>0</td>\n",
       "      <td>0</td>\n",
       "      <td>0</td>\n",
       "      <td>0</td>\n",
       "      <td>0</td>\n",
       "      <td>0</td>\n",
       "      <td>0</td>\n",
       "      <td>2529.810713</td>\n",
       "    </tr>\n",
       "  </tbody>\n",
       "</table>\n",
       "<p>5 rows × 34 columns</p>\n",
       "</div>"
      ],
      "text/plain": [
       "          Категория  таргет2  Цель в долларах  Срок  Год публикации  \\\n",
       "176128  6035.989239    625.0           1000.0    39            2009   \n",
       "241929  3591.033473     22.0          80000.0    87            2009   \n",
       "244460  3661.424550     35.0             20.0     8            2009   \n",
       "80845   4321.245721    145.0             99.0    79            2009   \n",
       "181197  6035.989239    387.0           1900.0    28            2009   \n",
       "\n",
       "        Close_brent  CAD  CHF  DKK  EUR  ...  Fashion  Film & Video  Food  \\\n",
       "176128        34.41    0    0    0    0  ...        1             0     0   \n",
       "241929        34.41    0    0    0    0  ...        0             1     0   \n",
       "244460        34.41    0    0    0    0  ...        0             0     0   \n",
       "80845         34.41    0    0    0    0  ...        0             0     0   \n",
       "181197        34.41    0    0    0    0  ...        1             0     0   \n",
       "\n",
       "        Journalism  Music  Photography  Publishing  Technology  Theater  \\\n",
       "176128           0      0            0           0           0        0   \n",
       "241929           0      0            0           0           0        0   \n",
       "244460           0      0            0           0           0        0   \n",
       "80845            0      0            0           0           1        0   \n",
       "181197           0      0            0           0           0        0   \n",
       "\n",
       "         prediction  \n",
       "176128  3462.151236  \n",
       "241929  5388.839779  \n",
       "244460 -1332.724207  \n",
       "80845   5271.256319  \n",
       "181197  2529.810713  \n",
       "\n",
       "[5 rows x 34 columns]"
      ]
     },
     "execution_count": 91,
     "metadata": {},
     "output_type": "execute_result"
    }
   ],
   "source": [
    "data.head()"
   ]
  },
  {
   "cell_type": "code",
   "execution_count": 50,
   "id": "8a70c28a",
   "metadata": {},
   "outputs": [],
   "source": [
    "#Запишем результат в data.csv\n"
   ]
  }
 ],
 "metadata": {
  "kernelspec": {
   "display_name": "Python 3 (ipykernel)",
   "language": "python",
   "name": "python3"
  },
  "language_info": {
   "codemirror_mode": {
    "name": "ipython",
    "version": 3
   },
   "file_extension": ".py",
   "mimetype": "text/x-python",
   "name": "python",
   "nbconvert_exporter": "python",
   "pygments_lexer": "ipython3",
   "version": "3.9.12"
  },
  "varInspector": {
   "cols": {
    "lenName": 16,
    "lenType": 16,
    "lenVar": 40
   },
   "kernels_config": {
    "python": {
     "delete_cmd_postfix": "",
     "delete_cmd_prefix": "del ",
     "library": "var_list.py",
     "varRefreshCmd": "print(var_dic_list())"
    },
    "r": {
     "delete_cmd_postfix": ") ",
     "delete_cmd_prefix": "rm(",
     "library": "var_list.r",
     "varRefreshCmd": "cat(var_dic_list()) "
    }
   },
   "types_to_exclude": [
    "module",
    "function",
    "builtin_function_or_method",
    "instance",
    "_Feature"
   ],
   "window_display": false
  }
 },
 "nbformat": 4,
 "nbformat_minor": 5
}
