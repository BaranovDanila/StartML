{
 "cells": [
  {
   "cell_type": "code",
   "execution_count": 1,
   "id": "1125e17c",
   "metadata": {
    "ExecuteTime": {
     "end_time": "2022-07-28T17:30:39.910013Z",
     "start_time": "2022-07-28T17:30:38.867740Z"
    }
   },
   "outputs": [],
   "source": [
    "import pandas as pd\n",
    "import numpy as np\n",
    "import matplotlib.pyplot as plt\n",
    "import seaborn as sns\n",
    "\n",
    "import warnings\n",
    "warnings.filterwarnings('ignore')"
   ]
  },
  {
   "cell_type": "markdown",
   "id": "80edcf29",
   "metadata": {},
   "source": [
    "Мы будем работать с данными агрегатора такси [Sigma Cabs](https://www.kaggle.com/datasets/arashnic/taxi-pricing-with-mobility-analytics). В зависимости от характеристик поездки требуется предсказать один из трех типов повышенного ценообразования: [1, 2, 3]. Таким образом, это поможет компании оптимально мэтчить такси и клиентов. "
   ]
  },
  {
   "cell_type": "code",
   "execution_count": 2,
   "id": "e644e4c6",
   "metadata": {
    "ExecuteTime": {
     "end_time": "2022-07-28T17:30:40.003396Z",
     "start_time": "2022-07-28T17:30:39.910821Z"
    }
   },
   "outputs": [
    {
     "data": {
      "text/plain": [
       "(131662, 14)"
      ]
     },
     "execution_count": 2,
     "metadata": {},
     "output_type": "execute_result"
    }
   ],
   "source": [
    "df = pd.read_csv('sigma_cabs.csv')\n",
    "df.shape"
   ]
  },
  {
   "cell_type": "code",
   "execution_count": 3,
   "id": "d3aa89a3",
   "metadata": {
    "ExecuteTime": {
     "end_time": "2022-07-28T17:30:40.016468Z",
     "start_time": "2022-07-28T17:30:40.004645Z"
    },
    "scrolled": true
   },
   "outputs": [
    {
     "data": {
      "text/html": [
       "<div>\n",
       "<style scoped>\n",
       "    .dataframe tbody tr th:only-of-type {\n",
       "        vertical-align: middle;\n",
       "    }\n",
       "\n",
       "    .dataframe tbody tr th {\n",
       "        vertical-align: top;\n",
       "    }\n",
       "\n",
       "    .dataframe thead th {\n",
       "        text-align: right;\n",
       "    }\n",
       "</style>\n",
       "<table border=\"1\" class=\"dataframe\">\n",
       "  <thead>\n",
       "    <tr style=\"text-align: right;\">\n",
       "      <th></th>\n",
       "      <th>Trip_Distance</th>\n",
       "      <th>Type_of_Cab</th>\n",
       "      <th>Customer_Since_Months</th>\n",
       "      <th>Life_Style_Index</th>\n",
       "      <th>Confidence_Life_Style_Index</th>\n",
       "      <th>Destination_Type</th>\n",
       "      <th>Customer_Rating</th>\n",
       "      <th>Cancellation_Last_1Month</th>\n",
       "      <th>Var1</th>\n",
       "      <th>Var2</th>\n",
       "      <th>Var3</th>\n",
       "      <th>Gender</th>\n",
       "      <th>Surge_Pricing_Type</th>\n",
       "    </tr>\n",
       "    <tr>\n",
       "      <th>Trip_ID</th>\n",
       "      <th></th>\n",
       "      <th></th>\n",
       "      <th></th>\n",
       "      <th></th>\n",
       "      <th></th>\n",
       "      <th></th>\n",
       "      <th></th>\n",
       "      <th></th>\n",
       "      <th></th>\n",
       "      <th></th>\n",
       "      <th></th>\n",
       "      <th></th>\n",
       "      <th></th>\n",
       "    </tr>\n",
       "  </thead>\n",
       "  <tbody>\n",
       "    <tr>\n",
       "      <th>T0005689460</th>\n",
       "      <td>6.77</td>\n",
       "      <td>B</td>\n",
       "      <td>1.0</td>\n",
       "      <td>2.42769</td>\n",
       "      <td>A</td>\n",
       "      <td>A</td>\n",
       "      <td>3.90500</td>\n",
       "      <td>0</td>\n",
       "      <td>40.0</td>\n",
       "      <td>46</td>\n",
       "      <td>60</td>\n",
       "      <td>Female</td>\n",
       "      <td>2</td>\n",
       "    </tr>\n",
       "    <tr>\n",
       "      <th>T0005689461</th>\n",
       "      <td>29.47</td>\n",
       "      <td>B</td>\n",
       "      <td>10.0</td>\n",
       "      <td>2.78245</td>\n",
       "      <td>B</td>\n",
       "      <td>A</td>\n",
       "      <td>3.45000</td>\n",
       "      <td>0</td>\n",
       "      <td>38.0</td>\n",
       "      <td>56</td>\n",
       "      <td>78</td>\n",
       "      <td>Male</td>\n",
       "      <td>2</td>\n",
       "    </tr>\n",
       "    <tr>\n",
       "      <th>T0005689464</th>\n",
       "      <td>41.58</td>\n",
       "      <td>NaN</td>\n",
       "      <td>10.0</td>\n",
       "      <td>NaN</td>\n",
       "      <td>NaN</td>\n",
       "      <td>E</td>\n",
       "      <td>3.50125</td>\n",
       "      <td>2</td>\n",
       "      <td>NaN</td>\n",
       "      <td>56</td>\n",
       "      <td>77</td>\n",
       "      <td>Male</td>\n",
       "      <td>2</td>\n",
       "    </tr>\n",
       "    <tr>\n",
       "      <th>T0005689465</th>\n",
       "      <td>61.56</td>\n",
       "      <td>C</td>\n",
       "      <td>10.0</td>\n",
       "      <td>NaN</td>\n",
       "      <td>NaN</td>\n",
       "      <td>A</td>\n",
       "      <td>3.45375</td>\n",
       "      <td>0</td>\n",
       "      <td>NaN</td>\n",
       "      <td>52</td>\n",
       "      <td>74</td>\n",
       "      <td>Male</td>\n",
       "      <td>3</td>\n",
       "    </tr>\n",
       "    <tr>\n",
       "      <th>T0005689467</th>\n",
       "      <td>54.95</td>\n",
       "      <td>C</td>\n",
       "      <td>10.0</td>\n",
       "      <td>3.03453</td>\n",
       "      <td>B</td>\n",
       "      <td>A</td>\n",
       "      <td>3.40250</td>\n",
       "      <td>4</td>\n",
       "      <td>51.0</td>\n",
       "      <td>49</td>\n",
       "      <td>102</td>\n",
       "      <td>Male</td>\n",
       "      <td>2</td>\n",
       "    </tr>\n",
       "  </tbody>\n",
       "</table>\n",
       "</div>"
      ],
      "text/plain": [
       "             Trip_Distance Type_of_Cab  Customer_Since_Months  \\\n",
       "Trip_ID                                                         \n",
       "T0005689460           6.77           B                    1.0   \n",
       "T0005689461          29.47           B                   10.0   \n",
       "T0005689464          41.58         NaN                   10.0   \n",
       "T0005689465          61.56           C                   10.0   \n",
       "T0005689467          54.95           C                   10.0   \n",
       "\n",
       "             Life_Style_Index Confidence_Life_Style_Index Destination_Type  \\\n",
       "Trip_ID                                                                      \n",
       "T0005689460           2.42769                           A                A   \n",
       "T0005689461           2.78245                           B                A   \n",
       "T0005689464               NaN                         NaN                E   \n",
       "T0005689465               NaN                         NaN                A   \n",
       "T0005689467           3.03453                           B                A   \n",
       "\n",
       "             Customer_Rating  Cancellation_Last_1Month  Var1  Var2  Var3  \\\n",
       "Trip_ID                                                                    \n",
       "T0005689460          3.90500                         0  40.0    46    60   \n",
       "T0005689461          3.45000                         0  38.0    56    78   \n",
       "T0005689464          3.50125                         2   NaN    56    77   \n",
       "T0005689465          3.45375                         0   NaN    52    74   \n",
       "T0005689467          3.40250                         4  51.0    49   102   \n",
       "\n",
       "             Gender  Surge_Pricing_Type  \n",
       "Trip_ID                                  \n",
       "T0005689460  Female                   2  \n",
       "T0005689461    Male                   2  \n",
       "T0005689464    Male                   2  \n",
       "T0005689465    Male                   3  \n",
       "T0005689467    Male                   2  "
      ]
     },
     "execution_count": 3,
     "metadata": {},
     "output_type": "execute_result"
    }
   ],
   "source": [
    "# Занесем индекс колонку\n",
    "df = df.set_index('Trip_ID')\n",
    "df.head()"
   ]
  },
  {
   "cell_type": "markdown",
   "id": "fcee031a",
   "metadata": {},
   "source": [
    "Описание признаков:\n",
    "\n",
    "1. **Trip_ID**: ID for TRIP\n",
    "2. **Trip_Distance**: The distance for the trip requested by the customer\n",
    "3. **TypeofCab**: Category of the cab requested by the customer\n",
    "4. **CustomerSinceMonths**: Customer using cab services since n months; 0 month means current month\n",
    "5. **LifeStyleIndex**: Proprietary index created by Sigma Cabs showing lifestyle of the customer based on their behaviour\n",
    "6. **ConfidenceLifeStyle_Index**: Category showing confidence on the index mentioned above\n",
    "7. **Destination_Type**: Sigma Cabs divides any destination in one of the 14 categories.\n",
    "8. **Customer_Rating**: Average of life time ratings of the customer till date\n",
    "9. **CancellationLast1Month**: Number of trips cancelled by the customer in last 1 month\n",
    "10. **Var1**, **Var2** and **Var3**: Continuous variables masked by the company. Can be used for modelling purposes\n",
    "11. **Gender**: Gender of the customer\n",
    "\n",
    "**SurgePricingType**: Target (can be of 3 types)\n"
   ]
  },
  {
   "cell_type": "markdown",
   "id": "d01d44e2",
   "metadata": {},
   "source": [
    "### EDA \n",
    "Заполните пропуски в вещественных признаках медианой, а в категориальных - самым популярным классом. Изобразите марицу корреляций и выведите топ5 пар самых коррелированных признаков.\n",
    "\n",
    "Так как в сумме уникальных значений различных категориальных признаков окажется не супер-много, примените `One-Hot-Encoding` для них. Не забудьте в методе `pd.get_dummies` указать параметр `drop_first=True`."
   ]
  },
  {
   "cell_type": "code",
   "execution_count": 4,
   "id": "6eecae56",
   "metadata": {
    "ExecuteTime": {
     "end_time": "2022-07-28T17:30:40.027056Z",
     "start_time": "2022-07-28T17:30:40.017164Z"
    }
   },
   "outputs": [
    {
     "data": {
      "text/plain": [
       "Index(['Trip_Distance', 'Customer_Since_Months', 'Life_Style_Index',\n",
       "       'Customer_Rating', 'Cancellation_Last_1Month', 'Var1', 'Var2', 'Var3',\n",
       "       'Surge_Pricing_Type'],\n",
       "      dtype='object')"
      ]
     },
     "execution_count": 4,
     "metadata": {},
     "output_type": "execute_result"
    }
   ],
   "source": [
    "# Отбираем числовые колонки\n",
    "\n",
    "numeric_cols = df.loc[:, df.dtypes != 'object'].columns\n",
    "numeric_cols"
   ]
  },
  {
   "cell_type": "code",
   "execution_count": 5,
   "id": "97f0fdac",
   "metadata": {
    "ExecuteTime": {
     "end_time": "2022-07-28T17:30:40.038304Z",
     "start_time": "2022-07-28T17:30:40.027742Z"
    }
   },
   "outputs": [],
   "source": [
    "# Заполняем пропуски в числовых колонках средним значением\n",
    "\n",
    "for col in numeric_cols:\n",
    "    if col != 'Surge_Pricing_Type':\n",
    "        df[col] = df[col].fillna(df[col].mean())"
   ]
  },
  {
   "cell_type": "code",
   "execution_count": 6,
   "id": "ce6c8960",
   "metadata": {
    "ExecuteTime": {
     "end_time": "2022-07-28T17:30:40.047879Z",
     "start_time": "2022-07-28T17:30:40.039131Z"
    },
    "scrolled": true
   },
   "outputs": [
    {
     "data": {
      "text/plain": [
       "Trip_Distance               0\n",
       "Customer_Since_Months       0\n",
       "Life_Style_Index            0\n",
       "Customer_Rating             0\n",
       "Cancellation_Last_1Month    0\n",
       "Var1                        0\n",
       "Var2                        0\n",
       "Var3                        0\n",
       "Surge_Pricing_Type          0\n",
       "dtype: int64"
      ]
     },
     "execution_count": 6,
     "metadata": {},
     "output_type": "execute_result"
    }
   ],
   "source": [
    "df[numeric_cols].isna().sum()"
   ]
  },
  {
   "cell_type": "code",
   "execution_count": 7,
   "id": "ce96d077",
   "metadata": {
    "ExecuteTime": {
     "end_time": "2022-07-28T17:30:40.079097Z",
     "start_time": "2022-07-28T17:30:40.048616Z"
    }
   },
   "outputs": [
    {
     "data": {
      "text/html": [
       "<div>\n",
       "<style scoped>\n",
       "    .dataframe tbody tr th:only-of-type {\n",
       "        vertical-align: middle;\n",
       "    }\n",
       "\n",
       "    .dataframe tbody tr th {\n",
       "        vertical-align: top;\n",
       "    }\n",
       "\n",
       "    .dataframe thead th {\n",
       "        text-align: right;\n",
       "    }\n",
       "</style>\n",
       "<table border=\"1\" class=\"dataframe\">\n",
       "  <thead>\n",
       "    <tr style=\"text-align: right;\">\n",
       "      <th></th>\n",
       "      <th>Trip_Distance</th>\n",
       "      <th>Customer_Since_Months</th>\n",
       "      <th>Life_Style_Index</th>\n",
       "      <th>Customer_Rating</th>\n",
       "      <th>Cancellation_Last_1Month</th>\n",
       "      <th>Var1</th>\n",
       "      <th>Var2</th>\n",
       "      <th>Var3</th>\n",
       "      <th>Surge_Pricing_Type</th>\n",
       "    </tr>\n",
       "  </thead>\n",
       "  <tbody>\n",
       "    <tr>\n",
       "      <th>Trip_Distance</th>\n",
       "      <td>1.000000</td>\n",
       "      <td>0.114340</td>\n",
       "      <td>0.468367</td>\n",
       "      <td>-0.054654</td>\n",
       "      <td>-0.007686</td>\n",
       "      <td>-0.030662</td>\n",
       "      <td>0.200456</td>\n",
       "      <td>0.231706</td>\n",
       "      <td>0.135928</td>\n",
       "    </tr>\n",
       "    <tr>\n",
       "      <th>Customer_Since_Months</th>\n",
       "      <td>0.114340</td>\n",
       "      <td>1.000000</td>\n",
       "      <td>0.119154</td>\n",
       "      <td>-0.049001</td>\n",
       "      <td>-0.006187</td>\n",
       "      <td>-0.006700</td>\n",
       "      <td>0.041766</td>\n",
       "      <td>0.110830</td>\n",
       "      <td>0.027202</td>\n",
       "    </tr>\n",
       "    <tr>\n",
       "      <th>Life_Style_Index</th>\n",
       "      <td>0.468367</td>\n",
       "      <td>0.119154</td>\n",
       "      <td>1.000000</td>\n",
       "      <td>0.189173</td>\n",
       "      <td>0.068176</td>\n",
       "      <td>-0.055873</td>\n",
       "      <td>0.215921</td>\n",
       "      <td>0.303296</td>\n",
       "      <td>-0.073682</td>\n",
       "    </tr>\n",
       "    <tr>\n",
       "      <th>Customer_Rating</th>\n",
       "      <td>-0.054654</td>\n",
       "      <td>-0.049001</td>\n",
       "      <td>0.189173</td>\n",
       "      <td>1.000000</td>\n",
       "      <td>0.003595</td>\n",
       "      <td>-0.007400</td>\n",
       "      <td>-0.302968</td>\n",
       "      <td>-0.227531</td>\n",
       "      <td>-0.155279</td>\n",
       "    </tr>\n",
       "    <tr>\n",
       "      <th>Cancellation_Last_1Month</th>\n",
       "      <td>-0.007686</td>\n",
       "      <td>-0.006187</td>\n",
       "      <td>0.068176</td>\n",
       "      <td>0.003595</td>\n",
       "      <td>1.000000</td>\n",
       "      <td>0.007550</td>\n",
       "      <td>0.095830</td>\n",
       "      <td>0.128686</td>\n",
       "      <td>0.185646</td>\n",
       "    </tr>\n",
       "    <tr>\n",
       "      <th>Var1</th>\n",
       "      <td>-0.030662</td>\n",
       "      <td>-0.006700</td>\n",
       "      <td>-0.055873</td>\n",
       "      <td>-0.007400</td>\n",
       "      <td>0.007550</td>\n",
       "      <td>1.000000</td>\n",
       "      <td>-0.031712</td>\n",
       "      <td>-0.041235</td>\n",
       "      <td>-0.026302</td>\n",
       "    </tr>\n",
       "    <tr>\n",
       "      <th>Var2</th>\n",
       "      <td>0.200456</td>\n",
       "      <td>0.041766</td>\n",
       "      <td>0.215921</td>\n",
       "      <td>-0.302968</td>\n",
       "      <td>0.095830</td>\n",
       "      <td>-0.031712</td>\n",
       "      <td>1.000000</td>\n",
       "      <td>0.683437</td>\n",
       "      <td>0.003437</td>\n",
       "    </tr>\n",
       "    <tr>\n",
       "      <th>Var3</th>\n",
       "      <td>0.231706</td>\n",
       "      <td>0.110830</td>\n",
       "      <td>0.303296</td>\n",
       "      <td>-0.227531</td>\n",
       "      <td>0.128686</td>\n",
       "      <td>-0.041235</td>\n",
       "      <td>0.683437</td>\n",
       "      <td>1.000000</td>\n",
       "      <td>-0.039309</td>\n",
       "    </tr>\n",
       "    <tr>\n",
       "      <th>Surge_Pricing_Type</th>\n",
       "      <td>0.135928</td>\n",
       "      <td>0.027202</td>\n",
       "      <td>-0.073682</td>\n",
       "      <td>-0.155279</td>\n",
       "      <td>0.185646</td>\n",
       "      <td>-0.026302</td>\n",
       "      <td>0.003437</td>\n",
       "      <td>-0.039309</td>\n",
       "      <td>1.000000</td>\n",
       "    </tr>\n",
       "  </tbody>\n",
       "</table>\n",
       "</div>"
      ],
      "text/plain": [
       "                          Trip_Distance  Customer_Since_Months  \\\n",
       "Trip_Distance                  1.000000               0.114340   \n",
       "Customer_Since_Months          0.114340               1.000000   \n",
       "Life_Style_Index               0.468367               0.119154   \n",
       "Customer_Rating               -0.054654              -0.049001   \n",
       "Cancellation_Last_1Month      -0.007686              -0.006187   \n",
       "Var1                          -0.030662              -0.006700   \n",
       "Var2                           0.200456               0.041766   \n",
       "Var3                           0.231706               0.110830   \n",
       "Surge_Pricing_Type             0.135928               0.027202   \n",
       "\n",
       "                          Life_Style_Index  Customer_Rating  \\\n",
       "Trip_Distance                     0.468367        -0.054654   \n",
       "Customer_Since_Months             0.119154        -0.049001   \n",
       "Life_Style_Index                  1.000000         0.189173   \n",
       "Customer_Rating                   0.189173         1.000000   \n",
       "Cancellation_Last_1Month          0.068176         0.003595   \n",
       "Var1                             -0.055873        -0.007400   \n",
       "Var2                              0.215921        -0.302968   \n",
       "Var3                              0.303296        -0.227531   \n",
       "Surge_Pricing_Type               -0.073682        -0.155279   \n",
       "\n",
       "                          Cancellation_Last_1Month      Var1      Var2  \\\n",
       "Trip_Distance                            -0.007686 -0.030662  0.200456   \n",
       "Customer_Since_Months                    -0.006187 -0.006700  0.041766   \n",
       "Life_Style_Index                          0.068176 -0.055873  0.215921   \n",
       "Customer_Rating                           0.003595 -0.007400 -0.302968   \n",
       "Cancellation_Last_1Month                  1.000000  0.007550  0.095830   \n",
       "Var1                                      0.007550  1.000000 -0.031712   \n",
       "Var2                                      0.095830 -0.031712  1.000000   \n",
       "Var3                                      0.128686 -0.041235  0.683437   \n",
       "Surge_Pricing_Type                        0.185646 -0.026302  0.003437   \n",
       "\n",
       "                              Var3  Surge_Pricing_Type  \n",
       "Trip_Distance             0.231706            0.135928  \n",
       "Customer_Since_Months     0.110830            0.027202  \n",
       "Life_Style_Index          0.303296           -0.073682  \n",
       "Customer_Rating          -0.227531           -0.155279  \n",
       "Cancellation_Last_1Month  0.128686            0.185646  \n",
       "Var1                     -0.041235           -0.026302  \n",
       "Var2                      0.683437            0.003437  \n",
       "Var3                      1.000000           -0.039309  \n",
       "Surge_Pricing_Type       -0.039309            1.000000  "
      ]
     },
     "execution_count": 7,
     "metadata": {},
     "output_type": "execute_result"
    }
   ],
   "source": [
    "# Матрица корреляций\n",
    "\n",
    "corr_matrix = df[numeric_cols].corr()\n",
    "corr_matrix"
   ]
  },
  {
   "cell_type": "code",
   "execution_count": 8,
   "id": "4d15f999",
   "metadata": {
    "ExecuteTime": {
     "end_time": "2022-07-28T17:30:40.089068Z",
     "start_time": "2022-07-28T17:30:40.079889Z"
    }
   },
   "outputs": [
    {
     "data": {
      "text/plain": [
       "Trip_ID\n",
       "T0005689460     40.000000\n",
       "T0005689461     38.000000\n",
       "T0005689464     64.202698\n",
       "T0005689465     64.202698\n",
       "T0005689467     51.000000\n",
       "                  ...    \n",
       "T0005908509     61.000000\n",
       "T0005908510     64.202698\n",
       "T0005908512     64.202698\n",
       "T0005908513     47.000000\n",
       "T0005908514    102.000000\n",
       "Name: Var1, Length: 131662, dtype: float64"
      ]
     },
     "execution_count": 8,
     "metadata": {},
     "output_type": "execute_result"
    }
   ],
   "source": [
    "df['Var1']"
   ]
  },
  {
   "cell_type": "code",
   "execution_count": 9,
   "id": "25bdbeeb",
   "metadata": {
    "ExecuteTime": {
     "end_time": "2022-07-28T17:30:40.191325Z",
     "start_time": "2022-07-28T17:30:40.090891Z"
    }
   },
   "outputs": [
    {
     "data": {
      "image/png": "[encoded data removed]",
      "text/plain": [
       "<Figure size 576x576 with 2 Axes>"
      ]
     },
     "metadata": {
      "needs_background": "light"
     },
     "output_type": "display_data"
    }
   ],
   "source": [
    "# Heat Map\n",
    "\n",
    "fig = plt.figure(figsize=(8, 8))\n",
    "\n",
    "sns.heatmap(corr_matrix, \n",
    "            xticklabels=corr_matrix.columns,\n",
    "            yticklabels=corr_matrix.columns,\n",
    "            vmax=1,\n",
    "            vmin=-1)\n",
    "\n",
    "plt.show()"
   ]
  },
  {
   "cell_type": "code",
   "execution_count": 10,
   "id": "2ec2e5fa",
   "metadata": {
    "ExecuteTime": {
     "end_time": "2022-07-28T17:30:40.224831Z",
     "start_time": "2022-07-28T17:30:40.193041Z"
    }
   },
   "outputs": [
    {
     "name": "stdout",
     "output_type": "stream",
     "text": [
      "Top Absolute Correlations\n",
      "Var2              Var3                0.683437\n",
      "Trip_Distance     Life_Style_Index    0.468367\n",
      "Life_Style_Index  Var3                0.303296\n",
      "Customer_Rating   Var2                0.302968\n",
      "Trip_Distance     Var3                0.231706\n",
      "dtype: float64\n"
     ]
    }
   ],
   "source": [
    "# Top 5 самых скоррелированных фичей\n",
    "\n",
    "def get_redundant_pairs(df):\n",
    "    pairs_to_drop = set()\n",
    "    cols = df.columns\n",
    "    for i in range(0, df.shape[1]):\n",
    "        for j in range(0, i+1):\n",
    "            pairs_to_drop.add((cols[i], cols[j]))\n",
    "    return pairs_to_drop\n",
    "\n",
    "\n",
    "def get_top_abs_correlations(df, n=5):\n",
    "    au_corr = df.corr().abs().unstack()\n",
    "    labels_to_drop = get_redundant_pairs(df)\n",
    "    au_corr = au_corr.drop(labels=labels_to_drop).sort_values(ascending=False)\n",
    "    return au_corr[0:n]\n",
    "\n",
    "\n",
    "print(\"Top Absolute Correlations\")\n",
    "print(get_top_abs_correlations(df[numeric_cols], 5))"
   ]
  },
  {
   "cell_type": "code",
   "execution_count": 11,
   "id": "f1be3157",
   "metadata": {
    "ExecuteTime": {
     "end_time": "2022-07-28T17:30:40.233876Z",
     "start_time": "2022-07-28T17:30:40.226208Z"
    }
   },
   "outputs": [
    {
     "data": {
      "text/plain": [
       "Index(['Type_of_Cab', 'Confidence_Life_Style_Index', 'Destination_Type',\n",
       "       'Gender'],\n",
       "      dtype='object')"
      ]
     },
     "execution_count": 11,
     "metadata": {},
     "output_type": "execute_result"
    }
   ],
   "source": [
    "# Отбираем категориальные колонки\n",
    "\n",
    "categorical_cols = df.loc[:, df.dtypes == 'object'].columns\n",
    "categorical_cols"
   ]
  },
  {
   "cell_type": "code",
   "execution_count": 12,
   "id": "bb57accd",
   "metadata": {
    "ExecuteTime": {
     "end_time": "2022-07-28T17:30:40.281230Z",
     "start_time": "2022-07-28T17:30:40.236394Z"
    }
   },
   "outputs": [],
   "source": [
    "# Заполняем прпуски в категориальных колнках самым популярным значением\n",
    "\n",
    "for col in categorical_cols:\n",
    "    most_freq = df.groupby(col).size().sort_values().index[-1]\n",
    "    df[col] = df[col].fillna(most_freq)"
   ]
  },
  {
   "cell_type": "code",
   "execution_count": 13,
   "id": "4fd7d2e2",
   "metadata": {
    "ExecuteTime": {
     "end_time": "2022-07-28T17:30:40.325406Z",
     "start_time": "2022-07-28T17:30:40.281946Z"
    }
   },
   "outputs": [
    {
     "data": {
      "text/plain": [
       "Type_of_Cab                    0\n",
       "Confidence_Life_Style_Index    0\n",
       "Destination_Type               0\n",
       "Gender                         0\n",
       "dtype: int64"
      ]
     },
     "execution_count": 13,
     "metadata": {},
     "output_type": "execute_result"
    }
   ],
   "source": [
    "df[categorical_cols].isna().sum()"
   ]
  },
  {
   "cell_type": "code",
   "execution_count": 14,
   "id": "0b8242d1",
   "metadata": {
    "ExecuteTime": {
     "end_time": "2022-07-28T17:30:40.335836Z",
     "start_time": "2022-07-28T17:30:40.326729Z"
    },
    "scrolled": true
   },
   "outputs": [
    {
     "data": {
      "text/html": [
       "<div>\n",
       "<style scoped>\n",
       "    .dataframe tbody tr th:only-of-type {\n",
       "        vertical-align: middle;\n",
       "    }\n",
       "\n",
       "    .dataframe tbody tr th {\n",
       "        vertical-align: top;\n",
       "    }\n",
       "\n",
       "    .dataframe thead th {\n",
       "        text-align: right;\n",
       "    }\n",
       "</style>\n",
       "<table border=\"1\" class=\"dataframe\">\n",
       "  <thead>\n",
       "    <tr style=\"text-align: right;\">\n",
       "      <th></th>\n",
       "      <th>Trip_Distance</th>\n",
       "      <th>Type_of_Cab</th>\n",
       "      <th>Customer_Since_Months</th>\n",
       "      <th>Life_Style_Index</th>\n",
       "      <th>Confidence_Life_Style_Index</th>\n",
       "      <th>Destination_Type</th>\n",
       "      <th>Customer_Rating</th>\n",
       "      <th>Cancellation_Last_1Month</th>\n",
       "      <th>Var1</th>\n",
       "      <th>Var2</th>\n",
       "      <th>Var3</th>\n",
       "      <th>Gender</th>\n",
       "      <th>Surge_Pricing_Type</th>\n",
       "    </tr>\n",
       "    <tr>\n",
       "      <th>Trip_ID</th>\n",
       "      <th></th>\n",
       "      <th></th>\n",
       "      <th></th>\n",
       "      <th></th>\n",
       "      <th></th>\n",
       "      <th></th>\n",
       "      <th></th>\n",
       "      <th></th>\n",
       "      <th></th>\n",
       "      <th></th>\n",
       "      <th></th>\n",
       "      <th></th>\n",
       "      <th></th>\n",
       "    </tr>\n",
       "  </thead>\n",
       "  <tbody>\n",
       "    <tr>\n",
       "      <th>T0005689460</th>\n",
       "      <td>6.77</td>\n",
       "      <td>B</td>\n",
       "      <td>1.0</td>\n",
       "      <td>2.427690</td>\n",
       "      <td>A</td>\n",
       "      <td>A</td>\n",
       "      <td>3.90500</td>\n",
       "      <td>0</td>\n",
       "      <td>40.000000</td>\n",
       "      <td>46</td>\n",
       "      <td>60</td>\n",
       "      <td>Female</td>\n",
       "      <td>2</td>\n",
       "    </tr>\n",
       "    <tr>\n",
       "      <th>T0005689461</th>\n",
       "      <td>29.47</td>\n",
       "      <td>B</td>\n",
       "      <td>10.0</td>\n",
       "      <td>2.782450</td>\n",
       "      <td>B</td>\n",
       "      <td>A</td>\n",
       "      <td>3.45000</td>\n",
       "      <td>0</td>\n",
       "      <td>38.000000</td>\n",
       "      <td>56</td>\n",
       "      <td>78</td>\n",
       "      <td>Male</td>\n",
       "      <td>2</td>\n",
       "    </tr>\n",
       "    <tr>\n",
       "      <th>T0005689464</th>\n",
       "      <td>41.58</td>\n",
       "      <td>B</td>\n",
       "      <td>10.0</td>\n",
       "      <td>2.802064</td>\n",
       "      <td>B</td>\n",
       "      <td>E</td>\n",
       "      <td>3.50125</td>\n",
       "      <td>2</td>\n",
       "      <td>64.202698</td>\n",
       "      <td>56</td>\n",
       "      <td>77</td>\n",
       "      <td>Male</td>\n",
       "      <td>2</td>\n",
       "    </tr>\n",
       "    <tr>\n",
       "      <th>T0005689465</th>\n",
       "      <td>61.56</td>\n",
       "      <td>C</td>\n",
       "      <td>10.0</td>\n",
       "      <td>2.802064</td>\n",
       "      <td>B</td>\n",
       "      <td>A</td>\n",
       "      <td>3.45375</td>\n",
       "      <td>0</td>\n",
       "      <td>64.202698</td>\n",
       "      <td>52</td>\n",
       "      <td>74</td>\n",
       "      <td>Male</td>\n",
       "      <td>3</td>\n",
       "    </tr>\n",
       "    <tr>\n",
       "      <th>T0005689467</th>\n",
       "      <td>54.95</td>\n",
       "      <td>C</td>\n",
       "      <td>10.0</td>\n",
       "      <td>3.034530</td>\n",
       "      <td>B</td>\n",
       "      <td>A</td>\n",
       "      <td>3.40250</td>\n",
       "      <td>4</td>\n",
       "      <td>51.000000</td>\n",
       "      <td>49</td>\n",
       "      <td>102</td>\n",
       "      <td>Male</td>\n",
       "      <td>2</td>\n",
       "    </tr>\n",
       "    <tr>\n",
       "      <th>...</th>\n",
       "      <td>...</td>\n",
       "      <td>...</td>\n",
       "      <td>...</td>\n",
       "      <td>...</td>\n",
       "      <td>...</td>\n",
       "      <td>...</td>\n",
       "      <td>...</td>\n",
       "      <td>...</td>\n",
       "      <td>...</td>\n",
       "      <td>...</td>\n",
       "      <td>...</td>\n",
       "      <td>...</td>\n",
       "      <td>...</td>\n",
       "    </tr>\n",
       "    <tr>\n",
       "      <th>T0005908509</th>\n",
       "      <td>11.72</td>\n",
       "      <td>D</td>\n",
       "      <td>1.0</td>\n",
       "      <td>2.742290</td>\n",
       "      <td>A</td>\n",
       "      <td>A</td>\n",
       "      <td>3.28500</td>\n",
       "      <td>0</td>\n",
       "      <td>61.000000</td>\n",
       "      <td>47</td>\n",
       "      <td>76</td>\n",
       "      <td>Male</td>\n",
       "      <td>3</td>\n",
       "    </tr>\n",
       "    <tr>\n",
       "      <th>T0005908510</th>\n",
       "      <td>74.81</td>\n",
       "      <td>C</td>\n",
       "      <td>7.0</td>\n",
       "      <td>2.810590</td>\n",
       "      <td>C</td>\n",
       "      <td>A</td>\n",
       "      <td>0.44500</td>\n",
       "      <td>0</td>\n",
       "      <td>64.202698</td>\n",
       "      <td>63</td>\n",
       "      <td>88</td>\n",
       "      <td>Male</td>\n",
       "      <td>2</td>\n",
       "    </tr>\n",
       "    <tr>\n",
       "      <th>T0005908512</th>\n",
       "      <td>40.17</td>\n",
       "      <td>C</td>\n",
       "      <td>10.0</td>\n",
       "      <td>2.995650</td>\n",
       "      <td>B</td>\n",
       "      <td>A</td>\n",
       "      <td>3.33625</td>\n",
       "      <td>0</td>\n",
       "      <td>64.202698</td>\n",
       "      <td>48</td>\n",
       "      <td>75</td>\n",
       "      <td>Female</td>\n",
       "      <td>2</td>\n",
       "    </tr>\n",
       "    <tr>\n",
       "      <th>T0005908513</th>\n",
       "      <td>46.88</td>\n",
       "      <td>B</td>\n",
       "      <td>4.0</td>\n",
       "      <td>3.047440</td>\n",
       "      <td>A</td>\n",
       "      <td>B</td>\n",
       "      <td>4.15750</td>\n",
       "      <td>1</td>\n",
       "      <td>47.000000</td>\n",
       "      <td>54</td>\n",
       "      <td>79</td>\n",
       "      <td>Male</td>\n",
       "      <td>2</td>\n",
       "    </tr>\n",
       "    <tr>\n",
       "      <th>T0005908514</th>\n",
       "      <td>31.96</td>\n",
       "      <td>A</td>\n",
       "      <td>7.0</td>\n",
       "      <td>2.937730</td>\n",
       "      <td>A</td>\n",
       "      <td>E</td>\n",
       "      <td>2.63875</td>\n",
       "      <td>1</td>\n",
       "      <td>102.000000</td>\n",
       "      <td>57</td>\n",
       "      <td>85</td>\n",
       "      <td>Male</td>\n",
       "      <td>1</td>\n",
       "    </tr>\n",
       "  </tbody>\n",
       "</table>\n",
       "<p>131662 rows × 13 columns</p>\n",
       "</div>"
      ],
      "text/plain": [
       "             Trip_Distance Type_of_Cab  Customer_Since_Months  \\\n",
       "Trip_ID                                                         \n",
       "T0005689460           6.77           B                    1.0   \n",
       "T0005689461          29.47           B                   10.0   \n",
       "T0005689464          41.58           B                   10.0   \n",
       "T0005689465          61.56           C                   10.0   \n",
       "T0005689467          54.95           C                   10.0   \n",
       "...                    ...         ...                    ...   \n",
       "T0005908509          11.72           D                    1.0   \n",
       "T0005908510          74.81           C                    7.0   \n",
       "T0005908512          40.17           C                   10.0   \n",
       "T0005908513          46.88           B                    4.0   \n",
       "T0005908514          31.96           A                    7.0   \n",
       "\n",
       "             Life_Style_Index Confidence_Life_Style_Index Destination_Type  \\\n",
       "Trip_ID                                                                      \n",
       "T0005689460          2.427690                           A                A   \n",
       "T0005689461          2.782450                           B                A   \n",
       "T0005689464          2.802064                           B                E   \n",
       "T0005689465          2.802064                           B                A   \n",
       "T0005689467          3.034530                           B                A   \n",
       "...                       ...                         ...              ...   \n",
       "T0005908509          2.742290                           A                A   \n",
       "T0005908510          2.810590                           C                A   \n",
       "T0005908512          2.995650                           B                A   \n",
       "T0005908513          3.047440                           A                B   \n",
       "T0005908514          2.937730                           A                E   \n",
       "\n",
       "             Customer_Rating  Cancellation_Last_1Month        Var1  Var2  \\\n",
       "Trip_ID                                                                    \n",
       "T0005689460          3.90500                         0   40.000000    46   \n",
       "T0005689461          3.45000                         0   38.000000    56   \n",
       "T0005689464          3.50125                         2   64.202698    56   \n",
       "T0005689465          3.45375                         0   64.202698    52   \n",
       "T0005689467          3.40250                         4   51.000000    49   \n",
       "...                      ...                       ...         ...   ...   \n",
       "T0005908509          3.28500                         0   61.000000    47   \n",
       "T0005908510          0.44500                         0   64.202698    63   \n",
       "T0005908512          3.33625                         0   64.202698    48   \n",
       "T0005908513          4.15750                         1   47.000000    54   \n",
       "T0005908514          2.63875                         1  102.000000    57   \n",
       "\n",
       "             Var3  Gender  Surge_Pricing_Type  \n",
       "Trip_ID                                        \n",
       "T0005689460    60  Female                   2  \n",
       "T0005689461    78    Male                   2  \n",
       "T0005689464    77    Male                   2  \n",
       "T0005689465    74    Male                   3  \n",
       "T0005689467   102    Male                   2  \n",
       "...           ...     ...                 ...  \n",
       "T0005908509    76    Male                   3  \n",
       "T0005908510    88    Male                   2  \n",
       "T0005908512    75  Female                   2  \n",
       "T0005908513    79    Male                   2  \n",
       "T0005908514    85    Male                   1  \n",
       "\n",
       "[131662 rows x 13 columns]"
      ]
     },
     "execution_count": 14,
     "metadata": {},
     "output_type": "execute_result"
    }
   ],
   "source": [
    "df"
   ]
  },
  {
   "cell_type": "code",
   "execution_count": 15,
   "id": "167b0ab4",
   "metadata": {
    "ExecuteTime": {
     "end_time": "2022-07-28T17:30:40.408616Z",
     "start_time": "2022-07-28T17:30:40.336904Z"
    }
   },
   "outputs": [],
   "source": [
    "# OneHotEncoding для категориальных фичей\n",
    "\n",
    "for col in categorical_cols:\n",
    "    one_hot = pd.get_dummies(df[col], drop_first=True, prefix=col)\n",
    "    df = pd.concat((df, one_hot), axis=1)\n",
    "    df = df.drop(col, axis=1)"
   ]
  },
  {
   "cell_type": "code",
   "execution_count": 16,
   "id": "d8d5b7fd",
   "metadata": {
    "ExecuteTime": {
     "end_time": "2022-07-28T17:30:40.411792Z",
     "start_time": "2022-07-28T17:30:40.409616Z"
    }
   },
   "outputs": [
    {
     "data": {
      "text/plain": [
       "(131662, 29)"
      ]
     },
     "execution_count": 16,
     "metadata": {},
     "output_type": "execute_result"
    }
   ],
   "source": [
    "df.shape"
   ]
  },
  {
   "cell_type": "markdown",
   "id": "20e9e7d2",
   "metadata": {},
   "source": [
    "### Training"
   ]
  },
  {
   "cell_type": "code",
   "execution_count": 17,
   "id": "c424f81f",
   "metadata": {
    "ExecuteTime": {
     "end_time": "2022-07-28T17:30:40.481286Z",
     "start_time": "2022-07-28T17:30:40.412683Z"
    }
   },
   "outputs": [],
   "source": [
    "np.random.seed(2022)\n",
    "\n",
    "from sklearn.pipeline import Pipeline\n",
    "from sklearn.preprocessing import StandardScaler\n",
    "from sklearn.model_selection import train_test_split\n",
    "\n",
    "X = df.drop('Surge_Pricing_Type', axis=1)\n",
    "y = df['Surge_Pricing_Type']"
   ]
  },
  {
   "cell_type": "code",
   "execution_count": 18,
   "id": "fdaba708",
   "metadata": {
    "ExecuteTime": {
     "end_time": "2022-07-28T17:30:40.503072Z",
     "start_time": "2022-07-28T17:30:40.482151Z"
    }
   },
   "outputs": [],
   "source": [
    "X_train, X_test, y_train, y_test  = train_test_split(X, y, \n",
    "                                                     test_size=0.2, \n",
    "                                                     shuffle=True, \n",
    "                                                     random_state=2022)"
   ]
  },
  {
   "cell_type": "markdown",
   "id": "a686c150",
   "metadata": {},
   "source": [
    "**Задание 1.** Обучите One-vs-Rest Logreg. Не забудьте в шаг добавить стандартизацию данных (через `StandardScaler`) Посчитайте precision, recall, f1-score и усредните по всем классам с помощью micro, macro и weighted avg. Здесь и далее округляйте до 3 знака после запятой.\n",
    "\n",
    "Чтобы отдельно и долго не вычислять метрики, можно воспользоваться `classification_report` из `sklearn.metrics`!"
   ]
  },
  {
   "cell_type": "code",
   "execution_count": 19,
   "id": "95ba6d20",
   "metadata": {
    "ExecuteTime": {
     "end_time": "2022-07-28T17:30:41.036559Z",
     "start_time": "2022-07-28T17:30:40.503860Z"
    },
    "scrolled": true
   },
   "outputs": [
    {
     "data": {
      "text/plain": [
       "Pipeline(steps=[('scaler', StandardScaler()),\n",
       "                ('one_vs_rest',\n",
       "                 OneVsRestClassifier(estimator=LogisticRegression()))])"
      ]
     },
     "execution_count": 19,
     "metadata": {},
     "output_type": "execute_result"
    }
   ],
   "source": [
    "from sklearn.multiclass import OneVsRestClassifier\n",
    "from sklearn.linear_model import LogisticRegression\n",
    "\n",
    "pipe_one_rest = Pipeline([('scaler', StandardScaler()), \n",
    "                          ('one_vs_rest', OneVsRestClassifier(LogisticRegression()))])\n",
    "\n",
    "pipe_one_rest.fit(X_train, y_train)"
   ]
  },
  {
   "cell_type": "code",
   "execution_count": 20,
   "id": "8f400a26",
   "metadata": {
    "ExecuteTime": {
     "end_time": "2022-07-28T17:30:41.123161Z",
     "start_time": "2022-07-28T17:30:41.050790Z"
    }
   },
   "outputs": [
    {
     "name": "stdout",
     "output_type": "stream",
     "text": [
      "              precision    recall  f1-score   support\n",
      "\n",
      "           1      0.722     0.542     0.619      5372\n",
      "           2      0.636     0.835     0.722     11349\n",
      "           3      0.741     0.571     0.645      9612\n",
      "\n",
      "    accuracy                          0.679     26333\n",
      "   macro avg      0.700     0.649     0.662     26333\n",
      "weighted avg      0.692     0.679     0.673     26333\n",
      "\n"
     ]
    }
   ],
   "source": [
    "from sklearn.metrics import classification_report\n",
    "\n",
    "print(classification_report(y_test, pipe_one_rest.predict(X_test), digits=3))"
   ]
  },
  {
   "cell_type": "markdown",
   "id": "fb6f548d",
   "metadata": {},
   "source": [
    "Подберите оптимальные гиперпараметры модели с помощью `GridSearchCV()` из предложенных. Для лучшего набора гиперпараметров посчитайте те же самые метрики. Валидировать параметры необходимо по `accuracy`. В этот раз проведем настояющую процедуру Кросс-Валидации! \n",
    "\n",
    "Для этого в метод `fit` передадим тренировочную часть наших данных, в параметр `cv` ничего не будем передавать (по дефолту 5-fold Кросс-Валидация будет проведена), а итоговые метрики замерим на тесте!"
   ]
  },
  {
   "cell_type": "code",
   "execution_count": 21,
   "id": "8ce7e3f0",
   "metadata": {
    "ExecuteTime": {
     "end_time": "2022-07-28T17:30:41.147457Z",
     "start_time": "2022-07-28T17:30:41.134434Z"
    }
   },
   "outputs": [
    {
     "data": {
      "text/plain": [
       "{'memory': None,\n",
       " 'steps': [('scaler', StandardScaler()),\n",
       "  ('one_vs_rest', OneVsRestClassifier(estimator=LogisticRegression()))],\n",
       " 'verbose': False,\n",
       " 'scaler': StandardScaler(),\n",
       " 'one_vs_rest': OneVsRestClassifier(estimator=LogisticRegression()),\n",
       " 'scaler__copy': True,\n",
       " 'scaler__with_mean': True,\n",
       " 'scaler__with_std': True,\n",
       " 'one_vs_rest__estimator__C': 1.0,\n",
       " 'one_vs_rest__estimator__class_weight': None,\n",
       " 'one_vs_rest__estimator__dual': False,\n",
       " 'one_vs_rest__estimator__fit_intercept': True,\n",
       " 'one_vs_rest__estimator__intercept_scaling': 1,\n",
       " 'one_vs_rest__estimator__l1_ratio': None,\n",
       " 'one_vs_rest__estimator__max_iter': 100,\n",
       " 'one_vs_rest__estimator__multi_class': 'auto',\n",
       " 'one_vs_rest__estimator__n_jobs': None,\n",
       " 'one_vs_rest__estimator__penalty': 'l2',\n",
       " 'one_vs_rest__estimator__random_state': None,\n",
       " 'one_vs_rest__estimator__solver': 'lbfgs',\n",
       " 'one_vs_rest__estimator__tol': 0.0001,\n",
       " 'one_vs_rest__estimator__verbose': 0,\n",
       " 'one_vs_rest__estimator__warm_start': False,\n",
       " 'one_vs_rest__estimator': LogisticRegression(),\n",
       " 'one_vs_rest__n_jobs': None}"
      ]
     },
     "execution_count": 21,
     "metadata": {},
     "output_type": "execute_result"
    }
   ],
   "source": [
    "pipe_one_rest.get_params()"
   ]
  },
  {
   "cell_type": "code",
   "execution_count": 22,
   "id": "34ce35be",
   "metadata": {
    "ExecuteTime": {
     "end_time": "2022-07-28T17:30:41.153152Z",
     "start_time": "2022-07-28T17:30:41.150147Z"
    }
   },
   "outputs": [],
   "source": [
    "param_grid = {'one_vs_rest__estimator__penalty': ['l1', 'l2', 'elasticnet'],\n",
    "              'one_vs_rest__estimator__C': [0.001, 0.01, 0.1, 1]}"
   ]
  },
  {
   "cell_type": "code",
   "execution_count": 23,
   "id": "2bcc508e",
   "metadata": {
    "ExecuteTime": {
     "end_time": "2022-07-28T17:30:50.412833Z",
     "start_time": "2022-07-28T17:30:41.155482Z"
    }
   },
   "outputs": [
    {
     "data": {
      "text/plain": [
       "GridSearchCV(estimator=Pipeline(steps=[('scaler', StandardScaler()),\n",
       "                                       ('one_vs_rest',\n",
       "                                        OneVsRestClassifier(estimator=LogisticRegression()))]),\n",
       "             param_grid={'one_vs_rest__estimator__C': [0.001, 0.01, 0.1, 1],\n",
       "                         'one_vs_rest__estimator__penalty': ['l1', 'l2',\n",
       "                                                             'elasticnet']},\n",
       "             scoring='accuracy')"
      ]
     },
     "execution_count": 23,
     "metadata": {},
     "output_type": "execute_result"
    }
   ],
   "source": [
    "from sklearn.model_selection import cross_validate\n",
    "from sklearn.model_selection import GridSearchCV\n",
    "\n",
    "search = GridSearchCV(pipe_one_rest, param_grid, scoring='accuracy')\n",
    "\n",
    "search.fit(X_train, y_train)"
   ]
  },
  {
   "cell_type": "code",
   "execution_count": 24,
   "id": "d1679e91",
   "metadata": {
    "ExecuteTime": {
     "end_time": "2022-07-28T17:30:50.436768Z",
     "start_time": "2022-07-28T17:30:50.421419Z"
    }
   },
   "outputs": [
    {
     "data": {
      "text/plain": [
       "{'one_vs_rest__estimator__C': 0.001, 'one_vs_rest__estimator__penalty': 'l2'}"
      ]
     },
     "execution_count": 24,
     "metadata": {},
     "output_type": "execute_result"
    }
   ],
   "source": [
    "search.best_params_"
   ]
  },
  {
   "cell_type": "code",
   "execution_count": 25,
   "id": "f435ed22",
   "metadata": {
    "ExecuteTime": {
     "end_time": "2022-07-28T17:30:50.448141Z",
     "start_time": "2022-07-28T17:30:50.439022Z"
    }
   },
   "outputs": [
    {
     "data": {
      "text/plain": [
       "Pipeline(steps=[('scaler', StandardScaler()),\n",
       "                ('one_vs_rest',\n",
       "                 OneVsRestClassifier(estimator=LogisticRegression(C=0.001)))])"
      ]
     },
     "execution_count": 25,
     "metadata": {},
     "output_type": "execute_result"
    }
   ],
   "source": [
    "pipe_one_rest.set_params(one_vs_rest__estimator__C=0.001, one_vs_rest__estimator__penalty='l2')"
   ]
  },
  {
   "cell_type": "code",
   "execution_count": 26,
   "id": "75b56187",
   "metadata": {
    "ExecuteTime": {
     "end_time": "2022-07-28T17:30:50.959415Z",
     "start_time": "2022-07-28T17:30:50.450171Z"
    },
    "scrolled": false
   },
   "outputs": [
    {
     "name": "stdout",
     "output_type": "stream",
     "text": [
      "              precision    recall  f1-score   support\n",
      "\n",
      "           1      0.741     0.534     0.621      5372\n",
      "           2      0.635     0.839     0.723     11349\n",
      "           3      0.742     0.576     0.648      9612\n",
      "\n",
      "    accuracy                          0.681     26333\n",
      "   macro avg      0.706     0.650     0.664     26333\n",
      "weighted avg      0.696     0.681     0.675     26333\n",
      "\n"
     ]
    }
   ],
   "source": [
    "pipe_one_rest.fit(X_train, y_train)\n",
    "print(classification_report(y_test, pipe_one_rest.predict(X_test), digits=3))"
   ]
  },
  {
   "cell_type": "markdown",
   "id": "cb1ee138",
   "metadata": {},
   "source": [
    "Изобразите три калибровочные кривые для Logistic Classifier: 0-vs-rest, 1-vs-rest, 2-vs-rest. Хорошо ли откалиброван обученный классификатор? \n",
    "\n",
    "Заметьте, что `predict_proba` возвращает список из вероятностей для всех наших классов!"
   ]
  },
  {
   "cell_type": "code",
   "execution_count": 27,
   "id": "e2e88494",
   "metadata": {
    "ExecuteTime": {
     "end_time": "2022-07-28T17:30:51.031282Z",
     "start_time": "2022-07-28T17:30:50.999160Z"
    }
   },
   "outputs": [
    {
     "data": {
      "text/plain": [
       "array([1, 2, 3])"
      ]
     },
     "execution_count": 27,
     "metadata": {},
     "output_type": "execute_result"
    }
   ],
   "source": [
    "pipe_one_rest.classes_"
   ]
  },
  {
   "cell_type": "code",
   "execution_count": 28,
   "id": "4a675a68",
   "metadata": {
    "ExecuteTime": {
     "end_time": "2022-07-28T17:30:51.054560Z",
     "start_time": "2022-07-28T17:30:51.033218Z"
    }
   },
   "outputs": [
    {
     "data": {
      "text/plain": [
       "array([[0.32584652, 0.27113827, 0.4030152 ],\n",
       "       [0.02345022, 0.54099568, 0.4355541 ],\n",
       "       [0.02308938, 0.55718697, 0.41972365],\n",
       "       ...,\n",
       "       [0.48776085, 0.10509241, 0.40714675],\n",
       "       [0.56561536, 0.180277  , 0.25410763],\n",
       "       [0.13231086, 0.6003208 , 0.26736833]])"
      ]
     },
     "execution_count": 28,
     "metadata": {},
     "output_type": "execute_result"
    }
   ],
   "source": [
    "pipe_one_rest.predict_proba(X_test)"
   ]
  },
  {
   "cell_type": "code",
   "execution_count": 29,
   "id": "3173a89f",
   "metadata": {
    "ExecuteTime": {
     "end_time": "2022-07-28T17:30:51.348643Z",
     "start_time": "2022-07-28T17:30:51.057061Z"
    }
   },
   "outputs": [
    {
     "data": {
      "image/png": "[encoded data removed]",
      "text/plain": [
       "<Figure size 432x288 with 1 Axes>"
      ]
     },
     "metadata": {
      "needs_background": "light"
     },
     "output_type": "display_data"
    },
    {
     "data": {
      "image/png": "[encoded data removed]",
      "text/plain": [
       "<Figure size 432x288 with 1 Axes>"
      ]
     },
     "metadata": {
      "needs_background": "light"
     },
     "output_type": "display_data"
    },
    {
     "data": {
      "image/png": "[encoded data removed]",
      "text/plain": [
       "<Figure size 432x288 with 1 Axes>"
      ]
     },
     "metadata": {
      "needs_background": "light"
     },
     "output_type": "display_data"
    }
   ],
   "source": [
    "from sklearn.calibration import CalibrationDisplay\n",
    "\n",
    "for target_class in range(3):\n",
    "    CalibrationDisplay.from_predictions((y_test == target_class + 1).astype(float),\n",
    "                                        pipe_one_rest.predict_proba(X_test)[:, target_class])"
   ]
  },
  {
   "cell_type": "markdown",
   "id": "480baa01",
   "metadata": {},
   "source": [
    "**Задание 2.** Обучите логистическую регрессию с гиперпараметрами из первого задания на полиномиальных признаках до 4 степени. Сравните метрики с первым заданием.\n",
    "\n",
    "\n",
    "Пример: Пусть у нас был единственный признак \n",
    "\n",
    "$$\n",
    "d_j = [1, 2, 3, 4]\n",
    "$$\n",
    "\n",
    "Тогда полиномиальные признаки до 4 степени от такого будут иметь вид:\n",
    "\n",
    "$$\n",
    "d_j^1 = [1, 2, 3, 4]\n",
    "$$\n",
    "\n",
    "$$\n",
    "d_j^2 = [1, 4, 9, 16]\n",
    "$$\n",
    "\n",
    "$$\n",
    "d_j^3 = [1, 8, 27, 64]\n",
    "$$\n",
    "\n",
    "$$\n",
    "d_j^4 = [1, 16, 81, 256]\n",
    "$$\n",
    "\n",
    "P.S. Бинарные колонки нет смысла возводить в какие-то степени, поэтому возьмем исключительно вещественные из базовых. \n",
    "\n",
    "Для этого можно воспользоваться классическим циклом (или уроком из занятия про `Sberbank Housing Market`). Положите модифицированный датасет в переменную `X_polinomial`!\n",
    "\n",
    "P.S.S Зачастую еще, создаваю полиномиальные фичи, учитывают \"пересечения\" признаков, то есть, например, из векторов признаков $d_j, d_i$ генерируют не просто новые степени $d_j^2, d_i^2, d_j^3, d_i^3...$, а еще и признаки вида $d_j \\cdot d_i, d_j^2 \\cdot d_i, d_j \\cdot d_i^2...$, но здесь ограничьтесь просто степенями!"
   ]
  },
  {
   "cell_type": "code",
   "execution_count": 30,
   "id": "5e45ba3e",
   "metadata": {
    "ExecuteTime": {
     "end_time": "2022-07-28T17:30:51.660531Z",
     "start_time": "2022-07-28T17:30:51.351148Z"
    }
   },
   "outputs": [],
   "source": [
    "# Создание полиномиальных признаков\n",
    "\n",
    "X_polinomial = X.copy()\n",
    "numeric_cols_pol = numeric_cols.drop('Surge_Pricing_Type')\n",
    "\n",
    "for col in numeric_cols_pol:\n",
    "    for power in [1, 2, 3, 4]:\n",
    "        pol_col = (X_polinomial[col] ** power).to_frame().rename({col: f'{col}_{power}'}, axis=1)\n",
    "        X_polinomial = pd.concat((X_polinomial, pol_col), axis=1)"
   ]
  },
  {
   "cell_type": "code",
   "execution_count": 31,
   "id": "efd70952",
   "metadata": {
    "ExecuteTime": {
     "end_time": "2022-07-28T17:30:51.702945Z",
     "start_time": "2022-07-28T17:30:51.661496Z"
    }
   },
   "outputs": [],
   "source": [
    "X_pol_train, X_pol_test, y_train, y_test  = train_test_split(X_polinomial, y, \n",
    "                                                             test_size=0.2, \n",
    "                                                             shuffle=True, \n",
    "                                                             random_state=2022)"
   ]
  },
  {
   "cell_type": "code",
   "execution_count": 32,
   "id": "e1e70af0",
   "metadata": {
    "ExecuteTime": {
     "end_time": "2022-07-28T17:30:53.548516Z",
     "start_time": "2022-07-28T17:30:51.703699Z"
    }
   },
   "outputs": [
    {
     "data": {
      "text/plain": [
       "Pipeline(steps=[('scaler', StandardScaler()),\n",
       "                ('one_vs_rest',\n",
       "                 OneVsRestClassifier(estimator=LogisticRegression(C=0.001)))])"
      ]
     },
     "execution_count": 32,
     "metadata": {},
     "output_type": "execute_result"
    }
   ],
   "source": [
    "pipe_one_rest.fit(X_pol_train, y_train)"
   ]
  },
  {
   "cell_type": "code",
   "execution_count": 33,
   "id": "fd89b72f",
   "metadata": {
    "ExecuteTime": {
     "end_time": "2022-07-28T17:30:53.619461Z",
     "start_time": "2022-07-28T17:30:53.558510Z"
    }
   },
   "outputs": [
    {
     "name": "stdout",
     "output_type": "stream",
     "text": [
      "              precision    recall  f1-score   support\n",
      "\n",
      "           1      0.751     0.532     0.623      5372\n",
      "           2      0.636     0.835     0.722     11349\n",
      "           3      0.739     0.588     0.655      9612\n",
      "\n",
      "    accuracy                          0.683     26333\n",
      "   macro avg      0.709     0.651     0.667     26333\n",
      "weighted avg      0.697     0.683     0.677     26333\n",
      "\n"
     ]
    }
   ],
   "source": [
    "print(classification_report(y_test, pipe_one_rest.predict(X_pol_test), digits=3))"
   ]
  },
  {
   "cell_type": "markdown",
   "id": "1eb86d15",
   "metadata": {},
   "source": [
    "По аналогии с первым заданием изобразите три калибровочные кривые. Стало ли лучше?"
   ]
  },
  {
   "cell_type": "code",
   "execution_count": 34,
   "id": "ebc9132c",
   "metadata": {
    "ExecuteTime": {
     "end_time": "2022-07-28T17:30:53.902603Z",
     "start_time": "2022-07-28T17:30:53.622112Z"
    }
   },
   "outputs": [
    {
     "data": {
      "image/png": "[encoded data removed]",
      "text/plain": [
       "<Figure size 432x288 with 1 Axes>"
      ]
     },
     "metadata": {
      "needs_background": "light"
     },
     "output_type": "display_data"
    },
    {
     "data": {
      "image/png": "[encoded data removed]",
      "text/plain": [
       "<Figure size 432x288 with 1 Axes>"
      ]
     },
     "metadata": {
      "needs_background": "light"
     },
     "output_type": "display_data"
    },
    {
     "data": {
      "image/png": "[encoded data removed]",
      "text/plain": [
       "<Figure size 432x288 with 1 Axes>"
      ]
     },
     "metadata": {
      "needs_background": "light"
     },
     "output_type": "display_data"
    }
   ],
   "source": [
    "for target_class in range(3):\n",
    "    CalibrationDisplay.from_predictions((y_test == target_class + 1).astype(float),\n",
    "                                         pipe_one_rest.predict_proba(X_pol_test)[:, target_class])"
   ]
  },
  {
   "cell_type": "markdown",
   "id": "75439311",
   "metadata": {},
   "source": [
    "**Задание 3.** Обучите на датасете без полиномиальных признаков One-vs-One `SGDClassifier` из `sklearn.linear_model`, который использует стохастический градиентный спуск (узнаете о нем позже) и может обучать как `SVM`, так и, например, `LogReg`, если указать в качестве параметра `loss` либо `hinge`, либо `log` соответственно!\n",
    "\n",
    "Посчитайте precision, recall, f1-score и усредните по всем классам с помощью micro, macro и weighted avg."
   ]
  },
  {
   "cell_type": "code",
   "execution_count": 35,
   "id": "71ad008d",
   "metadata": {
    "ExecuteTime": {
     "end_time": "2022-07-28T17:30:53.966141Z",
     "start_time": "2022-07-28T17:30:53.905685Z"
    }
   },
   "outputs": [],
   "source": [
    "X_train, X_test, y_train, y_test  = train_test_split(X, y, \n",
    "                                                     test_size=0.2, \n",
    "                                                     shuffle=True, \n",
    "                                                     random_state=2022)"
   ]
  },
  {
   "cell_type": "code",
   "execution_count": 36,
   "id": "7e75280e",
   "metadata": {
    "ExecuteTime": {
     "end_time": "2022-07-28T17:30:54.735733Z",
     "start_time": "2022-07-28T17:30:53.966883Z"
    }
   },
   "outputs": [
    {
     "data": {
      "text/plain": [
       "Pipeline(steps=[('scaler', StandardScaler()),\n",
       "                ('one_vs_one', OneVsOneClassifier(estimator=SGDClassifier()))])"
      ]
     },
     "execution_count": 36,
     "metadata": {},
     "output_type": "execute_result"
    }
   ],
   "source": [
    "from sklearn.linear_model import SGDClassifier\n",
    "from sklearn.multiclass import OneVsOneClassifier\n",
    "\n",
    "pipe_one_one = Pipeline([('scaler', StandardScaler()), \n",
    "                         ('one_vs_one', OneVsOneClassifier(SGDClassifier()))])\n",
    "\n",
    "pipe_one_one.fit(X_train, y_train)"
   ]
  },
  {
   "cell_type": "code",
   "execution_count": 37,
   "id": "b6e1fb0d",
   "metadata": {
    "ExecuteTime": {
     "end_time": "2022-07-28T17:30:54.797298Z",
     "start_time": "2022-07-28T17:30:54.736398Z"
    }
   },
   "outputs": [
    {
     "name": "stdout",
     "output_type": "stream",
     "text": [
      "              precision    recall  f1-score   support\n",
      "\n",
      "           1      0.743     0.525     0.615      5372\n",
      "           2      0.625     0.871     0.728     11349\n",
      "           3      0.759     0.531     0.625      9612\n",
      "\n",
      "    accuracy                          0.676     26333\n",
      "   macro avg      0.709     0.642     0.656     26333\n",
      "weighted avg      0.698     0.676     0.667     26333\n",
      "\n"
     ]
    }
   ],
   "source": [
    "print(classification_report(y_test, pipe_one_one.predict(X_test), digits=3))"
   ]
  },
  {
   "cell_type": "markdown",
   "id": "802bc003",
   "metadata": {},
   "source": [
    "Подберите оптимальные гиперпараметры модели с помощью `GridSearchCV()`. При этом переберите всевозможные функции потерь. Таким образом, при `loss = 'hinge'`, мы обучим SVM, при `loss = 'log'` мы обучим логистическую регрессию и т.д.\n",
    "\n",
    "Используйте прием с Кросс-Валидацией при подборе параметров, как ранее, а также замерьте метрики на тесте."
   ]
  },
  {
   "cell_type": "code",
   "execution_count": 38,
   "id": "f6d6b9ba",
   "metadata": {
    "ExecuteTime": {
     "end_time": "2022-07-28T17:30:54.817420Z",
     "start_time": "2022-07-28T17:30:54.803055Z"
    }
   },
   "outputs": [],
   "source": [
    "param_grid = {'one_vs_one__estimator__loss': ['hinge', 'log', 'modified_huber'],\n",
    "              'one_vs_one__estimator__penalty': ['l1', 'l2'],\n",
    "              'one_vs_one__estimator__alpha': [0.001, 0.01, 0.1]}"
   ]
  },
  {
   "cell_type": "code",
   "execution_count": 39,
   "id": "1fb92796",
   "metadata": {
    "ExecuteTime": {
     "end_time": "2022-07-28T17:31:15.873075Z",
     "start_time": "2022-07-28T17:30:54.828538Z"
    }
   },
   "outputs": [
    {
     "data": {
      "text/plain": [
       "GridSearchCV(estimator=Pipeline(steps=[('scaler', StandardScaler()),\n",
       "                                       ('one_vs_one',\n",
       "                                        OneVsOneClassifier(estimator=SGDClassifier()))]),\n",
       "             param_grid={'one_vs_one__estimator__alpha': [0.001, 0.01, 0.1],\n",
       "                         'one_vs_one__estimator__loss': ['hinge', 'log',\n",
       "                                                         'modified_huber'],\n",
       "                         'one_vs_one__estimator__penalty': ['l1', 'l2']},\n",
       "             scoring='accuracy')"
      ]
     },
     "execution_count": 39,
     "metadata": {},
     "output_type": "execute_result"
    }
   ],
   "source": [
    "search = GridSearchCV(pipe_one_one, param_grid, scoring='accuracy')\n",
    "\n",
    "search.fit(X_test, y_test)"
   ]
  },
  {
   "cell_type": "code",
   "execution_count": 40,
   "id": "60a057dc",
   "metadata": {
    "ExecuteTime": {
     "end_time": "2022-07-28T17:31:15.944997Z",
     "start_time": "2022-07-28T17:31:15.878463Z"
    }
   },
   "outputs": [
    {
     "name": "stdout",
     "output_type": "stream",
     "text": [
      "              precision    recall  f1-score   support\n",
      "\n",
      "           1      0.751     0.526     0.619      5372\n",
      "           2      0.633     0.842     0.723     11349\n",
      "           3      0.742     0.576     0.649      9612\n",
      "\n",
      "    accuracy                          0.681     26333\n",
      "   macro avg      0.709     0.648     0.664     26333\n",
      "weighted avg      0.697     0.681     0.675     26333\n",
      "\n"
     ]
    }
   ],
   "source": [
    "print(classification_report(y_test, search.predict(X_test), digits=3))"
   ]
  },
  {
   "cell_type": "markdown",
   "id": "24f1debb",
   "metadata": {},
   "source": [
    "Можно ли однозначной сказать, какой подход оказался лучше: One-vs-Rest или One-vs-One?"
   ]
  },
  {
   "cell_type": "markdown",
   "id": "5c624c62",
   "metadata": {},
   "source": [
    "Нет, поскольку метрики для обеих моделей практически не различаются."
   ]
  },
  {
   "cell_type": "code",
   "execution_count": null,
   "id": "55c75f93",
   "metadata": {},
   "outputs": [],
   "source": []
  }
 ],
 "metadata": {
  "kernelspec": {
   "display_name": "Python 3 (ipykernel)",
   "language": "python",
   "name": "python3"
  },
  "language_info": {
   "codemirror_mode": {
    "name": "ipython",
    "version": 3
   },
   "file_extension": ".py",
   "mimetype": "text/x-python",
   "name": "python",
   "nbconvert_exporter": "python",
   "pygments_lexer": "ipython3",
   "version": "3.9.12"
  },
  "varInspector": {
   "cols": {
    "lenName": 16,
    "lenType": 16,
    "lenVar": 40
   },
   "kernels_config": {
    "python": {
     "delete_cmd_postfix": "",
     "delete_cmd_prefix": "del ",
     "library": "var_list.py",
     "varRefreshCmd": "print(var_dic_list())"
    },
    "r": {
     "delete_cmd_postfix": ") ",
     "delete_cmd_prefix": "rm(",
     "library": "var_list.r",
     "varRefreshCmd": "cat(var_dic_list()) "
    }
   },
   "types_to_exclude": [
    "module",
    "function",
    "builtin_function_or_method",
    "instance",
    "_Feature"
   ],
   "window_display": false
  }
 },
 "nbformat": 4,
 "nbformat_minor": 5
}
