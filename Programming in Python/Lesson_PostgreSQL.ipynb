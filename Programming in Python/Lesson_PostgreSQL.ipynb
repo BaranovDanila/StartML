{
 "cells": [
  {
   "cell_type": "markdown",
   "id": "9546272b",
   "metadata": {},
   "source": [
    "### Базы данных: введение\n",
    "### PostgreSQL HW"
   ]
  },
  {
   "cell_type": "markdown",
   "id": "aef74b65",
   "metadata": {},
   "source": [
    "В следующих заданиях мы будем работать с базой данных, в которой имеется три таблицы:\n",
    "\n",
    "1. Таблица с данными о пользователях (`user`):\n",
    "\n",
    "`id` - уникальный идентификатор пользователя (primary key)\n",
    "\n",
    "`gender`- пол\n",
    "\n",
    "`age` - возраст\n",
    "\n",
    "`country` - страна\n",
    "\n",
    "`city` - город\n",
    "\n",
    "`exp_group` - экспериментальная группа\n",
    "\n",
    "`os` - операционная система\n",
    "\n",
    "`source` - источник трафика\n",
    "\n",
    "2. Таблица с данными о постах (`post`):\n",
    "\n",
    "`id` - уникальный идентификатор поста (primary key)\n",
    "\n",
    "`text` - текст поста\n",
    "\n",
    "`topic` - тема поста\n",
    "\n",
    "3. Таблица с данными о действиях пользователей (`feed_action`):\n",
    "\n",
    "`user_id` (——>) `user` (`id`)- идентификатор пользователя     \n",
    "\n",
    "`post_id` (——>) `post` (`id`)- идентификатор поста     \n",
    "\n",
    "`action` - совершенное в сети действие     \n",
    "\n",
    "`time` - время действия"
   ]
  },
  {
   "cell_type": "code",
   "execution_count": 1,
   "id": "aa738115",
   "metadata": {
    "ExecuteTime": {
     "end_time": "2022-05-26T19:22:33.352199Z",
     "start_time": "2022-05-26T19:22:31.008958Z"
    }
   },
   "outputs": [
    {
     "name": "stdout",
     "output_type": "stream",
     "text": [
      "Requirement already satisfied: psycopg2 in c:\\users\\barad\\anaconda3\\lib\\site-packages (2.9.3)\n"
     ]
    },
    {
     "name": "stderr",
     "output_type": "stream",
     "text": [
      "WARNING: There was an error checking the latest version of pip.\n"
     ]
    }
   ],
   "source": [
    "!pip install psycopg2"
   ]
  },
  {
   "cell_type": "code",
   "execution_count": 2,
   "id": "4cc6286b",
   "metadata": {
    "ExecuteTime": {
     "end_time": "2022-05-27T08:12:11.417707Z",
     "start_time": "2022-05-27T08:12:10.712720Z"
    }
   },
   "outputs": [],
   "source": [
    "import pandas as pd"
   ]
  },
  {
   "cell_type": "code",
   "execution_count": 3,
   "id": "d74dfa81",
   "metadata": {
    "ExecuteTime": {
     "end_time": "2022-05-27T08:12:11.450098Z",
     "start_time": "2022-05-27T08:12:11.435077Z"
    }
   },
   "outputs": [],
   "source": [
    "conn_uri = '╰( ͡° ͜ʖ ͡° )つ──☆*:・ﾟ'"
   ]
  },
  {
   "cell_type": "markdown",
   "id": "0eadadf3",
   "metadata": {},
   "source": [
    "### SELECT (1/2)\n",
    "Сделайте запрос на все колонки из таблицы `user`. Для этого может понадобиться взять user в кавычки, вот так: `\"user\"` - чтобы PostgreSQL не спутал ее со своей встроенной таблицей user, где он ведет учет всех пользователей.\n",
    "\n",
    "Напишите через пробел, с какого id начинаются записи и какой город у самого первого ID (на английском)."
   ]
  },
  {
   "cell_type": "code",
   "execution_count": 4,
   "id": "c438f6d8",
   "metadata": {
    "ExecuteTime": {
     "end_time": "2022-05-26T19:22:34.743483Z",
     "start_time": "2022-05-26T19:22:33.794399Z"
    },
    "scrolled": true
   },
   "outputs": [
    {
     "data": {
      "text/html": [
       "<div>\n",
       "<style scoped>\n",
       "    .dataframe tbody tr th:only-of-type {\n",
       "        vertical-align: middle;\n",
       "    }\n",
       "\n",
       "    .dataframe tbody tr th {\n",
       "        vertical-align: top;\n",
       "    }\n",
       "\n",
       "    .dataframe thead th {\n",
       "        text-align: right;\n",
       "    }\n",
       "</style>\n",
       "<table border=\"1\" class=\"dataframe\">\n",
       "  <thead>\n",
       "    <tr style=\"text-align: right;\">\n",
       "      <th></th>\n",
       "      <th>id</th>\n",
       "      <th>gender</th>\n",
       "      <th>age</th>\n",
       "      <th>country</th>\n",
       "      <th>city</th>\n",
       "      <th>exp_group</th>\n",
       "      <th>os</th>\n",
       "      <th>source</th>\n",
       "    </tr>\n",
       "  </thead>\n",
       "  <tbody>\n",
       "    <tr>\n",
       "      <th>0</th>\n",
       "      <td>200</td>\n",
       "      <td>1</td>\n",
       "      <td>34</td>\n",
       "      <td>Russia</td>\n",
       "      <td>Degtyarsk</td>\n",
       "      <td>3</td>\n",
       "      <td>Android</td>\n",
       "      <td>ads</td>\n",
       "    </tr>\n",
       "    <tr>\n",
       "      <th>1</th>\n",
       "      <td>201</td>\n",
       "      <td>0</td>\n",
       "      <td>37</td>\n",
       "      <td>Russia</td>\n",
       "      <td>Abakan</td>\n",
       "      <td>0</td>\n",
       "      <td>Android</td>\n",
       "      <td>ads</td>\n",
       "    </tr>\n",
       "    <tr>\n",
       "      <th>2</th>\n",
       "      <td>202</td>\n",
       "      <td>1</td>\n",
       "      <td>17</td>\n",
       "      <td>Russia</td>\n",
       "      <td>Smolensk</td>\n",
       "      <td>4</td>\n",
       "      <td>Android</td>\n",
       "      <td>ads</td>\n",
       "    </tr>\n",
       "    <tr>\n",
       "      <th>3</th>\n",
       "      <td>203</td>\n",
       "      <td>0</td>\n",
       "      <td>18</td>\n",
       "      <td>Russia</td>\n",
       "      <td>Moscow</td>\n",
       "      <td>1</td>\n",
       "      <td>iOS</td>\n",
       "      <td>ads</td>\n",
       "    </tr>\n",
       "    <tr>\n",
       "      <th>4</th>\n",
       "      <td>204</td>\n",
       "      <td>0</td>\n",
       "      <td>36</td>\n",
       "      <td>Russia</td>\n",
       "      <td>Anzhero-Sudzhensk</td>\n",
       "      <td>3</td>\n",
       "      <td>Android</td>\n",
       "      <td>ads</td>\n",
       "    </tr>\n",
       "    <tr>\n",
       "      <th>5</th>\n",
       "      <td>205</td>\n",
       "      <td>0</td>\n",
       "      <td>32</td>\n",
       "      <td>Russia</td>\n",
       "      <td>Dugulubgey</td>\n",
       "      <td>3</td>\n",
       "      <td>Android</td>\n",
       "      <td>ads</td>\n",
       "    </tr>\n",
       "    <tr>\n",
       "      <th>6</th>\n",
       "      <td>206</td>\n",
       "      <td>1</td>\n",
       "      <td>20</td>\n",
       "      <td>Russia</td>\n",
       "      <td>Kamenka</td>\n",
       "      <td>1</td>\n",
       "      <td>Android</td>\n",
       "      <td>ads</td>\n",
       "    </tr>\n",
       "    <tr>\n",
       "      <th>7</th>\n",
       "      <td>207</td>\n",
       "      <td>1</td>\n",
       "      <td>27</td>\n",
       "      <td>Russia</td>\n",
       "      <td>Groznyy</td>\n",
       "      <td>3</td>\n",
       "      <td>iOS</td>\n",
       "      <td>ads</td>\n",
       "    </tr>\n",
       "    <tr>\n",
       "      <th>8</th>\n",
       "      <td>208</td>\n",
       "      <td>1</td>\n",
       "      <td>17</td>\n",
       "      <td>Russia</td>\n",
       "      <td>Zima</td>\n",
       "      <td>1</td>\n",
       "      <td>Android</td>\n",
       "      <td>ads</td>\n",
       "    </tr>\n",
       "    <tr>\n",
       "      <th>9</th>\n",
       "      <td>209</td>\n",
       "      <td>0</td>\n",
       "      <td>17</td>\n",
       "      <td>Russia</td>\n",
       "      <td>Yuzhnouralsk</td>\n",
       "      <td>1</td>\n",
       "      <td>Android</td>\n",
       "      <td>ads</td>\n",
       "    </tr>\n",
       "  </tbody>\n",
       "</table>\n",
       "</div>"
      ],
      "text/plain": [
       "    id  gender  age country               city  exp_group       os source\n",
       "0  200       1   34  Russia          Degtyarsk          3  Android    ads\n",
       "1  201       0   37  Russia             Abakan          0  Android    ads\n",
       "2  202       1   17  Russia           Smolensk          4  Android    ads\n",
       "3  203       0   18  Russia             Moscow          1      iOS    ads\n",
       "4  204       0   36  Russia  Anzhero-Sudzhensk          3  Android    ads\n",
       "5  205       0   32  Russia         Dugulubgey          3  Android    ads\n",
       "6  206       1   20  Russia            Kamenka          1  Android    ads\n",
       "7  207       1   27  Russia            Groznyy          3      iOS    ads\n",
       "8  208       1   17  Russia               Zima          1  Android    ads\n",
       "9  209       0   17  Russia       Yuzhnouralsk          1  Android    ads"
      ]
     },
     "execution_count": 4,
     "metadata": {},
     "output_type": "execute_result"
    }
   ],
   "source": [
    "query1 =\\\n",
    "'''\n",
    "SELECT *\n",
    "FROM \"user\"\n",
    "LIMIT 10\n",
    "'''\n",
    "df1 = pd.read_sql(query1, conn_uri)\n",
    "df1"
   ]
  },
  {
   "cell_type": "code",
   "execution_count": 5,
   "id": "5297f115",
   "metadata": {
    "ExecuteTime": {
     "end_time": "2022-05-26T19:22:34.758462Z",
     "start_time": "2022-05-26T19:22:34.744481Z"
    }
   },
   "outputs": [
    {
     "name": "stdout",
     "output_type": "stream",
     "text": [
      "200 Degtyarsk\n"
     ]
    }
   ],
   "source": [
    "print(df1.iloc[0]['id'], df1.iloc[0]['city'])"
   ]
  },
  {
   "cell_type": "markdown",
   "id": "83ba1600",
   "metadata": {},
   "source": [
    "### SELECT (2/2)\n",
    "Отберите уникальные значения тем (`topic`) в таблице постов (`post`).\n",
    "Напишите через пробел, сколько их и какая из них имеет самое длинное название."
   ]
  },
  {
   "cell_type": "code",
   "execution_count": 6,
   "id": "5c6503a7",
   "metadata": {
    "ExecuteTime": {
     "end_time": "2022-05-26T19:22:35.596248Z",
     "start_time": "2022-05-26T19:22:34.759440Z"
    }
   },
   "outputs": [
    {
     "data": {
      "text/html": [
       "<div>\n",
       "<style scoped>\n",
       "    .dataframe tbody tr th:only-of-type {\n",
       "        vertical-align: middle;\n",
       "    }\n",
       "\n",
       "    .dataframe tbody tr th {\n",
       "        vertical-align: top;\n",
       "    }\n",
       "\n",
       "    .dataframe thead th {\n",
       "        text-align: right;\n",
       "    }\n",
       "</style>\n",
       "<table border=\"1\" class=\"dataframe\">\n",
       "  <thead>\n",
       "    <tr style=\"text-align: right;\">\n",
       "      <th></th>\n",
       "      <th>topic</th>\n",
       "    </tr>\n",
       "  </thead>\n",
       "  <tbody>\n",
       "    <tr>\n",
       "      <th>0</th>\n",
       "      <td>tech</td>\n",
       "    </tr>\n",
       "    <tr>\n",
       "      <th>1</th>\n",
       "      <td>covid</td>\n",
       "    </tr>\n",
       "    <tr>\n",
       "      <th>2</th>\n",
       "      <td>movie</td>\n",
       "    </tr>\n",
       "    <tr>\n",
       "      <th>3</th>\n",
       "      <td>entertainment</td>\n",
       "    </tr>\n",
       "    <tr>\n",
       "      <th>4</th>\n",
       "      <td>politics</td>\n",
       "    </tr>\n",
       "    <tr>\n",
       "      <th>5</th>\n",
       "      <td>sport</td>\n",
       "    </tr>\n",
       "    <tr>\n",
       "      <th>6</th>\n",
       "      <td>business</td>\n",
       "    </tr>\n",
       "  </tbody>\n",
       "</table>\n",
       "</div>"
      ],
      "text/plain": [
       "           topic\n",
       "0           tech\n",
       "1          covid\n",
       "2          movie\n",
       "3  entertainment\n",
       "4       politics\n",
       "5          sport\n",
       "6       business"
      ]
     },
     "execution_count": 6,
     "metadata": {},
     "output_type": "execute_result"
    }
   ],
   "source": [
    "query2 =\\\n",
    "'''\n",
    "SELECT DISTINCT topic\n",
    "FROM post\n",
    "'''\n",
    "df2 = pd.read_sql(query2, conn_uri)\n",
    "df2"
   ]
  },
  {
   "cell_type": "markdown",
   "id": "66c6cb4d",
   "metadata": {},
   "source": [
    "### Фильтры (1/2)\n",
    "Отберите пользователей старше 30 с устройством на iOS. Каков `ID` и `город` записи с минимальным ID (он идет первым в таблице)? Запишите значения через пробел."
   ]
  },
  {
   "cell_type": "code",
   "execution_count": 7,
   "id": "ff6e37c3",
   "metadata": {
    "ExecuteTime": {
     "end_time": "2022-05-26T19:22:36.725616Z",
     "start_time": "2022-05-26T19:22:35.597247Z"
    }
   },
   "outputs": [
    {
     "data": {
      "text/html": [
       "<div>\n",
       "<style scoped>\n",
       "    .dataframe tbody tr th:only-of-type {\n",
       "        vertical-align: middle;\n",
       "    }\n",
       "\n",
       "    .dataframe tbody tr th {\n",
       "        vertical-align: top;\n",
       "    }\n",
       "\n",
       "    .dataframe thead th {\n",
       "        text-align: right;\n",
       "    }\n",
       "</style>\n",
       "<table border=\"1\" class=\"dataframe\">\n",
       "  <thead>\n",
       "    <tr style=\"text-align: right;\">\n",
       "      <th></th>\n",
       "      <th>id</th>\n",
       "      <th>city</th>\n",
       "    </tr>\n",
       "  </thead>\n",
       "  <tbody>\n",
       "    <tr>\n",
       "      <th>0</th>\n",
       "      <td>212</td>\n",
       "      <td>Podolsk</td>\n",
       "    </tr>\n",
       "    <tr>\n",
       "      <th>1</th>\n",
       "      <td>222</td>\n",
       "      <td>Ulyanovsk</td>\n",
       "    </tr>\n",
       "    <tr>\n",
       "      <th>2</th>\n",
       "      <td>224</td>\n",
       "      <td>Yekaterinburg</td>\n",
       "    </tr>\n",
       "    <tr>\n",
       "      <th>3</th>\n",
       "      <td>226</td>\n",
       "      <td>Moscow</td>\n",
       "    </tr>\n",
       "    <tr>\n",
       "      <th>4</th>\n",
       "      <td>243</td>\n",
       "      <td>Ekibastuz</td>\n",
       "    </tr>\n",
       "    <tr>\n",
       "      <th>...</th>\n",
       "      <td>...</td>\n",
       "      <td>...</td>\n",
       "    </tr>\n",
       "    <tr>\n",
       "      <th>17665</th>\n",
       "      <td>168517</td>\n",
       "      <td>Urzhum</td>\n",
       "    </tr>\n",
       "    <tr>\n",
       "      <th>17666</th>\n",
       "      <td>168525</td>\n",
       "      <td>Pavlohrad</td>\n",
       "    </tr>\n",
       "    <tr>\n",
       "      <th>17667</th>\n",
       "      <td>168536</td>\n",
       "      <td>Michurinsk</td>\n",
       "    </tr>\n",
       "    <tr>\n",
       "      <th>17668</th>\n",
       "      <td>168540</td>\n",
       "      <td>Tukan</td>\n",
       "    </tr>\n",
       "    <tr>\n",
       "      <th>17669</th>\n",
       "      <td>168551</td>\n",
       "      <td>Moscow</td>\n",
       "    </tr>\n",
       "  </tbody>\n",
       "</table>\n",
       "<p>17670 rows × 2 columns</p>\n",
       "</div>"
      ],
      "text/plain": [
       "           id           city\n",
       "0         212        Podolsk\n",
       "1         222      Ulyanovsk\n",
       "2         224  Yekaterinburg\n",
       "3         226         Moscow\n",
       "4         243      Ekibastuz\n",
       "...       ...            ...\n",
       "17665  168517         Urzhum\n",
       "17666  168525      Pavlohrad\n",
       "17667  168536     Michurinsk\n",
       "17668  168540          Tukan\n",
       "17669  168551         Moscow\n",
       "\n",
       "[17670 rows x 2 columns]"
      ]
     },
     "execution_count": 7,
     "metadata": {},
     "output_type": "execute_result"
    }
   ],
   "source": [
    "query3 =\\\n",
    "'''\n",
    "SELECT id, city\n",
    "FROM \"user\"\n",
    "WHERE age > 30 AND os = 'iOS'\n",
    "ORDER BY id\n",
    "'''\n",
    "df3 = pd.read_sql(query3, conn_uri)\n",
    "df3"
   ]
  },
  {
   "cell_type": "code",
   "execution_count": 8,
   "id": "0f32b5dd",
   "metadata": {
    "ExecuteTime": {
     "end_time": "2022-05-26T19:22:36.740576Z",
     "start_time": "2022-05-26T19:22:36.726613Z"
    }
   },
   "outputs": [
    {
     "name": "stdout",
     "output_type": "stream",
     "text": [
      "212 Podolsk\n"
     ]
    }
   ],
   "source": [
    "print(df3.iloc[0]['id'], df3.iloc[0]['city'])"
   ]
  },
  {
   "cell_type": "markdown",
   "id": "626d88ca",
   "metadata": {},
   "source": [
    "### Фильтры (2/2)\n",
    "Отберите пользователей, которые не из России и при этом либо их экспериментальная группа не лежит в (0, 3) или их город – Минск.\n",
    "\n",
    "Напишите через пробел первые 4 ID в такой выдаче."
   ]
  },
  {
   "cell_type": "code",
   "execution_count": 9,
   "id": "cb4ff137",
   "metadata": {
    "ExecuteTime": {
     "end_time": "2022-05-26T19:22:37.814236Z",
     "start_time": "2022-05-26T19:22:36.743568Z"
    }
   },
   "outputs": [
    {
     "data": {
      "text/html": [
       "<div>\n",
       "<style scoped>\n",
       "    .dataframe tbody tr th:only-of-type {\n",
       "        vertical-align: middle;\n",
       "    }\n",
       "\n",
       "    .dataframe tbody tr th {\n",
       "        vertical-align: top;\n",
       "    }\n",
       "\n",
       "    .dataframe thead th {\n",
       "        text-align: right;\n",
       "    }\n",
       "</style>\n",
       "<table border=\"1\" class=\"dataframe\">\n",
       "  <thead>\n",
       "    <tr style=\"text-align: right;\">\n",
       "      <th></th>\n",
       "      <th>id</th>\n",
       "      <th>country</th>\n",
       "    </tr>\n",
       "  </thead>\n",
       "  <tbody>\n",
       "    <tr>\n",
       "      <th>0</th>\n",
       "      <td>211</td>\n",
       "      <td>Belarus</td>\n",
       "    </tr>\n",
       "    <tr>\n",
       "      <th>1</th>\n",
       "      <td>213</td>\n",
       "      <td>Ukraine</td>\n",
       "    </tr>\n",
       "    <tr>\n",
       "      <th>2</th>\n",
       "      <td>216</td>\n",
       "      <td>Ukraine</td>\n",
       "    </tr>\n",
       "    <tr>\n",
       "      <th>3</th>\n",
       "      <td>218</td>\n",
       "      <td>Belarus</td>\n",
       "    </tr>\n",
       "    <tr>\n",
       "      <th>4</th>\n",
       "      <td>228</td>\n",
       "      <td>Azerbaijan</td>\n",
       "    </tr>\n",
       "    <tr>\n",
       "      <th>...</th>\n",
       "      <td>...</td>\n",
       "      <td>...</td>\n",
       "    </tr>\n",
       "    <tr>\n",
       "      <th>12471</th>\n",
       "      <td>168477</td>\n",
       "      <td>Turkey</td>\n",
       "    </tr>\n",
       "    <tr>\n",
       "      <th>12472</th>\n",
       "      <td>168524</td>\n",
       "      <td>Turkey</td>\n",
       "    </tr>\n",
       "    <tr>\n",
       "      <th>12473</th>\n",
       "      <td>168525</td>\n",
       "      <td>Ukraine</td>\n",
       "    </tr>\n",
       "    <tr>\n",
       "      <th>12474</th>\n",
       "      <td>168527</td>\n",
       "      <td>Ukraine</td>\n",
       "    </tr>\n",
       "    <tr>\n",
       "      <th>12475</th>\n",
       "      <td>168544</td>\n",
       "      <td>Ukraine</td>\n",
       "    </tr>\n",
       "  </tbody>\n",
       "</table>\n",
       "<p>12476 rows × 2 columns</p>\n",
       "</div>"
      ],
      "text/plain": [
       "           id     country\n",
       "0         211     Belarus\n",
       "1         213     Ukraine\n",
       "2         216     Ukraine\n",
       "3         218     Belarus\n",
       "4         228  Azerbaijan\n",
       "...       ...         ...\n",
       "12471  168477      Turkey\n",
       "12472  168524      Turkey\n",
       "12473  168525     Ukraine\n",
       "12474  168527     Ukraine\n",
       "12475  168544     Ukraine\n",
       "\n",
       "[12476 rows x 2 columns]"
      ]
     },
     "execution_count": 9,
     "metadata": {},
     "output_type": "execute_result"
    }
   ],
   "source": [
    "query4 =\\\n",
    "'''\n",
    "SELECT id, country\n",
    "FROM \"user\"\n",
    "WHERE (country != 'Russia') AND (exp_group NOT IN (0, 3) OR city = 'Minsk')\n",
    "'''\n",
    "df4 = pd.read_sql(query4, conn_uri)\n",
    "df4"
   ]
  },
  {
   "cell_type": "code",
   "execution_count": 10,
   "id": "5498b03d",
   "metadata": {
    "ExecuteTime": {
     "end_time": "2022-05-26T19:22:37.829170Z",
     "start_time": "2022-05-26T19:22:37.815207Z"
    }
   },
   "outputs": [
    {
     "data": {
      "text/plain": [
       "0    211\n",
       "1    213\n",
       "2    216\n",
       "3    218\n",
       "Name: id, dtype: int64"
      ]
     },
     "execution_count": 10,
     "metadata": {},
     "output_type": "execute_result"
    }
   ],
   "source": [
    "df4['id'].iloc[0:4]"
   ]
  },
  {
   "cell_type": "markdown",
   "id": "f47ea8d9",
   "metadata": {},
   "source": [
    "### Группировка (1/6)\n",
    "Подсчитайте средний возраст пользователей в разрезе страны. В ответ напишите средний возраст пользователей из Кипра. Ответ округлите до двух знаков после точки."
   ]
  },
  {
   "cell_type": "code",
   "execution_count": 11,
   "id": "a2fa1b9d",
   "metadata": {
    "ExecuteTime": {
     "end_time": "2022-05-26T19:22:38.735711Z",
     "start_time": "2022-05-26T19:22:37.830166Z"
    }
   },
   "outputs": [
    {
     "data": {
      "text/html": [
       "<div>\n",
       "<style scoped>\n",
       "    .dataframe tbody tr th:only-of-type {\n",
       "        vertical-align: middle;\n",
       "    }\n",
       "\n",
       "    .dataframe tbody tr th {\n",
       "        vertical-align: top;\n",
       "    }\n",
       "\n",
       "    .dataframe thead th {\n",
       "        text-align: right;\n",
       "    }\n",
       "</style>\n",
       "<table border=\"1\" class=\"dataframe\">\n",
       "  <thead>\n",
       "    <tr style=\"text-align: right;\">\n",
       "      <th></th>\n",
       "      <th>country</th>\n",
       "      <th>mean_age</th>\n",
       "    </tr>\n",
       "  </thead>\n",
       "  <tbody>\n",
       "    <tr>\n",
       "      <th>0</th>\n",
       "      <td>Azerbaijan</td>\n",
       "      <td>26.78</td>\n",
       "    </tr>\n",
       "    <tr>\n",
       "      <th>1</th>\n",
       "      <td>Finland</td>\n",
       "      <td>27.13</td>\n",
       "    </tr>\n",
       "    <tr>\n",
       "      <th>2</th>\n",
       "      <td>Russia</td>\n",
       "      <td>27.19</td>\n",
       "    </tr>\n",
       "    <tr>\n",
       "      <th>3</th>\n",
       "      <td>Kazakhstan</td>\n",
       "      <td>27.22</td>\n",
       "    </tr>\n",
       "    <tr>\n",
       "      <th>4</th>\n",
       "      <td>Latvia</td>\n",
       "      <td>27.22</td>\n",
       "    </tr>\n",
       "    <tr>\n",
       "      <th>5</th>\n",
       "      <td>Ukraine</td>\n",
       "      <td>27.26</td>\n",
       "    </tr>\n",
       "    <tr>\n",
       "      <th>6</th>\n",
       "      <td>Belarus</td>\n",
       "      <td>27.28</td>\n",
       "    </tr>\n",
       "    <tr>\n",
       "      <th>7</th>\n",
       "      <td>Turkey</td>\n",
       "      <td>27.45</td>\n",
       "    </tr>\n",
       "    <tr>\n",
       "      <th>8</th>\n",
       "      <td>Switzerland</td>\n",
       "      <td>27.95</td>\n",
       "    </tr>\n",
       "    <tr>\n",
       "      <th>9</th>\n",
       "      <td>Cyprus</td>\n",
       "      <td>28.07</td>\n",
       "    </tr>\n",
       "    <tr>\n",
       "      <th>10</th>\n",
       "      <td>Estonia</td>\n",
       "      <td>28.15</td>\n",
       "    </tr>\n",
       "  </tbody>\n",
       "</table>\n",
       "</div>"
      ],
      "text/plain": [
       "        country  mean_age\n",
       "0    Azerbaijan     26.78\n",
       "1       Finland     27.13\n",
       "2        Russia     27.19\n",
       "3    Kazakhstan     27.22\n",
       "4        Latvia     27.22\n",
       "5       Ukraine     27.26\n",
       "6       Belarus     27.28\n",
       "7        Turkey     27.45\n",
       "8   Switzerland     27.95\n",
       "9        Cyprus     28.07\n",
       "10      Estonia     28.15"
      ]
     },
     "execution_count": 11,
     "metadata": {},
     "output_type": "execute_result"
    }
   ],
   "source": [
    "query5 =\\\n",
    "'''\n",
    "SELECT country, ROUND(AVG(age), 2) AS mean_age\n",
    "FROM \"user\"\n",
    "GROUP BY country\n",
    "ORDER BY mean_age, country\n",
    "'''\n",
    "df5 = pd.read_sql(query5, conn_uri)\n",
    "df5"
   ]
  },
  {
   "cell_type": "code",
   "execution_count": 12,
   "id": "e813da10",
   "metadata": {
    "ExecuteTime": {
     "end_time": "2022-05-26T19:22:38.751669Z",
     "start_time": "2022-05-26T19:22:38.736709Z"
    }
   },
   "outputs": [
    {
     "data": {
      "text/plain": [
       "9    28.07\n",
       "Name: mean_age, dtype: float64"
      ]
     },
     "execution_count": 12,
     "metadata": {},
     "output_type": "execute_result"
    }
   ],
   "source": [
    "df5.query('country == \"Cyprus\"').mean_age"
   ]
  },
  {
   "cell_type": "markdown",
   "id": "08710718",
   "metadata": {},
   "source": [
    "### Группировка (2/6)\n",
    "Сгруппируйте пользователей сначала по экспериментальной группе, а затем по операционной системе. В каждой группе подсчитайте количество пользователей, максимальный и минимальный возраст.\n",
    "\n",
    "Сохраните результаты в файл CSV колонками exp_group, os, total_users, max_age, min_age (обратите внимание на название последних трех колонок!), используя запятую в качестве сепаратора, и отправьте файл в LMS."
   ]
  },
  {
   "cell_type": "code",
   "execution_count": 13,
   "id": "e9f34f4f",
   "metadata": {
    "ExecuteTime": {
     "end_time": "2022-05-26T19:22:39.633309Z",
     "start_time": "2022-05-26T19:22:38.752666Z"
    }
   },
   "outputs": [
    {
     "data": {
      "text/html": [
       "<div>\n",
       "<style scoped>\n",
       "    .dataframe tbody tr th:only-of-type {\n",
       "        vertical-align: middle;\n",
       "    }\n",
       "\n",
       "    .dataframe tbody tr th {\n",
       "        vertical-align: top;\n",
       "    }\n",
       "\n",
       "    .dataframe thead th {\n",
       "        text-align: right;\n",
       "    }\n",
       "</style>\n",
       "<table border=\"1\" class=\"dataframe\">\n",
       "  <thead>\n",
       "    <tr style=\"text-align: right;\">\n",
       "      <th></th>\n",
       "      <th>exp_group</th>\n",
       "      <th>os</th>\n",
       "      <th>total_users</th>\n",
       "      <th>max_age</th>\n",
       "      <th>min_age</th>\n",
       "    </tr>\n",
       "  </thead>\n",
       "  <tbody>\n",
       "    <tr>\n",
       "      <th>0</th>\n",
       "      <td>0</td>\n",
       "      <td>Android</td>\n",
       "      <td>21234</td>\n",
       "      <td>95</td>\n",
       "      <td>14</td>\n",
       "    </tr>\n",
       "    <tr>\n",
       "      <th>1</th>\n",
       "      <td>0</td>\n",
       "      <td>iOS</td>\n",
       "      <td>11489</td>\n",
       "      <td>79</td>\n",
       "      <td>14</td>\n",
       "    </tr>\n",
       "    <tr>\n",
       "      <th>2</th>\n",
       "      <td>1</td>\n",
       "      <td>Android</td>\n",
       "      <td>21232</td>\n",
       "      <td>92</td>\n",
       "      <td>14</td>\n",
       "    </tr>\n",
       "    <tr>\n",
       "      <th>3</th>\n",
       "      <td>1</td>\n",
       "      <td>iOS</td>\n",
       "      <td>11406</td>\n",
       "      <td>87</td>\n",
       "      <td>14</td>\n",
       "    </tr>\n",
       "    <tr>\n",
       "      <th>4</th>\n",
       "      <td>2</td>\n",
       "      <td>Android</td>\n",
       "      <td>21102</td>\n",
       "      <td>78</td>\n",
       "      <td>14</td>\n",
       "    </tr>\n",
       "    <tr>\n",
       "      <th>5</th>\n",
       "      <td>2</td>\n",
       "      <td>iOS</td>\n",
       "      <td>11512</td>\n",
       "      <td>74</td>\n",
       "      <td>14</td>\n",
       "    </tr>\n",
       "    <tr>\n",
       "      <th>6</th>\n",
       "      <td>3</td>\n",
       "      <td>Android</td>\n",
       "      <td>21319</td>\n",
       "      <td>84</td>\n",
       "      <td>14</td>\n",
       "    </tr>\n",
       "    <tr>\n",
       "      <th>7</th>\n",
       "      <td>3</td>\n",
       "      <td>iOS</td>\n",
       "      <td>11449</td>\n",
       "      <td>85</td>\n",
       "      <td>14</td>\n",
       "    </tr>\n",
       "    <tr>\n",
       "      <th>8</th>\n",
       "      <td>4</td>\n",
       "      <td>Android</td>\n",
       "      <td>21085</td>\n",
       "      <td>84</td>\n",
       "      <td>14</td>\n",
       "    </tr>\n",
       "    <tr>\n",
       "      <th>9</th>\n",
       "      <td>4</td>\n",
       "      <td>iOS</td>\n",
       "      <td>11377</td>\n",
       "      <td>78</td>\n",
       "      <td>14</td>\n",
       "    </tr>\n",
       "  </tbody>\n",
       "</table>\n",
       "</div>"
      ],
      "text/plain": [
       "   exp_group       os  total_users  max_age  min_age\n",
       "0          0  Android        21234       95       14\n",
       "1          0      iOS        11489       79       14\n",
       "2          1  Android        21232       92       14\n",
       "3          1      iOS        11406       87       14\n",
       "4          2  Android        21102       78       14\n",
       "5          2      iOS        11512       74       14\n",
       "6          3  Android        21319       84       14\n",
       "7          3      iOS        11449       85       14\n",
       "8          4  Android        21085       84       14\n",
       "9          4      iOS        11377       78       14"
      ]
     },
     "execution_count": 13,
     "metadata": {},
     "output_type": "execute_result"
    }
   ],
   "source": [
    "query6 =\\\n",
    "'''\n",
    "SELECT exp_group, os, count(*) AS total_users, MAX(age) AS max_age, MIN(age) AS min_age\n",
    "FROM \"user\"\n",
    "GROUP BY exp_group, os\n",
    "\n",
    "'''\n",
    "df6 = pd.read_sql(query6, conn_uri)\n",
    "df6"
   ]
  },
  {
   "cell_type": "code",
   "execution_count": 14,
   "id": "e6e4e15a",
   "metadata": {
    "ExecuteTime": {
     "end_time": "2022-05-26T19:22:39.648269Z",
     "start_time": "2022-05-26T19:22:39.634307Z"
    }
   },
   "outputs": [],
   "source": [
    "df6.to_csv('output.csv', sep=',', index=False)"
   ]
  },
  {
   "cell_type": "markdown",
   "id": "1a17755a",
   "metadata": {},
   "source": [
    "### Группировка (3/6)\n",
    "В каждой категории постов определите длину самого длинного текста, используя таблицу `post`. В ответ отправьте тему, у которой длина самого большого поста равна по порядку 25 000."
   ]
  },
  {
   "cell_type": "code",
   "execution_count": 15,
   "id": "08845e7f",
   "metadata": {
    "ExecuteTime": {
     "end_time": "2022-05-26T19:22:40.551579Z",
     "start_time": "2022-05-26T19:22:39.649266Z"
    }
   },
   "outputs": [
    {
     "data": {
      "text/html": [
       "<div>\n",
       "<style scoped>\n",
       "    .dataframe tbody tr th:only-of-type {\n",
       "        vertical-align: middle;\n",
       "    }\n",
       "\n",
       "    .dataframe tbody tr th {\n",
       "        vertical-align: top;\n",
       "    }\n",
       "\n",
       "    .dataframe thead th {\n",
       "        text-align: right;\n",
       "    }\n",
       "</style>\n",
       "<table border=\"1\" class=\"dataframe\">\n",
       "  <thead>\n",
       "    <tr style=\"text-align: right;\">\n",
       "      <th></th>\n",
       "      <th>topic</th>\n",
       "      <th>max_len</th>\n",
       "    </tr>\n",
       "  </thead>\n",
       "  <tbody>\n",
       "    <tr>\n",
       "      <th>0</th>\n",
       "      <td>politics</td>\n",
       "      <td>25392</td>\n",
       "    </tr>\n",
       "  </tbody>\n",
       "</table>\n",
       "</div>"
      ],
      "text/plain": [
       "      topic  max_len\n",
       "0  politics    25392"
      ]
     },
     "execution_count": 15,
     "metadata": {},
     "output_type": "execute_result"
    }
   ],
   "source": [
    "query7 =\\\n",
    "'''\n",
    "SELECT topic, MAX(LENGTH(text)) AS max_len\n",
    "FROM post\n",
    "GROUP BY topic\n",
    "HAVING MAX(LENGTH(text)) > 25000\n",
    "'''\n",
    "df7 = pd.read_sql(query7, conn_uri)\n",
    "df7"
   ]
  },
  {
   "cell_type": "markdown",
   "id": "008a9636",
   "metadata": {},
   "source": [
    "### Группировка (4/6)\n",
    "Найдите страну с наименьшим числом пользователей среди стран, у которых общее число пользователей больше 1000. Введите ее название на английском."
   ]
  },
  {
   "cell_type": "code",
   "execution_count": 16,
   "id": "b9dc62b0",
   "metadata": {
    "ExecuteTime": {
     "end_time": "2022-05-26T19:22:41.410105Z",
     "start_time": "2022-05-26T19:22:40.552578Z"
    }
   },
   "outputs": [
    {
     "data": {
      "text/html": [
       "<div>\n",
       "<style scoped>\n",
       "    .dataframe tbody tr th:only-of-type {\n",
       "        vertical-align: middle;\n",
       "    }\n",
       "\n",
       "    .dataframe tbody tr th {\n",
       "        vertical-align: top;\n",
       "    }\n",
       "\n",
       "    .dataframe thead th {\n",
       "        text-align: right;\n",
       "    }\n",
       "</style>\n",
       "<table border=\"1\" class=\"dataframe\">\n",
       "  <thead>\n",
       "    <tr style=\"text-align: right;\">\n",
       "      <th></th>\n",
       "      <th>country</th>\n",
       "      <th>total_users</th>\n",
       "    </tr>\n",
       "  </thead>\n",
       "  <tbody>\n",
       "    <tr>\n",
       "      <th>0</th>\n",
       "      <td>Azerbaijan</td>\n",
       "      <td>1542</td>\n",
       "    </tr>\n",
       "    <tr>\n",
       "      <th>1</th>\n",
       "      <td>Finland</td>\n",
       "      <td>1599</td>\n",
       "    </tr>\n",
       "    <tr>\n",
       "      <th>2</th>\n",
       "      <td>Turkey</td>\n",
       "      <td>1606</td>\n",
       "    </tr>\n",
       "    <tr>\n",
       "      <th>3</th>\n",
       "      <td>Kazakhstan</td>\n",
       "      <td>3172</td>\n",
       "    </tr>\n",
       "    <tr>\n",
       "      <th>4</th>\n",
       "      <td>Belarus</td>\n",
       "      <td>3293</td>\n",
       "    </tr>\n",
       "    <tr>\n",
       "      <th>5</th>\n",
       "      <td>Ukraine</td>\n",
       "      <td>8273</td>\n",
       "    </tr>\n",
       "    <tr>\n",
       "      <th>6</th>\n",
       "      <td>Russia</td>\n",
       "      <td>143035</td>\n",
       "    </tr>\n",
       "  </tbody>\n",
       "</table>\n",
       "</div>"
      ],
      "text/plain": [
       "      country  total_users\n",
       "0  Azerbaijan         1542\n",
       "1     Finland         1599\n",
       "2      Turkey         1606\n",
       "3  Kazakhstan         3172\n",
       "4     Belarus         3293\n",
       "5     Ukraine         8273\n",
       "6      Russia       143035"
      ]
     },
     "execution_count": 16,
     "metadata": {},
     "output_type": "execute_result"
    }
   ],
   "source": [
    "query8 =\\\n",
    "'''\n",
    "SELECT country, count(*) AS total_users\n",
    "FROM \"user\"\n",
    "GROUP BY country\n",
    "HAVING count(*) > 1000\n",
    "ORDER BY total_users;\n",
    "'''\n",
    "df8 = pd.read_sql(query8, conn_uri)\n",
    "df8"
   ]
  },
  {
   "cell_type": "markdown",
   "id": "26e9cf53",
   "metadata": {},
   "source": [
    "### Группировка (6/6)\n",
    "Отберите для пользователей из Москвы экспериментальные группы, в которых средний возраст больше `27.2`. Напишите через пробел число пользователей в этих группах."
   ]
  },
  {
   "cell_type": "code",
   "execution_count": 17,
   "id": "aac5f8f2",
   "metadata": {
    "ExecuteTime": {
     "end_time": "2022-05-26T19:22:42.273922Z",
     "start_time": "2022-05-26T19:22:41.411017Z"
    }
   },
   "outputs": [
    {
     "data": {
      "text/html": [
       "<div>\n",
       "<style scoped>\n",
       "    .dataframe tbody tr th:only-of-type {\n",
       "        vertical-align: middle;\n",
       "    }\n",
       "\n",
       "    .dataframe tbody tr th {\n",
       "        vertical-align: top;\n",
       "    }\n",
       "\n",
       "    .dataframe thead th {\n",
       "        text-align: right;\n",
       "    }\n",
       "</style>\n",
       "<table border=\"1\" class=\"dataframe\">\n",
       "  <thead>\n",
       "    <tr style=\"text-align: right;\">\n",
       "      <th></th>\n",
       "      <th>exp_group</th>\n",
       "      <th>total_users</th>\n",
       "      <th>mean_age</th>\n",
       "    </tr>\n",
       "  </thead>\n",
       "  <tbody>\n",
       "    <tr>\n",
       "      <th>0</th>\n",
       "      <td>1</td>\n",
       "      <td>4414</td>\n",
       "      <td>27.325102</td>\n",
       "    </tr>\n",
       "    <tr>\n",
       "      <th>1</th>\n",
       "      <td>3</td>\n",
       "      <td>4378</td>\n",
       "      <td>27.314299</td>\n",
       "    </tr>\n",
       "  </tbody>\n",
       "</table>\n",
       "</div>"
      ],
      "text/plain": [
       "   exp_group  total_users   mean_age\n",
       "0          1         4414  27.325102\n",
       "1          3         4378  27.314299"
      ]
     },
     "execution_count": 17,
     "metadata": {},
     "output_type": "execute_result"
    }
   ],
   "source": [
    "query9 =\\\n",
    "'''\n",
    "SELECT exp_group, count(*) AS total_users, AVG(age) AS mean_age\n",
    "FROM \"user\"\n",
    "WHERE city = 'Moscow'\n",
    "GROUP BY exp_group\n",
    "HAVING AVG(age) > 27.2\n",
    "'''\n",
    "df9 = pd.read_sql(query9, conn_uri)\n",
    "df9"
   ]
  },
  {
   "cell_type": "code",
   "execution_count": 18,
   "id": "46a9a814",
   "metadata": {
    "ExecuteTime": {
     "end_time": "2022-05-26T19:22:42.289871Z",
     "start_time": "2022-05-26T19:22:42.274899Z"
    }
   },
   "outputs": [
    {
     "data": {
      "text/plain": [
       "8792"
      ]
     },
     "execution_count": 18,
     "metadata": {},
     "output_type": "execute_result"
    }
   ],
   "source": [
    "df9['total_users'].sum()"
   ]
  },
  {
   "cell_type": "markdown",
   "id": "d83f427b",
   "metadata": {},
   "source": [
    "### Сортировка (1/2)\n",
    "Сейчас мы будем работать с другой таблицей под названием `post`. Найдите в таблице `post` 3 темы с наибольшим количеством постов. Напишите через пробел названия этих тем."
   ]
  },
  {
   "cell_type": "code",
   "execution_count": 19,
   "id": "cbd0c0d9",
   "metadata": {
    "ExecuteTime": {
     "end_time": "2022-05-26T19:22:43.096867Z",
     "start_time": "2022-05-26T19:22:42.290858Z"
    }
   },
   "outputs": [
    {
     "data": {
      "text/html": [
       "<div>\n",
       "<style scoped>\n",
       "    .dataframe tbody tr th:only-of-type {\n",
       "        vertical-align: middle;\n",
       "    }\n",
       "\n",
       "    .dataframe tbody tr th {\n",
       "        vertical-align: top;\n",
       "    }\n",
       "\n",
       "    .dataframe thead th {\n",
       "        text-align: right;\n",
       "    }\n",
       "</style>\n",
       "<table border=\"1\" class=\"dataframe\">\n",
       "  <thead>\n",
       "    <tr style=\"text-align: right;\">\n",
       "      <th></th>\n",
       "      <th>topic</th>\n",
       "      <th>count</th>\n",
       "    </tr>\n",
       "  </thead>\n",
       "  <tbody>\n",
       "    <tr>\n",
       "      <th>0</th>\n",
       "      <td>movie</td>\n",
       "      <td>3000</td>\n",
       "    </tr>\n",
       "    <tr>\n",
       "      <th>1</th>\n",
       "      <td>covid</td>\n",
       "      <td>1799</td>\n",
       "    </tr>\n",
       "    <tr>\n",
       "      <th>2</th>\n",
       "      <td>sport</td>\n",
       "      <td>510</td>\n",
       "    </tr>\n",
       "  </tbody>\n",
       "</table>\n",
       "</div>"
      ],
      "text/plain": [
       "   topic  count\n",
       "0  movie   3000\n",
       "1  covid   1799\n",
       "2  sport    510"
      ]
     },
     "execution_count": 19,
     "metadata": {},
     "output_type": "execute_result"
    }
   ],
   "source": [
    "query10 =\\\n",
    "'''\n",
    "SELECT topic, count(*)\n",
    "FROM post\n",
    "GROUP BY topic\n",
    "ORDER BY 2 DESC\n",
    "LIMIT 3\n",
    "'''\n",
    "df10 = pd.read_sql(query10, conn_uri)\n",
    "df10"
   ]
  },
  {
   "cell_type": "markdown",
   "id": "e0b424cb",
   "metadata": {},
   "source": [
    "### Сортировка (2/2)\n",
    "Отберите пользователей из Воронежа (`Voronezh`) и отсортируйте их по возрасту в убывающем порядке. Для равных возрастов отсортируйте по возрастанию экспериментальной группы."
   ]
  },
  {
   "cell_type": "code",
   "execution_count": 20,
   "id": "1eaa618d",
   "metadata": {
    "ExecuteTime": {
     "end_time": "2022-05-26T19:22:44.023721Z",
     "start_time": "2022-05-26T19:22:43.097846Z"
    }
   },
   "outputs": [
    {
     "data": {
      "text/html": [
       "<div>\n",
       "<style scoped>\n",
       "    .dataframe tbody tr th:only-of-type {\n",
       "        vertical-align: middle;\n",
       "    }\n",
       "\n",
       "    .dataframe tbody tr th {\n",
       "        vertical-align: top;\n",
       "    }\n",
       "\n",
       "    .dataframe thead th {\n",
       "        text-align: right;\n",
       "    }\n",
       "</style>\n",
       "<table border=\"1\" class=\"dataframe\">\n",
       "  <thead>\n",
       "    <tr style=\"text-align: right;\">\n",
       "      <th></th>\n",
       "      <th>id</th>\n",
       "      <th>gender</th>\n",
       "      <th>age</th>\n",
       "      <th>country</th>\n",
       "      <th>city</th>\n",
       "      <th>exp_group</th>\n",
       "      <th>os</th>\n",
       "      <th>source</th>\n",
       "    </tr>\n",
       "  </thead>\n",
       "  <tbody>\n",
       "    <tr>\n",
       "      <th>0</th>\n",
       "      <td>89990</td>\n",
       "      <td>0</td>\n",
       "      <td>71</td>\n",
       "      <td>Russia</td>\n",
       "      <td>Voronezh</td>\n",
       "      <td>0</td>\n",
       "      <td>Android</td>\n",
       "      <td>ads</td>\n",
       "    </tr>\n",
       "    <tr>\n",
       "      <th>1</th>\n",
       "      <td>2441</td>\n",
       "      <td>1</td>\n",
       "      <td>71</td>\n",
       "      <td>Russia</td>\n",
       "      <td>Voronezh</td>\n",
       "      <td>3</td>\n",
       "      <td>Android</td>\n",
       "      <td>ads</td>\n",
       "    </tr>\n",
       "    <tr>\n",
       "      <th>2</th>\n",
       "      <td>14184</td>\n",
       "      <td>1</td>\n",
       "      <td>66</td>\n",
       "      <td>Russia</td>\n",
       "      <td>Voronezh</td>\n",
       "      <td>3</td>\n",
       "      <td>Android</td>\n",
       "      <td>ads</td>\n",
       "    </tr>\n",
       "    <tr>\n",
       "      <th>3</th>\n",
       "      <td>35093</td>\n",
       "      <td>0</td>\n",
       "      <td>65</td>\n",
       "      <td>Russia</td>\n",
       "      <td>Voronezh</td>\n",
       "      <td>0</td>\n",
       "      <td>Android</td>\n",
       "      <td>ads</td>\n",
       "    </tr>\n",
       "    <tr>\n",
       "      <th>4</th>\n",
       "      <td>77284</td>\n",
       "      <td>0</td>\n",
       "      <td>64</td>\n",
       "      <td>Russia</td>\n",
       "      <td>Voronezh</td>\n",
       "      <td>4</td>\n",
       "      <td>Android</td>\n",
       "      <td>ads</td>\n",
       "    </tr>\n",
       "    <tr>\n",
       "      <th>...</th>\n",
       "      <td>...</td>\n",
       "      <td>...</td>\n",
       "      <td>...</td>\n",
       "      <td>...</td>\n",
       "      <td>...</td>\n",
       "      <td>...</td>\n",
       "      <td>...</td>\n",
       "      <td>...</td>\n",
       "    </tr>\n",
       "    <tr>\n",
       "      <th>1369</th>\n",
       "      <td>151841</td>\n",
       "      <td>1</td>\n",
       "      <td>14</td>\n",
       "      <td>Russia</td>\n",
       "      <td>Voronezh</td>\n",
       "      <td>4</td>\n",
       "      <td>Android</td>\n",
       "      <td>organic</td>\n",
       "    </tr>\n",
       "    <tr>\n",
       "      <th>1370</th>\n",
       "      <td>116446</td>\n",
       "      <td>0</td>\n",
       "      <td>14</td>\n",
       "      <td>Russia</td>\n",
       "      <td>Voronezh</td>\n",
       "      <td>4</td>\n",
       "      <td>iOS</td>\n",
       "      <td>organic</td>\n",
       "    </tr>\n",
       "    <tr>\n",
       "      <th>1371</th>\n",
       "      <td>18278</td>\n",
       "      <td>0</td>\n",
       "      <td>14</td>\n",
       "      <td>Russia</td>\n",
       "      <td>Voronezh</td>\n",
       "      <td>4</td>\n",
       "      <td>Android</td>\n",
       "      <td>ads</td>\n",
       "    </tr>\n",
       "    <tr>\n",
       "      <th>1372</th>\n",
       "      <td>110611</td>\n",
       "      <td>1</td>\n",
       "      <td>14</td>\n",
       "      <td>Russia</td>\n",
       "      <td>Voronezh</td>\n",
       "      <td>4</td>\n",
       "      <td>Android</td>\n",
       "      <td>organic</td>\n",
       "    </tr>\n",
       "    <tr>\n",
       "      <th>1373</th>\n",
       "      <td>29604</td>\n",
       "      <td>0</td>\n",
       "      <td>14</td>\n",
       "      <td>Russia</td>\n",
       "      <td>Voronezh</td>\n",
       "      <td>4</td>\n",
       "      <td>Android</td>\n",
       "      <td>ads</td>\n",
       "    </tr>\n",
       "  </tbody>\n",
       "</table>\n",
       "<p>1374 rows × 8 columns</p>\n",
       "</div>"
      ],
      "text/plain": [
       "          id  gender  age country      city  exp_group       os   source\n",
       "0      89990       0   71  Russia  Voronezh          0  Android      ads\n",
       "1       2441       1   71  Russia  Voronezh          3  Android      ads\n",
       "2      14184       1   66  Russia  Voronezh          3  Android      ads\n",
       "3      35093       0   65  Russia  Voronezh          0  Android      ads\n",
       "4      77284       0   64  Russia  Voronezh          4  Android      ads\n",
       "...      ...     ...  ...     ...       ...        ...      ...      ...\n",
       "1369  151841       1   14  Russia  Voronezh          4  Android  organic\n",
       "1370  116446       0   14  Russia  Voronezh          4      iOS  organic\n",
       "1371   18278       0   14  Russia  Voronezh          4  Android      ads\n",
       "1372  110611       1   14  Russia  Voronezh          4  Android  organic\n",
       "1373   29604       0   14  Russia  Voronezh          4  Android      ads\n",
       "\n",
       "[1374 rows x 8 columns]"
      ]
     },
     "execution_count": 20,
     "metadata": {},
     "output_type": "execute_result"
    }
   ],
   "source": [
    "query11 =\\\n",
    "'''\n",
    "SELECT *\n",
    "FROM \"user\"\n",
    "WHERE city = 'Voronezh'\n",
    "ORDER BY age DESC, exp_group ASC\n",
    "'''\n",
    "df11 = pd.read_sql(query11, conn_uri)\n",
    "df11"
   ]
  },
  {
   "cell_type": "markdown",
   "id": "e83cf784",
   "metadata": {},
   "source": [
    "### Join (1/2)\n",
    "Отберите `post_id`, `time`, `age` и `os` пользователя для всех лайков пользователей из Омска. Отсортируйте результаты по убыванию времени действия и загрузите в LMS первые 100 значений в формате CSV (сепаратор \"запятая\", колонки с теми же названиями, что и в задании)."
   ]
  },
  {
   "cell_type": "code",
   "execution_count": 32,
   "id": "aab5ab45",
   "metadata": {
    "ExecuteTime": {
     "end_time": "2022-05-26T19:28:21.946342Z",
     "start_time": "2022-05-26T19:28:18.439251Z"
    }
   },
   "outputs": [
    {
     "data": {
      "text/html": [
       "<div>\n",
       "<style scoped>\n",
       "    .dataframe tbody tr th:only-of-type {\n",
       "        vertical-align: middle;\n",
       "    }\n",
       "\n",
       "    .dataframe tbody tr th {\n",
       "        vertical-align: top;\n",
       "    }\n",
       "\n",
       "    .dataframe thead th {\n",
       "        text-align: right;\n",
       "    }\n",
       "</style>\n",
       "<table border=\"1\" class=\"dataframe\">\n",
       "  <thead>\n",
       "    <tr style=\"text-align: right;\">\n",
       "      <th></th>\n",
       "      <th>id</th>\n",
       "      <th>gender</th>\n",
       "      <th>age</th>\n",
       "      <th>country</th>\n",
       "      <th>city</th>\n",
       "      <th>exp_group</th>\n",
       "      <th>os</th>\n",
       "      <th>source</th>\n",
       "    </tr>\n",
       "  </thead>\n",
       "  <tbody>\n",
       "    <tr>\n",
       "      <th>0</th>\n",
       "      <td>200</td>\n",
       "      <td>1</td>\n",
       "      <td>34</td>\n",
       "      <td>Russia</td>\n",
       "      <td>Degtyarsk</td>\n",
       "      <td>3</td>\n",
       "      <td>Android</td>\n",
       "      <td>ads</td>\n",
       "    </tr>\n",
       "    <tr>\n",
       "      <th>1</th>\n",
       "      <td>201</td>\n",
       "      <td>0</td>\n",
       "      <td>37</td>\n",
       "      <td>Russia</td>\n",
       "      <td>Abakan</td>\n",
       "      <td>0</td>\n",
       "      <td>Android</td>\n",
       "      <td>ads</td>\n",
       "    </tr>\n",
       "    <tr>\n",
       "      <th>2</th>\n",
       "      <td>202</td>\n",
       "      <td>1</td>\n",
       "      <td>17</td>\n",
       "      <td>Russia</td>\n",
       "      <td>Smolensk</td>\n",
       "      <td>4</td>\n",
       "      <td>Android</td>\n",
       "      <td>ads</td>\n",
       "    </tr>\n",
       "    <tr>\n",
       "      <th>3</th>\n",
       "      <td>203</td>\n",
       "      <td>0</td>\n",
       "      <td>18</td>\n",
       "      <td>Russia</td>\n",
       "      <td>Moscow</td>\n",
       "      <td>1</td>\n",
       "      <td>iOS</td>\n",
       "      <td>ads</td>\n",
       "    </tr>\n",
       "    <tr>\n",
       "      <th>4</th>\n",
       "      <td>204</td>\n",
       "      <td>0</td>\n",
       "      <td>36</td>\n",
       "      <td>Russia</td>\n",
       "      <td>Anzhero-Sudzhensk</td>\n",
       "      <td>3</td>\n",
       "      <td>Android</td>\n",
       "      <td>ads</td>\n",
       "    </tr>\n",
       "  </tbody>\n",
       "</table>\n",
       "</div>"
      ],
      "text/plain": [
       "    id  gender  age country               city  exp_group       os source\n",
       "0  200       1   34  Russia          Degtyarsk          3  Android    ads\n",
       "1  201       0   37  Russia             Abakan          0  Android    ads\n",
       "2  202       1   17  Russia           Smolensk          4  Android    ads\n",
       "3  203       0   18  Russia             Moscow          1      iOS    ads\n",
       "4  204       0   36  Russia  Anzhero-Sudzhensk          3  Android    ads"
      ]
     },
     "execution_count": 32,
     "metadata": {},
     "output_type": "execute_result"
    }
   ],
   "source": [
    "user_query =\\\n",
    "'''\n",
    "SELECT *\n",
    "FROM \"user\"\n",
    "'''\n",
    "user_df = pd.read_sql(user_query, conn_uri)\n",
    "user_df.head()"
   ]
  },
  {
   "cell_type": "code",
   "execution_count": 22,
   "id": "702115cf",
   "metadata": {
    "ExecuteTime": {
     "end_time": "2022-05-26T19:22:50.389964Z",
     "start_time": "2022-05-26T19:22:47.387397Z"
    }
   },
   "outputs": [
    {
     "data": {
      "text/html": [
       "<div>\n",
       "<style scoped>\n",
       "    .dataframe tbody tr th:only-of-type {\n",
       "        vertical-align: middle;\n",
       "    }\n",
       "\n",
       "    .dataframe tbody tr th {\n",
       "        vertical-align: top;\n",
       "    }\n",
       "\n",
       "    .dataframe thead th {\n",
       "        text-align: right;\n",
       "    }\n",
       "</style>\n",
       "<table border=\"1\" class=\"dataframe\">\n",
       "  <thead>\n",
       "    <tr style=\"text-align: right;\">\n",
       "      <th></th>\n",
       "      <th>id</th>\n",
       "      <th>text</th>\n",
       "      <th>topic</th>\n",
       "    </tr>\n",
       "  </thead>\n",
       "  <tbody>\n",
       "    <tr>\n",
       "      <th>0</th>\n",
       "      <td>1</td>\n",
       "      <td>UK economy facing major risks\\n\\nThe UK manufa...</td>\n",
       "      <td>business</td>\n",
       "    </tr>\n",
       "    <tr>\n",
       "      <th>1</th>\n",
       "      <td>2</td>\n",
       "      <td>Aids and climate top Davos agenda\\n\\nClimate c...</td>\n",
       "      <td>business</td>\n",
       "    </tr>\n",
       "    <tr>\n",
       "      <th>2</th>\n",
       "      <td>3</td>\n",
       "      <td>Asian quake hits European shares\\n\\nShares in ...</td>\n",
       "      <td>business</td>\n",
       "    </tr>\n",
       "    <tr>\n",
       "      <th>3</th>\n",
       "      <td>4</td>\n",
       "      <td>India power shares jump on debut\\n\\nShares in ...</td>\n",
       "      <td>business</td>\n",
       "    </tr>\n",
       "    <tr>\n",
       "      <th>4</th>\n",
       "      <td>5</td>\n",
       "      <td>Lacroix label bought by US firm\\n\\nLuxury good...</td>\n",
       "      <td>business</td>\n",
       "    </tr>\n",
       "  </tbody>\n",
       "</table>\n",
       "</div>"
      ],
      "text/plain": [
       "   id                                               text     topic\n",
       "0   1  UK economy facing major risks\\n\\nThe UK manufa...  business\n",
       "1   2  Aids and climate top Davos agenda\\n\\nClimate c...  business\n",
       "2   3  Asian quake hits European shares\\n\\nShares in ...  business\n",
       "3   4  India power shares jump on debut\\n\\nShares in ...  business\n",
       "4   5  Lacroix label bought by US firm\\n\\nLuxury good...  business"
      ]
     },
     "execution_count": 22,
     "metadata": {},
     "output_type": "execute_result"
    }
   ],
   "source": [
    "post_query =\\\n",
    "'''\n",
    "SELECT *\n",
    "FROM post\n",
    "'''\n",
    "post_df = pd.read_sql(post_query, conn_uri)\n",
    "post_df.head()"
   ]
  },
  {
   "cell_type": "code",
   "execution_count": 23,
   "id": "cf5c3f46",
   "metadata": {
    "ExecuteTime": {
     "end_time": "2022-05-26T19:22:51.191896Z",
     "start_time": "2022-05-26T19:22:50.390962Z"
    }
   },
   "outputs": [
    {
     "data": {
      "text/html": [
       "<div>\n",
       "<style scoped>\n",
       "    .dataframe tbody tr th:only-of-type {\n",
       "        vertical-align: middle;\n",
       "    }\n",
       "\n",
       "    .dataframe tbody tr th {\n",
       "        vertical-align: top;\n",
       "    }\n",
       "\n",
       "    .dataframe thead th {\n",
       "        text-align: right;\n",
       "    }\n",
       "</style>\n",
       "<table border=\"1\" class=\"dataframe\">\n",
       "  <thead>\n",
       "    <tr style=\"text-align: right;\">\n",
       "      <th></th>\n",
       "      <th>user_id</th>\n",
       "      <th>post_id</th>\n",
       "      <th>action</th>\n",
       "      <th>time</th>\n",
       "    </tr>\n",
       "  </thead>\n",
       "  <tbody>\n",
       "    <tr>\n",
       "      <th>0</th>\n",
       "      <td>113387</td>\n",
       "      <td>6716</td>\n",
       "      <td>view</td>\n",
       "      <td>2022-01-19 17:48:54</td>\n",
       "    </tr>\n",
       "    <tr>\n",
       "      <th>1</th>\n",
       "      <td>93486</td>\n",
       "      <td>6789</td>\n",
       "      <td>like</td>\n",
       "      <td>2022-01-19 17:48:54</td>\n",
       "    </tr>\n",
       "    <tr>\n",
       "      <th>2</th>\n",
       "      <td>131500</td>\n",
       "      <td>6792</td>\n",
       "      <td>view</td>\n",
       "      <td>2022-01-19 17:48:54</td>\n",
       "    </tr>\n",
       "    <tr>\n",
       "      <th>3</th>\n",
       "      <td>125502</td>\n",
       "      <td>6791</td>\n",
       "      <td>view</td>\n",
       "      <td>2022-01-19 17:48:54</td>\n",
       "    </tr>\n",
       "    <tr>\n",
       "      <th>4</th>\n",
       "      <td>138364</td>\n",
       "      <td>6572</td>\n",
       "      <td>like</td>\n",
       "      <td>2022-01-19 17:48:54</td>\n",
       "    </tr>\n",
       "  </tbody>\n",
       "</table>\n",
       "</div>"
      ],
      "text/plain": [
       "   user_id  post_id action                time\n",
       "0   113387     6716   view 2022-01-19 17:48:54\n",
       "1    93486     6789   like 2022-01-19 17:48:54\n",
       "2   131500     6792   view 2022-01-19 17:48:54\n",
       "3   125502     6791   view 2022-01-19 17:48:54\n",
       "4   138364     6572   like 2022-01-19 17:48:54"
      ]
     },
     "execution_count": 23,
     "metadata": {},
     "output_type": "execute_result"
    }
   ],
   "source": [
    "feed_action_query =\\\n",
    "'''\n",
    "SELECT *\n",
    "FROM feed_action\n",
    "LIMIT 10\n",
    "'''\n",
    "feed_action_df = pd.read_sql(feed_action_query, conn_uri)\n",
    "feed_action_df.head()"
   ]
  },
  {
   "cell_type": "code",
   "execution_count": 26,
   "id": "70d215ea",
   "metadata": {
    "ExecuteTime": {
     "end_time": "2022-05-26T19:25:26.853671Z",
     "start_time": "2022-05-26T19:25:13.233187Z"
    }
   },
   "outputs": [
    {
     "data": {
      "text/html": [
       "<div>\n",
       "<style scoped>\n",
       "    .dataframe tbody tr th:only-of-type {\n",
       "        vertical-align: middle;\n",
       "    }\n",
       "\n",
       "    .dataframe tbody tr th {\n",
       "        vertical-align: top;\n",
       "    }\n",
       "\n",
       "    .dataframe thead th {\n",
       "        text-align: right;\n",
       "    }\n",
       "</style>\n",
       "<table border=\"1\" class=\"dataframe\">\n",
       "  <thead>\n",
       "    <tr style=\"text-align: right;\">\n",
       "      <th></th>\n",
       "      <th>post_id</th>\n",
       "      <th>time</th>\n",
       "      <th>age</th>\n",
       "      <th>os</th>\n",
       "    </tr>\n",
       "  </thead>\n",
       "  <tbody>\n",
       "    <tr>\n",
       "      <th>0</th>\n",
       "      <td>7159</td>\n",
       "      <td>2022-01-26 23:59:54</td>\n",
       "      <td>17</td>\n",
       "      <td>Android</td>\n",
       "    </tr>\n",
       "    <tr>\n",
       "      <th>1</th>\n",
       "      <td>7184</td>\n",
       "      <td>2022-01-26 23:56:30</td>\n",
       "      <td>17</td>\n",
       "      <td>Android</td>\n",
       "    </tr>\n",
       "    <tr>\n",
       "      <th>2</th>\n",
       "      <td>7265</td>\n",
       "      <td>2022-01-26 23:56:03</td>\n",
       "      <td>17</td>\n",
       "      <td>Android</td>\n",
       "    </tr>\n",
       "    <tr>\n",
       "      <th>3</th>\n",
       "      <td>7256</td>\n",
       "      <td>2022-01-26 23:55:24</td>\n",
       "      <td>17</td>\n",
       "      <td>Android</td>\n",
       "    </tr>\n",
       "    <tr>\n",
       "      <th>4</th>\n",
       "      <td>7080</td>\n",
       "      <td>2022-01-26 23:55:12</td>\n",
       "      <td>17</td>\n",
       "      <td>Android</td>\n",
       "    </tr>\n",
       "    <tr>\n",
       "      <th>...</th>\n",
       "      <td>...</td>\n",
       "      <td>...</td>\n",
       "      <td>...</td>\n",
       "      <td>...</td>\n",
       "    </tr>\n",
       "    <tr>\n",
       "      <th>95</th>\n",
       "      <td>7256</td>\n",
       "      <td>2022-01-26 22:43:54</td>\n",
       "      <td>31</td>\n",
       "      <td>Android</td>\n",
       "    </tr>\n",
       "    <tr>\n",
       "      <th>96</th>\n",
       "      <td>7316</td>\n",
       "      <td>2022-01-26 22:42:54</td>\n",
       "      <td>31</td>\n",
       "      <td>Android</td>\n",
       "    </tr>\n",
       "    <tr>\n",
       "      <th>97</th>\n",
       "      <td>7319</td>\n",
       "      <td>2022-01-26 22:39:35</td>\n",
       "      <td>36</td>\n",
       "      <td>iOS</td>\n",
       "    </tr>\n",
       "    <tr>\n",
       "      <th>98</th>\n",
       "      <td>7268</td>\n",
       "      <td>2022-01-26 22:39:04</td>\n",
       "      <td>36</td>\n",
       "      <td>iOS</td>\n",
       "    </tr>\n",
       "    <tr>\n",
       "      <th>99</th>\n",
       "      <td>7226</td>\n",
       "      <td>2022-01-26 22:35:11</td>\n",
       "      <td>36</td>\n",
       "      <td>iOS</td>\n",
       "    </tr>\n",
       "  </tbody>\n",
       "</table>\n",
       "<p>100 rows × 4 columns</p>\n",
       "</div>"
      ],
      "text/plain": [
       "    post_id                time  age       os\n",
       "0      7159 2022-01-26 23:59:54   17  Android\n",
       "1      7184 2022-01-26 23:56:30   17  Android\n",
       "2      7265 2022-01-26 23:56:03   17  Android\n",
       "3      7256 2022-01-26 23:55:24   17  Android\n",
       "4      7080 2022-01-26 23:55:12   17  Android\n",
       "..      ...                 ...  ...      ...\n",
       "95     7256 2022-01-26 22:43:54   31  Android\n",
       "96     7316 2022-01-26 22:42:54   31  Android\n",
       "97     7319 2022-01-26 22:39:35   36      iOS\n",
       "98     7268 2022-01-26 22:39:04   36      iOS\n",
       "99     7226 2022-01-26 22:35:11   36      iOS\n",
       "\n",
       "[100 rows x 4 columns]"
      ]
     },
     "execution_count": 26,
     "metadata": {},
     "output_type": "execute_result"
    }
   ],
   "source": [
    "query11 =\\\n",
    "'''\n",
    "SELECT f.post_id, f.time, u.age, u.os\n",
    "FROM \"user\" u\n",
    "INNER JOIN feed_action f ON u.id = f.user_id\n",
    "WHERE u.city = 'Omsk' AND f.action = 'like'\n",
    "ORDER BY f.time DESC\n",
    "LIMIT 100\n",
    "'''\n",
    "df11 = pd.read_sql(query11, conn_uri)\n",
    "df11"
   ]
  },
  {
   "cell_type": "code",
   "execution_count": 28,
   "id": "f4959127",
   "metadata": {
    "ExecuteTime": {
     "end_time": "2022-05-26T19:26:09.855289Z",
     "start_time": "2022-05-26T19:26:09.845076Z"
    }
   },
   "outputs": [],
   "source": [
    "df11.to_csv('output_1.csv', sep=',', index=False)"
   ]
  },
  {
   "cell_type": "markdown",
   "id": "d9d903f4",
   "metadata": {},
   "source": [
    "### Join (2/2)\n",
    "Найдите город, пользователи которого в возрасте 36 лет 2021-12-01 числа просмотрели запись на тему `covid` меньше всего раз относительно других городов. Введите его название на английском."
   ]
  },
  {
   "cell_type": "code",
   "execution_count": 31,
   "id": "b508b478",
   "metadata": {
    "ExecuteTime": {
     "end_time": "2022-05-27T08:40:30.220504Z",
     "start_time": "2022-05-27T08:40:16.301387Z"
    }
   },
   "outputs": [
    {
     "data": {
      "text/html": [
       "<div>\n",
       "<style scoped>\n",
       "    .dataframe tbody tr th:only-of-type {\n",
       "        vertical-align: middle;\n",
       "    }\n",
       "\n",
       "    .dataframe tbody tr th {\n",
       "        vertical-align: top;\n",
       "    }\n",
       "\n",
       "    .dataframe thead th {\n",
       "        text-align: right;\n",
       "    }\n",
       "</style>\n",
       "<table border=\"1\" class=\"dataframe\">\n",
       "  <thead>\n",
       "    <tr style=\"text-align: right;\">\n",
       "      <th></th>\n",
       "      <th>city</th>\n",
       "      <th>count</th>\n",
       "    </tr>\n",
       "  </thead>\n",
       "  <tbody>\n",
       "    <tr>\n",
       "      <th>0</th>\n",
       "      <td>Arkhangelsk</td>\n",
       "      <td>5</td>\n",
       "    </tr>\n",
       "    <tr>\n",
       "      <th>1</th>\n",
       "      <td>Apsheronsk</td>\n",
       "      <td>8</td>\n",
       "    </tr>\n",
       "    <tr>\n",
       "      <th>2</th>\n",
       "      <td>Fryazino</td>\n",
       "      <td>8</td>\n",
       "    </tr>\n",
       "    <tr>\n",
       "      <th>3</th>\n",
       "      <td>Karmaskaly</td>\n",
       "      <td>9</td>\n",
       "    </tr>\n",
       "    <tr>\n",
       "      <th>4</th>\n",
       "      <td>Mariinsk</td>\n",
       "      <td>9</td>\n",
       "    </tr>\n",
       "    <tr>\n",
       "      <th>5</th>\n",
       "      <td>Varna</td>\n",
       "      <td>9</td>\n",
       "    </tr>\n",
       "    <tr>\n",
       "      <th>6</th>\n",
       "      <td>Kirs</td>\n",
       "      <td>10</td>\n",
       "    </tr>\n",
       "    <tr>\n",
       "      <th>7</th>\n",
       "      <td>Lubny</td>\n",
       "      <td>10</td>\n",
       "    </tr>\n",
       "    <tr>\n",
       "      <th>8</th>\n",
       "      <td>Kinel</td>\n",
       "      <td>11</td>\n",
       "    </tr>\n",
       "    <tr>\n",
       "      <th>9</th>\n",
       "      <td>Almetyevsk</td>\n",
       "      <td>11</td>\n",
       "    </tr>\n",
       "  </tbody>\n",
       "</table>\n",
       "</div>"
      ],
      "text/plain": [
       "          city  count\n",
       "0  Arkhangelsk      5\n",
       "1   Apsheronsk      8\n",
       "2     Fryazino      8\n",
       "3   Karmaskaly      9\n",
       "4     Mariinsk      9\n",
       "5        Varna      9\n",
       "6         Kirs     10\n",
       "7        Lubny     10\n",
       "8        Kinel     11\n",
       "9   Almetyevsk     11"
      ]
     },
     "execution_count": 31,
     "metadata": {},
     "output_type": "execute_result"
    }
   ],
   "source": [
    "query12 =\\\n",
    "'''\n",
    "SELECT city, count(*)\n",
    "FROM \"user\" u\n",
    "JOIN feed_action f ON u.id = f.user_id\n",
    "JOIN post p ON f.post_id = p.id\n",
    "WHERE (age = 36) AND (topic = 'covid') AND (time::DATE = '2021-12-01') AND (action = 'view')\n",
    "GROUP BY city\n",
    "ORDER BY count(*) ASC\n",
    "LIMIT 10\n",
    "'''\n",
    "df12 = pd.read_sql(query12, conn_uri)\n",
    "df12"
   ]
  },
  {
   "cell_type": "markdown",
   "id": "c5852e68",
   "metadata": {},
   "source": [
    "### Топ постов\n",
    "Напишите SQL запрос, используя который вы получите:\n",
    "- топ N постов по лайкам,\n",
    "- количество пролайкавших пользователей,\n",
    "- время последнего лайка."
   ]
  },
  {
   "cell_type": "code",
   "execution_count": 38,
   "id": "97c10892",
   "metadata": {
    "ExecuteTime": {
     "end_time": "2022-05-27T09:11:30.051666Z",
     "start_time": "2022-05-27T09:11:14.482347Z"
    }
   },
   "outputs": [
    {
     "data": {
      "text/html": [
       "<div>\n",
       "<style scoped>\n",
       "    .dataframe tbody tr th:only-of-type {\n",
       "        vertical-align: middle;\n",
       "    }\n",
       "\n",
       "    .dataframe tbody tr th {\n",
       "        vertical-align: top;\n",
       "    }\n",
       "\n",
       "    .dataframe thead th {\n",
       "        text-align: right;\n",
       "    }\n",
       "</style>\n",
       "<table border=\"1\" class=\"dataframe\">\n",
       "  <thead>\n",
       "    <tr style=\"text-align: right;\">\n",
       "      <th></th>\n",
       "      <th>post_id</th>\n",
       "      <th>count_liked_users</th>\n",
       "      <th>max</th>\n",
       "    </tr>\n",
       "  </thead>\n",
       "  <tbody>\n",
       "    <tr>\n",
       "      <th>0</th>\n",
       "      <td>4866</td>\n",
       "      <td>31714</td>\n",
       "      <td>2022-01-01 13:57:43</td>\n",
       "    </tr>\n",
       "    <tr>\n",
       "      <th>1</th>\n",
       "      <td>5127</td>\n",
       "      <td>29637</td>\n",
       "      <td>2022-01-05 13:52:17</td>\n",
       "    </tr>\n",
       "    <tr>\n",
       "      <th>2</th>\n",
       "      <td>6448</td>\n",
       "      <td>27939</td>\n",
       "      <td>2022-01-22 05:50:39</td>\n",
       "    </tr>\n",
       "    <tr>\n",
       "      <th>3</th>\n",
       "      <td>6498</td>\n",
       "      <td>27729</td>\n",
       "      <td>2022-01-22 21:45:11</td>\n",
       "    </tr>\n",
       "    <tr>\n",
       "      <th>4</th>\n",
       "      <td>6513</td>\n",
       "      <td>27686</td>\n",
       "      <td>2022-01-22 19:59:52</td>\n",
       "    </tr>\n",
       "    <tr>\n",
       "      <th>5</th>\n",
       "      <td>3192</td>\n",
       "      <td>26507</td>\n",
       "      <td>2021-12-06 19:57:50</td>\n",
       "    </tr>\n",
       "    <tr>\n",
       "      <th>6</th>\n",
       "      <td>6314</td>\n",
       "      <td>26478</td>\n",
       "      <td>2022-01-20 07:46:21</td>\n",
       "    </tr>\n",
       "    <tr>\n",
       "      <th>7</th>\n",
       "      <td>6864</td>\n",
       "      <td>24156</td>\n",
       "      <td>2022-01-26 23:52:48</td>\n",
       "    </tr>\n",
       "    <tr>\n",
       "      <th>8</th>\n",
       "      <td>5413</td>\n",
       "      <td>23441</td>\n",
       "      <td>2022-01-07 09:57:07</td>\n",
       "    </tr>\n",
       "    <tr>\n",
       "      <th>9</th>\n",
       "      <td>5165</td>\n",
       "      <td>22596</td>\n",
       "      <td>2022-01-04 17:43:12</td>\n",
       "    </tr>\n",
       "  </tbody>\n",
       "</table>\n",
       "</div>"
      ],
      "text/plain": [
       "   post_id  count_liked_users                 max\n",
       "0     4866              31714 2022-01-01 13:57:43\n",
       "1     5127              29637 2022-01-05 13:52:17\n",
       "2     6448              27939 2022-01-22 05:50:39\n",
       "3     6498              27729 2022-01-22 21:45:11\n",
       "4     6513              27686 2022-01-22 19:59:52\n",
       "5     3192              26507 2021-12-06 19:57:50\n",
       "6     6314              26478 2022-01-20 07:46:21\n",
       "7     6864              24156 2022-01-26 23:52:48\n",
       "8     5413              23441 2022-01-07 09:57:07\n",
       "9     5165              22596 2022-01-04 17:43:12"
      ]
     },
     "execution_count": 38,
     "metadata": {},
     "output_type": "execute_result"
    }
   ],
   "source": [
    "query13 =\\\n",
    "'''\n",
    "SELECT post_id, count(*) as count_liked_users, MAX(time)\n",
    "FROM \"user\" u\n",
    "JOIN feed_action f ON u.id = f.user_id\n",
    "WHERE action = 'like'\n",
    "GROUP BY post_id\n",
    "ORDER BY count_liked_users DESC\n",
    "LIMIT 10\n",
    "'''\n",
    "df13 = pd.read_sql(query13, conn_uri)\n",
    "df13"
   ]
  }
 ],
 "metadata": {
  "kernelspec": {
   "display_name": "Python 3 (ipykernel)",
   "language": "python",
   "name": "python3"
  },
  "language_info": {
   "codemirror_mode": {
    "name": "ipython",
    "version": 3
   },
   "file_extension": ".py",
   "mimetype": "text/x-python",
   "name": "python",
   "nbconvert_exporter": "python",
   "pygments_lexer": "ipython3",
   "version": "3.9.12"
  },
  "varInspector": {
   "cols": {
    "lenName": 16,
    "lenType": 16,
    "lenVar": 40
   },
   "kernels_config": {
    "python": {
     "delete_cmd_postfix": "",
     "delete_cmd_prefix": "del ",
     "library": "var_list.py",
     "varRefreshCmd": "print(var_dic_list())"
    },
    "r": {
     "delete_cmd_postfix": ") ",
     "delete_cmd_prefix": "rm(",
     "library": "var_list.r",
     "varRefreshCmd": "cat(var_dic_list()) "
    }
   },
   "types_to_exclude": [
    "module",
    "function",
    "builtin_function_or_method",
    "instance",
    "_Feature"
   ],
   "window_display": false
  }
 },
 "nbformat": 4,
 "nbformat_minor": 5
}
