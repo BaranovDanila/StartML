{
 "cells": [
  {
   "cell_type": "markdown",
   "id": "dbcb8ce3",
   "metadata": {},
   "source": [
    "### Простые классы\n",
    "Напишите класс `Triangle`, который будет иметь 3 поля: `a`, `b`, `c`(стороны треугольника) и `n_dots` = 3 (количество точек). Поле `n_dots` объявите на уровне класса, не в конструкторе — чтобы оно было доступно без создания объекта (т.е. работал вызов `Triangle.n_dots`). Добавьте в класс простой конструктор, принимающий на вход все три стороны и сохраняющий эти стороны в соответсвующие поля класса.\n",
    "\n",
    "Создайте объекты этого класса со следующими названиями: `tr_1`, `tr_2` и любыми значениями длин сторон."
   ]
  },
  {
   "cell_type": "code",
   "execution_count": 1,
   "id": "54ebd1ca",
   "metadata": {
    "ExecuteTime": {
     "end_time": "2022-05-30T16:25:18.548166Z",
     "start_time": "2022-05-30T16:25:18.533189Z"
    }
   },
   "outputs": [],
   "source": [
    "class Triangle:\n",
    "    n_dots = 3\n",
    "    def __init__(self, a, b, c):\n",
    "        self.a = a\n",
    "        self.b = b\n",
    "        self.c = c"
   ]
  },
  {
   "cell_type": "code",
   "execution_count": 2,
   "id": "6eb29a88",
   "metadata": {
    "ExecuteTime": {
     "end_time": "2022-05-30T16:25:18.564104Z",
     "start_time": "2022-05-30T16:25:18.550141Z"
    }
   },
   "outputs": [],
   "source": [
    "tr_1 = Triangle(1, 2, 3)\n",
    "tr_2 = Triangle(2, 4, 6)"
   ]
  },
  {
   "cell_type": "markdown",
   "id": "e0585e1f",
   "metadata": {},
   "source": [
    "### Усложняем треугольник\n",
    "Возьмите класс `Triangle` из предыдущего задания и добавьте метод `area()`, возвращающий площадь треугольника. Напомним, что при известных трех сторонах площадь треугольника можно подсчитать по формуле Герона.\n",
    "Подумайте, как можно организовать код так, чтобы p считалась один раз.\n",
    "\n",
    "Затем поменяйте конструктор: он должен проверять, что выполнено неравенство треугольника - каждая сторона меньше или равна сумме двух других. Если это условие не выполнено, выбрасывайте `ValueError` с текстом \"triangle inequality does not hold\" (передайте эту строку в конструктор ValueError).\n",
    "\n",
    "Наконец, создайте два объекта данного класса с названиями `tr_1` и `tr_2` , в которых соблюдается равенство треугольника. Также, сохраните в переменные `square_1` и `square_2` результаты вызовов методов `.area()` для объектов `tr_1` и `tr_2` соответственно."
   ]
  },
  {
   "cell_type": "code",
   "execution_count": 3,
   "id": "8da01ffe",
   "metadata": {
    "ExecuteTime": {
     "end_time": "2022-05-30T16:25:18.580060Z",
     "start_time": "2022-05-30T16:25:18.566097Z"
    }
   },
   "outputs": [],
   "source": [
    "class Triangle:\n",
    "    n_dots = 3\n",
    "    def __init__(self, a, b, c):\n",
    "        self.a = a\n",
    "        self.b = b\n",
    "        self.c = c\n",
    "        self.p = 0.5 * (a + b + c)\n",
    "        if (a > b + c) or (b > a + c) or (c > a + b):\n",
    "            raise ValueError('triangle inequality does not hold')\n",
    "        \n",
    "    def area(self):\n",
    "        return (self.p * (self.p - self.a)\\\n",
    "                * (self.p - self.b) * (self.p - self.c)) ** 0.5"
   ]
  },
  {
   "cell_type": "code",
   "execution_count": 4,
   "id": "bb3e8c7c",
   "metadata": {
    "ExecuteTime": {
     "end_time": "2022-05-30T16:25:18.596054Z",
     "start_time": "2022-05-30T16:25:18.581058Z"
    }
   },
   "outputs": [],
   "source": [
    "tr_1 = Triangle(1, 1, 1)\n",
    "tr_2 = Triangle(2, 3, 4)\n",
    "square_1 = tr_1.area()\n",
    "square_2 = tr_2.area()"
   ]
  },
  {
   "cell_type": "markdown",
   "id": "04746f4b",
   "metadata": {},
   "source": [
    "### Простое наследование\n",
    "Создайте класс `Rectangle` (прямоугольник), который будет наследоваться от класса `Triangle`. Сделайте так, чтобы `area()`, конструктор и поле `n_dots` были верными. \n",
    "\n",
    "А именно:\n",
    "1. Конструктор должен принимать 2 стороны: `a`, `b`.\n",
    "2. `area()` должен считать площадь как произведение смежных сторон: S = ab.\n",
    "3. Неравенство треугольника не нужно проверять.\n",
    "4. `n_dots` должен быть объявлен на уровне класса и равняться 4.\n",
    "\n",
    "Отправьте реализацию класса `Rectangle` в LMS. Класс `Triangle` отправлять не нужно."
   ]
  },
  {
   "cell_type": "code",
   "execution_count": 5,
   "id": "aa45863a",
   "metadata": {
    "ExecuteTime": {
     "end_time": "2022-05-30T16:25:18.611564Z",
     "start_time": "2022-05-30T16:25:18.597016Z"
    }
   },
   "outputs": [],
   "source": [
    "class Rectangle(Triangle):\n",
    "    n_dots = 4\n",
    "    \n",
    "    def __init__(self, a, b):\n",
    "        self.a = a\n",
    "        self.b = b\n",
    "        \n",
    "    def area(self):\n",
    "        return self.a * self.b"
   ]
  },
  {
   "cell_type": "code",
   "execution_count": 6,
   "id": "133b1397",
   "metadata": {
    "ExecuteTime": {
     "end_time": "2022-05-30T16:25:18.627448Z",
     "start_time": "2022-05-30T16:25:18.612477Z"
    }
   },
   "outputs": [
    {
     "data": {
      "text/plain": [
       "2"
      ]
     },
     "execution_count": 6,
     "metadata": {},
     "output_type": "execute_result"
    }
   ],
   "source": [
    "rc_1 = Rectangle(1, 2)\n",
    "rc_1.area()"
   ]
  },
  {
   "cell_type": "markdown",
   "id": "05a0d846",
   "metadata": {},
   "source": [
    "### Наследование: абстрактный класс (1/4)\n",
    "Вы, наверно, заметили, что при наследовании в прошлом задании мы переписали почти всю логику. Это плохо: при наследовании нужно расширять класс, а не переписывать его.\n",
    "\n",
    "Но все же хочется использовать наследование, ведь треугольники и прямоугольники имеют общие свойства: \n",
    "1. Оба характеризуются количеством точек n_dots.\n",
    "2. Оба имеют метод area().\n",
    "3. Оба имеют проверки на валидность данных. В случае прямоугольника это было равенство противоположных сторон, которое мы пропустили благодаря трюку: вместо принятия четырех сторон a, b, c, d на вход мы принимали две и далее держали в уме a=c, b=d. В случае треугольника это было неравенство треугольника.\n",
    "\n",
    "Тут нам поможет создание некой \"базовой фигуры\". Это будет сборник общих свойств, который сам по себе не будет представлять никакую фигуру, но послужит хорошим плацдармом для следующих классов.\n",
    "\n",
    "Напишите класс `BaseFigure`, который имеет поле класса (т.е. на уровне класса) `n_dots` = `None`, метод `area()` \"без реализации\", метод `validate()` \"без реализации\". Сделайте так, чтобы методы \"без реализации\" выбрасывали исключение `NotImplementedError` при их вызове и ничего другого не делали. Создайте также конструктор класса, который не принимает дополнительных аргументов и в реализации только лишь вызывает `self.validate()`.\n",
    "\n",
    "Отправьте этот абстрактный класс в LMS ниже."
   ]
  },
  {
   "cell_type": "code",
   "execution_count": 7,
   "id": "bd19740b",
   "metadata": {
    "ExecuteTime": {
     "end_time": "2022-05-30T16:25:18.643406Z",
     "start_time": "2022-05-30T16:25:18.628452Z"
    }
   },
   "outputs": [],
   "source": [
    "class BaseFigure:\n",
    "    n_dots = None\n",
    "    \n",
    "    def __init__(self):\n",
    "        self.validate()\n",
    "\n",
    "    def validate(self):\n",
    "        raise NotImplementedError\n",
    "        \n",
    "    def area(self):\n",
    "        raise NotImplementedError"
   ]
  },
  {
   "cell_type": "markdown",
   "id": "d01c8e63",
   "metadata": {},
   "source": [
    "### Наследование: абстрактный класс (2/4)\n",
    "Перепишите классы `Triangle`, `Rectangle` так, чтобы они наследовались от `BaseFigure`. Затем уберите реализацию всех методов и конструкторов в классах-потомках.\n",
    "\n",
    "Есть ли у `Triangle`, `Rectangle` методы `area`, `validate`? Если есть, то что они возвращают при вызове?"
   ]
  },
  {
   "cell_type": "code",
   "execution_count": 8,
   "id": "b078bcb4",
   "metadata": {
    "ExecuteTime": {
     "end_time": "2022-05-30T16:25:18.658543Z",
     "start_time": "2022-05-30T16:25:18.644390Z"
    }
   },
   "outputs": [],
   "source": [
    "class BaseFigure:\n",
    "    n_dots = None\n",
    "    \n",
    "    def __init__(self):\n",
    "        self.validate()\n",
    "\n",
    "    def validate(self):\n",
    "        raise NotImplementedError\n",
    "        \n",
    "    def area(self):\n",
    "        raise NotImplementedError"
   ]
  },
  {
   "cell_type": "code",
   "execution_count": 9,
   "id": "fc89a18c",
   "metadata": {
    "ExecuteTime": {
     "end_time": "2022-05-30T16:25:18.674277Z",
     "start_time": "2022-05-30T16:25:18.660454Z"
    }
   },
   "outputs": [],
   "source": [
    "class Triangle(BaseFigure):\n",
    "    pass"
   ]
  },
  {
   "cell_type": "code",
   "execution_count": 10,
   "id": "0ad78a72",
   "metadata": {
    "ExecuteTime": {
     "end_time": "2022-05-30T16:25:18.690148Z",
     "start_time": "2022-05-30T16:25:18.675273Z"
    }
   },
   "outputs": [],
   "source": [
    "class Rectangle(BaseFigure):\n",
    "    pass"
   ]
  },
  {
   "cell_type": "markdown",
   "id": "18638da2",
   "metadata": {},
   "source": [
    "_Есть оба метода, оба выбрасывают исключение NotImplemented_."
   ]
  },
  {
   "cell_type": "markdown",
   "id": "636808a3",
   "metadata": {},
   "source": [
    "### Наследование: абстрактный класс (3/4)\n",
    "Возьмите классы `Triangle` и `Rectangle` из прошлого задания.\n",
    "\n",
    "Переопределите метод `area` в каждом случае.\n",
    "\n",
    "Переопределите конструктор в каждом случае (число аргументов тоже меняется). Не забудьте в конструкторе дочернего класса вызвать конструктор родительского класса!\n",
    "\n",
    "Переопределите метод `validate` в каждом случае. Метод `validate` должен принимать только аргумент `self` и использовать созданные в конструкторе переменные. Для этого вы можете сначала сохранять в конструкторе входные данные в `self.переменная`, а затем вызывать конструктор суперкласса. Для `Triangle` данный метод должен проверять неравенство треугольника и выбрасывать ошибку `ValueError(\"triangle inequality does not hold\")` либо возвращать значения сторон. Для `Rectangle` данный метод должен возвращать значения сторон.\n",
    "\n",
    "В итоге вы получите два класса, которые построены по схожему шаблону. Этот общий шаблон был задан в классе `BaseFigure`. Создайте несколько объектов этих классов и попробуйте вызвать у них `.area()`, `.validate()`. Если вы пользуетесь IDE, то увидите интерактивные подсказки: она скажет, что такие методы есть и что эти методы перегружают (_overload_) методы из родительского класса. При этом вызов методов будет работать коррректно."
   ]
  },
  {
   "cell_type": "code",
   "execution_count": 11,
   "id": "6d7e3c80",
   "metadata": {
    "ExecuteTime": {
     "end_time": "2022-05-30T16:25:18.706097Z",
     "start_time": "2022-05-30T16:25:18.691145Z"
    }
   },
   "outputs": [],
   "source": [
    "class BaseFigure:\n",
    "    n_dots = None\n",
    "\n",
    "    def __init__(self):\n",
    "        self.validate()\n",
    "\n",
    "    def validate(self):\n",
    "        raise NotImplementedError\n",
    "\n",
    "    def area(self):\n",
    "        raise NotImplementedError\n",
    "\n",
    "\n",
    "class Triangle(BaseFigure):\n",
    "    n_dots = 3\n",
    "\n",
    "    def __init__(self, a, b, c):\n",
    "        self.a = a\n",
    "        self.b = b\n",
    "        self.c = c\n",
    "        self.p = 0.5 * (a + b + c)\n",
    "        super().__init__()\n",
    "\n",
    "    def validate(self):\n",
    "        if (self.a > self.b + self.c) or \\\n",
    "                (self.b > self.a + self.c) or (self.c > self.a + self.b):\n",
    "            raise ValueError(\"triangle inequality does not hold\")\n",
    "        return self.a, self.b, self.c\n",
    "\n",
    "    def area(self):\n",
    "        return (self.p * (self.p - self.a)\n",
    "                * (self.p - self.b) * (self.p - self.c)) ** 0.5\n",
    "\n",
    "\n",
    "class Rectangle(BaseFigure):\n",
    "    n_dots = 4\n",
    "\n",
    "    def __init__(self, a, b):\n",
    "        self.a = a\n",
    "        self.b = b\n",
    "        super().__init__()\n",
    "\n",
    "    def validate(self):\n",
    "        return self.a, self.b\n",
    "\n",
    "    def area(self):\n",
    "        return self.a * self.b"
   ]
  },
  {
   "cell_type": "markdown",
   "id": "8ed8ee26",
   "metadata": {},
   "source": [
    "### Наследование: абстрактный класс (4/4)\n",
    "Попробуем собрать совершенно новый класс, используя `BaseFigure` в качестве шаблона.\n",
    "\n",
    "Напишите класс `Circle`, в котором в качестве `n_dots` будет `float('inf')`, area будет считаться как 3.14 * r^2, а конструктор будет принимать только один аргумент - `r`. Метод `validate` не должен принимать никаких аргументов и не должен осуществлять никаких проверок.\n",
    "\n",
    "Отправьте в LMS реализацию этого класса. Отправлять реализацию BaseFigure не нужно."
   ]
  },
  {
   "cell_type": "code",
   "execution_count": 12,
   "id": "7ee6a4d1",
   "metadata": {
    "ExecuteTime": {
     "end_time": "2022-05-30T16:25:18.721506Z",
     "start_time": "2022-05-30T16:25:18.707076Z"
    }
   },
   "outputs": [],
   "source": [
    "class Circle(BaseFigure):\n",
    "    \n",
    "    n_dots = float('inf')\n",
    "    \n",
    "    def __init__(self, r):\n",
    "        self.r = r\n",
    "        super().__init__()\n",
    "        \n",
    "    def validate(self):\n",
    "        pass\n",
    "    \n",
    "    def area(self):\n",
    "        return 3.14 * (self.r ** 2)"
   ]
  },
  {
   "cell_type": "markdown",
   "id": "14b2ccea",
   "metadata": {},
   "source": [
    "### Магические методы: вектор (1/4)\n",
    "Напишите класс `Vector`, который на вход будет принимать список координат. Положите все координаты вектора в список `self.coords`.\n",
    "\n",
    "Добейтесь того, чтобы объекты класса `Vector` можно было складывать через оператор + и получать на выходе тоже объект этого же класса."
   ]
  },
  {
   "cell_type": "code",
   "execution_count": 13,
   "id": "9333d76b",
   "metadata": {
    "ExecuteTime": {
     "end_time": "2022-05-30T16:25:18.736360Z",
     "start_time": "2022-05-30T16:25:18.722476Z"
    }
   },
   "outputs": [],
   "source": [
    "class Vector:\n",
    "    \n",
    "    def __init__(self, list_coords: list):\n",
    "        self.coords = list_coords\n",
    "        \n",
    "    def __add__(self, other_vec):\n",
    "        if len(self.coords) != len(other_vec.coords):\n",
    "            raise ValueError(f'left and right lengths differ: {len(self.coords)} != {len(other_vec.coords)}')\n",
    "        result_coords = [self.coords[i] + other_vec.coords[i] for i in range(len(self.coords))]\n",
    "        return Vector(result_coords)"
   ]
  },
  {
   "cell_type": "markdown",
   "id": "fa7af075",
   "metadata": {},
   "source": [
    "### Магические методы: вектор (2/4)\n",
    "Добавим могущества нашему вектору.\n",
    "\n",
    "Добавьте методу красивый вывод при передаче его в `print(...)`."
   ]
  },
  {
   "cell_type": "code",
   "execution_count": 14,
   "id": "bb138c03",
   "metadata": {
    "ExecuteTime": {
     "end_time": "2022-05-30T16:25:18.751328Z",
     "start_time": "2022-05-30T16:25:18.737336Z"
    }
   },
   "outputs": [],
   "source": [
    "class Vector:\n",
    "    \n",
    "    def __init__(self, list_coords: list):\n",
    "        self.coords = list_coords\n",
    "        \n",
    "    def __add__(self, other_vec):\n",
    "        if len(self.coords) != len(other_vec.coords):\n",
    "            raise ValueError(f'left and right lengths differ: {len(self.coords)} != {len(other_vec.coords)}')\n",
    "        result_coords = [self.coords[i] + other_vec.coords[i] for i in range(len(self.coords))]\n",
    "        return Vector(result_coords)\n",
    "    \n",
    "    def __str__(self):\n",
    "        return f'{self.coords}'"
   ]
  },
  {
   "cell_type": "markdown",
   "id": "ff8ed81a",
   "metadata": {},
   "source": [
    "### Магические методы: вектор (3/4)\n",
    "Продолжаем улучшать вектор. Добавьте в класс возможность умножать вектор на вектор и вектор на число. Не забудьте сохранять координаты вектора в `self.coords`."
   ]
  },
  {
   "cell_type": "code",
   "execution_count": 15,
   "id": "97f5146c",
   "metadata": {
    "ExecuteTime": {
     "end_time": "2022-05-30T16:25:18.767275Z",
     "start_time": "2022-05-30T16:25:18.752296Z"
    }
   },
   "outputs": [],
   "source": [
    "class Vector:\n",
    "    \n",
    "    def __init__(self, list_coords: list):\n",
    "        self.coords = list_coords\n",
    "        \n",
    "    def __add__(self, other_vec):\n",
    "        if len(self.coords) != len(other_vec.coords):\n",
    "            raise ValueError(f'left and right lengths differ: {len(self.coords)} != {len(other_vec.coords)}')\n",
    "        result_coords = [self.coords[i] + other_vec.coords[i] for i in range(len(self.coords))]\n",
    "        return Vector(result_coords)\n",
    "    \n",
    "    def __str__(self):\n",
    "        return f'{self.coords}'\n",
    "    \n",
    "    def __mul__(self, other):\n",
    "        if isinstance(other, Vector):\n",
    "            if len(self.coords) == len(other.coords):\n",
    "                return sum([self.coords[i] * other.coords[i] for i in range(len(self.coords))])\n",
    "            else:\n",
    "                raise ValueError(f'left and right lengths differ: {len(self.coords)} != {len(other.coords)}')\n",
    "        return Vector([other * self.coords[i] for i in range(len(self.coords))])"
   ]
  },
  {
   "cell_type": "markdown",
   "id": "ef7d9818",
   "metadata": {},
   "source": [
    "### Магические методы: вектор (4/4)\n",
    "Последние штрихи для нашего вектора.\n",
    "\n",
    "Добавьте в класс возможности сравнивать два вектора между собой и считать `abs` (это длина вектора, в Евклидовой метрике)."
   ]
  },
  {
   "cell_type": "code",
   "execution_count": 16,
   "id": "cc232521",
   "metadata": {
    "ExecuteTime": {
     "end_time": "2022-05-30T16:25:18.783234Z",
     "start_time": "2022-05-30T16:25:18.768253Z"
    }
   },
   "outputs": [],
   "source": [
    "class Vector:\n",
    "    \n",
    "    def __init__(self, list_coords: list):\n",
    "        self.coords = list_coords\n",
    "        \n",
    "    def __add__(self, other_vec):\n",
    "        if len(self.coords) != len(other_vec.coords):\n",
    "            raise ValueError(f'left and right lengths differ: {len(self.coords)} != {len(other_vec.coords)}')\n",
    "        result_coords = [self.coords[i] + other_vec.coords[i] for i in range(len(self.coords))]\n",
    "        return Vector(result_coords)\n",
    "    \n",
    "    def __str__(self):\n",
    "        return f'{self.coords}'\n",
    "    \n",
    "    def __mul__(self, other):\n",
    "        if isinstance(other, Vector):\n",
    "            if len(self.coords) == len(other.coords):\n",
    "                return sum([self.coords[i] * other.coords[i] for i in range(len(self.coords))])\n",
    "            else:\n",
    "                raise ValueError(f'left and right lengths differ: {len(self.coords)} != {len(other.coords)}')\n",
    "        return Vector([other * self.coords[i] for i in range(len(self.coords))])\n",
    "    \n",
    "    def __eq__(self, other):\n",
    "        if isinstance(other, Vector) and (self.coords == other.coords):\n",
    "            return True\n",
    "        return False\n",
    "    \n",
    "    def __abs__(self):\n",
    "        return sum([x ** 2 for x in self.coords]) ** 0.5"
   ]
  },
  {
   "cell_type": "markdown",
   "id": "43b1310e",
   "metadata": {},
   "source": [
    "### Множественное наследование (1/3)\n",
    "Попробуем сделать множественное наследование аккуратно и так, как его обычно делают в популярных библиотеках.\n",
    "\n",
    "Обычно множественное наследование используют в т.н. Mixins. Mixin (рус. миксины) - это класс, не имеющий полей и имеющий один или более не абстрактных методов (т.е. методов с реализацией). Обычно миксины используют для того, чтобы модульно раздавать различные функциональности различным объектам.\n",
    "\n",
    "В лекции был пример с Connectable и PostgresqlConnection. Connectable как раз был одной из Mixin.\n",
    "\n",
    "Вас перевели из тех.директора сложного проекта в бекенд-разработчика. Встала задача разработать класс, которому на вход будет приходить разобранный запрос от пользователя. Запрос имеет вид:\n",
    "\n",
    "```python\n",
    "# будет приходить запрос в виде словаря\n",
    "request = {\n",
    "  \"cookies\": {key_1: value_1, key_2: value_2, ...},\n",
    "  \"body\": \"a long time ago, in a Galaxy far, far away\",\n",
    "  \"headers\": {\"content-type\": \"application/json\", \"Accept\": \"application/json\"}   \n",
    "}\n",
    "\n",
    "# и этот словарь будет передаваться в конструктор класса\n",
    "handler = Handler(request)\n",
    "```\n",
    "\n",
    "Разным классам в приложении потребуется разная функциональность: кому-то потребуется проверять, есть ли в `headers` ключ `\"Accept\"`, кому-то потребуется читать `body`, а кому-то понадобится проверять пустоту `cookies`. Будут и классы, которым потребуется несколько возможностей сразу.\n",
    "\n",
    "Напишите классы `ParsesCookies`, `ParsesBody`, `ParsesHeaders` по условиям:\n",
    "\n",
    "- Класс `ParsesCookies` имеет метод `cookies()`, возвращающий все по ключу `cookies` из словаря `self.request`.\n",
    "- Класс `ParsesCookies` имеет метод `is_authed()`, который будет проверять, что в словаре `cookies` будет ключ `auth_key` (ни в коем случае не используйте такую авторизацию в реальных проектах).\n",
    "- Класс `ParsesBody` имеет метод `body()`, возвращающий текст по ключу `body` в `self.request`.\n",
    "- Класс `ParsesHeaders` имеет метод `headers()`, возвращающий все по ключу `headers` из словаря `self.request`.\n",
    "- Класс `ParsesHeaders` имеет метод `need_json()`, который возвращает `True`, если в `headers` по ключу `\"content-type\"` лежит значение `\"application/json\"`, иначе `False`."
   ]
  },
  {
   "cell_type": "code",
   "execution_count": 17,
   "id": "7ef8507c",
   "metadata": {
    "ExecuteTime": {
     "end_time": "2022-05-30T16:25:18.798194Z",
     "start_time": "2022-05-30T16:25:18.784240Z"
    }
   },
   "outputs": [],
   "source": [
    "class ParsesCookies:\n",
    "\n",
    "    def cookies(self):\n",
    "        return self.request['cookies']\n",
    "\n",
    "    def is_authed(self):\n",
    "        return 'auth_key' in self.request['cookies']\n",
    "\n",
    "\n",
    "class ParsesBody:\n",
    "\n",
    "    def body(self):\n",
    "        return self.request['body']\n",
    "\n",
    "\n",
    "class ParsesHeaders:\n",
    "\n",
    "    def headers(self):\n",
    "        return self.request['headers']\n",
    "\n",
    "    def need_json(self):\n",
    "        return self.request.get('headers').get('content-type') == 'application/json'"
   ]
  },
  {
   "cell_type": "markdown",
   "id": "d5b1ae28",
   "metadata": {},
   "source": [
    "### Множественное наследование (2/3)\n",
    "Используя миксины из прошлого пункта, напишите класс `JsonHandler`, который будет наследоваться от классов `ParsesBody` и `ParsesHeaders` , иметь метод `process()` и конструктор, принимающий аргумент `request` и сохраняющий в `self.request`. В этом задании нужно использовать библиотеку `json`.\n",
    "\n",
    "Метод `process()` должен работать следующим образом:\n",
    "\n",
    "Если `need_json()` дает `False`, то возвращать `None`\n",
    "Иначе получать тело через `body()`, пытаться считать его как `json.loads(...)` и возвращать число ключей в словаре. Если считать не удалось, то вернуть `None`.\n",
    "Отправьте реализацию класса `JsonHandler` в LMS. Классы `ParsesBody` и `ParsesHeaders` отправлять не нужно.\n",
    "\n",
    "Обратите внимание, что с помощью миксин функциональность проверки `headers` и получения `body` была вынесена за `JsonHandler` - наш класс сосредоточился именно на обработке.\n",
    "\n",
    "```python\n",
    "# Пример использования\n",
    "r = {'body': '{\"a\": 123, \"b\": 1234}',\n",
    "     'headers': {'content-type': 'application/json'}\n",
    "    }\n",
    "print(JsonHandler(r).process())\n",
    "```"
   ]
  },
  {
   "cell_type": "code",
   "execution_count": 18,
   "id": "bd302c70",
   "metadata": {
    "ExecuteTime": {
     "end_time": "2022-05-30T16:25:18.813133Z",
     "start_time": "2022-05-30T16:25:18.799172Z"
    }
   },
   "outputs": [],
   "source": [
    "import json\n",
    "\n",
    "\n",
    "class JsonHandler(ParsesBody, ParsesHeaders):\n",
    "\n",
    "    def __init__(self, request):\n",
    "        self.request = request\n",
    "\n",
    "    def process(self):\n",
    "        if super().need_json():\n",
    "            try:\n",
    "                return len(json.loads(super().body()))\n",
    "            except json.decoder.JSONDecodeError:\n",
    "                return None\n",
    "        return None"
   ]
  },
  {
   "cell_type": "markdown",
   "id": "56135c64",
   "metadata": {},
   "source": [
    "### Множественное наследование (3/3)\n",
    "Используя миксины из прошлого пункта, напишите класс `SecureTextHandler`, который будет наследоваться от классов `ParsesBody`, `ParsesHeaders` и `ParsesCookies` , иметь метод `process()` и конструктор, принимающий один аргумент и сохраняющий его в нужное поле класса.\n",
    "\n",
    "Метод `process()` должен работать следующим образом:\n",
    "\n",
    "Если `is_authed()` дает `False`, то возвращать `None`.\n",
    "Иначе получать тело через `body()` и возвращать его длину.\n",
    "Добейтесь работоспособности на примере и реализацию класса `SecureTextHandler` отправьте в LMS. Классы `ParsesBody` и `ParsesHeaders`, `ParsesCookie` отправлять не нужно.\n",
    "\n",
    "```python\n",
    "# Примеры\n",
    "r = {'cookies': {'auth_key': '123'},\n",
    "     'body': 'hello'\n",
    "    }\n",
    "print(SecureTextHandler(r).process())\n",
    "# 5\n",
    "\n",
    "r = {'cookies': {},\n",
    "     'body': 'hello'\n",
    "    }\n",
    "print(SecureTextHandler(r).process())\n",
    "# None\n",
    "```\n"
   ]
  },
  {
   "cell_type": "code",
   "execution_count": 19,
   "id": "d5e213f6",
   "metadata": {
    "ExecuteTime": {
     "end_time": "2022-05-30T16:25:18.828114Z",
     "start_time": "2022-05-30T16:25:18.814131Z"
    }
   },
   "outputs": [],
   "source": [
    "class SecureTextHandler(ParsesBody, ParsesHeaders, ParsesCookies):\n",
    "    \n",
    "    def __init__(self, request):\n",
    "        self.request = request\n",
    "        \n",
    "    def process(self):\n",
    "        if super().is_authed():\n",
    "            return len(super().body())\n",
    "        return None"
   ]
  }
 ],
 "metadata": {
  "kernelspec": {
   "display_name": "Python 3 (ipykernel)",
   "language": "python",
   "name": "python3"
  },
  "language_info": {
   "codemirror_mode": {
    "name": "ipython",
    "version": 3
   },
   "file_extension": ".py",
   "mimetype": "text/x-python",
   "name": "python",
   "nbconvert_exporter": "python",
   "pygments_lexer": "ipython3",
   "version": "3.9.7"
  },
  "varInspector": {
   "cols": {
    "lenName": 16,
    "lenType": 16,
    "lenVar": 40
   },
   "kernels_config": {
    "python": {
     "delete_cmd_postfix": "",
     "delete_cmd_prefix": "del ",
     "library": "var_list.py",
     "varRefreshCmd": "print(var_dic_list())"
    },
    "r": {
     "delete_cmd_postfix": ") ",
     "delete_cmd_prefix": "rm(",
     "library": "var_list.r",
     "varRefreshCmd": "cat(var_dic_list()) "
    }
   },
   "types_to_exclude": [
    "module",
    "function",
    "builtin_function_or_method",
    "instance",
    "_Feature"
   ],
   "window_display": false
  }
 },
 "nbformat": 4,
 "nbformat_minor": 5
}
