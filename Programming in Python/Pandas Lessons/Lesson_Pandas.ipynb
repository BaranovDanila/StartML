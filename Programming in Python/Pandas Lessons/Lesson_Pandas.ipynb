{
 "cells": [
  {
   "cell_type": "markdown",
   "id": "7f9041a5",
   "metadata": {},
   "source": [
    "### Pandas - HW Lesson 5 Start ML\n",
    "#### Рассматриваются данные об американских закусочных "
   ]
  },
  {
   "cell_type": "markdown",
   "id": "0ed1dab5",
   "metadata": {},
   "source": [
    "Обновляем `Pandas`, делаем импорт. "
   ]
  },
  {
   "cell_type": "code",
   "execution_count": 1,
   "id": "b1d77390",
   "metadata": {
    "ExecuteTime": {
     "end_time": "2022-05-24T18:54:02.752643Z",
     "start_time": "2022-05-24T18:53:59.859626Z"
    },
    "scrolled": true
   },
   "outputs": [
    {
     "name": "stdout",
     "output_type": "stream",
     "text": [
      "Requirement already satisfied: pandas in c:\\users\\barad\\anaconda3\\lib\\site-packages (1.4.2)\n",
      "Requirement already satisfied: pytz>=2020.1 in c:\\users\\barad\\anaconda3\\lib\\site-packages (from pandas) (2021.3)\n",
      "Requirement already satisfied: python-dateutil>=2.8.1 in c:\\users\\barad\\anaconda3\\lib\\site-packages (from pandas) (2.8.2)\n",
      "Requirement already satisfied: numpy>=1.18.5 in c:\\users\\barad\\anaconda3\\lib\\site-packages (from pandas) (1.20.3)\n",
      "Requirement already satisfied: six>=1.5 in c:\\users\\barad\\anaconda3\\lib\\site-packages (from python-dateutil>=2.8.1->pandas) (1.16.0)\n"
     ]
    }
   ],
   "source": [
    "!pip install pandas -U\n",
    "import pandas as pd"
   ]
  },
  {
   "cell_type": "markdown",
   "id": "f75cee2d",
   "metadata": {},
   "source": [
    "Читаем данные, смотрим на превые 5 записей."
   ]
  },
  {
   "cell_type": "code",
   "execution_count": 2,
   "id": "138dfa3b",
   "metadata": {
    "ExecuteTime": {
     "end_time": "2022-05-24T18:54:03.103565Z",
     "start_time": "2022-05-24T18:54:02.752643Z"
    }
   },
   "outputs": [
    {
     "data": {
      "text/html": [
       "<div>\n",
       "<style scoped>\n",
       "    .dataframe tbody tr th:only-of-type {\n",
       "        vertical-align: middle;\n",
       "    }\n",
       "\n",
       "    .dataframe tbody tr th {\n",
       "        vertical-align: top;\n",
       "    }\n",
       "\n",
       "    .dataframe thead th {\n",
       "        text-align: right;\n",
       "    }\n",
       "</style>\n",
       "<table border=\"1\" class=\"dataframe\">\n",
       "  <thead>\n",
       "    <tr style=\"text-align: right;\">\n",
       "      <th></th>\n",
       "      <th>id</th>\n",
       "      <th>address</th>\n",
       "      <th>categories</th>\n",
       "      <th>city</th>\n",
       "      <th>cuisines</th>\n",
       "      <th>dateAdded</th>\n",
       "      <th>dateUpdated</th>\n",
       "      <th>latitude</th>\n",
       "      <th>longitude</th>\n",
       "      <th>menus.category</th>\n",
       "      <th>menus.currency</th>\n",
       "      <th>menus.dateSeen</th>\n",
       "      <th>menus.description</th>\n",
       "      <th>menus.name</th>\n",
       "      <th>name</th>\n",
       "      <th>province</th>\n",
       "    </tr>\n",
       "  </thead>\n",
       "  <tbody>\n",
       "    <tr>\n",
       "      <th>0</th>\n",
       "      <td>AVwc__cikufWRAb51QjV</td>\n",
       "      <td>610 Commercial St</td>\n",
       "      <td>Restaurant Delivery Service,Restaurants,Pizza,...</td>\n",
       "      <td>Atchison</td>\n",
       "      <td>Restaurant Delivery Service</td>\n",
       "      <td>2016-03-02T11:49:34Z</td>\n",
       "      <td>2017-02-01T18:04:44Z</td>\n",
       "      <td>39.561570</td>\n",
       "      <td>-95.121020</td>\n",
       "      <td>NaN</td>\n",
       "      <td>NaN</td>\n",
       "      <td>2017-02-01T18:04:44Z</td>\n",
       "      <td>NaN</td>\n",
       "      <td>Taco</td>\n",
       "      <td>Gambino's Pizza</td>\n",
       "      <td>KS</td>\n",
       "    </tr>\n",
       "    <tr>\n",
       "      <th>1</th>\n",
       "      <td>AVwc__cikufWRAb51QjV</td>\n",
       "      <td>610 Commercial St</td>\n",
       "      <td>Restaurant Delivery Service,Restaurants,Pizza,...</td>\n",
       "      <td>Atchison</td>\n",
       "      <td>Restaurant Delivery Service</td>\n",
       "      <td>2016-03-02T11:49:34Z</td>\n",
       "      <td>2017-02-01T18:04:44Z</td>\n",
       "      <td>39.561570</td>\n",
       "      <td>-95.121020</td>\n",
       "      <td>NaN</td>\n",
       "      <td>NaN</td>\n",
       "      <td>2016-03-02T11:49:34Z</td>\n",
       "      <td>Beef, onion, cheddar cheese, lettuce,  refried...</td>\n",
       "      <td>Taco</td>\n",
       "      <td>Gambino's Pizza</td>\n",
       "      <td>KS</td>\n",
       "    </tr>\n",
       "    <tr>\n",
       "      <th>2</th>\n",
       "      <td>AVwc__dF_7pvs4fz1Ncy</td>\n",
       "      <td>9521 Morton Davis Dr</td>\n",
       "      <td>Golf Course, American Restaurant, and Resort</td>\n",
       "      <td>Patterson</td>\n",
       "      <td>NaN</td>\n",
       "      <td>2016-10-14T01:58:25Z</td>\n",
       "      <td>2016-10-14T01:58:25Z</td>\n",
       "      <td>37.401855</td>\n",
       "      <td>-121.266703</td>\n",
       "      <td>NaN</td>\n",
       "      <td>NaN</td>\n",
       "      <td>2016-10-14T01:58:25Z</td>\n",
       "      <td>Beef barbacoa or chicken, spanish rice, pico d...</td>\n",
       "      <td>Smotherd Burrito</td>\n",
       "      <td>Diablo Grande Golf &amp; Country Club</td>\n",
       "      <td>Grayson</td>\n",
       "    </tr>\n",
       "    <tr>\n",
       "      <th>3</th>\n",
       "      <td>AVwc__kCByjofQCxkdm-</td>\n",
       "      <td>10550 W I 25 Frontage Rd</td>\n",
       "      <td>Fast Food Restaurant</td>\n",
       "      <td>Longmont</td>\n",
       "      <td>NaN</td>\n",
       "      <td>2016-09-09T17:30:34Z</td>\n",
       "      <td>2016-10-04T05:15:17Z</td>\n",
       "      <td>NaN</td>\n",
       "      <td>NaN</td>\n",
       "      <td>NaN</td>\n",
       "      <td>NaN</td>\n",
       "      <td>2016-09-09T17:30:34Z</td>\n",
       "      <td>NaN</td>\n",
       "      <td>Sausage Burrito</td>\n",
       "      <td>Mcdonald's</td>\n",
       "      <td>Niwot</td>\n",
       "    </tr>\n",
       "    <tr>\n",
       "      <th>4</th>\n",
       "      <td>AVwc__WtByjofQCxkdkR</td>\n",
       "      <td>8495 W 3rd St</td>\n",
       "      <td>Mexican Restaurant Mid-City West,Mexican Resta...</td>\n",
       "      <td>Los Angeles</td>\n",
       "      <td>Mexican</td>\n",
       "      <td>2016-05-19T11:50:25Z</td>\n",
       "      <td>2016-09-11T00:06:37Z</td>\n",
       "      <td>34.080724</td>\n",
       "      <td>-118.389578</td>\n",
       "      <td>NaN</td>\n",
       "      <td>NaN</td>\n",
       "      <td>2016-05-19T11:50:25Z</td>\n",
       "      <td>Wahoo, avocado, cabbage, pico de gallo  and av...</td>\n",
       "      <td>Wahoo Tacogrilled</td>\n",
       "      <td>Baja Fresh Mexican Grill</td>\n",
       "      <td>Bicentennial</td>\n",
       "    </tr>\n",
       "  </tbody>\n",
       "</table>\n",
       "</div>"
      ],
      "text/plain": [
       "                     id                   address  \\\n",
       "0  AVwc__cikufWRAb51QjV         610 Commercial St   \n",
       "1  AVwc__cikufWRAb51QjV         610 Commercial St   \n",
       "2  AVwc__dF_7pvs4fz1Ncy      9521 Morton Davis Dr   \n",
       "3  AVwc__kCByjofQCxkdm-  10550 W I 25 Frontage Rd   \n",
       "4  AVwc__WtByjofQCxkdkR             8495 W 3rd St   \n",
       "\n",
       "                                          categories         city  \\\n",
       "0  Restaurant Delivery Service,Restaurants,Pizza,...     Atchison   \n",
       "1  Restaurant Delivery Service,Restaurants,Pizza,...     Atchison   \n",
       "2       Golf Course, American Restaurant, and Resort    Patterson   \n",
       "3                               Fast Food Restaurant     Longmont   \n",
       "4  Mexican Restaurant Mid-City West,Mexican Resta...  Los Angeles   \n",
       "\n",
       "                      cuisines             dateAdded           dateUpdated  \\\n",
       "0  Restaurant Delivery Service  2016-03-02T11:49:34Z  2017-02-01T18:04:44Z   \n",
       "1  Restaurant Delivery Service  2016-03-02T11:49:34Z  2017-02-01T18:04:44Z   \n",
       "2                          NaN  2016-10-14T01:58:25Z  2016-10-14T01:58:25Z   \n",
       "3                          NaN  2016-09-09T17:30:34Z  2016-10-04T05:15:17Z   \n",
       "4                      Mexican  2016-05-19T11:50:25Z  2016-09-11T00:06:37Z   \n",
       "\n",
       "    latitude   longitude menus.category menus.currency        menus.dateSeen  \\\n",
       "0  39.561570  -95.121020            NaN            NaN  2017-02-01T18:04:44Z   \n",
       "1  39.561570  -95.121020            NaN            NaN  2016-03-02T11:49:34Z   \n",
       "2  37.401855 -121.266703            NaN            NaN  2016-10-14T01:58:25Z   \n",
       "3        NaN         NaN            NaN            NaN  2016-09-09T17:30:34Z   \n",
       "4  34.080724 -118.389578            NaN            NaN  2016-05-19T11:50:25Z   \n",
       "\n",
       "                                   menus.description         menus.name  \\\n",
       "0                                                NaN               Taco   \n",
       "1  Beef, onion, cheddar cheese, lettuce,  refried...               Taco   \n",
       "2  Beef barbacoa or chicken, spanish rice, pico d...   Smotherd Burrito   \n",
       "3                                                NaN    Sausage Burrito   \n",
       "4  Wahoo, avocado, cabbage, pico de gallo  and av...  Wahoo Tacogrilled   \n",
       "\n",
       "                                name      province  \n",
       "0                    Gambino's Pizza            KS  \n",
       "1                    Gambino's Pizza            KS  \n",
       "2  Diablo Grande Golf & Country Club       Grayson  \n",
       "3                         Mcdonald's         Niwot  \n",
       "4           Baja Fresh Mexican Grill  Bicentennial  "
      ]
     },
     "execution_count": 2,
     "metadata": {},
     "output_type": "execute_result"
    }
   ],
   "source": [
    "df = pd.read_csv('data.csv')\n",
    "df.head()"
   ]
  },
  {
   "cell_type": "markdown",
   "id": "3bf8aa37",
   "metadata": {},
   "source": [
    "**Описание данных:**\n",
    "\n",
    "`id` - уникальный идентификатор заведения.\n",
    "\n",
    "`address` - физический адрес заведения.\n",
    "\n",
    "`categories` - категории заведения (например, \"Fast food restaurant\").\n",
    "\n",
    "`city` - город, в котором заведение находится.\n",
    "\n",
    "`cuisines` - кухни, которые практикуются в заведении. Например \"Mexican\".\n",
    "\n",
    "`dateAdded` - дата добавления записи. Будем считать, что она совпадает с датой открытия заведения.\n",
    "\n",
    "`dateUpdated` - дата обновления информации о заведении.\n",
    "\n",
    "`latitude` - географическая широта.\n",
    "\n",
    "`longitude` - географическая долгота.\n",
    "\n",
    "`menus.category` - категории пищи в меню.\n",
    "\n",
    "`menus.currency` - валюта, в которой принимают оплату.\n",
    "\n",
    "`menus.dateSeen` - дата, когда было заведено это меню.\n",
    "\n",
    "`menus.description` - описание меню от заведения.\n",
    "\n",
    "`menus.name` - название меню.\n",
    "\n",
    "`name` - название заведения.\n",
    "\n",
    "`province` - область (штат), где находится заведение."
   ]
  },
  {
   "cell_type": "markdown",
   "id": "5e15eb14",
   "metadata": {},
   "source": [
    "Посмотрим на то к каким типам относятся поля DF, расперделение данных, общую информацию об DF."
   ]
  },
  {
   "cell_type": "code",
   "execution_count": 3,
   "id": "21b9b5d0",
   "metadata": {
    "ExecuteTime": {
     "end_time": "2022-05-24T18:54:03.119523Z",
     "start_time": "2022-05-24T18:54:03.104562Z"
    }
   },
   "outputs": [
    {
     "data": {
      "text/plain": [
       "(77260, 16)"
      ]
     },
     "execution_count": 3,
     "metadata": {},
     "output_type": "execute_result"
    }
   ],
   "source": [
    "df.shape"
   ]
  },
  {
   "cell_type": "code",
   "execution_count": 4,
   "id": "f03c3144",
   "metadata": {
    "ExecuteTime": {
     "end_time": "2022-05-24T18:54:03.134483Z",
     "start_time": "2022-05-24T18:54:03.125508Z"
    },
    "scrolled": true
   },
   "outputs": [
    {
     "data": {
      "text/plain": [
       "id                    object\n",
       "address               object\n",
       "categories            object\n",
       "city                  object\n",
       "cuisines              object\n",
       "dateAdded             object\n",
       "dateUpdated           object\n",
       "latitude             float64\n",
       "longitude            float64\n",
       "menus.category        object\n",
       "menus.currency        object\n",
       "menus.dateSeen        object\n",
       "menus.description     object\n",
       "menus.name            object\n",
       "name                  object\n",
       "province              object\n",
       "dtype: object"
      ]
     },
     "execution_count": 4,
     "metadata": {},
     "output_type": "execute_result"
    }
   ],
   "source": [
    "df.dtypes"
   ]
  },
  {
   "cell_type": "code",
   "execution_count": 5,
   "id": "3674a64d",
   "metadata": {
    "ExecuteTime": {
     "end_time": "2022-05-24T18:54:03.165400Z",
     "start_time": "2022-05-24T18:54:03.135480Z"
    },
    "scrolled": true
   },
   "outputs": [
    {
     "data": {
      "text/html": [
       "<div>\n",
       "<style scoped>\n",
       "    .dataframe tbody tr th:only-of-type {\n",
       "        vertical-align: middle;\n",
       "    }\n",
       "\n",
       "    .dataframe tbody tr th {\n",
       "        vertical-align: top;\n",
       "    }\n",
       "\n",
       "    .dataframe thead th {\n",
       "        text-align: right;\n",
       "    }\n",
       "</style>\n",
       "<table border=\"1\" class=\"dataframe\">\n",
       "  <thead>\n",
       "    <tr style=\"text-align: right;\">\n",
       "      <th></th>\n",
       "      <th>latitude</th>\n",
       "      <th>longitude</th>\n",
       "    </tr>\n",
       "  </thead>\n",
       "  <tbody>\n",
       "    <tr>\n",
       "      <th>count</th>\n",
       "      <td>55636.000000</td>\n",
       "      <td>55636.000000</td>\n",
       "    </tr>\n",
       "    <tr>\n",
       "      <th>mean</th>\n",
       "      <td>36.694846</td>\n",
       "      <td>-98.713309</td>\n",
       "    </tr>\n",
       "    <tr>\n",
       "      <th>std</th>\n",
       "      <td>4.835124</td>\n",
       "      <td>18.245857</td>\n",
       "    </tr>\n",
       "    <tr>\n",
       "      <th>min</th>\n",
       "      <td>-31.986438</td>\n",
       "      <td>-159.492690</td>\n",
       "    </tr>\n",
       "    <tr>\n",
       "      <th>25%</th>\n",
       "      <td>33.668355</td>\n",
       "      <td>-117.647150</td>\n",
       "    </tr>\n",
       "    <tr>\n",
       "      <th>50%</th>\n",
       "      <td>36.047195</td>\n",
       "      <td>-96.682320</td>\n",
       "    </tr>\n",
       "    <tr>\n",
       "      <th>75%</th>\n",
       "      <td>40.588380</td>\n",
       "      <td>-82.679930</td>\n",
       "    </tr>\n",
       "    <tr>\n",
       "      <th>max</th>\n",
       "      <td>61.219460</td>\n",
       "      <td>115.903696</td>\n",
       "    </tr>\n",
       "  </tbody>\n",
       "</table>\n",
       "</div>"
      ],
      "text/plain": [
       "           latitude     longitude\n",
       "count  55636.000000  55636.000000\n",
       "mean      36.694846    -98.713309\n",
       "std        4.835124     18.245857\n",
       "min      -31.986438   -159.492690\n",
       "25%       33.668355   -117.647150\n",
       "50%       36.047195    -96.682320\n",
       "75%       40.588380    -82.679930\n",
       "max       61.219460    115.903696"
      ]
     },
     "execution_count": 5,
     "metadata": {},
     "output_type": "execute_result"
    }
   ],
   "source": [
    "df.describe()"
   ]
  },
  {
   "cell_type": "code",
   "execution_count": 6,
   "id": "f5576183",
   "metadata": {
    "ExecuteTime": {
     "end_time": "2022-05-24T18:54:03.303032Z",
     "start_time": "2022-05-24T18:54:03.167395Z"
    }
   },
   "outputs": [
    {
     "name": "stdout",
     "output_type": "stream",
     "text": [
      "<class 'pandas.core.frame.DataFrame'>\n",
      "RangeIndex: 77260 entries, 0 to 77259\n",
      "Data columns (total 16 columns):\n",
      " #   Column             Non-Null Count  Dtype  \n",
      "---  ------             --------------  -----  \n",
      " 0   id                 77260 non-null  object \n",
      " 1   address            77260 non-null  object \n",
      " 2   categories         77260 non-null  object \n",
      " 3   city               77260 non-null  object \n",
      " 4   cuisines           38384 non-null  object \n",
      " 5   dateAdded          77260 non-null  object \n",
      " 6   dateUpdated        77260 non-null  object \n",
      " 7   latitude           55636 non-null  float64\n",
      " 8   longitude          55636 non-null  float64\n",
      " 9   menus.category     3729 non-null   object \n",
      " 10  menus.currency     40511 non-null  object \n",
      " 11  menus.dateSeen     77260 non-null  object \n",
      " 12  menus.description  29323 non-null  object \n",
      " 13  menus.name         77260 non-null  object \n",
      " 14  name               77257 non-null  object \n",
      " 15  province           77257 non-null  object \n",
      "dtypes: float64(2), object(14)\n",
      "memory usage: 9.4+ MB\n"
     ]
    }
   ],
   "source": [
    "df.info()"
   ]
  },
  {
   "cell_type": "markdown",
   "id": "f4e42b55",
   "metadata": {},
   "source": [
    "#### Перечислите первые три значения колонки `dateAdded` через запятую и пробел в том порядке, в котором они были выведены."
   ]
  },
  {
   "cell_type": "code",
   "execution_count": 7,
   "id": "e7efbea4",
   "metadata": {
    "ExecuteTime": {
     "end_time": "2022-05-24T18:54:03.318357Z",
     "start_time": "2022-05-24T18:54:03.304029Z"
    }
   },
   "outputs": [
    {
     "name": "stdout",
     "output_type": "stream",
     "text": [
      "2016-03-02T11:49:34Z, 2016-03-02T11:49:34Z, 2016-10-14T01:58:25Z\n"
     ]
    }
   ],
   "source": [
    "print(f'{df.dateAdded[0]}, {df.dateAdded[1]}, {df.dateAdded[2]}')"
   ]
  },
  {
   "cell_type": "markdown",
   "id": "8e63ca32",
   "metadata": {},
   "source": [
    "#### Давайте посмотрим, какой тип имеют колонки `city` и `latitude`.\n",
    "\n",
    "Введите через пробел названия типов."
   ]
  },
  {
   "cell_type": "code",
   "execution_count": 8,
   "id": "02c5f86d",
   "metadata": {
    "ExecuteTime": {
     "end_time": "2022-05-24T18:54:03.334312Z",
     "start_time": "2022-05-24T18:54:03.319339Z"
    }
   },
   "outputs": [
    {
     "data": {
      "text/plain": [
       "city         object\n",
       "latitude    float64\n",
       "dtype: object"
      ]
     },
     "execution_count": 8,
     "metadata": {},
     "output_type": "execute_result"
    }
   ],
   "source": [
    "df[['city', 'latitude']].dtypes"
   ]
  },
  {
   "cell_type": "code",
   "execution_count": 9,
   "id": "c9cd10bd",
   "metadata": {
    "ExecuteTime": {
     "end_time": "2022-05-24T18:54:03.349259Z",
     "start_time": "2022-05-24T18:54:03.336293Z"
    }
   },
   "outputs": [
    {
     "name": "stdout",
     "output_type": "stream",
     "text": [
      "object, float64\n"
     ]
    }
   ],
   "source": [
    "print(f'{df[\"city\"].dtype}, {df[\"latitude\"].dtype}')"
   ]
  },
  {
   "cell_type": "markdown",
   "id": "355f9247",
   "metadata": {},
   "source": [
    "#### Какие средние значения в тех колонках, которые вывел `describe` в предыдущем задании?\n",
    "\n",
    "Укажите их через пробел, округлив до двух знаков после запятой. Используйте точку в качестве десятичного разделителя."
   ]
  },
  {
   "cell_type": "code",
   "execution_count": 10,
   "id": "390eeb17",
   "metadata": {
    "ExecuteTime": {
     "end_time": "2022-05-24T18:54:03.364245Z",
     "start_time": "2022-05-24T18:54:03.351253Z"
    }
   },
   "outputs": [
    {
     "data": {
      "text/plain": [
       "latitude     36.69\n",
       "longitude   -98.71\n",
       "Name: mean, dtype: float64"
      ]
     },
     "execution_count": 10,
     "metadata": {},
     "output_type": "execute_result"
    }
   ],
   "source": [
    "df.describe().loc['mean'].round(2)"
   ]
  },
  {
   "cell_type": "markdown",
   "id": "3ef3e3df",
   "metadata": {},
   "source": [
    "#### Сейчас в данных присутствуют пропущенные значения. Давайте их удалим.\n",
    "\n",
    "Примените метод dropna.  Сколько осталось записей?"
   ]
  },
  {
   "cell_type": "code",
   "execution_count": 11,
   "id": "7002f378",
   "metadata": {
    "ExecuteTime": {
     "end_time": "2022-05-24T18:54:03.486920Z",
     "start_time": "2022-05-24T18:54:03.365217Z"
    }
   },
   "outputs": [
    {
     "name": "stdout",
     "output_type": "stream",
     "text": [
      "После удаления пропусков осталось 1925 записей.\n"
     ]
    }
   ],
   "source": [
    "print(f'После удаления пропусков осталось {df.dropna().shape[0]} записей.')"
   ]
  },
  {
   "cell_type": "code",
   "execution_count": 12,
   "id": "c911c713",
   "metadata": {
    "ExecuteTime": {
     "end_time": "2022-05-24T18:54:03.624429Z",
     "start_time": "2022-05-24T18:54:03.487888Z"
    }
   },
   "outputs": [
    {
     "data": {
      "text/plain": [
       "id                       0\n",
       "address                  0\n",
       "categories               0\n",
       "city                     0\n",
       "cuisines             38876\n",
       "dateAdded                0\n",
       "dateUpdated              0\n",
       "latitude             21624\n",
       "longitude            21624\n",
       "menus.category       73531\n",
       "menus.currency       36749\n",
       "menus.dateSeen           0\n",
       "menus.description    47937\n",
       "menus.name               0\n",
       "name                     3\n",
       "province                 3\n",
       "dtype: int64"
      ]
     },
     "execution_count": 12,
     "metadata": {},
     "output_type": "execute_result"
    }
   ],
   "source": [
    "df.isna().sum()"
   ]
  },
  {
   "cell_type": "markdown",
   "id": "e89cc709",
   "metadata": {},
   "source": [
    "Исходный DF не изменился, результат удаления не был присвоен, пропуски в данных **сохранены**."
   ]
  },
  {
   "cell_type": "markdown",
   "id": "830af95c",
   "metadata": {},
   "source": [
    "#### Отберите заведения, которые находятся в городе Калифорния (`California`), штат Миссури.  \n",
    "Укажите индексы, под которыми полученные заведения расположены в датафрейме, через запятую и пробел в порядке возрастания. \n"
   ]
  },
  {
   "cell_type": "code",
   "execution_count": 13,
   "id": "d05e23da",
   "metadata": {
    "ExecuteTime": {
     "end_time": "2022-05-24T18:54:03.655968Z",
     "start_time": "2022-05-24T18:54:03.624429Z"
    }
   },
   "outputs": [
    {
     "data": {
      "text/html": [
       "<div>\n",
       "<style scoped>\n",
       "    .dataframe tbody tr th:only-of-type {\n",
       "        vertical-align: middle;\n",
       "    }\n",
       "\n",
       "    .dataframe tbody tr th {\n",
       "        vertical-align: top;\n",
       "    }\n",
       "\n",
       "    .dataframe thead th {\n",
       "        text-align: right;\n",
       "    }\n",
       "</style>\n",
       "<table border=\"1\" class=\"dataframe\">\n",
       "  <thead>\n",
       "    <tr style=\"text-align: right;\">\n",
       "      <th></th>\n",
       "      <th>id</th>\n",
       "      <th>address</th>\n",
       "      <th>categories</th>\n",
       "      <th>city</th>\n",
       "      <th>cuisines</th>\n",
       "      <th>dateAdded</th>\n",
       "      <th>dateUpdated</th>\n",
       "      <th>latitude</th>\n",
       "      <th>longitude</th>\n",
       "      <th>menus.category</th>\n",
       "      <th>menus.currency</th>\n",
       "      <th>menus.dateSeen</th>\n",
       "      <th>menus.description</th>\n",
       "      <th>menus.name</th>\n",
       "      <th>name</th>\n",
       "      <th>province</th>\n",
       "    </tr>\n",
       "  </thead>\n",
       "  <tbody>\n",
       "    <tr>\n",
       "      <th>40483</th>\n",
       "      <td>AVwdBeyk_7pvs4fz1cwP</td>\n",
       "      <td>308 S Oak St</td>\n",
       "      <td>Gas Station,Convenience Stores,Grocery Stores,...</td>\n",
       "      <td>California</td>\n",
       "      <td>Pizza</td>\n",
       "      <td>2016-04-02T05:28:33Z</td>\n",
       "      <td>2016-09-14T02:53:47Z</td>\n",
       "      <td>38.630528</td>\n",
       "      <td>-92.566433</td>\n",
       "      <td>NaN</td>\n",
       "      <td>USD</td>\n",
       "      <td>2016-04-02T05:28:33Z,2016-09-14T02:53:47Z</td>\n",
       "      <td>NaN</td>\n",
       "      <td>Breakfast Burrito</td>\n",
       "      <td>Casey's General Store</td>\n",
       "      <td>MO</td>\n",
       "    </tr>\n",
       "    <tr>\n",
       "      <th>52930</th>\n",
       "      <td>AVwdKTFqIN2L1WUfs1SP</td>\n",
       "      <td>1020 W Buchanan St</td>\n",
       "      <td>Fast Food Restaurant and Mexican Restaurant,Me...</td>\n",
       "      <td>California</td>\n",
       "      <td>NaN</td>\n",
       "      <td>2015-12-02T19:29:16Z</td>\n",
       "      <td>2016-05-05T00:56:00Z</td>\n",
       "      <td>38.631220</td>\n",
       "      <td>-92.580769</td>\n",
       "      <td>NaN</td>\n",
       "      <td>NaN</td>\n",
       "      <td>2016-04-02T05:28:11Z</td>\n",
       "      <td>A crunchy, red corn tortilla shell, filled wit...</td>\n",
       "      <td>Volcano Taco</td>\n",
       "      <td>Taco Bell</td>\n",
       "      <td>MO</td>\n",
       "    </tr>\n",
       "    <tr>\n",
       "      <th>52931</th>\n",
       "      <td>AVwdKTFqIN2L1WUfs1SP</td>\n",
       "      <td>1020 W Buchanan St</td>\n",
       "      <td>Fast Food Restaurant and Mexican Restaurant,Me...</td>\n",
       "      <td>California</td>\n",
       "      <td>NaN</td>\n",
       "      <td>2015-12-02T19:29:16Z</td>\n",
       "      <td>2016-05-05T00:56:00Z</td>\n",
       "      <td>38.631220</td>\n",
       "      <td>-92.580769</td>\n",
       "      <td>NaN</td>\n",
       "      <td>NaN</td>\n",
       "      <td>2016-04-02T05:28:11Z</td>\n",
       "      <td>NaN</td>\n",
       "      <td>Volcano Burrito</td>\n",
       "      <td>Taco Bell</td>\n",
       "      <td>MO</td>\n",
       "    </tr>\n",
       "    <tr>\n",
       "      <th>52932</th>\n",
       "      <td>AVwdKTFqIN2L1WUfs1SP</td>\n",
       "      <td>1020 W Buchanan St</td>\n",
       "      <td>Fast Food Restaurant and Mexican Restaurant,Me...</td>\n",
       "      <td>California</td>\n",
       "      <td>NaN</td>\n",
       "      <td>2015-12-02T19:29:16Z</td>\n",
       "      <td>2016-05-05T00:56:00Z</td>\n",
       "      <td>38.631220</td>\n",
       "      <td>-92.580769</td>\n",
       "      <td>NaN</td>\n",
       "      <td>NaN</td>\n",
       "      <td>2016-04-02T05:28:11Z</td>\n",
       "      <td>NaN</td>\n",
       "      <td>Soft Taco Supreme Beef</td>\n",
       "      <td>Taco Bell</td>\n",
       "      <td>MO</td>\n",
       "    </tr>\n",
       "    <tr>\n",
       "      <th>52933</th>\n",
       "      <td>AVwdKTFqIN2L1WUfs1SP</td>\n",
       "      <td>1020 W Buchanan St</td>\n",
       "      <td>Fast Food Restaurant and Mexican Restaurant,Me...</td>\n",
       "      <td>California</td>\n",
       "      <td>NaN</td>\n",
       "      <td>2015-12-02T19:29:16Z</td>\n",
       "      <td>2016-05-05T00:56:00Z</td>\n",
       "      <td>38.631220</td>\n",
       "      <td>-92.580769</td>\n",
       "      <td>NaN</td>\n",
       "      <td>NaN</td>\n",
       "      <td>2016-04-02T05:28:11Z</td>\n",
       "      <td>NaN</td>\n",
       "      <td>Grilled Chicken Burrito</td>\n",
       "      <td>Taco Bell</td>\n",
       "      <td>MO</td>\n",
       "    </tr>\n",
       "    <tr>\n",
       "      <th>52934</th>\n",
       "      <td>AVwdKTFqIN2L1WUfs1SP</td>\n",
       "      <td>1020 W Buchanan St</td>\n",
       "      <td>Fast Food Restaurant and Mexican Restaurant,Me...</td>\n",
       "      <td>California</td>\n",
       "      <td>NaN</td>\n",
       "      <td>2015-12-02T19:29:16Z</td>\n",
       "      <td>2016-05-05T00:56:00Z</td>\n",
       "      <td>38.631220</td>\n",
       "      <td>-92.580769</td>\n",
       "      <td>NaN</td>\n",
       "      <td>NaN</td>\n",
       "      <td>2016-04-02T05:28:11Z</td>\n",
       "      <td>A warm, soft flour tortilla filled with authen...</td>\n",
       "      <td>Fresco Grilled Steak Soft Taco</td>\n",
       "      <td>Taco Bell</td>\n",
       "      <td>MO</td>\n",
       "    </tr>\n",
       "    <tr>\n",
       "      <th>52935</th>\n",
       "      <td>AVwdKTFqIN2L1WUfs1SP</td>\n",
       "      <td>1020 W Buchanan St</td>\n",
       "      <td>Fast Food Restaurant and Mexican Restaurant,Me...</td>\n",
       "      <td>California</td>\n",
       "      <td>NaN</td>\n",
       "      <td>2015-12-02T19:29:16Z</td>\n",
       "      <td>2016-05-05T00:56:00Z</td>\n",
       "      <td>38.631220</td>\n",
       "      <td>-92.580769</td>\n",
       "      <td>NaN</td>\n",
       "      <td>NaN</td>\n",
       "      <td>2016-04-02T05:28:11Z</td>\n",
       "      <td>A crunchy, corn taco shell filled with seasone...</td>\n",
       "      <td>Fresco Crunchy Taco</td>\n",
       "      <td>Taco Bell</td>\n",
       "      <td>MO</td>\n",
       "    </tr>\n",
       "    <tr>\n",
       "      <th>52936</th>\n",
       "      <td>AVwdKTFqIN2L1WUfs1SP</td>\n",
       "      <td>1020 W Buchanan St</td>\n",
       "      <td>Fast Food Restaurant and Mexican Restaurant,Me...</td>\n",
       "      <td>California</td>\n",
       "      <td>NaN</td>\n",
       "      <td>2015-12-02T19:29:16Z</td>\n",
       "      <td>2016-05-05T00:56:00Z</td>\n",
       "      <td>38.631220</td>\n",
       "      <td>-92.580769</td>\n",
       "      <td>NaN</td>\n",
       "      <td>NaN</td>\n",
       "      <td>2016-04-02T05:28:11Z</td>\n",
       "      <td>NaN</td>\n",
       "      <td>Fresco Burrito Supreme Chicken</td>\n",
       "      <td>Taco Bell</td>\n",
       "      <td>MO</td>\n",
       "    </tr>\n",
       "    <tr>\n",
       "      <th>52937</th>\n",
       "      <td>AVwdKTFqIN2L1WUfs1SP</td>\n",
       "      <td>1020 W Buchanan St</td>\n",
       "      <td>Fast Food Restaurant and Mexican Restaurant,Me...</td>\n",
       "      <td>California</td>\n",
       "      <td>NaN</td>\n",
       "      <td>2015-12-02T19:29:16Z</td>\n",
       "      <td>2016-05-05T00:56:00Z</td>\n",
       "      <td>38.631220</td>\n",
       "      <td>-92.580769</td>\n",
       "      <td>NaN</td>\n",
       "      <td>NaN</td>\n",
       "      <td>2016-04-02T05:28:11Z</td>\n",
       "      <td>A crunchy taco made with premium seasoned beef...</td>\n",
       "      <td>Doritos Locos Tacos</td>\n",
       "      <td>Taco Bell</td>\n",
       "      <td>MO</td>\n",
       "    </tr>\n",
       "    <tr>\n",
       "      <th>52938</th>\n",
       "      <td>AVwdKTFqIN2L1WUfs1SP</td>\n",
       "      <td>1020 W Buchanan St</td>\n",
       "      <td>Fast Food Restaurant and Mexican Restaurant,Me...</td>\n",
       "      <td>California</td>\n",
       "      <td>NaN</td>\n",
       "      <td>2015-12-02T19:29:16Z</td>\n",
       "      <td>2016-05-05T00:56:00Z</td>\n",
       "      <td>38.631220</td>\n",
       "      <td>-92.580769</td>\n",
       "      <td>NaN</td>\n",
       "      <td>NaN</td>\n",
       "      <td>2016-04-02T05:28:11Z</td>\n",
       "      <td>A crunchy, corn taco shell filled with seasone...</td>\n",
       "      <td>Crunchy Taco Supreme</td>\n",
       "      <td>Taco Bell</td>\n",
       "      <td>MO</td>\n",
       "    </tr>\n",
       "    <tr>\n",
       "      <th>52939</th>\n",
       "      <td>AVwdKTFqIN2L1WUfs1SP</td>\n",
       "      <td>1020 W Buchanan St</td>\n",
       "      <td>Fast Food Restaurant and Mexican Restaurant,Me...</td>\n",
       "      <td>California</td>\n",
       "      <td>NaN</td>\n",
       "      <td>2015-12-02T19:29:16Z</td>\n",
       "      <td>2016-05-05T00:56:00Z</td>\n",
       "      <td>38.631220</td>\n",
       "      <td>-92.580769</td>\n",
       "      <td>NaN</td>\n",
       "      <td>NaN</td>\n",
       "      <td>2016-04-02T05:28:11Z</td>\n",
       "      <td>A crunchy, corn taco shell filled with seasone...</td>\n",
       "      <td>Crunchy Taco</td>\n",
       "      <td>Taco Bell</td>\n",
       "      <td>MO</td>\n",
       "    </tr>\n",
       "    <tr>\n",
       "      <th>65070</th>\n",
       "      <td>AVwdvUhykufWRAb58z0G</td>\n",
       "      <td>1002 W Buchanan St</td>\n",
       "      <td>Fast Food Restaurant</td>\n",
       "      <td>California</td>\n",
       "      <td>Take Out Restaurants</td>\n",
       "      <td>2015-11-06T10:12:53Z</td>\n",
       "      <td>2016-05-05T00:55:58Z</td>\n",
       "      <td>38.630332</td>\n",
       "      <td>-92.579018</td>\n",
       "      <td>NaN</td>\n",
       "      <td>NaN</td>\n",
       "      <td>2016-04-02T05:28:16Z,2015-11-06T10:12:53Z</td>\n",
       "      <td>Spice up your morning with peppers, onions, fl...</td>\n",
       "      <td>Sausage Burrito</td>\n",
       "      <td>Mcdonald's</td>\n",
       "      <td>MO</td>\n",
       "    </tr>\n",
       "  </tbody>\n",
       "</table>\n",
       "</div>"
      ],
      "text/plain": [
       "                         id             address  \\\n",
       "40483  AVwdBeyk_7pvs4fz1cwP        308 S Oak St   \n",
       "52930  AVwdKTFqIN2L1WUfs1SP  1020 W Buchanan St   \n",
       "52931  AVwdKTFqIN2L1WUfs1SP  1020 W Buchanan St   \n",
       "52932  AVwdKTFqIN2L1WUfs1SP  1020 W Buchanan St   \n",
       "52933  AVwdKTFqIN2L1WUfs1SP  1020 W Buchanan St   \n",
       "52934  AVwdKTFqIN2L1WUfs1SP  1020 W Buchanan St   \n",
       "52935  AVwdKTFqIN2L1WUfs1SP  1020 W Buchanan St   \n",
       "52936  AVwdKTFqIN2L1WUfs1SP  1020 W Buchanan St   \n",
       "52937  AVwdKTFqIN2L1WUfs1SP  1020 W Buchanan St   \n",
       "52938  AVwdKTFqIN2L1WUfs1SP  1020 W Buchanan St   \n",
       "52939  AVwdKTFqIN2L1WUfs1SP  1020 W Buchanan St   \n",
       "65070  AVwdvUhykufWRAb58z0G  1002 W Buchanan St   \n",
       "\n",
       "                                              categories        city  \\\n",
       "40483  Gas Station,Convenience Stores,Grocery Stores,...  California   \n",
       "52930  Fast Food Restaurant and Mexican Restaurant,Me...  California   \n",
       "52931  Fast Food Restaurant and Mexican Restaurant,Me...  California   \n",
       "52932  Fast Food Restaurant and Mexican Restaurant,Me...  California   \n",
       "52933  Fast Food Restaurant and Mexican Restaurant,Me...  California   \n",
       "52934  Fast Food Restaurant and Mexican Restaurant,Me...  California   \n",
       "52935  Fast Food Restaurant and Mexican Restaurant,Me...  California   \n",
       "52936  Fast Food Restaurant and Mexican Restaurant,Me...  California   \n",
       "52937  Fast Food Restaurant and Mexican Restaurant,Me...  California   \n",
       "52938  Fast Food Restaurant and Mexican Restaurant,Me...  California   \n",
       "52939  Fast Food Restaurant and Mexican Restaurant,Me...  California   \n",
       "65070                               Fast Food Restaurant  California   \n",
       "\n",
       "                   cuisines             dateAdded           dateUpdated  \\\n",
       "40483                 Pizza  2016-04-02T05:28:33Z  2016-09-14T02:53:47Z   \n",
       "52930                   NaN  2015-12-02T19:29:16Z  2016-05-05T00:56:00Z   \n",
       "52931                   NaN  2015-12-02T19:29:16Z  2016-05-05T00:56:00Z   \n",
       "52932                   NaN  2015-12-02T19:29:16Z  2016-05-05T00:56:00Z   \n",
       "52933                   NaN  2015-12-02T19:29:16Z  2016-05-05T00:56:00Z   \n",
       "52934                   NaN  2015-12-02T19:29:16Z  2016-05-05T00:56:00Z   \n",
       "52935                   NaN  2015-12-02T19:29:16Z  2016-05-05T00:56:00Z   \n",
       "52936                   NaN  2015-12-02T19:29:16Z  2016-05-05T00:56:00Z   \n",
       "52937                   NaN  2015-12-02T19:29:16Z  2016-05-05T00:56:00Z   \n",
       "52938                   NaN  2015-12-02T19:29:16Z  2016-05-05T00:56:00Z   \n",
       "52939                   NaN  2015-12-02T19:29:16Z  2016-05-05T00:56:00Z   \n",
       "65070  Take Out Restaurants  2015-11-06T10:12:53Z  2016-05-05T00:55:58Z   \n",
       "\n",
       "        latitude  longitude menus.category menus.currency  \\\n",
       "40483  38.630528 -92.566433            NaN            USD   \n",
       "52930  38.631220 -92.580769            NaN            NaN   \n",
       "52931  38.631220 -92.580769            NaN            NaN   \n",
       "52932  38.631220 -92.580769            NaN            NaN   \n",
       "52933  38.631220 -92.580769            NaN            NaN   \n",
       "52934  38.631220 -92.580769            NaN            NaN   \n",
       "52935  38.631220 -92.580769            NaN            NaN   \n",
       "52936  38.631220 -92.580769            NaN            NaN   \n",
       "52937  38.631220 -92.580769            NaN            NaN   \n",
       "52938  38.631220 -92.580769            NaN            NaN   \n",
       "52939  38.631220 -92.580769            NaN            NaN   \n",
       "65070  38.630332 -92.579018            NaN            NaN   \n",
       "\n",
       "                                  menus.dateSeen  \\\n",
       "40483  2016-04-02T05:28:33Z,2016-09-14T02:53:47Z   \n",
       "52930                       2016-04-02T05:28:11Z   \n",
       "52931                       2016-04-02T05:28:11Z   \n",
       "52932                       2016-04-02T05:28:11Z   \n",
       "52933                       2016-04-02T05:28:11Z   \n",
       "52934                       2016-04-02T05:28:11Z   \n",
       "52935                       2016-04-02T05:28:11Z   \n",
       "52936                       2016-04-02T05:28:11Z   \n",
       "52937                       2016-04-02T05:28:11Z   \n",
       "52938                       2016-04-02T05:28:11Z   \n",
       "52939                       2016-04-02T05:28:11Z   \n",
       "65070  2016-04-02T05:28:16Z,2015-11-06T10:12:53Z   \n",
       "\n",
       "                                       menus.description  \\\n",
       "40483                                                NaN   \n",
       "52930  A crunchy, red corn tortilla shell, filled wit...   \n",
       "52931                                                NaN   \n",
       "52932                                                NaN   \n",
       "52933                                                NaN   \n",
       "52934  A warm, soft flour tortilla filled with authen...   \n",
       "52935  A crunchy, corn taco shell filled with seasone...   \n",
       "52936                                                NaN   \n",
       "52937  A crunchy taco made with premium seasoned beef...   \n",
       "52938  A crunchy, corn taco shell filled with seasone...   \n",
       "52939  A crunchy, corn taco shell filled with seasone...   \n",
       "65070  Spice up your morning with peppers, onions, fl...   \n",
       "\n",
       "                           menus.name                   name province  \n",
       "40483               Breakfast Burrito  Casey's General Store       MO  \n",
       "52930                    Volcano Taco              Taco Bell       MO  \n",
       "52931                 Volcano Burrito              Taco Bell       MO  \n",
       "52932          Soft Taco Supreme Beef              Taco Bell       MO  \n",
       "52933         Grilled Chicken Burrito              Taco Bell       MO  \n",
       "52934  Fresco Grilled Steak Soft Taco              Taco Bell       MO  \n",
       "52935             Fresco Crunchy Taco              Taco Bell       MO  \n",
       "52936  Fresco Burrito Supreme Chicken              Taco Bell       MO  \n",
       "52937             Doritos Locos Tacos              Taco Bell       MO  \n",
       "52938            Crunchy Taco Supreme              Taco Bell       MO  \n",
       "52939                    Crunchy Taco              Taco Bell       MO  \n",
       "65070                 Sausage Burrito             Mcdonald's       MO  "
      ]
     },
     "execution_count": 13,
     "metadata": {},
     "output_type": "execute_result"
    }
   ],
   "source": [
    "df.query('city == \"California\" & province == \"MO\"')"
   ]
  },
  {
   "cell_type": "markdown",
   "id": "cecc2f17",
   "metadata": {},
   "source": [
    "Аналогичный результат, другой вариант решения:"
   ]
  },
  {
   "cell_type": "code",
   "execution_count": 14,
   "id": "754b024f",
   "metadata": {
    "ExecuteTime": {
     "end_time": "2022-05-24T18:54:03.685901Z",
     "start_time": "2022-05-24T18:54:03.656969Z"
    }
   },
   "outputs": [
    {
     "data": {
      "text/html": [
       "<div>\n",
       "<style scoped>\n",
       "    .dataframe tbody tr th:only-of-type {\n",
       "        vertical-align: middle;\n",
       "    }\n",
       "\n",
       "    .dataframe tbody tr th {\n",
       "        vertical-align: top;\n",
       "    }\n",
       "\n",
       "    .dataframe thead th {\n",
       "        text-align: right;\n",
       "    }\n",
       "</style>\n",
       "<table border=\"1\" class=\"dataframe\">\n",
       "  <thead>\n",
       "    <tr style=\"text-align: right;\">\n",
       "      <th></th>\n",
       "      <th>id</th>\n",
       "      <th>address</th>\n",
       "      <th>categories</th>\n",
       "      <th>city</th>\n",
       "      <th>cuisines</th>\n",
       "      <th>dateAdded</th>\n",
       "      <th>dateUpdated</th>\n",
       "      <th>latitude</th>\n",
       "      <th>longitude</th>\n",
       "      <th>menus.category</th>\n",
       "      <th>menus.currency</th>\n",
       "      <th>menus.dateSeen</th>\n",
       "      <th>menus.description</th>\n",
       "      <th>menus.name</th>\n",
       "      <th>name</th>\n",
       "      <th>province</th>\n",
       "    </tr>\n",
       "  </thead>\n",
       "  <tbody>\n",
       "    <tr>\n",
       "      <th>40483</th>\n",
       "      <td>AVwdBeyk_7pvs4fz1cwP</td>\n",
       "      <td>308 S Oak St</td>\n",
       "      <td>Gas Station,Convenience Stores,Grocery Stores,...</td>\n",
       "      <td>California</td>\n",
       "      <td>Pizza</td>\n",
       "      <td>2016-04-02T05:28:33Z</td>\n",
       "      <td>2016-09-14T02:53:47Z</td>\n",
       "      <td>38.630528</td>\n",
       "      <td>-92.566433</td>\n",
       "      <td>NaN</td>\n",
       "      <td>USD</td>\n",
       "      <td>2016-04-02T05:28:33Z,2016-09-14T02:53:47Z</td>\n",
       "      <td>NaN</td>\n",
       "      <td>Breakfast Burrito</td>\n",
       "      <td>Casey's General Store</td>\n",
       "      <td>MO</td>\n",
       "    </tr>\n",
       "    <tr>\n",
       "      <th>52930</th>\n",
       "      <td>AVwdKTFqIN2L1WUfs1SP</td>\n",
       "      <td>1020 W Buchanan St</td>\n",
       "      <td>Fast Food Restaurant and Mexican Restaurant,Me...</td>\n",
       "      <td>California</td>\n",
       "      <td>NaN</td>\n",
       "      <td>2015-12-02T19:29:16Z</td>\n",
       "      <td>2016-05-05T00:56:00Z</td>\n",
       "      <td>38.631220</td>\n",
       "      <td>-92.580769</td>\n",
       "      <td>NaN</td>\n",
       "      <td>NaN</td>\n",
       "      <td>2016-04-02T05:28:11Z</td>\n",
       "      <td>A crunchy, red corn tortilla shell, filled wit...</td>\n",
       "      <td>Volcano Taco</td>\n",
       "      <td>Taco Bell</td>\n",
       "      <td>MO</td>\n",
       "    </tr>\n",
       "    <tr>\n",
       "      <th>52931</th>\n",
       "      <td>AVwdKTFqIN2L1WUfs1SP</td>\n",
       "      <td>1020 W Buchanan St</td>\n",
       "      <td>Fast Food Restaurant and Mexican Restaurant,Me...</td>\n",
       "      <td>California</td>\n",
       "      <td>NaN</td>\n",
       "      <td>2015-12-02T19:29:16Z</td>\n",
       "      <td>2016-05-05T00:56:00Z</td>\n",
       "      <td>38.631220</td>\n",
       "      <td>-92.580769</td>\n",
       "      <td>NaN</td>\n",
       "      <td>NaN</td>\n",
       "      <td>2016-04-02T05:28:11Z</td>\n",
       "      <td>NaN</td>\n",
       "      <td>Volcano Burrito</td>\n",
       "      <td>Taco Bell</td>\n",
       "      <td>MO</td>\n",
       "    </tr>\n",
       "    <tr>\n",
       "      <th>52932</th>\n",
       "      <td>AVwdKTFqIN2L1WUfs1SP</td>\n",
       "      <td>1020 W Buchanan St</td>\n",
       "      <td>Fast Food Restaurant and Mexican Restaurant,Me...</td>\n",
       "      <td>California</td>\n",
       "      <td>NaN</td>\n",
       "      <td>2015-12-02T19:29:16Z</td>\n",
       "      <td>2016-05-05T00:56:00Z</td>\n",
       "      <td>38.631220</td>\n",
       "      <td>-92.580769</td>\n",
       "      <td>NaN</td>\n",
       "      <td>NaN</td>\n",
       "      <td>2016-04-02T05:28:11Z</td>\n",
       "      <td>NaN</td>\n",
       "      <td>Soft Taco Supreme Beef</td>\n",
       "      <td>Taco Bell</td>\n",
       "      <td>MO</td>\n",
       "    </tr>\n",
       "    <tr>\n",
       "      <th>52933</th>\n",
       "      <td>AVwdKTFqIN2L1WUfs1SP</td>\n",
       "      <td>1020 W Buchanan St</td>\n",
       "      <td>Fast Food Restaurant and Mexican Restaurant,Me...</td>\n",
       "      <td>California</td>\n",
       "      <td>NaN</td>\n",
       "      <td>2015-12-02T19:29:16Z</td>\n",
       "      <td>2016-05-05T00:56:00Z</td>\n",
       "      <td>38.631220</td>\n",
       "      <td>-92.580769</td>\n",
       "      <td>NaN</td>\n",
       "      <td>NaN</td>\n",
       "      <td>2016-04-02T05:28:11Z</td>\n",
       "      <td>NaN</td>\n",
       "      <td>Grilled Chicken Burrito</td>\n",
       "      <td>Taco Bell</td>\n",
       "      <td>MO</td>\n",
       "    </tr>\n",
       "    <tr>\n",
       "      <th>52934</th>\n",
       "      <td>AVwdKTFqIN2L1WUfs1SP</td>\n",
       "      <td>1020 W Buchanan St</td>\n",
       "      <td>Fast Food Restaurant and Mexican Restaurant,Me...</td>\n",
       "      <td>California</td>\n",
       "      <td>NaN</td>\n",
       "      <td>2015-12-02T19:29:16Z</td>\n",
       "      <td>2016-05-05T00:56:00Z</td>\n",
       "      <td>38.631220</td>\n",
       "      <td>-92.580769</td>\n",
       "      <td>NaN</td>\n",
       "      <td>NaN</td>\n",
       "      <td>2016-04-02T05:28:11Z</td>\n",
       "      <td>A warm, soft flour tortilla filled with authen...</td>\n",
       "      <td>Fresco Grilled Steak Soft Taco</td>\n",
       "      <td>Taco Bell</td>\n",
       "      <td>MO</td>\n",
       "    </tr>\n",
       "    <tr>\n",
       "      <th>52935</th>\n",
       "      <td>AVwdKTFqIN2L1WUfs1SP</td>\n",
       "      <td>1020 W Buchanan St</td>\n",
       "      <td>Fast Food Restaurant and Mexican Restaurant,Me...</td>\n",
       "      <td>California</td>\n",
       "      <td>NaN</td>\n",
       "      <td>2015-12-02T19:29:16Z</td>\n",
       "      <td>2016-05-05T00:56:00Z</td>\n",
       "      <td>38.631220</td>\n",
       "      <td>-92.580769</td>\n",
       "      <td>NaN</td>\n",
       "      <td>NaN</td>\n",
       "      <td>2016-04-02T05:28:11Z</td>\n",
       "      <td>A crunchy, corn taco shell filled with seasone...</td>\n",
       "      <td>Fresco Crunchy Taco</td>\n",
       "      <td>Taco Bell</td>\n",
       "      <td>MO</td>\n",
       "    </tr>\n",
       "    <tr>\n",
       "      <th>52936</th>\n",
       "      <td>AVwdKTFqIN2L1WUfs1SP</td>\n",
       "      <td>1020 W Buchanan St</td>\n",
       "      <td>Fast Food Restaurant and Mexican Restaurant,Me...</td>\n",
       "      <td>California</td>\n",
       "      <td>NaN</td>\n",
       "      <td>2015-12-02T19:29:16Z</td>\n",
       "      <td>2016-05-05T00:56:00Z</td>\n",
       "      <td>38.631220</td>\n",
       "      <td>-92.580769</td>\n",
       "      <td>NaN</td>\n",
       "      <td>NaN</td>\n",
       "      <td>2016-04-02T05:28:11Z</td>\n",
       "      <td>NaN</td>\n",
       "      <td>Fresco Burrito Supreme Chicken</td>\n",
       "      <td>Taco Bell</td>\n",
       "      <td>MO</td>\n",
       "    </tr>\n",
       "    <tr>\n",
       "      <th>52937</th>\n",
       "      <td>AVwdKTFqIN2L1WUfs1SP</td>\n",
       "      <td>1020 W Buchanan St</td>\n",
       "      <td>Fast Food Restaurant and Mexican Restaurant,Me...</td>\n",
       "      <td>California</td>\n",
       "      <td>NaN</td>\n",
       "      <td>2015-12-02T19:29:16Z</td>\n",
       "      <td>2016-05-05T00:56:00Z</td>\n",
       "      <td>38.631220</td>\n",
       "      <td>-92.580769</td>\n",
       "      <td>NaN</td>\n",
       "      <td>NaN</td>\n",
       "      <td>2016-04-02T05:28:11Z</td>\n",
       "      <td>A crunchy taco made with premium seasoned beef...</td>\n",
       "      <td>Doritos Locos Tacos</td>\n",
       "      <td>Taco Bell</td>\n",
       "      <td>MO</td>\n",
       "    </tr>\n",
       "    <tr>\n",
       "      <th>52938</th>\n",
       "      <td>AVwdKTFqIN2L1WUfs1SP</td>\n",
       "      <td>1020 W Buchanan St</td>\n",
       "      <td>Fast Food Restaurant and Mexican Restaurant,Me...</td>\n",
       "      <td>California</td>\n",
       "      <td>NaN</td>\n",
       "      <td>2015-12-02T19:29:16Z</td>\n",
       "      <td>2016-05-05T00:56:00Z</td>\n",
       "      <td>38.631220</td>\n",
       "      <td>-92.580769</td>\n",
       "      <td>NaN</td>\n",
       "      <td>NaN</td>\n",
       "      <td>2016-04-02T05:28:11Z</td>\n",
       "      <td>A crunchy, corn taco shell filled with seasone...</td>\n",
       "      <td>Crunchy Taco Supreme</td>\n",
       "      <td>Taco Bell</td>\n",
       "      <td>MO</td>\n",
       "    </tr>\n",
       "    <tr>\n",
       "      <th>52939</th>\n",
       "      <td>AVwdKTFqIN2L1WUfs1SP</td>\n",
       "      <td>1020 W Buchanan St</td>\n",
       "      <td>Fast Food Restaurant and Mexican Restaurant,Me...</td>\n",
       "      <td>California</td>\n",
       "      <td>NaN</td>\n",
       "      <td>2015-12-02T19:29:16Z</td>\n",
       "      <td>2016-05-05T00:56:00Z</td>\n",
       "      <td>38.631220</td>\n",
       "      <td>-92.580769</td>\n",
       "      <td>NaN</td>\n",
       "      <td>NaN</td>\n",
       "      <td>2016-04-02T05:28:11Z</td>\n",
       "      <td>A crunchy, corn taco shell filled with seasone...</td>\n",
       "      <td>Crunchy Taco</td>\n",
       "      <td>Taco Bell</td>\n",
       "      <td>MO</td>\n",
       "    </tr>\n",
       "    <tr>\n",
       "      <th>65070</th>\n",
       "      <td>AVwdvUhykufWRAb58z0G</td>\n",
       "      <td>1002 W Buchanan St</td>\n",
       "      <td>Fast Food Restaurant</td>\n",
       "      <td>California</td>\n",
       "      <td>Take Out Restaurants</td>\n",
       "      <td>2015-11-06T10:12:53Z</td>\n",
       "      <td>2016-05-05T00:55:58Z</td>\n",
       "      <td>38.630332</td>\n",
       "      <td>-92.579018</td>\n",
       "      <td>NaN</td>\n",
       "      <td>NaN</td>\n",
       "      <td>2016-04-02T05:28:16Z,2015-11-06T10:12:53Z</td>\n",
       "      <td>Spice up your morning with peppers, onions, fl...</td>\n",
       "      <td>Sausage Burrito</td>\n",
       "      <td>Mcdonald's</td>\n",
       "      <td>MO</td>\n",
       "    </tr>\n",
       "  </tbody>\n",
       "</table>\n",
       "</div>"
      ],
      "text/plain": [
       "                         id             address  \\\n",
       "40483  AVwdBeyk_7pvs4fz1cwP        308 S Oak St   \n",
       "52930  AVwdKTFqIN2L1WUfs1SP  1020 W Buchanan St   \n",
       "52931  AVwdKTFqIN2L1WUfs1SP  1020 W Buchanan St   \n",
       "52932  AVwdKTFqIN2L1WUfs1SP  1020 W Buchanan St   \n",
       "52933  AVwdKTFqIN2L1WUfs1SP  1020 W Buchanan St   \n",
       "52934  AVwdKTFqIN2L1WUfs1SP  1020 W Buchanan St   \n",
       "52935  AVwdKTFqIN2L1WUfs1SP  1020 W Buchanan St   \n",
       "52936  AVwdKTFqIN2L1WUfs1SP  1020 W Buchanan St   \n",
       "52937  AVwdKTFqIN2L1WUfs1SP  1020 W Buchanan St   \n",
       "52938  AVwdKTFqIN2L1WUfs1SP  1020 W Buchanan St   \n",
       "52939  AVwdKTFqIN2L1WUfs1SP  1020 W Buchanan St   \n",
       "65070  AVwdvUhykufWRAb58z0G  1002 W Buchanan St   \n",
       "\n",
       "                                              categories        city  \\\n",
       "40483  Gas Station,Convenience Stores,Grocery Stores,...  California   \n",
       "52930  Fast Food Restaurant and Mexican Restaurant,Me...  California   \n",
       "52931  Fast Food Restaurant and Mexican Restaurant,Me...  California   \n",
       "52932  Fast Food Restaurant and Mexican Restaurant,Me...  California   \n",
       "52933  Fast Food Restaurant and Mexican Restaurant,Me...  California   \n",
       "52934  Fast Food Restaurant and Mexican Restaurant,Me...  California   \n",
       "52935  Fast Food Restaurant and Mexican Restaurant,Me...  California   \n",
       "52936  Fast Food Restaurant and Mexican Restaurant,Me...  California   \n",
       "52937  Fast Food Restaurant and Mexican Restaurant,Me...  California   \n",
       "52938  Fast Food Restaurant and Mexican Restaurant,Me...  California   \n",
       "52939  Fast Food Restaurant and Mexican Restaurant,Me...  California   \n",
       "65070                               Fast Food Restaurant  California   \n",
       "\n",
       "                   cuisines             dateAdded           dateUpdated  \\\n",
       "40483                 Pizza  2016-04-02T05:28:33Z  2016-09-14T02:53:47Z   \n",
       "52930                   NaN  2015-12-02T19:29:16Z  2016-05-05T00:56:00Z   \n",
       "52931                   NaN  2015-12-02T19:29:16Z  2016-05-05T00:56:00Z   \n",
       "52932                   NaN  2015-12-02T19:29:16Z  2016-05-05T00:56:00Z   \n",
       "52933                   NaN  2015-12-02T19:29:16Z  2016-05-05T00:56:00Z   \n",
       "52934                   NaN  2015-12-02T19:29:16Z  2016-05-05T00:56:00Z   \n",
       "52935                   NaN  2015-12-02T19:29:16Z  2016-05-05T00:56:00Z   \n",
       "52936                   NaN  2015-12-02T19:29:16Z  2016-05-05T00:56:00Z   \n",
       "52937                   NaN  2015-12-02T19:29:16Z  2016-05-05T00:56:00Z   \n",
       "52938                   NaN  2015-12-02T19:29:16Z  2016-05-05T00:56:00Z   \n",
       "52939                   NaN  2015-12-02T19:29:16Z  2016-05-05T00:56:00Z   \n",
       "65070  Take Out Restaurants  2015-11-06T10:12:53Z  2016-05-05T00:55:58Z   \n",
       "\n",
       "        latitude  longitude menus.category menus.currency  \\\n",
       "40483  38.630528 -92.566433            NaN            USD   \n",
       "52930  38.631220 -92.580769            NaN            NaN   \n",
       "52931  38.631220 -92.580769            NaN            NaN   \n",
       "52932  38.631220 -92.580769            NaN            NaN   \n",
       "52933  38.631220 -92.580769            NaN            NaN   \n",
       "52934  38.631220 -92.580769            NaN            NaN   \n",
       "52935  38.631220 -92.580769            NaN            NaN   \n",
       "52936  38.631220 -92.580769            NaN            NaN   \n",
       "52937  38.631220 -92.580769            NaN            NaN   \n",
       "52938  38.631220 -92.580769            NaN            NaN   \n",
       "52939  38.631220 -92.580769            NaN            NaN   \n",
       "65070  38.630332 -92.579018            NaN            NaN   \n",
       "\n",
       "                                  menus.dateSeen  \\\n",
       "40483  2016-04-02T05:28:33Z,2016-09-14T02:53:47Z   \n",
       "52930                       2016-04-02T05:28:11Z   \n",
       "52931                       2016-04-02T05:28:11Z   \n",
       "52932                       2016-04-02T05:28:11Z   \n",
       "52933                       2016-04-02T05:28:11Z   \n",
       "52934                       2016-04-02T05:28:11Z   \n",
       "52935                       2016-04-02T05:28:11Z   \n",
       "52936                       2016-04-02T05:28:11Z   \n",
       "52937                       2016-04-02T05:28:11Z   \n",
       "52938                       2016-04-02T05:28:11Z   \n",
       "52939                       2016-04-02T05:28:11Z   \n",
       "65070  2016-04-02T05:28:16Z,2015-11-06T10:12:53Z   \n",
       "\n",
       "                                       menus.description  \\\n",
       "40483                                                NaN   \n",
       "52930  A crunchy, red corn tortilla shell, filled wit...   \n",
       "52931                                                NaN   \n",
       "52932                                                NaN   \n",
       "52933                                                NaN   \n",
       "52934  A warm, soft flour tortilla filled with authen...   \n",
       "52935  A crunchy, corn taco shell filled with seasone...   \n",
       "52936                                                NaN   \n",
       "52937  A crunchy taco made with premium seasoned beef...   \n",
       "52938  A crunchy, corn taco shell filled with seasone...   \n",
       "52939  A crunchy, corn taco shell filled with seasone...   \n",
       "65070  Spice up your morning with peppers, onions, fl...   \n",
       "\n",
       "                           menus.name                   name province  \n",
       "40483               Breakfast Burrito  Casey's General Store       MO  \n",
       "52930                    Volcano Taco              Taco Bell       MO  \n",
       "52931                 Volcano Burrito              Taco Bell       MO  \n",
       "52932          Soft Taco Supreme Beef              Taco Bell       MO  \n",
       "52933         Grilled Chicken Burrito              Taco Bell       MO  \n",
       "52934  Fresco Grilled Steak Soft Taco              Taco Bell       MO  \n",
       "52935             Fresco Crunchy Taco              Taco Bell       MO  \n",
       "52936  Fresco Burrito Supreme Chicken              Taco Bell       MO  \n",
       "52937             Doritos Locos Tacos              Taco Bell       MO  \n",
       "52938            Crunchy Taco Supreme              Taco Bell       MO  \n",
       "52939                    Crunchy Taco              Taco Bell       MO  \n",
       "65070                 Sausage Burrito             Mcdonald's       MO  "
      ]
     },
     "execution_count": 14,
     "metadata": {},
     "output_type": "execute_result"
    }
   ],
   "source": [
    "df[\n",
    "    (df['city'] == 'California') &\n",
    "    (df['province'] == 'MO')\n",
    "]"
   ]
  },
  {
   "cell_type": "code",
   "execution_count": 15,
   "id": "cfb79ac6",
   "metadata": {
    "ExecuteTime": {
     "end_time": "2022-05-24T18:54:03.701847Z",
     "start_time": "2022-05-24T18:54:03.686886Z"
    }
   },
   "outputs": [
    {
     "data": {
      "text/plain": [
       "Int64Index([40483, 52930, 52931, 52932, 52933, 52934, 52935, 52936, 52937,\n",
       "            52938, 52939, 65070],\n",
       "           dtype='int64')"
      ]
     },
     "execution_count": 15,
     "metadata": {},
     "output_type": "execute_result"
    }
   ],
   "source": [
    "df.query('city == \"California\" & province == \"MO\"').index"
   ]
  },
  {
   "cell_type": "markdown",
   "id": "8f306726",
   "metadata": {},
   "source": [
    "#### Отберите заведения `Taco Bell` в городе Калифорния (`California`), штат Миссури.\n",
    "\n",
    "Укажите индексы этих заведений через запятую и пробел в порядке возрастания."
   ]
  },
  {
   "cell_type": "code",
   "execution_count": 16,
   "id": "43459c92",
   "metadata": {
    "ExecuteTime": {
     "end_time": "2022-05-24T18:54:03.731793Z",
     "start_time": "2022-05-24T18:54:03.702843Z"
    }
   },
   "outputs": [
    {
     "data": {
      "text/html": [
       "<div>\n",
       "<style scoped>\n",
       "    .dataframe tbody tr th:only-of-type {\n",
       "        vertical-align: middle;\n",
       "    }\n",
       "\n",
       "    .dataframe tbody tr th {\n",
       "        vertical-align: top;\n",
       "    }\n",
       "\n",
       "    .dataframe thead th {\n",
       "        text-align: right;\n",
       "    }\n",
       "</style>\n",
       "<table border=\"1\" class=\"dataframe\">\n",
       "  <thead>\n",
       "    <tr style=\"text-align: right;\">\n",
       "      <th></th>\n",
       "      <th>id</th>\n",
       "      <th>address</th>\n",
       "      <th>categories</th>\n",
       "      <th>city</th>\n",
       "      <th>cuisines</th>\n",
       "      <th>dateAdded</th>\n",
       "      <th>dateUpdated</th>\n",
       "      <th>latitude</th>\n",
       "      <th>longitude</th>\n",
       "      <th>menus.category</th>\n",
       "      <th>menus.currency</th>\n",
       "      <th>menus.dateSeen</th>\n",
       "      <th>menus.description</th>\n",
       "      <th>menus.name</th>\n",
       "      <th>name</th>\n",
       "      <th>province</th>\n",
       "    </tr>\n",
       "  </thead>\n",
       "  <tbody>\n",
       "    <tr>\n",
       "      <th>52930</th>\n",
       "      <td>AVwdKTFqIN2L1WUfs1SP</td>\n",
       "      <td>1020 W Buchanan St</td>\n",
       "      <td>Fast Food Restaurant and Mexican Restaurant,Me...</td>\n",
       "      <td>California</td>\n",
       "      <td>NaN</td>\n",
       "      <td>2015-12-02T19:29:16Z</td>\n",
       "      <td>2016-05-05T00:56:00Z</td>\n",
       "      <td>38.63122</td>\n",
       "      <td>-92.580769</td>\n",
       "      <td>NaN</td>\n",
       "      <td>NaN</td>\n",
       "      <td>2016-04-02T05:28:11Z</td>\n",
       "      <td>A crunchy, red corn tortilla shell, filled wit...</td>\n",
       "      <td>Volcano Taco</td>\n",
       "      <td>Taco Bell</td>\n",
       "      <td>MO</td>\n",
       "    </tr>\n",
       "    <tr>\n",
       "      <th>52931</th>\n",
       "      <td>AVwdKTFqIN2L1WUfs1SP</td>\n",
       "      <td>1020 W Buchanan St</td>\n",
       "      <td>Fast Food Restaurant and Mexican Restaurant,Me...</td>\n",
       "      <td>California</td>\n",
       "      <td>NaN</td>\n",
       "      <td>2015-12-02T19:29:16Z</td>\n",
       "      <td>2016-05-05T00:56:00Z</td>\n",
       "      <td>38.63122</td>\n",
       "      <td>-92.580769</td>\n",
       "      <td>NaN</td>\n",
       "      <td>NaN</td>\n",
       "      <td>2016-04-02T05:28:11Z</td>\n",
       "      <td>NaN</td>\n",
       "      <td>Volcano Burrito</td>\n",
       "      <td>Taco Bell</td>\n",
       "      <td>MO</td>\n",
       "    </tr>\n",
       "    <tr>\n",
       "      <th>52932</th>\n",
       "      <td>AVwdKTFqIN2L1WUfs1SP</td>\n",
       "      <td>1020 W Buchanan St</td>\n",
       "      <td>Fast Food Restaurant and Mexican Restaurant,Me...</td>\n",
       "      <td>California</td>\n",
       "      <td>NaN</td>\n",
       "      <td>2015-12-02T19:29:16Z</td>\n",
       "      <td>2016-05-05T00:56:00Z</td>\n",
       "      <td>38.63122</td>\n",
       "      <td>-92.580769</td>\n",
       "      <td>NaN</td>\n",
       "      <td>NaN</td>\n",
       "      <td>2016-04-02T05:28:11Z</td>\n",
       "      <td>NaN</td>\n",
       "      <td>Soft Taco Supreme Beef</td>\n",
       "      <td>Taco Bell</td>\n",
       "      <td>MO</td>\n",
       "    </tr>\n",
       "    <tr>\n",
       "      <th>52933</th>\n",
       "      <td>AVwdKTFqIN2L1WUfs1SP</td>\n",
       "      <td>1020 W Buchanan St</td>\n",
       "      <td>Fast Food Restaurant and Mexican Restaurant,Me...</td>\n",
       "      <td>California</td>\n",
       "      <td>NaN</td>\n",
       "      <td>2015-12-02T19:29:16Z</td>\n",
       "      <td>2016-05-05T00:56:00Z</td>\n",
       "      <td>38.63122</td>\n",
       "      <td>-92.580769</td>\n",
       "      <td>NaN</td>\n",
       "      <td>NaN</td>\n",
       "      <td>2016-04-02T05:28:11Z</td>\n",
       "      <td>NaN</td>\n",
       "      <td>Grilled Chicken Burrito</td>\n",
       "      <td>Taco Bell</td>\n",
       "      <td>MO</td>\n",
       "    </tr>\n",
       "    <tr>\n",
       "      <th>52934</th>\n",
       "      <td>AVwdKTFqIN2L1WUfs1SP</td>\n",
       "      <td>1020 W Buchanan St</td>\n",
       "      <td>Fast Food Restaurant and Mexican Restaurant,Me...</td>\n",
       "      <td>California</td>\n",
       "      <td>NaN</td>\n",
       "      <td>2015-12-02T19:29:16Z</td>\n",
       "      <td>2016-05-05T00:56:00Z</td>\n",
       "      <td>38.63122</td>\n",
       "      <td>-92.580769</td>\n",
       "      <td>NaN</td>\n",
       "      <td>NaN</td>\n",
       "      <td>2016-04-02T05:28:11Z</td>\n",
       "      <td>A warm, soft flour tortilla filled with authen...</td>\n",
       "      <td>Fresco Grilled Steak Soft Taco</td>\n",
       "      <td>Taco Bell</td>\n",
       "      <td>MO</td>\n",
       "    </tr>\n",
       "    <tr>\n",
       "      <th>52935</th>\n",
       "      <td>AVwdKTFqIN2L1WUfs1SP</td>\n",
       "      <td>1020 W Buchanan St</td>\n",
       "      <td>Fast Food Restaurant and Mexican Restaurant,Me...</td>\n",
       "      <td>California</td>\n",
       "      <td>NaN</td>\n",
       "      <td>2015-12-02T19:29:16Z</td>\n",
       "      <td>2016-05-05T00:56:00Z</td>\n",
       "      <td>38.63122</td>\n",
       "      <td>-92.580769</td>\n",
       "      <td>NaN</td>\n",
       "      <td>NaN</td>\n",
       "      <td>2016-04-02T05:28:11Z</td>\n",
       "      <td>A crunchy, corn taco shell filled with seasone...</td>\n",
       "      <td>Fresco Crunchy Taco</td>\n",
       "      <td>Taco Bell</td>\n",
       "      <td>MO</td>\n",
       "    </tr>\n",
       "    <tr>\n",
       "      <th>52936</th>\n",
       "      <td>AVwdKTFqIN2L1WUfs1SP</td>\n",
       "      <td>1020 W Buchanan St</td>\n",
       "      <td>Fast Food Restaurant and Mexican Restaurant,Me...</td>\n",
       "      <td>California</td>\n",
       "      <td>NaN</td>\n",
       "      <td>2015-12-02T19:29:16Z</td>\n",
       "      <td>2016-05-05T00:56:00Z</td>\n",
       "      <td>38.63122</td>\n",
       "      <td>-92.580769</td>\n",
       "      <td>NaN</td>\n",
       "      <td>NaN</td>\n",
       "      <td>2016-04-02T05:28:11Z</td>\n",
       "      <td>NaN</td>\n",
       "      <td>Fresco Burrito Supreme Chicken</td>\n",
       "      <td>Taco Bell</td>\n",
       "      <td>MO</td>\n",
       "    </tr>\n",
       "    <tr>\n",
       "      <th>52937</th>\n",
       "      <td>AVwdKTFqIN2L1WUfs1SP</td>\n",
       "      <td>1020 W Buchanan St</td>\n",
       "      <td>Fast Food Restaurant and Mexican Restaurant,Me...</td>\n",
       "      <td>California</td>\n",
       "      <td>NaN</td>\n",
       "      <td>2015-12-02T19:29:16Z</td>\n",
       "      <td>2016-05-05T00:56:00Z</td>\n",
       "      <td>38.63122</td>\n",
       "      <td>-92.580769</td>\n",
       "      <td>NaN</td>\n",
       "      <td>NaN</td>\n",
       "      <td>2016-04-02T05:28:11Z</td>\n",
       "      <td>A crunchy taco made with premium seasoned beef...</td>\n",
       "      <td>Doritos Locos Tacos</td>\n",
       "      <td>Taco Bell</td>\n",
       "      <td>MO</td>\n",
       "    </tr>\n",
       "    <tr>\n",
       "      <th>52938</th>\n",
       "      <td>AVwdKTFqIN2L1WUfs1SP</td>\n",
       "      <td>1020 W Buchanan St</td>\n",
       "      <td>Fast Food Restaurant and Mexican Restaurant,Me...</td>\n",
       "      <td>California</td>\n",
       "      <td>NaN</td>\n",
       "      <td>2015-12-02T19:29:16Z</td>\n",
       "      <td>2016-05-05T00:56:00Z</td>\n",
       "      <td>38.63122</td>\n",
       "      <td>-92.580769</td>\n",
       "      <td>NaN</td>\n",
       "      <td>NaN</td>\n",
       "      <td>2016-04-02T05:28:11Z</td>\n",
       "      <td>A crunchy, corn taco shell filled with seasone...</td>\n",
       "      <td>Crunchy Taco Supreme</td>\n",
       "      <td>Taco Bell</td>\n",
       "      <td>MO</td>\n",
       "    </tr>\n",
       "    <tr>\n",
       "      <th>52939</th>\n",
       "      <td>AVwdKTFqIN2L1WUfs1SP</td>\n",
       "      <td>1020 W Buchanan St</td>\n",
       "      <td>Fast Food Restaurant and Mexican Restaurant,Me...</td>\n",
       "      <td>California</td>\n",
       "      <td>NaN</td>\n",
       "      <td>2015-12-02T19:29:16Z</td>\n",
       "      <td>2016-05-05T00:56:00Z</td>\n",
       "      <td>38.63122</td>\n",
       "      <td>-92.580769</td>\n",
       "      <td>NaN</td>\n",
       "      <td>NaN</td>\n",
       "      <td>2016-04-02T05:28:11Z</td>\n",
       "      <td>A crunchy, corn taco shell filled with seasone...</td>\n",
       "      <td>Crunchy Taco</td>\n",
       "      <td>Taco Bell</td>\n",
       "      <td>MO</td>\n",
       "    </tr>\n",
       "  </tbody>\n",
       "</table>\n",
       "</div>"
      ],
      "text/plain": [
       "                         id             address  \\\n",
       "52930  AVwdKTFqIN2L1WUfs1SP  1020 W Buchanan St   \n",
       "52931  AVwdKTFqIN2L1WUfs1SP  1020 W Buchanan St   \n",
       "52932  AVwdKTFqIN2L1WUfs1SP  1020 W Buchanan St   \n",
       "52933  AVwdKTFqIN2L1WUfs1SP  1020 W Buchanan St   \n",
       "52934  AVwdKTFqIN2L1WUfs1SP  1020 W Buchanan St   \n",
       "52935  AVwdKTFqIN2L1WUfs1SP  1020 W Buchanan St   \n",
       "52936  AVwdKTFqIN2L1WUfs1SP  1020 W Buchanan St   \n",
       "52937  AVwdKTFqIN2L1WUfs1SP  1020 W Buchanan St   \n",
       "52938  AVwdKTFqIN2L1WUfs1SP  1020 W Buchanan St   \n",
       "52939  AVwdKTFqIN2L1WUfs1SP  1020 W Buchanan St   \n",
       "\n",
       "                                              categories        city cuisines  \\\n",
       "52930  Fast Food Restaurant and Mexican Restaurant,Me...  California      NaN   \n",
       "52931  Fast Food Restaurant and Mexican Restaurant,Me...  California      NaN   \n",
       "52932  Fast Food Restaurant and Mexican Restaurant,Me...  California      NaN   \n",
       "52933  Fast Food Restaurant and Mexican Restaurant,Me...  California      NaN   \n",
       "52934  Fast Food Restaurant and Mexican Restaurant,Me...  California      NaN   \n",
       "52935  Fast Food Restaurant and Mexican Restaurant,Me...  California      NaN   \n",
       "52936  Fast Food Restaurant and Mexican Restaurant,Me...  California      NaN   \n",
       "52937  Fast Food Restaurant and Mexican Restaurant,Me...  California      NaN   \n",
       "52938  Fast Food Restaurant and Mexican Restaurant,Me...  California      NaN   \n",
       "52939  Fast Food Restaurant and Mexican Restaurant,Me...  California      NaN   \n",
       "\n",
       "                  dateAdded           dateUpdated  latitude  longitude  \\\n",
       "52930  2015-12-02T19:29:16Z  2016-05-05T00:56:00Z  38.63122 -92.580769   \n",
       "52931  2015-12-02T19:29:16Z  2016-05-05T00:56:00Z  38.63122 -92.580769   \n",
       "52932  2015-12-02T19:29:16Z  2016-05-05T00:56:00Z  38.63122 -92.580769   \n",
       "52933  2015-12-02T19:29:16Z  2016-05-05T00:56:00Z  38.63122 -92.580769   \n",
       "52934  2015-12-02T19:29:16Z  2016-05-05T00:56:00Z  38.63122 -92.580769   \n",
       "52935  2015-12-02T19:29:16Z  2016-05-05T00:56:00Z  38.63122 -92.580769   \n",
       "52936  2015-12-02T19:29:16Z  2016-05-05T00:56:00Z  38.63122 -92.580769   \n",
       "52937  2015-12-02T19:29:16Z  2016-05-05T00:56:00Z  38.63122 -92.580769   \n",
       "52938  2015-12-02T19:29:16Z  2016-05-05T00:56:00Z  38.63122 -92.580769   \n",
       "52939  2015-12-02T19:29:16Z  2016-05-05T00:56:00Z  38.63122 -92.580769   \n",
       "\n",
       "      menus.category menus.currency        menus.dateSeen  \\\n",
       "52930            NaN            NaN  2016-04-02T05:28:11Z   \n",
       "52931            NaN            NaN  2016-04-02T05:28:11Z   \n",
       "52932            NaN            NaN  2016-04-02T05:28:11Z   \n",
       "52933            NaN            NaN  2016-04-02T05:28:11Z   \n",
       "52934            NaN            NaN  2016-04-02T05:28:11Z   \n",
       "52935            NaN            NaN  2016-04-02T05:28:11Z   \n",
       "52936            NaN            NaN  2016-04-02T05:28:11Z   \n",
       "52937            NaN            NaN  2016-04-02T05:28:11Z   \n",
       "52938            NaN            NaN  2016-04-02T05:28:11Z   \n",
       "52939            NaN            NaN  2016-04-02T05:28:11Z   \n",
       "\n",
       "                                       menus.description  \\\n",
       "52930  A crunchy, red corn tortilla shell, filled wit...   \n",
       "52931                                                NaN   \n",
       "52932                                                NaN   \n",
       "52933                                                NaN   \n",
       "52934  A warm, soft flour tortilla filled with authen...   \n",
       "52935  A crunchy, corn taco shell filled with seasone...   \n",
       "52936                                                NaN   \n",
       "52937  A crunchy taco made with premium seasoned beef...   \n",
       "52938  A crunchy, corn taco shell filled with seasone...   \n",
       "52939  A crunchy, corn taco shell filled with seasone...   \n",
       "\n",
       "                           menus.name       name province  \n",
       "52930                    Volcano Taco  Taco Bell       MO  \n",
       "52931                 Volcano Burrito  Taco Bell       MO  \n",
       "52932          Soft Taco Supreme Beef  Taco Bell       MO  \n",
       "52933         Grilled Chicken Burrito  Taco Bell       MO  \n",
       "52934  Fresco Grilled Steak Soft Taco  Taco Bell       MO  \n",
       "52935             Fresco Crunchy Taco  Taco Bell       MO  \n",
       "52936  Fresco Burrito Supreme Chicken  Taco Bell       MO  \n",
       "52937             Doritos Locos Tacos  Taco Bell       MO  \n",
       "52938            Crunchy Taco Supreme  Taco Bell       MO  \n",
       "52939                    Crunchy Taco  Taco Bell       MO  "
      ]
     },
     "execution_count": 16,
     "metadata": {},
     "output_type": "execute_result"
    }
   ],
   "source": [
    "df[\n",
    "    (df['city'] == 'California') &\n",
    "    (df['province'] == 'MO') &\n",
    "    (df['name'] == 'Taco Bell')\n",
    "]"
   ]
  },
  {
   "cell_type": "code",
   "execution_count": 17,
   "id": "76ff1707",
   "metadata": {
    "ExecuteTime": {
     "end_time": "2022-05-24T18:54:03.762771Z",
     "start_time": "2022-05-24T18:54:03.732764Z"
    },
    "scrolled": false
   },
   "outputs": [
    {
     "data": {
      "text/html": [
       "<div>\n",
       "<style scoped>\n",
       "    .dataframe tbody tr th:only-of-type {\n",
       "        vertical-align: middle;\n",
       "    }\n",
       "\n",
       "    .dataframe tbody tr th {\n",
       "        vertical-align: top;\n",
       "    }\n",
       "\n",
       "    .dataframe thead th {\n",
       "        text-align: right;\n",
       "    }\n",
       "</style>\n",
       "<table border=\"1\" class=\"dataframe\">\n",
       "  <thead>\n",
       "    <tr style=\"text-align: right;\">\n",
       "      <th></th>\n",
       "      <th>id</th>\n",
       "      <th>address</th>\n",
       "      <th>categories</th>\n",
       "      <th>city</th>\n",
       "      <th>cuisines</th>\n",
       "      <th>dateAdded</th>\n",
       "      <th>dateUpdated</th>\n",
       "      <th>latitude</th>\n",
       "      <th>longitude</th>\n",
       "      <th>menus.category</th>\n",
       "      <th>menus.currency</th>\n",
       "      <th>menus.dateSeen</th>\n",
       "      <th>menus.description</th>\n",
       "      <th>menus.name</th>\n",
       "      <th>name</th>\n",
       "      <th>province</th>\n",
       "    </tr>\n",
       "  </thead>\n",
       "  <tbody>\n",
       "    <tr>\n",
       "      <th>52930</th>\n",
       "      <td>AVwdKTFqIN2L1WUfs1SP</td>\n",
       "      <td>1020 W Buchanan St</td>\n",
       "      <td>Fast Food Restaurant and Mexican Restaurant,Me...</td>\n",
       "      <td>California</td>\n",
       "      <td>NaN</td>\n",
       "      <td>2015-12-02T19:29:16Z</td>\n",
       "      <td>2016-05-05T00:56:00Z</td>\n",
       "      <td>38.63122</td>\n",
       "      <td>-92.580769</td>\n",
       "      <td>NaN</td>\n",
       "      <td>NaN</td>\n",
       "      <td>2016-04-02T05:28:11Z</td>\n",
       "      <td>A crunchy, red corn tortilla shell, filled wit...</td>\n",
       "      <td>Volcano Taco</td>\n",
       "      <td>Taco Bell</td>\n",
       "      <td>MO</td>\n",
       "    </tr>\n",
       "    <tr>\n",
       "      <th>52931</th>\n",
       "      <td>AVwdKTFqIN2L1WUfs1SP</td>\n",
       "      <td>1020 W Buchanan St</td>\n",
       "      <td>Fast Food Restaurant and Mexican Restaurant,Me...</td>\n",
       "      <td>California</td>\n",
       "      <td>NaN</td>\n",
       "      <td>2015-12-02T19:29:16Z</td>\n",
       "      <td>2016-05-05T00:56:00Z</td>\n",
       "      <td>38.63122</td>\n",
       "      <td>-92.580769</td>\n",
       "      <td>NaN</td>\n",
       "      <td>NaN</td>\n",
       "      <td>2016-04-02T05:28:11Z</td>\n",
       "      <td>NaN</td>\n",
       "      <td>Volcano Burrito</td>\n",
       "      <td>Taco Bell</td>\n",
       "      <td>MO</td>\n",
       "    </tr>\n",
       "    <tr>\n",
       "      <th>52932</th>\n",
       "      <td>AVwdKTFqIN2L1WUfs1SP</td>\n",
       "      <td>1020 W Buchanan St</td>\n",
       "      <td>Fast Food Restaurant and Mexican Restaurant,Me...</td>\n",
       "      <td>California</td>\n",
       "      <td>NaN</td>\n",
       "      <td>2015-12-02T19:29:16Z</td>\n",
       "      <td>2016-05-05T00:56:00Z</td>\n",
       "      <td>38.63122</td>\n",
       "      <td>-92.580769</td>\n",
       "      <td>NaN</td>\n",
       "      <td>NaN</td>\n",
       "      <td>2016-04-02T05:28:11Z</td>\n",
       "      <td>NaN</td>\n",
       "      <td>Soft Taco Supreme Beef</td>\n",
       "      <td>Taco Bell</td>\n",
       "      <td>MO</td>\n",
       "    </tr>\n",
       "    <tr>\n",
       "      <th>52933</th>\n",
       "      <td>AVwdKTFqIN2L1WUfs1SP</td>\n",
       "      <td>1020 W Buchanan St</td>\n",
       "      <td>Fast Food Restaurant and Mexican Restaurant,Me...</td>\n",
       "      <td>California</td>\n",
       "      <td>NaN</td>\n",
       "      <td>2015-12-02T19:29:16Z</td>\n",
       "      <td>2016-05-05T00:56:00Z</td>\n",
       "      <td>38.63122</td>\n",
       "      <td>-92.580769</td>\n",
       "      <td>NaN</td>\n",
       "      <td>NaN</td>\n",
       "      <td>2016-04-02T05:28:11Z</td>\n",
       "      <td>NaN</td>\n",
       "      <td>Grilled Chicken Burrito</td>\n",
       "      <td>Taco Bell</td>\n",
       "      <td>MO</td>\n",
       "    </tr>\n",
       "    <tr>\n",
       "      <th>52934</th>\n",
       "      <td>AVwdKTFqIN2L1WUfs1SP</td>\n",
       "      <td>1020 W Buchanan St</td>\n",
       "      <td>Fast Food Restaurant and Mexican Restaurant,Me...</td>\n",
       "      <td>California</td>\n",
       "      <td>NaN</td>\n",
       "      <td>2015-12-02T19:29:16Z</td>\n",
       "      <td>2016-05-05T00:56:00Z</td>\n",
       "      <td>38.63122</td>\n",
       "      <td>-92.580769</td>\n",
       "      <td>NaN</td>\n",
       "      <td>NaN</td>\n",
       "      <td>2016-04-02T05:28:11Z</td>\n",
       "      <td>A warm, soft flour tortilla filled with authen...</td>\n",
       "      <td>Fresco Grilled Steak Soft Taco</td>\n",
       "      <td>Taco Bell</td>\n",
       "      <td>MO</td>\n",
       "    </tr>\n",
       "    <tr>\n",
       "      <th>52935</th>\n",
       "      <td>AVwdKTFqIN2L1WUfs1SP</td>\n",
       "      <td>1020 W Buchanan St</td>\n",
       "      <td>Fast Food Restaurant and Mexican Restaurant,Me...</td>\n",
       "      <td>California</td>\n",
       "      <td>NaN</td>\n",
       "      <td>2015-12-02T19:29:16Z</td>\n",
       "      <td>2016-05-05T00:56:00Z</td>\n",
       "      <td>38.63122</td>\n",
       "      <td>-92.580769</td>\n",
       "      <td>NaN</td>\n",
       "      <td>NaN</td>\n",
       "      <td>2016-04-02T05:28:11Z</td>\n",
       "      <td>A crunchy, corn taco shell filled with seasone...</td>\n",
       "      <td>Fresco Crunchy Taco</td>\n",
       "      <td>Taco Bell</td>\n",
       "      <td>MO</td>\n",
       "    </tr>\n",
       "    <tr>\n",
       "      <th>52936</th>\n",
       "      <td>AVwdKTFqIN2L1WUfs1SP</td>\n",
       "      <td>1020 W Buchanan St</td>\n",
       "      <td>Fast Food Restaurant and Mexican Restaurant,Me...</td>\n",
       "      <td>California</td>\n",
       "      <td>NaN</td>\n",
       "      <td>2015-12-02T19:29:16Z</td>\n",
       "      <td>2016-05-05T00:56:00Z</td>\n",
       "      <td>38.63122</td>\n",
       "      <td>-92.580769</td>\n",
       "      <td>NaN</td>\n",
       "      <td>NaN</td>\n",
       "      <td>2016-04-02T05:28:11Z</td>\n",
       "      <td>NaN</td>\n",
       "      <td>Fresco Burrito Supreme Chicken</td>\n",
       "      <td>Taco Bell</td>\n",
       "      <td>MO</td>\n",
       "    </tr>\n",
       "    <tr>\n",
       "      <th>52937</th>\n",
       "      <td>AVwdKTFqIN2L1WUfs1SP</td>\n",
       "      <td>1020 W Buchanan St</td>\n",
       "      <td>Fast Food Restaurant and Mexican Restaurant,Me...</td>\n",
       "      <td>California</td>\n",
       "      <td>NaN</td>\n",
       "      <td>2015-12-02T19:29:16Z</td>\n",
       "      <td>2016-05-05T00:56:00Z</td>\n",
       "      <td>38.63122</td>\n",
       "      <td>-92.580769</td>\n",
       "      <td>NaN</td>\n",
       "      <td>NaN</td>\n",
       "      <td>2016-04-02T05:28:11Z</td>\n",
       "      <td>A crunchy taco made with premium seasoned beef...</td>\n",
       "      <td>Doritos Locos Tacos</td>\n",
       "      <td>Taco Bell</td>\n",
       "      <td>MO</td>\n",
       "    </tr>\n",
       "    <tr>\n",
       "      <th>52938</th>\n",
       "      <td>AVwdKTFqIN2L1WUfs1SP</td>\n",
       "      <td>1020 W Buchanan St</td>\n",
       "      <td>Fast Food Restaurant and Mexican Restaurant,Me...</td>\n",
       "      <td>California</td>\n",
       "      <td>NaN</td>\n",
       "      <td>2015-12-02T19:29:16Z</td>\n",
       "      <td>2016-05-05T00:56:00Z</td>\n",
       "      <td>38.63122</td>\n",
       "      <td>-92.580769</td>\n",
       "      <td>NaN</td>\n",
       "      <td>NaN</td>\n",
       "      <td>2016-04-02T05:28:11Z</td>\n",
       "      <td>A crunchy, corn taco shell filled with seasone...</td>\n",
       "      <td>Crunchy Taco Supreme</td>\n",
       "      <td>Taco Bell</td>\n",
       "      <td>MO</td>\n",
       "    </tr>\n",
       "    <tr>\n",
       "      <th>52939</th>\n",
       "      <td>AVwdKTFqIN2L1WUfs1SP</td>\n",
       "      <td>1020 W Buchanan St</td>\n",
       "      <td>Fast Food Restaurant and Mexican Restaurant,Me...</td>\n",
       "      <td>California</td>\n",
       "      <td>NaN</td>\n",
       "      <td>2015-12-02T19:29:16Z</td>\n",
       "      <td>2016-05-05T00:56:00Z</td>\n",
       "      <td>38.63122</td>\n",
       "      <td>-92.580769</td>\n",
       "      <td>NaN</td>\n",
       "      <td>NaN</td>\n",
       "      <td>2016-04-02T05:28:11Z</td>\n",
       "      <td>A crunchy, corn taco shell filled with seasone...</td>\n",
       "      <td>Crunchy Taco</td>\n",
       "      <td>Taco Bell</td>\n",
       "      <td>MO</td>\n",
       "    </tr>\n",
       "  </tbody>\n",
       "</table>\n",
       "</div>"
      ],
      "text/plain": [
       "                         id             address  \\\n",
       "52930  AVwdKTFqIN2L1WUfs1SP  1020 W Buchanan St   \n",
       "52931  AVwdKTFqIN2L1WUfs1SP  1020 W Buchanan St   \n",
       "52932  AVwdKTFqIN2L1WUfs1SP  1020 W Buchanan St   \n",
       "52933  AVwdKTFqIN2L1WUfs1SP  1020 W Buchanan St   \n",
       "52934  AVwdKTFqIN2L1WUfs1SP  1020 W Buchanan St   \n",
       "52935  AVwdKTFqIN2L1WUfs1SP  1020 W Buchanan St   \n",
       "52936  AVwdKTFqIN2L1WUfs1SP  1020 W Buchanan St   \n",
       "52937  AVwdKTFqIN2L1WUfs1SP  1020 W Buchanan St   \n",
       "52938  AVwdKTFqIN2L1WUfs1SP  1020 W Buchanan St   \n",
       "52939  AVwdKTFqIN2L1WUfs1SP  1020 W Buchanan St   \n",
       "\n",
       "                                              categories        city cuisines  \\\n",
       "52930  Fast Food Restaurant and Mexican Restaurant,Me...  California      NaN   \n",
       "52931  Fast Food Restaurant and Mexican Restaurant,Me...  California      NaN   \n",
       "52932  Fast Food Restaurant and Mexican Restaurant,Me...  California      NaN   \n",
       "52933  Fast Food Restaurant and Mexican Restaurant,Me...  California      NaN   \n",
       "52934  Fast Food Restaurant and Mexican Restaurant,Me...  California      NaN   \n",
       "52935  Fast Food Restaurant and Mexican Restaurant,Me...  California      NaN   \n",
       "52936  Fast Food Restaurant and Mexican Restaurant,Me...  California      NaN   \n",
       "52937  Fast Food Restaurant and Mexican Restaurant,Me...  California      NaN   \n",
       "52938  Fast Food Restaurant and Mexican Restaurant,Me...  California      NaN   \n",
       "52939  Fast Food Restaurant and Mexican Restaurant,Me...  California      NaN   \n",
       "\n",
       "                  dateAdded           dateUpdated  latitude  longitude  \\\n",
       "52930  2015-12-02T19:29:16Z  2016-05-05T00:56:00Z  38.63122 -92.580769   \n",
       "52931  2015-12-02T19:29:16Z  2016-05-05T00:56:00Z  38.63122 -92.580769   \n",
       "52932  2015-12-02T19:29:16Z  2016-05-05T00:56:00Z  38.63122 -92.580769   \n",
       "52933  2015-12-02T19:29:16Z  2016-05-05T00:56:00Z  38.63122 -92.580769   \n",
       "52934  2015-12-02T19:29:16Z  2016-05-05T00:56:00Z  38.63122 -92.580769   \n",
       "52935  2015-12-02T19:29:16Z  2016-05-05T00:56:00Z  38.63122 -92.580769   \n",
       "52936  2015-12-02T19:29:16Z  2016-05-05T00:56:00Z  38.63122 -92.580769   \n",
       "52937  2015-12-02T19:29:16Z  2016-05-05T00:56:00Z  38.63122 -92.580769   \n",
       "52938  2015-12-02T19:29:16Z  2016-05-05T00:56:00Z  38.63122 -92.580769   \n",
       "52939  2015-12-02T19:29:16Z  2016-05-05T00:56:00Z  38.63122 -92.580769   \n",
       "\n",
       "      menus.category menus.currency        menus.dateSeen  \\\n",
       "52930            NaN            NaN  2016-04-02T05:28:11Z   \n",
       "52931            NaN            NaN  2016-04-02T05:28:11Z   \n",
       "52932            NaN            NaN  2016-04-02T05:28:11Z   \n",
       "52933            NaN            NaN  2016-04-02T05:28:11Z   \n",
       "52934            NaN            NaN  2016-04-02T05:28:11Z   \n",
       "52935            NaN            NaN  2016-04-02T05:28:11Z   \n",
       "52936            NaN            NaN  2016-04-02T05:28:11Z   \n",
       "52937            NaN            NaN  2016-04-02T05:28:11Z   \n",
       "52938            NaN            NaN  2016-04-02T05:28:11Z   \n",
       "52939            NaN            NaN  2016-04-02T05:28:11Z   \n",
       "\n",
       "                                       menus.description  \\\n",
       "52930  A crunchy, red corn tortilla shell, filled wit...   \n",
       "52931                                                NaN   \n",
       "52932                                                NaN   \n",
       "52933                                                NaN   \n",
       "52934  A warm, soft flour tortilla filled with authen...   \n",
       "52935  A crunchy, corn taco shell filled with seasone...   \n",
       "52936                                                NaN   \n",
       "52937  A crunchy taco made with premium seasoned beef...   \n",
       "52938  A crunchy, corn taco shell filled with seasone...   \n",
       "52939  A crunchy, corn taco shell filled with seasone...   \n",
       "\n",
       "                           menus.name       name province  \n",
       "52930                    Volcano Taco  Taco Bell       MO  \n",
       "52931                 Volcano Burrito  Taco Bell       MO  \n",
       "52932          Soft Taco Supreme Beef  Taco Bell       MO  \n",
       "52933         Grilled Chicken Burrito  Taco Bell       MO  \n",
       "52934  Fresco Grilled Steak Soft Taco  Taco Bell       MO  \n",
       "52935             Fresco Crunchy Taco  Taco Bell       MO  \n",
       "52936  Fresco Burrito Supreme Chicken  Taco Bell       MO  \n",
       "52937             Doritos Locos Tacos  Taco Bell       MO  \n",
       "52938            Crunchy Taco Supreme  Taco Bell       MO  \n",
       "52939                    Crunchy Taco  Taco Bell       MO  "
      ]
     },
     "execution_count": 17,
     "metadata": {},
     "output_type": "execute_result"
    }
   ],
   "source": [
    "df.query('city == \"California\" & province == \"MO\" & name == \"Taco Bell\"')"
   ]
  },
  {
   "cell_type": "code",
   "execution_count": 18,
   "id": "f4087315",
   "metadata": {
    "ExecuteTime": {
     "end_time": "2022-05-24T18:54:03.793621Z",
     "start_time": "2022-05-24T18:54:03.763680Z"
    }
   },
   "outputs": [
    {
     "data": {
      "text/plain": [
       "Int64Index([52930, 52931, 52932, 52933, 52934, 52935, 52936, 52937, 52938,\n",
       "            52939],\n",
       "           dtype='int64')"
      ]
     },
     "execution_count": 18,
     "metadata": {},
     "output_type": "execute_result"
    }
   ],
   "source": [
    "df[\n",
    "    (df['city'] == 'California') &\n",
    "    (df['province'] == 'MO') &\n",
    "    (df['name'] == 'Taco Bell')\n",
    "].index"
   ]
  },
  {
   "cell_type": "markdown",
   "id": "e70fa9a4",
   "metadata": {},
   "source": [
    "Варианты решения эквивалентны друг другу."
   ]
  },
  {
   "cell_type": "code",
   "execution_count": 19,
   "id": "81068f7e",
   "metadata": {
    "ExecuteTime": {
     "end_time": "2022-05-24T18:54:03.824827Z",
     "start_time": "2022-05-24T18:54:03.794597Z"
    }
   },
   "outputs": [
    {
     "data": {
      "text/plain": [
       "array([ True,  True,  True,  True,  True,  True,  True,  True,  True,\n",
       "        True])"
      ]
     },
     "execution_count": 19,
     "metadata": {},
     "output_type": "execute_result"
    }
   ],
   "source": [
    "df.query('city == \"California\" & province == \"MO\" & name == \"Taco Bell\"').index ==\\\n",
    "    df[(df['city'] == 'California') & (df['province'] == 'MO')\n",
    "        & (df['name'] == 'Taco Bell')].index"
   ]
  },
  {
   "cell_type": "markdown",
   "id": "032fc549",
   "metadata": {},
   "source": [
    "#### Давайте найдем заведения `Taco Bell` или заведения, которые находятся в городе Нью-Йорк. \n",
    "При этом обязательно, чтобы в названии меню не было `Volcano Taco` и `Fresco Soft Taco` (именно таких значений колонки). Данные нужно сохранить в датафрейм `result`."
   ]
  },
  {
   "cell_type": "code",
   "execution_count": 20,
   "id": "dd3fb3de",
   "metadata": {
    "ExecuteTime": {
     "end_time": "2022-05-24T18:54:03.855666Z",
     "start_time": "2022-05-24T18:54:03.825732Z"
    },
    "scrolled": false
   },
   "outputs": [
    {
     "data": {
      "text/html": [
       "<div>\n",
       "<style scoped>\n",
       "    .dataframe tbody tr th:only-of-type {\n",
       "        vertical-align: middle;\n",
       "    }\n",
       "\n",
       "    .dataframe tbody tr th {\n",
       "        vertical-align: top;\n",
       "    }\n",
       "\n",
       "    .dataframe thead th {\n",
       "        text-align: right;\n",
       "    }\n",
       "</style>\n",
       "<table border=\"1\" class=\"dataframe\">\n",
       "  <thead>\n",
       "    <tr style=\"text-align: right;\">\n",
       "      <th></th>\n",
       "      <th>id</th>\n",
       "      <th>address</th>\n",
       "      <th>categories</th>\n",
       "      <th>city</th>\n",
       "      <th>cuisines</th>\n",
       "      <th>dateAdded</th>\n",
       "      <th>dateUpdated</th>\n",
       "      <th>latitude</th>\n",
       "      <th>longitude</th>\n",
       "      <th>menus.category</th>\n",
       "      <th>menus.currency</th>\n",
       "      <th>menus.dateSeen</th>\n",
       "      <th>menus.description</th>\n",
       "      <th>menus.name</th>\n",
       "      <th>name</th>\n",
       "      <th>province</th>\n",
       "    </tr>\n",
       "  </thead>\n",
       "  <tbody>\n",
       "    <tr>\n",
       "      <th>131</th>\n",
       "      <td>AVwc_9yCByjofQCxkdRX</td>\n",
       "      <td>322 S. Broadway</td>\n",
       "      <td>Fast Food,Restaurants,Mexican,Breakfast,Vegeta...</td>\n",
       "      <td>Salem</td>\n",
       "      <td>Mexican</td>\n",
       "      <td>2016-03-28T06:01:51Z</td>\n",
       "      <td>2017-06-27T10:01:48Z</td>\n",
       "      <td>42.755023</td>\n",
       "      <td>-71.209440</td>\n",
       "      <td>NaN</td>\n",
       "      <td>NaN</td>\n",
       "      <td>2016-03-28T06:01:51Z,2016-06-06T16:15:44Z</td>\n",
       "      <td>NaN</td>\n",
       "      <td>Volcano Burrito</td>\n",
       "      <td>Taco Bell</td>\n",
       "      <td>NH</td>\n",
       "    </tr>\n",
       "    <tr>\n",
       "      <th>132</th>\n",
       "      <td>AVwc_9yCByjofQCxkdRX</td>\n",
       "      <td>322 S. Broadway</td>\n",
       "      <td>Fast Food,Restaurants,Mexican,Breakfast,Vegeta...</td>\n",
       "      <td>Salem</td>\n",
       "      <td>Mexican</td>\n",
       "      <td>2016-03-28T06:01:51Z</td>\n",
       "      <td>2017-06-27T10:01:48Z</td>\n",
       "      <td>42.755023</td>\n",
       "      <td>-71.209440</td>\n",
       "      <td>NaN</td>\n",
       "      <td>NaN</td>\n",
       "      <td>2016-03-28T06:01:51Z,2016-06-06T16:15:44Z</td>\n",
       "      <td>NaN</td>\n",
       "      <td>Taco 12 Pack</td>\n",
       "      <td>Taco Bell</td>\n",
       "      <td>NH</td>\n",
       "    </tr>\n",
       "    <tr>\n",
       "      <th>133</th>\n",
       "      <td>AVwc_9yCByjofQCxkdRX</td>\n",
       "      <td>322 S. Broadway</td>\n",
       "      <td>Fast Food,Restaurants,Mexican,Breakfast,Vegeta...</td>\n",
       "      <td>Salem</td>\n",
       "      <td>Mexican</td>\n",
       "      <td>2016-03-28T06:01:51Z</td>\n",
       "      <td>2017-06-27T10:01:48Z</td>\n",
       "      <td>42.755023</td>\n",
       "      <td>-71.209440</td>\n",
       "      <td>NaN</td>\n",
       "      <td>NaN</td>\n",
       "      <td>2016-03-28T06:01:51Z,2016-06-06T16:15:44Z</td>\n",
       "      <td>NaN</td>\n",
       "      <td>Grilled Steak Soft Taco</td>\n",
       "      <td>Taco Bell</td>\n",
       "      <td>NH</td>\n",
       "    </tr>\n",
       "    <tr>\n",
       "      <th>135</th>\n",
       "      <td>AVwc_9yCByjofQCxkdRX</td>\n",
       "      <td>322 S. Broadway</td>\n",
       "      <td>Fast Food,Restaurants,Mexican,Breakfast,Vegeta...</td>\n",
       "      <td>Salem</td>\n",
       "      <td>Mexican</td>\n",
       "      <td>2016-03-28T06:01:51Z</td>\n",
       "      <td>2017-06-27T10:01:48Z</td>\n",
       "      <td>42.755023</td>\n",
       "      <td>-71.209440</td>\n",
       "      <td>NaN</td>\n",
       "      <td>NaN</td>\n",
       "      <td>2016-03-28T06:01:51Z,2016-06-06T16:15:44Z</td>\n",
       "      <td>NaN</td>\n",
       "      <td>Fresco Grilled Steak Soft Taco</td>\n",
       "      <td>Taco Bell</td>\n",
       "      <td>NH</td>\n",
       "    </tr>\n",
       "    <tr>\n",
       "      <th>136</th>\n",
       "      <td>AVwc_9yCByjofQCxkdRX</td>\n",
       "      <td>322 S. Broadway</td>\n",
       "      <td>Fast Food,Restaurants,Mexican,Breakfast,Vegeta...</td>\n",
       "      <td>Salem</td>\n",
       "      <td>Mexican</td>\n",
       "      <td>2016-03-28T06:01:51Z</td>\n",
       "      <td>2017-06-27T10:01:48Z</td>\n",
       "      <td>42.755023</td>\n",
       "      <td>-71.209440</td>\n",
       "      <td>NaN</td>\n",
       "      <td>NaN</td>\n",
       "      <td>2016-03-28T06:01:51Z,2016-06-06T16:15:44Z</td>\n",
       "      <td>NaN</td>\n",
       "      <td>Fresco Crunchy Taco</td>\n",
       "      <td>Taco Bell</td>\n",
       "      <td>NH</td>\n",
       "    </tr>\n",
       "    <tr>\n",
       "      <th>...</th>\n",
       "      <td>...</td>\n",
       "      <td>...</td>\n",
       "      <td>...</td>\n",
       "      <td>...</td>\n",
       "      <td>...</td>\n",
       "      <td>...</td>\n",
       "      <td>...</td>\n",
       "      <td>...</td>\n",
       "      <td>...</td>\n",
       "      <td>...</td>\n",
       "      <td>...</td>\n",
       "      <td>...</td>\n",
       "      <td>...</td>\n",
       "      <td>...</td>\n",
       "      <td>...</td>\n",
       "      <td>...</td>\n",
       "    </tr>\n",
       "    <tr>\n",
       "      <th>76904</th>\n",
       "      <td>AVweZN9nByjofQCxxz4o</td>\n",
       "      <td>754 Ninth Ave</td>\n",
       "      <td>Restaurant</td>\n",
       "      <td>New York</td>\n",
       "      <td>Mexican, American, Traditional Mexican</td>\n",
       "      <td>2015-10-19T20:44:15Z</td>\n",
       "      <td>2016-08-22T11:24:07Z</td>\n",
       "      <td>40.763858</td>\n",
       "      <td>-73.988327</td>\n",
       "      <td>Tacos</td>\n",
       "      <td>USD</td>\n",
       "      <td>2016-08-21T00:00:00Z</td>\n",
       "      <td>NaN</td>\n",
       "      <td>Trio of Tacos</td>\n",
       "      <td>Hell's Kitchen</td>\n",
       "      <td>Nyc</td>\n",
       "    </tr>\n",
       "    <tr>\n",
       "      <th>76905</th>\n",
       "      <td>AVweZN9nByjofQCxxz4o</td>\n",
       "      <td>754 Ninth Ave</td>\n",
       "      <td>Restaurant</td>\n",
       "      <td>New York</td>\n",
       "      <td>Mexican, American, Traditional Mexican</td>\n",
       "      <td>2015-10-19T20:44:15Z</td>\n",
       "      <td>2016-08-22T11:24:07Z</td>\n",
       "      <td>40.763858</td>\n",
       "      <td>-73.988327</td>\n",
       "      <td>Huevos, Etc.</td>\n",
       "      <td>USD</td>\n",
       "      <td>2016-08-07T00:00:00Z</td>\n",
       "      <td>NaN</td>\n",
       "      <td>Brunch Burrito</td>\n",
       "      <td>Hell's Kitchen</td>\n",
       "      <td>Nyc</td>\n",
       "    </tr>\n",
       "    <tr>\n",
       "      <th>76906</th>\n",
       "      <td>AVweZN9nByjofQCxxz4o</td>\n",
       "      <td>754 Ninth Ave</td>\n",
       "      <td>Restaurant</td>\n",
       "      <td>New York</td>\n",
       "      <td>Mexican, American, Traditional Mexican</td>\n",
       "      <td>2015-10-19T20:44:15Z</td>\n",
       "      <td>2016-08-22T11:24:07Z</td>\n",
       "      <td>40.763858</td>\n",
       "      <td>-73.988327</td>\n",
       "      <td>Botanas</td>\n",
       "      <td>USD</td>\n",
       "      <td>2016-08-07T00:00:00Z</td>\n",
       "      <td>NaN</td>\n",
       "      <td>Grilled Chicken Mini Burrito</td>\n",
       "      <td>Hell's Kitchen</td>\n",
       "      <td>Nyc</td>\n",
       "    </tr>\n",
       "    <tr>\n",
       "      <th>76907</th>\n",
       "      <td>AVweZN9nByjofQCxxz4o</td>\n",
       "      <td>754 Ninth Ave</td>\n",
       "      <td>Restaurant</td>\n",
       "      <td>New York</td>\n",
       "      <td>Mexican, American, Traditional Mexican</td>\n",
       "      <td>2015-10-19T20:44:15Z</td>\n",
       "      <td>2016-08-22T11:24:07Z</td>\n",
       "      <td>40.763858</td>\n",
       "      <td>-73.988327</td>\n",
       "      <td>Botanas</td>\n",
       "      <td>USD</td>\n",
       "      <td>2016-08-07T00:00:00Z</td>\n",
       "      <td>with pumpkin seed guacamole</td>\n",
       "      <td>Grilled Vegetable Mini Burrito</td>\n",
       "      <td>Hell's Kitchen</td>\n",
       "      <td>Nyc</td>\n",
       "    </tr>\n",
       "    <tr>\n",
       "      <th>76908</th>\n",
       "      <td>AVweZN9nByjofQCxxz4o</td>\n",
       "      <td>754 Ninth Ave</td>\n",
       "      <td>Restaurant</td>\n",
       "      <td>New York</td>\n",
       "      <td>Mexican, American, Traditional Mexican</td>\n",
       "      <td>2015-10-19T20:44:15Z</td>\n",
       "      <td>2016-08-22T11:24:07Z</td>\n",
       "      <td>40.763858</td>\n",
       "      <td>-73.988327</td>\n",
       "      <td>Main</td>\n",
       "      <td>NaN</td>\n",
       "      <td>2016-08-21T00:00:00Z</td>\n",
       "      <td>NaN</td>\n",
       "      <td>Burritos</td>\n",
       "      <td>Hell's Kitchen</td>\n",
       "      <td>Nyc</td>\n",
       "    </tr>\n",
       "  </tbody>\n",
       "</table>\n",
       "<p>3756 rows × 16 columns</p>\n",
       "</div>"
      ],
      "text/plain": [
       "                         id          address  \\\n",
       "131    AVwc_9yCByjofQCxkdRX  322 S. Broadway   \n",
       "132    AVwc_9yCByjofQCxkdRX  322 S. Broadway   \n",
       "133    AVwc_9yCByjofQCxkdRX  322 S. Broadway   \n",
       "135    AVwc_9yCByjofQCxkdRX  322 S. Broadway   \n",
       "136    AVwc_9yCByjofQCxkdRX  322 S. Broadway   \n",
       "...                     ...              ...   \n",
       "76904  AVweZN9nByjofQCxxz4o    754 Ninth Ave   \n",
       "76905  AVweZN9nByjofQCxxz4o    754 Ninth Ave   \n",
       "76906  AVweZN9nByjofQCxxz4o    754 Ninth Ave   \n",
       "76907  AVweZN9nByjofQCxxz4o    754 Ninth Ave   \n",
       "76908  AVweZN9nByjofQCxxz4o    754 Ninth Ave   \n",
       "\n",
       "                                              categories      city  \\\n",
       "131    Fast Food,Restaurants,Mexican,Breakfast,Vegeta...     Salem   \n",
       "132    Fast Food,Restaurants,Mexican,Breakfast,Vegeta...     Salem   \n",
       "133    Fast Food,Restaurants,Mexican,Breakfast,Vegeta...     Salem   \n",
       "135    Fast Food,Restaurants,Mexican,Breakfast,Vegeta...     Salem   \n",
       "136    Fast Food,Restaurants,Mexican,Breakfast,Vegeta...     Salem   \n",
       "...                                                  ...       ...   \n",
       "76904                                         Restaurant  New York   \n",
       "76905                                         Restaurant  New York   \n",
       "76906                                         Restaurant  New York   \n",
       "76907                                         Restaurant  New York   \n",
       "76908                                         Restaurant  New York   \n",
       "\n",
       "                                     cuisines             dateAdded  \\\n",
       "131                                   Mexican  2016-03-28T06:01:51Z   \n",
       "132                                   Mexican  2016-03-28T06:01:51Z   \n",
       "133                                   Mexican  2016-03-28T06:01:51Z   \n",
       "135                                   Mexican  2016-03-28T06:01:51Z   \n",
       "136                                   Mexican  2016-03-28T06:01:51Z   \n",
       "...                                       ...                   ...   \n",
       "76904  Mexican, American, Traditional Mexican  2015-10-19T20:44:15Z   \n",
       "76905  Mexican, American, Traditional Mexican  2015-10-19T20:44:15Z   \n",
       "76906  Mexican, American, Traditional Mexican  2015-10-19T20:44:15Z   \n",
       "76907  Mexican, American, Traditional Mexican  2015-10-19T20:44:15Z   \n",
       "76908  Mexican, American, Traditional Mexican  2015-10-19T20:44:15Z   \n",
       "\n",
       "                dateUpdated   latitude  longitude menus.category  \\\n",
       "131    2017-06-27T10:01:48Z  42.755023 -71.209440            NaN   \n",
       "132    2017-06-27T10:01:48Z  42.755023 -71.209440            NaN   \n",
       "133    2017-06-27T10:01:48Z  42.755023 -71.209440            NaN   \n",
       "135    2017-06-27T10:01:48Z  42.755023 -71.209440            NaN   \n",
       "136    2017-06-27T10:01:48Z  42.755023 -71.209440            NaN   \n",
       "...                     ...        ...        ...            ...   \n",
       "76904  2016-08-22T11:24:07Z  40.763858 -73.988327          Tacos   \n",
       "76905  2016-08-22T11:24:07Z  40.763858 -73.988327   Huevos, Etc.   \n",
       "76906  2016-08-22T11:24:07Z  40.763858 -73.988327        Botanas   \n",
       "76907  2016-08-22T11:24:07Z  40.763858 -73.988327        Botanas   \n",
       "76908  2016-08-22T11:24:07Z  40.763858 -73.988327           Main   \n",
       "\n",
       "      menus.currency                             menus.dateSeen  \\\n",
       "131              NaN  2016-03-28T06:01:51Z,2016-06-06T16:15:44Z   \n",
       "132              NaN  2016-03-28T06:01:51Z,2016-06-06T16:15:44Z   \n",
       "133              NaN  2016-03-28T06:01:51Z,2016-06-06T16:15:44Z   \n",
       "135              NaN  2016-03-28T06:01:51Z,2016-06-06T16:15:44Z   \n",
       "136              NaN  2016-03-28T06:01:51Z,2016-06-06T16:15:44Z   \n",
       "...              ...                                        ...   \n",
       "76904            USD                       2016-08-21T00:00:00Z   \n",
       "76905            USD                       2016-08-07T00:00:00Z   \n",
       "76906            USD                       2016-08-07T00:00:00Z   \n",
       "76907            USD                       2016-08-07T00:00:00Z   \n",
       "76908            NaN                       2016-08-21T00:00:00Z   \n",
       "\n",
       "                 menus.description                      menus.name  \\\n",
       "131                            NaN                 Volcano Burrito   \n",
       "132                            NaN                    Taco 12 Pack   \n",
       "133                            NaN         Grilled Steak Soft Taco   \n",
       "135                            NaN  Fresco Grilled Steak Soft Taco   \n",
       "136                            NaN             Fresco Crunchy Taco   \n",
       "...                            ...                             ...   \n",
       "76904                          NaN                   Trio of Tacos   \n",
       "76905                          NaN                  Brunch Burrito   \n",
       "76906                          NaN    Grilled Chicken Mini Burrito   \n",
       "76907  with pumpkin seed guacamole  Grilled Vegetable Mini Burrito   \n",
       "76908                          NaN                        Burritos   \n",
       "\n",
       "                 name province  \n",
       "131         Taco Bell       NH  \n",
       "132         Taco Bell       NH  \n",
       "133         Taco Bell       NH  \n",
       "135         Taco Bell       NH  \n",
       "136         Taco Bell       NH  \n",
       "...               ...      ...  \n",
       "76904  Hell's Kitchen      Nyc  \n",
       "76905  Hell's Kitchen      Nyc  \n",
       "76906  Hell's Kitchen      Nyc  \n",
       "76907  Hell's Kitchen      Nyc  \n",
       "76908  Hell's Kitchen      Nyc  \n",
       "\n",
       "[3756 rows x 16 columns]"
      ]
     },
     "execution_count": 20,
     "metadata": {},
     "output_type": "execute_result"
    }
   ],
   "source": [
    "df[\n",
    "    ((df['city'] == 'New York') | (df['name'] == 'Taco Bell')) &\n",
    "    (~(df['menus.name'].isin(['Volcano Taco', 'Fresco Soft Taco']))) \n",
    "]"
   ]
  },
  {
   "cell_type": "markdown",
   "id": "ea29acc1",
   "metadata": {},
   "source": [
    "#### Давайте отберем рестораны, где значение валюты, в которой принимают оплату, не пропущено."
   ]
  },
  {
   "cell_type": "code",
   "execution_count": 21,
   "id": "17e11b78",
   "metadata": {
    "ExecuteTime": {
     "end_time": "2022-05-24T18:54:03.870614Z",
     "start_time": "2022-05-24T18:54:03.856651Z"
    }
   },
   "outputs": [],
   "source": [
    "curr_inst_null = df[\n",
    "    ~(df['menus.currency'].isna())\n",
    "]"
   ]
  },
  {
   "cell_type": "code",
   "execution_count": 22,
   "id": "2052a211",
   "metadata": {
    "ExecuteTime": {
     "end_time": "2022-05-24T18:54:03.900561Z",
     "start_time": "2022-05-24T18:54:03.871612Z"
    }
   },
   "outputs": [
    {
     "data": {
      "text/html": [
       "<div>\n",
       "<style scoped>\n",
       "    .dataframe tbody tr th:only-of-type {\n",
       "        vertical-align: middle;\n",
       "    }\n",
       "\n",
       "    .dataframe tbody tr th {\n",
       "        vertical-align: top;\n",
       "    }\n",
       "\n",
       "    .dataframe thead th {\n",
       "        text-align: right;\n",
       "    }\n",
       "</style>\n",
       "<table border=\"1\" class=\"dataframe\">\n",
       "  <thead>\n",
       "    <tr style=\"text-align: right;\">\n",
       "      <th></th>\n",
       "      <th>id</th>\n",
       "      <th>address</th>\n",
       "      <th>categories</th>\n",
       "      <th>city</th>\n",
       "      <th>cuisines</th>\n",
       "      <th>dateAdded</th>\n",
       "      <th>dateUpdated</th>\n",
       "      <th>latitude</th>\n",
       "      <th>longitude</th>\n",
       "      <th>menus.category</th>\n",
       "      <th>menus.currency</th>\n",
       "      <th>menus.dateSeen</th>\n",
       "      <th>menus.description</th>\n",
       "      <th>menus.name</th>\n",
       "      <th>name</th>\n",
       "      <th>province</th>\n",
       "    </tr>\n",
       "  </thead>\n",
       "  <tbody>\n",
       "    <tr>\n",
       "      <th>15</th>\n",
       "      <td>AVwc_1y6kufWRAb51O6w</td>\n",
       "      <td>906 Park Ave SW</td>\n",
       "      <td>Coffee Shop,Restaurants,Coffeehouses</td>\n",
       "      <td>Albuquerque</td>\n",
       "      <td>Coffee Shops</td>\n",
       "      <td>2016-06-05T20:15:56Z</td>\n",
       "      <td>2017-07-06T13:28:29Z</td>\n",
       "      <td>35.085320</td>\n",
       "      <td>-106.657616</td>\n",
       "      <td>NaN</td>\n",
       "      <td>USD</td>\n",
       "      <td>2016-06-05T20:15:56Z,2016-10-20T07:09:38Z</td>\n",
       "      <td>Potatoes, onion, peppers, mushroom, avocado, b...</td>\n",
       "      <td>Mondo Veggie Burrito</td>\n",
       "      <td>Java Joe's</td>\n",
       "      <td>NM</td>\n",
       "    </tr>\n",
       "    <tr>\n",
       "      <th>16</th>\n",
       "      <td>AVwc_1y6kufWRAb51O6w</td>\n",
       "      <td>906 Park Ave SW</td>\n",
       "      <td>Coffee Shop,Restaurants,Coffeehouses</td>\n",
       "      <td>Albuquerque</td>\n",
       "      <td>Coffee Shops</td>\n",
       "      <td>2016-06-05T20:15:56Z</td>\n",
       "      <td>2017-07-06T13:28:29Z</td>\n",
       "      <td>35.085320</td>\n",
       "      <td>-106.657616</td>\n",
       "      <td>NaN</td>\n",
       "      <td>USD</td>\n",
       "      <td>2016-06-05T20:15:56Z,2016-10-20T07:09:38Z</td>\n",
       "      <td>Grilled tofu, potatoes and your choice of chil...</td>\n",
       "      <td>Tofu Burrito</td>\n",
       "      <td>Java Joe's</td>\n",
       "      <td>NM</td>\n",
       "    </tr>\n",
       "    <tr>\n",
       "      <th>17</th>\n",
       "      <td>AVwc_1y6kufWRAb51O6w</td>\n",
       "      <td>906 Park Ave SW</td>\n",
       "      <td>Coffee Shop,Restaurants,Coffeehouses</td>\n",
       "      <td>Albuquerque</td>\n",
       "      <td>Coffee Shops</td>\n",
       "      <td>2016-06-05T20:15:56Z</td>\n",
       "      <td>2017-07-06T13:28:29Z</td>\n",
       "      <td>35.085320</td>\n",
       "      <td>-106.657616</td>\n",
       "      <td>NaN</td>\n",
       "      <td>USD</td>\n",
       "      <td>2016-06-05T20:15:56Z,2016-10-20T07:09:38Z</td>\n",
       "      <td>NaN</td>\n",
       "      <td>Black Bean Burrito</td>\n",
       "      <td>Java Joe's</td>\n",
       "      <td>NM</td>\n",
       "    </tr>\n",
       "    <tr>\n",
       "      <th>18</th>\n",
       "      <td>AVwc_2OQ_7pvs4fz1L5H</td>\n",
       "      <td>100 W Higgins Rd</td>\n",
       "      <td>Restaurant</td>\n",
       "      <td>Barrington</td>\n",
       "      <td>Mexican, Latin American</td>\n",
       "      <td>2016-07-26T17:39:41Z</td>\n",
       "      <td>2016-08-26T05:25:56Z</td>\n",
       "      <td>42.074974</td>\n",
       "      <td>-88.189151</td>\n",
       "      <td>NaN</td>\n",
       "      <td>USD</td>\n",
       "      <td>2016-08-22T00:00:00Z</td>\n",
       "      <td>NaN</td>\n",
       "      <td>Burrito De Rajas</td>\n",
       "      <td>Mago Grill &amp; Cantina - South Barrington</td>\n",
       "      <td>Fox Rv Vly Gn</td>\n",
       "    </tr>\n",
       "    <tr>\n",
       "      <th>19</th>\n",
       "      <td>AVwc_2OQ_7pvs4fz1L5H</td>\n",
       "      <td>100 W Higgins Rd</td>\n",
       "      <td>Restaurant</td>\n",
       "      <td>Barrington</td>\n",
       "      <td>Mexican, Latin American</td>\n",
       "      <td>2016-07-26T17:39:41Z</td>\n",
       "      <td>2016-08-26T05:25:56Z</td>\n",
       "      <td>42.074974</td>\n",
       "      <td>-88.189151</td>\n",
       "      <td>NaN</td>\n",
       "      <td>USD</td>\n",
       "      <td>2016-08-22T00:00:00Z</td>\n",
       "      <td>lettuce, chihuahua cheese, black beans, mexica...</td>\n",
       "      <td>Taco</td>\n",
       "      <td>Mago Grill &amp; Cantina - South Barrington</td>\n",
       "      <td>Fox Rv Vly Gn</td>\n",
       "    </tr>\n",
       "  </tbody>\n",
       "</table>\n",
       "</div>"
      ],
      "text/plain": [
       "                      id           address  \\\n",
       "15  AVwc_1y6kufWRAb51O6w   906 Park Ave SW   \n",
       "16  AVwc_1y6kufWRAb51O6w   906 Park Ave SW   \n",
       "17  AVwc_1y6kufWRAb51O6w   906 Park Ave SW   \n",
       "18  AVwc_2OQ_7pvs4fz1L5H  100 W Higgins Rd   \n",
       "19  AVwc_2OQ_7pvs4fz1L5H  100 W Higgins Rd   \n",
       "\n",
       "                              categories         city  \\\n",
       "15  Coffee Shop,Restaurants,Coffeehouses  Albuquerque   \n",
       "16  Coffee Shop,Restaurants,Coffeehouses  Albuquerque   \n",
       "17  Coffee Shop,Restaurants,Coffeehouses  Albuquerque   \n",
       "18                            Restaurant   Barrington   \n",
       "19                            Restaurant   Barrington   \n",
       "\n",
       "                   cuisines             dateAdded           dateUpdated  \\\n",
       "15             Coffee Shops  2016-06-05T20:15:56Z  2017-07-06T13:28:29Z   \n",
       "16             Coffee Shops  2016-06-05T20:15:56Z  2017-07-06T13:28:29Z   \n",
       "17             Coffee Shops  2016-06-05T20:15:56Z  2017-07-06T13:28:29Z   \n",
       "18  Mexican, Latin American  2016-07-26T17:39:41Z  2016-08-26T05:25:56Z   \n",
       "19  Mexican, Latin American  2016-07-26T17:39:41Z  2016-08-26T05:25:56Z   \n",
       "\n",
       "     latitude   longitude menus.category menus.currency  \\\n",
       "15  35.085320 -106.657616            NaN            USD   \n",
       "16  35.085320 -106.657616            NaN            USD   \n",
       "17  35.085320 -106.657616            NaN            USD   \n",
       "18  42.074974  -88.189151            NaN            USD   \n",
       "19  42.074974  -88.189151            NaN            USD   \n",
       "\n",
       "                               menus.dateSeen  \\\n",
       "15  2016-06-05T20:15:56Z,2016-10-20T07:09:38Z   \n",
       "16  2016-06-05T20:15:56Z,2016-10-20T07:09:38Z   \n",
       "17  2016-06-05T20:15:56Z,2016-10-20T07:09:38Z   \n",
       "18                       2016-08-22T00:00:00Z   \n",
       "19                       2016-08-22T00:00:00Z   \n",
       "\n",
       "                                    menus.description            menus.name  \\\n",
       "15  Potatoes, onion, peppers, mushroom, avocado, b...  Mondo Veggie Burrito   \n",
       "16  Grilled tofu, potatoes and your choice of chil...          Tofu Burrito   \n",
       "17                                                NaN    Black Bean Burrito   \n",
       "18                                                NaN      Burrito De Rajas   \n",
       "19  lettuce, chihuahua cheese, black beans, mexica...                  Taco   \n",
       "\n",
       "                                       name       province  \n",
       "15                               Java Joe's             NM  \n",
       "16                               Java Joe's             NM  \n",
       "17                               Java Joe's             NM  \n",
       "18  Mago Grill & Cantina - South Barrington  Fox Rv Vly Gn  \n",
       "19  Mago Grill & Cantina - South Barrington  Fox Rv Vly Gn  "
      ]
     },
     "execution_count": 22,
     "metadata": {},
     "output_type": "execute_result"
    }
   ],
   "source": [
    "curr_inst_null.head()"
   ]
  },
  {
   "cell_type": "code",
   "execution_count": 23,
   "id": "0b170dbc",
   "metadata": {
    "ExecuteTime": {
     "end_time": "2022-05-24T18:54:03.916504Z",
     "start_time": "2022-05-24T18:54:03.902529Z"
    }
   },
   "outputs": [
    {
     "data": {
      "text/plain": [
       "0"
      ]
     },
     "execution_count": 23,
     "metadata": {},
     "output_type": "execute_result"
    }
   ],
   "source": [
    "curr_inst_null['menus.currency'].isna().sum()"
   ]
  },
  {
   "cell_type": "markdown",
   "id": "084648be",
   "metadata": {},
   "source": [
    "Пропущенных значений действительно **нет!**"
   ]
  },
  {
   "cell_type": "markdown",
   "id": "13d181ee",
   "metadata": {},
   "source": [
    "#### Попробуйте сделать `data['categories']`, `data[['categories']]`, посмотрите на тип и на значения их элементов."
   ]
  },
  {
   "cell_type": "code",
   "execution_count": 24,
   "id": "22a5317c",
   "metadata": {
    "ExecuteTime": {
     "end_time": "2022-05-24T18:54:03.931829Z",
     "start_time": "2022-05-24T18:54:03.917488Z"
    }
   },
   "outputs": [
    {
     "data": {
      "text/plain": [
       "0    Restaurant Delivery Service,Restaurants,Pizza,...\n",
       "1    Restaurant Delivery Service,Restaurants,Pizza,...\n",
       "2         Golf Course, American Restaurant, and Resort\n",
       "3                                 Fast Food Restaurant\n",
       "4    Mexican Restaurant Mid-City West,Mexican Resta...\n",
       "Name: categories, dtype: object"
      ]
     },
     "execution_count": 24,
     "metadata": {},
     "output_type": "execute_result"
    }
   ],
   "source": [
    "df['categories'].head()"
   ]
  },
  {
   "cell_type": "code",
   "execution_count": 25,
   "id": "60522bcd",
   "metadata": {
    "ExecuteTime": {
     "end_time": "2022-05-24T18:54:03.947774Z",
     "start_time": "2022-05-24T18:54:03.932826Z"
    }
   },
   "outputs": [
    {
     "data": {
      "text/html": [
       "<div>\n",
       "<style scoped>\n",
       "    .dataframe tbody tr th:only-of-type {\n",
       "        vertical-align: middle;\n",
       "    }\n",
       "\n",
       "    .dataframe tbody tr th {\n",
       "        vertical-align: top;\n",
       "    }\n",
       "\n",
       "    .dataframe thead th {\n",
       "        text-align: right;\n",
       "    }\n",
       "</style>\n",
       "<table border=\"1\" class=\"dataframe\">\n",
       "  <thead>\n",
       "    <tr style=\"text-align: right;\">\n",
       "      <th></th>\n",
       "      <th>categories</th>\n",
       "    </tr>\n",
       "  </thead>\n",
       "  <tbody>\n",
       "    <tr>\n",
       "      <th>0</th>\n",
       "      <td>Restaurant Delivery Service,Restaurants,Pizza,...</td>\n",
       "    </tr>\n",
       "    <tr>\n",
       "      <th>1</th>\n",
       "      <td>Restaurant Delivery Service,Restaurants,Pizza,...</td>\n",
       "    </tr>\n",
       "    <tr>\n",
       "      <th>2</th>\n",
       "      <td>Golf Course, American Restaurant, and Resort</td>\n",
       "    </tr>\n",
       "    <tr>\n",
       "      <th>3</th>\n",
       "      <td>Fast Food Restaurant</td>\n",
       "    </tr>\n",
       "    <tr>\n",
       "      <th>4</th>\n",
       "      <td>Mexican Restaurant Mid-City West,Mexican Resta...</td>\n",
       "    </tr>\n",
       "  </tbody>\n",
       "</table>\n",
       "</div>"
      ],
      "text/plain": [
       "                                          categories\n",
       "0  Restaurant Delivery Service,Restaurants,Pizza,...\n",
       "1  Restaurant Delivery Service,Restaurants,Pizza,...\n",
       "2       Golf Course, American Restaurant, and Resort\n",
       "3                               Fast Food Restaurant\n",
       "4  Mexican Restaurant Mid-City West,Mexican Resta..."
      ]
     },
     "execution_count": 25,
     "metadata": {},
     "output_type": "execute_result"
    }
   ],
   "source": [
    "df[['categories']].head()"
   ]
  },
  {
   "cell_type": "code",
   "execution_count": 26,
   "id": "053cf437",
   "metadata": {
    "ExecuteTime": {
     "end_time": "2022-05-24T18:54:03.962761Z",
     "start_time": "2022-05-24T18:54:03.948799Z"
    }
   },
   "outputs": [
    {
     "name": "stdout",
     "output_type": "stream",
     "text": [
      "<class 'pandas.core.frame.DataFrame'> <class 'pandas.core.series.Series'>\n"
     ]
    }
   ],
   "source": [
    "print(type(df[['categories']]), type(df['categories']))"
   ]
  },
  {
   "cell_type": "code",
   "execution_count": 27,
   "id": "2e16c372",
   "metadata": {
    "ExecuteTime": {
     "end_time": "2022-05-24T18:54:03.977697Z",
     "start_time": "2022-05-24T18:54:03.966724Z"
    },
    "scrolled": true
   },
   "outputs": [
    {
     "name": "stdout",
     "output_type": "stream",
     "text": [
      "categories    object\n",
      "dtype: object, object\n"
     ]
    }
   ],
   "source": [
    "print(f'{df[[\"categories\"]].dtypes}, {df[\"categories\"].dtypes}')"
   ]
  },
  {
   "cell_type": "markdown",
   "id": "74ca2e72",
   "metadata": {},
   "source": [
    "`data['categories']` выдает _Series_, `data[['categories']]` выдает _DataFrame_. В обоих случаях тип данных _object_.\n"
   ]
  },
  {
   "cell_type": "markdown",
   "id": "98cd7666",
   "metadata": {},
   "source": [
    "#### Напишите через запятую и пробел 5 городов с наибольшим количеством записей."
   ]
  },
  {
   "cell_type": "code",
   "execution_count": 28,
   "id": "d182cb3c",
   "metadata": {
    "ExecuteTime": {
     "end_time": "2022-05-24T18:54:03.993650Z",
     "start_time": "2022-05-24T18:54:03.979688Z"
    },
    "scrolled": true
   },
   "outputs": [
    {
     "data": {
      "text/plain": [
       "San Diego        1924\n",
       "Los Angeles      1603\n",
       "Chicago          1186\n",
       "San Francisco    1120\n",
       "New York         1085\n",
       "Name: city, dtype: int64"
      ]
     },
     "execution_count": 28,
     "metadata": {},
     "output_type": "execute_result"
    }
   ],
   "source": [
    "df['city'].value_counts(ascending=False).head()"
   ]
  },
  {
   "cell_type": "code",
   "execution_count": 29,
   "id": "bd23ccca",
   "metadata": {
    "ExecuteTime": {
     "end_time": "2022-05-24T18:54:04.008612Z",
     "start_time": "2022-05-24T18:54:03.994648Z"
    }
   },
   "outputs": [
    {
     "data": {
      "text/plain": [
       "Index(['San Diego', 'Los Angeles', 'Chicago', 'San Francisco', 'New York'], dtype='object')"
      ]
     },
     "execution_count": 29,
     "metadata": {},
     "output_type": "execute_result"
    }
   ],
   "source": [
    "df['city'].value_counts(ascending=False).head().index"
   ]
  },
  {
   "cell_type": "markdown",
   "id": "25a5de56",
   "metadata": {},
   "source": [
    "#### Посчитайте, сколько ресторанов `Taco Bell` находится в каждом городе. \n",
    "Отберите 5 городов, в которых ресторан встречается чаще всего. Количество ресторанов для этих городов с их названиями\n",
    "сохраните в виде объекта `pd.Series` в переменную `result`."
   ]
  },
  {
   "cell_type": "code",
   "execution_count": 30,
   "id": "624c8cae",
   "metadata": {
    "ExecuteTime": {
     "end_time": "2022-05-24T18:54:04.039555Z",
     "start_time": "2022-05-24T18:54:04.009636Z"
    }
   },
   "outputs": [],
   "source": [
    "result = df.query('name == \"Taco Bell\"').city.value_counts().head()"
   ]
  },
  {
   "cell_type": "code",
   "execution_count": 31,
   "id": "4a340993",
   "metadata": {
    "ExecuteTime": {
     "end_time": "2022-05-24T18:54:04.054515Z",
     "start_time": "2022-05-24T18:54:04.040525Z"
    }
   },
   "outputs": [
    {
     "data": {
      "text/plain": [
       "Indianapolis        84\n",
       "Columbus            63\n",
       "Charleston          63\n",
       "Tampa               62\n",
       "South Lake Tahoe    42\n",
       "Name: city, dtype: int64"
      ]
     },
     "execution_count": 31,
     "metadata": {},
     "output_type": "execute_result"
    }
   ],
   "source": [
    "result"
   ]
  },
  {
   "cell_type": "markdown",
   "id": "eb93292c",
   "metadata": {},
   "source": [
    "#### Давайте найдем рестораны, открытые в октябре.\n",
    "Отправьте индексы первых пяти ресторанов через запятую и пробел в порядке возрастания."
   ]
  },
  {
   "cell_type": "code",
   "execution_count": 32,
   "id": "4ebcdf7c",
   "metadata": {
    "ExecuteTime": {
     "end_time": "2022-05-24T18:54:04.069467Z",
     "start_time": "2022-05-24T18:54:04.055506Z"
    }
   },
   "outputs": [
    {
     "data": {
      "text/plain": [
       "id                    object\n",
       "address               object\n",
       "categories            object\n",
       "city                  object\n",
       "cuisines              object\n",
       "dateAdded             object\n",
       "dateUpdated           object\n",
       "latitude             float64\n",
       "longitude            float64\n",
       "menus.category        object\n",
       "menus.currency        object\n",
       "menus.dateSeen        object\n",
       "menus.description     object\n",
       "menus.name            object\n",
       "name                  object\n",
       "province              object\n",
       "dtype: object"
      ]
     },
     "execution_count": 32,
     "metadata": {},
     "output_type": "execute_result"
    }
   ],
   "source": [
    "df.dtypes"
   ]
  },
  {
   "cell_type": "code",
   "execution_count": 33,
   "id": "84849abe",
   "metadata": {
    "ExecuteTime": {
     "end_time": "2022-05-24T18:54:04.115679Z",
     "start_time": "2022-05-24T18:54:04.070446Z"
    }
   },
   "outputs": [],
   "source": [
    "df['dateAdded'] = pd.to_datetime(df['dateAdded'])"
   ]
  },
  {
   "cell_type": "code",
   "execution_count": 34,
   "id": "d6ba4a8d",
   "metadata": {
    "ExecuteTime": {
     "end_time": "2022-05-24T18:54:04.130641Z",
     "start_time": "2022-05-24T18:54:04.116680Z"
    }
   },
   "outputs": [
    {
     "data": {
      "text/plain": [
       "datetime64[ns, UTC]"
      ]
     },
     "execution_count": 34,
     "metadata": {},
     "output_type": "execute_result"
    }
   ],
   "source": [
    "df['dateAdded'].dtype"
   ]
  },
  {
   "cell_type": "code",
   "execution_count": 35,
   "id": "6787ad9a",
   "metadata": {
    "ExecuteTime": {
     "end_time": "2022-05-24T18:54:04.161597Z",
     "start_time": "2022-05-24T18:54:04.131639Z"
    },
    "scrolled": false
   },
   "outputs": [
    {
     "data": {
      "text/html": [
       "<div>\n",
       "<style scoped>\n",
       "    .dataframe tbody tr th:only-of-type {\n",
       "        vertical-align: middle;\n",
       "    }\n",
       "\n",
       "    .dataframe tbody tr th {\n",
       "        vertical-align: top;\n",
       "    }\n",
       "\n",
       "    .dataframe thead th {\n",
       "        text-align: right;\n",
       "    }\n",
       "</style>\n",
       "<table border=\"1\" class=\"dataframe\">\n",
       "  <thead>\n",
       "    <tr style=\"text-align: right;\">\n",
       "      <th></th>\n",
       "      <th>id</th>\n",
       "      <th>address</th>\n",
       "      <th>categories</th>\n",
       "      <th>city</th>\n",
       "      <th>cuisines</th>\n",
       "      <th>dateAdded</th>\n",
       "      <th>dateUpdated</th>\n",
       "      <th>latitude</th>\n",
       "      <th>longitude</th>\n",
       "      <th>menus.category</th>\n",
       "      <th>menus.currency</th>\n",
       "      <th>menus.dateSeen</th>\n",
       "      <th>menus.description</th>\n",
       "      <th>menus.name</th>\n",
       "      <th>name</th>\n",
       "      <th>province</th>\n",
       "    </tr>\n",
       "  </thead>\n",
       "  <tbody>\n",
       "    <tr>\n",
       "      <th>2</th>\n",
       "      <td>AVwc__dF_7pvs4fz1Ncy</td>\n",
       "      <td>9521 Morton Davis Dr</td>\n",
       "      <td>Golf Course, American Restaurant, and Resort</td>\n",
       "      <td>Patterson</td>\n",
       "      <td>NaN</td>\n",
       "      <td>2016-10-14 01:58:25+00:00</td>\n",
       "      <td>2016-10-14T01:58:25Z</td>\n",
       "      <td>37.401855</td>\n",
       "      <td>-121.266703</td>\n",
       "      <td>NaN</td>\n",
       "      <td>NaN</td>\n",
       "      <td>2016-10-14T01:58:25Z</td>\n",
       "      <td>Beef barbacoa or chicken, spanish rice, pico d...</td>\n",
       "      <td>Smotherd Burrito</td>\n",
       "      <td>Diablo Grande Golf &amp; Country Club</td>\n",
       "      <td>Grayson</td>\n",
       "    </tr>\n",
       "    <tr>\n",
       "      <th>21</th>\n",
       "      <td>AVwc_3Kp_7pvs4fz1MDQ</td>\n",
       "      <td>116 Pleasant St</td>\n",
       "      <td>Restaurant,Seafood Restaurants,Take Out Restau...</td>\n",
       "      <td>Easthampton</td>\n",
       "      <td>American,Seafood Restaurants</td>\n",
       "      <td>2015-10-26 23:10:06+00:00</td>\n",
       "      <td>2016-09-19T17:41:29Z</td>\n",
       "      <td>42.273525</td>\n",
       "      <td>-72.663124</td>\n",
       "      <td>NaN</td>\n",
       "      <td>USD</td>\n",
       "      <td>2016-09-19T17:41:29Z</td>\n",
       "      <td>Crispy house-smoked pork belly, hoisin sauce, ...</td>\n",
       "      <td>Korean Pork Belly Tacos</td>\n",
       "      <td>Riff's Joint</td>\n",
       "      <td>Westhampton</td>\n",
       "    </tr>\n",
       "    <tr>\n",
       "      <th>22</th>\n",
       "      <td>AVwc_3Kp_7pvs4fz1MDQ</td>\n",
       "      <td>116 Pleasant St</td>\n",
       "      <td>Restaurant,Seafood Restaurants,Take Out Restau...</td>\n",
       "      <td>Easthampton</td>\n",
       "      <td>American,Seafood Restaurants</td>\n",
       "      <td>2015-10-26 23:10:06+00:00</td>\n",
       "      <td>2016-09-19T17:41:29Z</td>\n",
       "      <td>42.273525</td>\n",
       "      <td>-72.663124</td>\n",
       "      <td>NaN</td>\n",
       "      <td>USD</td>\n",
       "      <td>2016-09-19T17:41:29Z</td>\n",
       "      <td>Black beans, corn and black bean salsa, guacam...</td>\n",
       "      <td>Speedy Gonzalez Burrito</td>\n",
       "      <td>Riff's Joint</td>\n",
       "      <td>Westhampton</td>\n",
       "    </tr>\n",
       "    <tr>\n",
       "      <th>23</th>\n",
       "      <td>AVwc_3Kp_7pvs4fz1MDQ</td>\n",
       "      <td>116 Pleasant St</td>\n",
       "      <td>Restaurant,Seafood Restaurants,Take Out Restau...</td>\n",
       "      <td>Easthampton</td>\n",
       "      <td>American,Seafood Restaurants</td>\n",
       "      <td>2015-10-26 23:10:06+00:00</td>\n",
       "      <td>2016-09-19T17:41:29Z</td>\n",
       "      <td>42.273525</td>\n",
       "      <td>-72.663124</td>\n",
       "      <td>NaN</td>\n",
       "      <td>USD</td>\n",
       "      <td>2016-09-19T17:41:29Z</td>\n",
       "      <td>Black beans, jasmine rice and peanut slaw</td>\n",
       "      <td>Thai Dyed Burrito</td>\n",
       "      <td>Riff's Joint</td>\n",
       "      <td>Westhampton</td>\n",
       "    </tr>\n",
       "    <tr>\n",
       "      <th>24</th>\n",
       "      <td>AVwc_3Kp_7pvs4fz1MDQ</td>\n",
       "      <td>116 Pleasant St</td>\n",
       "      <td>Restaurant,Seafood Restaurants,Take Out Restau...</td>\n",
       "      <td>Easthampton</td>\n",
       "      <td>American,Seafood Restaurants</td>\n",
       "      <td>2015-10-26 23:10:06+00:00</td>\n",
       "      <td>2016-09-19T17:41:29Z</td>\n",
       "      <td>42.273525</td>\n",
       "      <td>-72.663124</td>\n",
       "      <td>NaN</td>\n",
       "      <td>USD</td>\n",
       "      <td>2016-09-19T17:41:29Z</td>\n",
       "      <td>Black beans, cheddar, salsa, rice, sour cream,...</td>\n",
       "      <td>Burrito Supreme</td>\n",
       "      <td>Riff's Joint</td>\n",
       "      <td>Westhampton</td>\n",
       "    </tr>\n",
       "  </tbody>\n",
       "</table>\n",
       "</div>"
      ],
      "text/plain": [
       "                      id               address  \\\n",
       "2   AVwc__dF_7pvs4fz1Ncy  9521 Morton Davis Dr   \n",
       "21  AVwc_3Kp_7pvs4fz1MDQ       116 Pleasant St   \n",
       "22  AVwc_3Kp_7pvs4fz1MDQ       116 Pleasant St   \n",
       "23  AVwc_3Kp_7pvs4fz1MDQ       116 Pleasant St   \n",
       "24  AVwc_3Kp_7pvs4fz1MDQ       116 Pleasant St   \n",
       "\n",
       "                                           categories         city  \\\n",
       "2        Golf Course, American Restaurant, and Resort    Patterson   \n",
       "21  Restaurant,Seafood Restaurants,Take Out Restau...  Easthampton   \n",
       "22  Restaurant,Seafood Restaurants,Take Out Restau...  Easthampton   \n",
       "23  Restaurant,Seafood Restaurants,Take Out Restau...  Easthampton   \n",
       "24  Restaurant,Seafood Restaurants,Take Out Restau...  Easthampton   \n",
       "\n",
       "                        cuisines                 dateAdded  \\\n",
       "2                            NaN 2016-10-14 01:58:25+00:00   \n",
       "21  American,Seafood Restaurants 2015-10-26 23:10:06+00:00   \n",
       "22  American,Seafood Restaurants 2015-10-26 23:10:06+00:00   \n",
       "23  American,Seafood Restaurants 2015-10-26 23:10:06+00:00   \n",
       "24  American,Seafood Restaurants 2015-10-26 23:10:06+00:00   \n",
       "\n",
       "             dateUpdated   latitude   longitude menus.category menus.currency  \\\n",
       "2   2016-10-14T01:58:25Z  37.401855 -121.266703            NaN            NaN   \n",
       "21  2016-09-19T17:41:29Z  42.273525  -72.663124            NaN            USD   \n",
       "22  2016-09-19T17:41:29Z  42.273525  -72.663124            NaN            USD   \n",
       "23  2016-09-19T17:41:29Z  42.273525  -72.663124            NaN            USD   \n",
       "24  2016-09-19T17:41:29Z  42.273525  -72.663124            NaN            USD   \n",
       "\n",
       "          menus.dateSeen                                  menus.description  \\\n",
       "2   2016-10-14T01:58:25Z  Beef barbacoa or chicken, spanish rice, pico d...   \n",
       "21  2016-09-19T17:41:29Z  Crispy house-smoked pork belly, hoisin sauce, ...   \n",
       "22  2016-09-19T17:41:29Z  Black beans, corn and black bean salsa, guacam...   \n",
       "23  2016-09-19T17:41:29Z          Black beans, jasmine rice and peanut slaw   \n",
       "24  2016-09-19T17:41:29Z  Black beans, cheddar, salsa, rice, sour cream,...   \n",
       "\n",
       "                 menus.name                               name     province  \n",
       "2          Smotherd Burrito  Diablo Grande Golf & Country Club      Grayson  \n",
       "21  Korean Pork Belly Tacos                       Riff's Joint  Westhampton  \n",
       "22  Speedy Gonzalez Burrito                       Riff's Joint  Westhampton  \n",
       "23        Thai Dyed Burrito                       Riff's Joint  Westhampton  \n",
       "24          Burrito Supreme                       Riff's Joint  Westhampton  "
      ]
     },
     "execution_count": 35,
     "metadata": {},
     "output_type": "execute_result"
    }
   ],
   "source": [
    "df[\n",
    "    df['dateAdded'].dt.month == 10\n",
    "].head()"
   ]
  },
  {
   "cell_type": "code",
   "execution_count": 36,
   "id": "8f8101c7",
   "metadata": {
    "ExecuteTime": {
     "end_time": "2022-05-24T18:54:04.176540Z",
     "start_time": "2022-05-24T18:54:04.162558Z"
    }
   },
   "outputs": [
    {
     "data": {
      "text/plain": [
       "Int64Index([2, 21, 22, 23, 24], dtype='int64')"
      ]
     },
     "execution_count": 36,
     "metadata": {},
     "output_type": "execute_result"
    }
   ],
   "source": [
    "df[\n",
    "    df['dateAdded'].dt.month == 10\n",
    "].head().index"
   ]
  },
  {
   "cell_type": "markdown",
   "id": "0c8e49e9",
   "metadata": {},
   "source": [
    "#### Сделайте группировку по месяцу открытия ресторана (переменная `dateAdded`). \n",
    "Сколько ресторанов было открыто в каждом месяце года? Рассчитайте по количеству уникальных `id` ресторанов в каждом месяце.\n",
    "Значения `dateAdded` должны при этом быть индексами. Результирующий датафрейм сохраните в `result`."
   ]
  },
  {
   "cell_type": "code",
   "execution_count": 37,
   "id": "ca913382",
   "metadata": {
    "ExecuteTime": {
     "end_time": "2022-05-24T18:54:04.207466Z",
     "start_time": "2022-05-24T18:54:04.177517Z"
    }
   },
   "outputs": [
    {
     "data": {
      "text/html": [
       "<div>\n",
       "<style scoped>\n",
       "    .dataframe tbody tr th:only-of-type {\n",
       "        vertical-align: middle;\n",
       "    }\n",
       "\n",
       "    .dataframe tbody tr th {\n",
       "        vertical-align: top;\n",
       "    }\n",
       "\n",
       "    .dataframe thead th {\n",
       "        text-align: right;\n",
       "    }\n",
       "</style>\n",
       "<table border=\"1\" class=\"dataframe\">\n",
       "  <thead>\n",
       "    <tr style=\"text-align: right;\">\n",
       "      <th></th>\n",
       "      <th>id</th>\n",
       "    </tr>\n",
       "    <tr>\n",
       "      <th>dateAdded</th>\n",
       "      <th></th>\n",
       "    </tr>\n",
       "  </thead>\n",
       "  <tbody>\n",
       "    <tr>\n",
       "      <th>1</th>\n",
       "      <td>308</td>\n",
       "    </tr>\n",
       "    <tr>\n",
       "      <th>2</th>\n",
       "      <td>257</td>\n",
       "    </tr>\n",
       "    <tr>\n",
       "      <th>3</th>\n",
       "      <td>4970</td>\n",
       "    </tr>\n",
       "    <tr>\n",
       "      <th>4</th>\n",
       "      <td>3224</td>\n",
       "    </tr>\n",
       "    <tr>\n",
       "      <th>5</th>\n",
       "      <td>1141</td>\n",
       "    </tr>\n",
       "    <tr>\n",
       "      <th>6</th>\n",
       "      <td>1356</td>\n",
       "    </tr>\n",
       "    <tr>\n",
       "      <th>7</th>\n",
       "      <td>645</td>\n",
       "    </tr>\n",
       "    <tr>\n",
       "      <th>8</th>\n",
       "      <td>479</td>\n",
       "    </tr>\n",
       "    <tr>\n",
       "      <th>9</th>\n",
       "      <td>554</td>\n",
       "    </tr>\n",
       "    <tr>\n",
       "      <th>10</th>\n",
       "      <td>4716</td>\n",
       "    </tr>\n",
       "    <tr>\n",
       "      <th>11</th>\n",
       "      <td>1550</td>\n",
       "    </tr>\n",
       "    <tr>\n",
       "      <th>12</th>\n",
       "      <td>239</td>\n",
       "    </tr>\n",
       "  </tbody>\n",
       "</table>\n",
       "</div>"
      ],
      "text/plain": [
       "             id\n",
       "dateAdded      \n",
       "1           308\n",
       "2           257\n",
       "3          4970\n",
       "4          3224\n",
       "5          1141\n",
       "6          1356\n",
       "7           645\n",
       "8           479\n",
       "9           554\n",
       "10         4716\n",
       "11         1550\n",
       "12          239"
      ]
     },
     "execution_count": 37,
     "metadata": {},
     "output_type": "execute_result"
    }
   ],
   "source": [
    "df.groupby(df['dateAdded'].dt.month).agg({'id': 'nunique'})"
   ]
  },
  {
   "cell_type": "code",
   "execution_count": 38,
   "id": "8b8eebd0",
   "metadata": {
    "ExecuteTime": {
     "end_time": "2022-05-24T18:54:04.237385Z",
     "start_time": "2022-05-24T18:54:04.208435Z"
    }
   },
   "outputs": [
    {
     "data": {
      "text/html": [
       "<div>\n",
       "<style scoped>\n",
       "    .dataframe tbody tr th:only-of-type {\n",
       "        vertical-align: middle;\n",
       "    }\n",
       "\n",
       "    .dataframe tbody tr th {\n",
       "        vertical-align: top;\n",
       "    }\n",
       "\n",
       "    .dataframe thead th {\n",
       "        text-align: right;\n",
       "    }\n",
       "</style>\n",
       "<table border=\"1\" class=\"dataframe\">\n",
       "  <thead>\n",
       "    <tr style=\"text-align: right;\">\n",
       "      <th></th>\n",
       "      <th>id</th>\n",
       "    </tr>\n",
       "    <tr>\n",
       "      <th>dateAdded</th>\n",
       "      <th></th>\n",
       "    </tr>\n",
       "  </thead>\n",
       "  <tbody>\n",
       "    <tr>\n",
       "      <th>1</th>\n",
       "      <td>1258</td>\n",
       "    </tr>\n",
       "    <tr>\n",
       "      <th>2</th>\n",
       "      <td>994</td>\n",
       "    </tr>\n",
       "    <tr>\n",
       "      <th>3</th>\n",
       "      <td>20611</td>\n",
       "    </tr>\n",
       "    <tr>\n",
       "      <th>4</th>\n",
       "      <td>12171</td>\n",
       "    </tr>\n",
       "    <tr>\n",
       "      <th>5</th>\n",
       "      <td>4433</td>\n",
       "    </tr>\n",
       "    <tr>\n",
       "      <th>6</th>\n",
       "      <td>5536</td>\n",
       "    </tr>\n",
       "    <tr>\n",
       "      <th>7</th>\n",
       "      <td>2315</td>\n",
       "    </tr>\n",
       "    <tr>\n",
       "      <th>8</th>\n",
       "      <td>1542</td>\n",
       "    </tr>\n",
       "    <tr>\n",
       "      <th>9</th>\n",
       "      <td>1893</td>\n",
       "    </tr>\n",
       "    <tr>\n",
       "      <th>10</th>\n",
       "      <td>19542</td>\n",
       "    </tr>\n",
       "    <tr>\n",
       "      <th>11</th>\n",
       "      <td>5891</td>\n",
       "    </tr>\n",
       "    <tr>\n",
       "      <th>12</th>\n",
       "      <td>1074</td>\n",
       "    </tr>\n",
       "  </tbody>\n",
       "</table>\n",
       "</div>"
      ],
      "text/plain": [
       "              id\n",
       "dateAdded       \n",
       "1           1258\n",
       "2            994\n",
       "3          20611\n",
       "4          12171\n",
       "5           4433\n",
       "6           5536\n",
       "7           2315\n",
       "8           1542\n",
       "9           1893\n",
       "10         19542\n",
       "11          5891\n",
       "12          1074"
      ]
     },
     "execution_count": 38,
     "metadata": {},
     "output_type": "execute_result"
    }
   ],
   "source": [
    "df.groupby(df['dateAdded'].dt.month).agg({'id': 'count'})"
   ]
  },
  {
   "cell_type": "markdown",
   "id": "59a09056",
   "metadata": {},
   "source": [
    "В одной группе каждый `id` может повторяться (скажем, в течение месяца информация о ресторане обновлялась). Поэтому `count()` нам не подойдет!"
   ]
  },
  {
   "cell_type": "markdown",
   "id": "37456e8e",
   "metadata": {},
   "source": [
    "#### В этом задании нужно добавить столбец `update_deltaс` количеством целых дней, полученных от разницы между `dateUpdated` и `dateAdded`.\n",
    "\n",
    "Потом для каждого города найдите (в указанном порядке):\n",
    "\n",
    "- среднее по переменной `update_delta`\n",
    "\n",
    "- широту самой северной закусочной (чем севернее располжоена закусочная, тем больше будет значение широты)\n",
    "\n",
    "Названия городов не должны быть индексами. Сохраните результирующий датафрейм в переменную `result`. Также сохраните в переменную `zep_mean` среднее значение `update_delta` по городу `Zephyrhills`."
   ]
  },
  {
   "cell_type": "code",
   "execution_count": 39,
   "id": "fefa1849",
   "metadata": {
    "ExecuteTime": {
     "end_time": "2022-05-24T18:54:04.253327Z",
     "start_time": "2022-05-24T18:54:04.238355Z"
    }
   },
   "outputs": [
    {
     "data": {
      "text/plain": [
       "id                                object\n",
       "address                           object\n",
       "categories                        object\n",
       "city                              object\n",
       "cuisines                          object\n",
       "dateAdded            datetime64[ns, UTC]\n",
       "dateUpdated                       object\n",
       "latitude                         float64\n",
       "longitude                        float64\n",
       "menus.category                    object\n",
       "menus.currency                    object\n",
       "menus.dateSeen                    object\n",
       "menus.description                 object\n",
       "menus.name                        object\n",
       "name                              object\n",
       "province                          object\n",
       "dtype: object"
      ]
     },
     "execution_count": 39,
     "metadata": {},
     "output_type": "execute_result"
    }
   ],
   "source": [
    "df.dtypes"
   ]
  },
  {
   "cell_type": "code",
   "execution_count": 40,
   "id": "4a3c63d8",
   "metadata": {
    "ExecuteTime": {
     "end_time": "2022-05-24T18:54:04.298703Z",
     "start_time": "2022-05-24T18:54:04.254312Z"
    }
   },
   "outputs": [],
   "source": [
    "df['dateUpdated'] = pd.to_datetime(df['dateUpdated'])"
   ]
  },
  {
   "cell_type": "code",
   "execution_count": 41,
   "id": "ae854268",
   "metadata": {
    "ExecuteTime": {
     "end_time": "2022-05-24T18:54:04.314625Z",
     "start_time": "2022-05-24T18:54:04.299666Z"
    }
   },
   "outputs": [
    {
     "data": {
      "text/plain": [
       "datetime64[ns, UTC]"
      ]
     },
     "execution_count": 41,
     "metadata": {},
     "output_type": "execute_result"
    }
   ],
   "source": [
    "df['dateUpdated'].dtype"
   ]
  },
  {
   "cell_type": "code",
   "execution_count": 56,
   "id": "8931eeb0",
   "metadata": {
    "ExecuteTime": {
     "end_time": "2022-05-24T18:55:38.698620Z",
     "start_time": "2022-05-24T18:55:38.677677Z"
    }
   },
   "outputs": [],
   "source": [
    "df['update_delta'] = (df['dateUpdated']- df['dateAdded']).dt.days"
   ]
  },
  {
   "cell_type": "code",
   "execution_count": 57,
   "id": "1dc603ba",
   "metadata": {
    "ExecuteTime": {
     "end_time": "2022-05-24T18:55:39.098374Z",
     "start_time": "2022-05-24T18:55:39.079405Z"
    }
   },
   "outputs": [
    {
     "data": {
      "text/html": [
       "<div>\n",
       "<style scoped>\n",
       "    .dataframe tbody tr th:only-of-type {\n",
       "        vertical-align: middle;\n",
       "    }\n",
       "\n",
       "    .dataframe tbody tr th {\n",
       "        vertical-align: top;\n",
       "    }\n",
       "\n",
       "    .dataframe thead th {\n",
       "        text-align: right;\n",
       "    }\n",
       "</style>\n",
       "<table border=\"1\" class=\"dataframe\">\n",
       "  <thead>\n",
       "    <tr style=\"text-align: right;\">\n",
       "      <th></th>\n",
       "      <th>id</th>\n",
       "      <th>address</th>\n",
       "      <th>categories</th>\n",
       "      <th>city</th>\n",
       "      <th>cuisines</th>\n",
       "      <th>dateAdded</th>\n",
       "      <th>dateUpdated</th>\n",
       "      <th>latitude</th>\n",
       "      <th>longitude</th>\n",
       "      <th>menus.category</th>\n",
       "      <th>menus.currency</th>\n",
       "      <th>menus.dateSeen</th>\n",
       "      <th>menus.description</th>\n",
       "      <th>menus.name</th>\n",
       "      <th>name</th>\n",
       "      <th>province</th>\n",
       "      <th>update_delta</th>\n",
       "    </tr>\n",
       "  </thead>\n",
       "  <tbody>\n",
       "    <tr>\n",
       "      <th>0</th>\n",
       "      <td>AVwc__cikufWRAb51QjV</td>\n",
       "      <td>610 Commercial St</td>\n",
       "      <td>Restaurant Delivery Service,Restaurants,Pizza,...</td>\n",
       "      <td>Atchison</td>\n",
       "      <td>Restaurant Delivery Service</td>\n",
       "      <td>2016-03-02 11:49:34+00:00</td>\n",
       "      <td>2017-02-01 18:04:44+00:00</td>\n",
       "      <td>39.561570</td>\n",
       "      <td>-95.121020</td>\n",
       "      <td>NaN</td>\n",
       "      <td>NaN</td>\n",
       "      <td>2017-02-01T18:04:44Z</td>\n",
       "      <td>NaN</td>\n",
       "      <td>Taco</td>\n",
       "      <td>Gambino's Pizza</td>\n",
       "      <td>KS</td>\n",
       "      <td>336</td>\n",
       "    </tr>\n",
       "    <tr>\n",
       "      <th>1</th>\n",
       "      <td>AVwc__cikufWRAb51QjV</td>\n",
       "      <td>610 Commercial St</td>\n",
       "      <td>Restaurant Delivery Service,Restaurants,Pizza,...</td>\n",
       "      <td>Atchison</td>\n",
       "      <td>Restaurant Delivery Service</td>\n",
       "      <td>2016-03-02 11:49:34+00:00</td>\n",
       "      <td>2017-02-01 18:04:44+00:00</td>\n",
       "      <td>39.561570</td>\n",
       "      <td>-95.121020</td>\n",
       "      <td>NaN</td>\n",
       "      <td>NaN</td>\n",
       "      <td>2016-03-02T11:49:34Z</td>\n",
       "      <td>Beef, onion, cheddar cheese, lettuce,  refried...</td>\n",
       "      <td>Taco</td>\n",
       "      <td>Gambino's Pizza</td>\n",
       "      <td>KS</td>\n",
       "      <td>336</td>\n",
       "    </tr>\n",
       "    <tr>\n",
       "      <th>2</th>\n",
       "      <td>AVwc__dF_7pvs4fz1Ncy</td>\n",
       "      <td>9521 Morton Davis Dr</td>\n",
       "      <td>Golf Course, American Restaurant, and Resort</td>\n",
       "      <td>Patterson</td>\n",
       "      <td>NaN</td>\n",
       "      <td>2016-10-14 01:58:25+00:00</td>\n",
       "      <td>2016-10-14 01:58:25+00:00</td>\n",
       "      <td>37.401855</td>\n",
       "      <td>-121.266703</td>\n",
       "      <td>NaN</td>\n",
       "      <td>NaN</td>\n",
       "      <td>2016-10-14T01:58:25Z</td>\n",
       "      <td>Beef barbacoa or chicken, spanish rice, pico d...</td>\n",
       "      <td>Smotherd Burrito</td>\n",
       "      <td>Diablo Grande Golf &amp; Country Club</td>\n",
       "      <td>Grayson</td>\n",
       "      <td>0</td>\n",
       "    </tr>\n",
       "    <tr>\n",
       "      <th>3</th>\n",
       "      <td>AVwc__kCByjofQCxkdm-</td>\n",
       "      <td>10550 W I 25 Frontage Rd</td>\n",
       "      <td>Fast Food Restaurant</td>\n",
       "      <td>Longmont</td>\n",
       "      <td>NaN</td>\n",
       "      <td>2016-09-09 17:30:34+00:00</td>\n",
       "      <td>2016-10-04 05:15:17+00:00</td>\n",
       "      <td>NaN</td>\n",
       "      <td>NaN</td>\n",
       "      <td>NaN</td>\n",
       "      <td>NaN</td>\n",
       "      <td>2016-09-09T17:30:34Z</td>\n",
       "      <td>NaN</td>\n",
       "      <td>Sausage Burrito</td>\n",
       "      <td>Mcdonald's</td>\n",
       "      <td>Niwot</td>\n",
       "      <td>24</td>\n",
       "    </tr>\n",
       "    <tr>\n",
       "      <th>4</th>\n",
       "      <td>AVwc__WtByjofQCxkdkR</td>\n",
       "      <td>8495 W 3rd St</td>\n",
       "      <td>Mexican Restaurant Mid-City West,Mexican Resta...</td>\n",
       "      <td>Los Angeles</td>\n",
       "      <td>Mexican</td>\n",
       "      <td>2016-05-19 11:50:25+00:00</td>\n",
       "      <td>2016-09-11 00:06:37+00:00</td>\n",
       "      <td>34.080724</td>\n",
       "      <td>-118.389578</td>\n",
       "      <td>NaN</td>\n",
       "      <td>NaN</td>\n",
       "      <td>2016-05-19T11:50:25Z</td>\n",
       "      <td>Wahoo, avocado, cabbage, pico de gallo  and av...</td>\n",
       "      <td>Wahoo Tacogrilled</td>\n",
       "      <td>Baja Fresh Mexican Grill</td>\n",
       "      <td>Bicentennial</td>\n",
       "      <td>114</td>\n",
       "    </tr>\n",
       "  </tbody>\n",
       "</table>\n",
       "</div>"
      ],
      "text/plain": [
       "                     id                   address  \\\n",
       "0  AVwc__cikufWRAb51QjV         610 Commercial St   \n",
       "1  AVwc__cikufWRAb51QjV         610 Commercial St   \n",
       "2  AVwc__dF_7pvs4fz1Ncy      9521 Morton Davis Dr   \n",
       "3  AVwc__kCByjofQCxkdm-  10550 W I 25 Frontage Rd   \n",
       "4  AVwc__WtByjofQCxkdkR             8495 W 3rd St   \n",
       "\n",
       "                                          categories         city  \\\n",
       "0  Restaurant Delivery Service,Restaurants,Pizza,...     Atchison   \n",
       "1  Restaurant Delivery Service,Restaurants,Pizza,...     Atchison   \n",
       "2       Golf Course, American Restaurant, and Resort    Patterson   \n",
       "3                               Fast Food Restaurant     Longmont   \n",
       "4  Mexican Restaurant Mid-City West,Mexican Resta...  Los Angeles   \n",
       "\n",
       "                      cuisines                 dateAdded  \\\n",
       "0  Restaurant Delivery Service 2016-03-02 11:49:34+00:00   \n",
       "1  Restaurant Delivery Service 2016-03-02 11:49:34+00:00   \n",
       "2                          NaN 2016-10-14 01:58:25+00:00   \n",
       "3                          NaN 2016-09-09 17:30:34+00:00   \n",
       "4                      Mexican 2016-05-19 11:50:25+00:00   \n",
       "\n",
       "                dateUpdated   latitude   longitude menus.category  \\\n",
       "0 2017-02-01 18:04:44+00:00  39.561570  -95.121020            NaN   \n",
       "1 2017-02-01 18:04:44+00:00  39.561570  -95.121020            NaN   \n",
       "2 2016-10-14 01:58:25+00:00  37.401855 -121.266703            NaN   \n",
       "3 2016-10-04 05:15:17+00:00        NaN         NaN            NaN   \n",
       "4 2016-09-11 00:06:37+00:00  34.080724 -118.389578            NaN   \n",
       "\n",
       "  menus.currency        menus.dateSeen  \\\n",
       "0            NaN  2017-02-01T18:04:44Z   \n",
       "1            NaN  2016-03-02T11:49:34Z   \n",
       "2            NaN  2016-10-14T01:58:25Z   \n",
       "3            NaN  2016-09-09T17:30:34Z   \n",
       "4            NaN  2016-05-19T11:50:25Z   \n",
       "\n",
       "                                   menus.description         menus.name  \\\n",
       "0                                                NaN               Taco   \n",
       "1  Beef, onion, cheddar cheese, lettuce,  refried...               Taco   \n",
       "2  Beef barbacoa or chicken, spanish rice, pico d...   Smotherd Burrito   \n",
       "3                                                NaN    Sausage Burrito   \n",
       "4  Wahoo, avocado, cabbage, pico de gallo  and av...  Wahoo Tacogrilled   \n",
       "\n",
       "                                name      province  update_delta  \n",
       "0                    Gambino's Pizza            KS           336  \n",
       "1                    Gambino's Pizza            KS           336  \n",
       "2  Diablo Grande Golf & Country Club       Grayson             0  \n",
       "3                         Mcdonald's         Niwot            24  \n",
       "4           Baja Fresh Mexican Grill  Bicentennial           114  "
      ]
     },
     "execution_count": 57,
     "metadata": {},
     "output_type": "execute_result"
    }
   ],
   "source": [
    "df.head()"
   ]
  },
  {
   "cell_type": "code",
   "execution_count": 58,
   "id": "718e1eb5",
   "metadata": {
    "ExecuteTime": {
     "end_time": "2022-05-24T18:55:47.368353Z",
     "start_time": "2022-05-24T18:55:47.340416Z"
    }
   },
   "outputs": [
    {
     "data": {
      "text/html": [
       "<div>\n",
       "<style scoped>\n",
       "    .dataframe tbody tr th:only-of-type {\n",
       "        vertical-align: middle;\n",
       "    }\n",
       "\n",
       "    .dataframe tbody tr th {\n",
       "        vertical-align: top;\n",
       "    }\n",
       "\n",
       "    .dataframe thead th {\n",
       "        text-align: right;\n",
       "    }\n",
       "</style>\n",
       "<table border=\"1\" class=\"dataframe\">\n",
       "  <thead>\n",
       "    <tr style=\"text-align: right;\">\n",
       "      <th></th>\n",
       "      <th>city</th>\n",
       "      <th>update_delta</th>\n",
       "      <th>latitude</th>\n",
       "    </tr>\n",
       "  </thead>\n",
       "  <tbody>\n",
       "    <tr>\n",
       "      <th>0</th>\n",
       "      <td>Abbeville</td>\n",
       "      <td>114.857143</td>\n",
       "      <td>29.982108</td>\n",
       "    </tr>\n",
       "    <tr>\n",
       "      <th>1</th>\n",
       "      <td>Aberdeen</td>\n",
       "      <td>81.625000</td>\n",
       "      <td>46.975110</td>\n",
       "    </tr>\n",
       "    <tr>\n",
       "      <th>2</th>\n",
       "      <td>Abilene</td>\n",
       "      <td>206.454545</td>\n",
       "      <td>32.453090</td>\n",
       "    </tr>\n",
       "    <tr>\n",
       "      <th>3</th>\n",
       "      <td>Abingdon</td>\n",
       "      <td>303.500000</td>\n",
       "      <td>36.712800</td>\n",
       "    </tr>\n",
       "    <tr>\n",
       "      <th>4</th>\n",
       "      <td>Abington</td>\n",
       "      <td>393.000000</td>\n",
       "      <td>40.124851</td>\n",
       "    </tr>\n",
       "  </tbody>\n",
       "</table>\n",
       "</div>"
      ],
      "text/plain": [
       "        city  update_delta   latitude\n",
       "0  Abbeville    114.857143  29.982108\n",
       "1   Aberdeen     81.625000  46.975110\n",
       "2    Abilene    206.454545  32.453090\n",
       "3   Abingdon    303.500000  36.712800\n",
       "4   Abington    393.000000  40.124851"
      ]
     },
     "execution_count": 58,
     "metadata": {},
     "output_type": "execute_result"
    }
   ],
   "source": [
    "result = df.groupby('city', as_index=False).agg({'update_delta': 'mean', 'latitude': 'max'})\n",
    "result.head()"
   ]
  },
  {
   "cell_type": "code",
   "execution_count": 59,
   "id": "e6a73a39",
   "metadata": {
    "ExecuteTime": {
     "end_time": "2022-05-24T18:55:47.992422Z",
     "start_time": "2022-05-24T18:55:47.980464Z"
    }
   },
   "outputs": [
    {
     "data": {
      "text/plain": [
       "329.69565217391306"
      ]
     },
     "execution_count": 59,
     "metadata": {},
     "output_type": "execute_result"
    }
   ],
   "source": [
    "zep_mean = float(result.query('city == \"Zephyrhills\"')['update_delta'])\n",
    "zep_mean"
   ]
  },
  {
   "cell_type": "markdown",
   "id": "f8fc8f9c",
   "metadata": {},
   "source": [
    "#### Отберите рестораны, у которых в колонке `categories` упоминается `Pizza`.\n",
    "\n",
    "Укажите индекс 3-го элемента, полученного после фильтрации"
   ]
  },
  {
   "cell_type": "code",
   "execution_count": 60,
   "id": "4033e8e9",
   "metadata": {
    "ExecuteTime": {
     "end_time": "2022-05-24T18:55:53.347200Z",
     "start_time": "2022-05-24T18:55:53.294425Z"
    }
   },
   "outputs": [
    {
     "data": {
      "text/plain": [
       "0                   Gambino's Pizza\n",
       "1                   Gambino's Pizza\n",
       "66              Falbo Bros Pizzeria\n",
       "67              Falbo Bros Pizzeria\n",
       "158      New England House of Pizza\n",
       "                    ...            \n",
       "76256        Figaro's Mexican Grill\n",
       "76291        La Bella Roma Pizzeria\n",
       "76507              Big Cheese Pizza\n",
       "76669       Slackwater Pub Pizzeria\n",
       "76709            Carbone's Pizzeria\n",
       "Name: name, Length: 1538, dtype: object"
      ]
     },
     "execution_count": 60,
     "metadata": {},
     "output_type": "execute_result"
    }
   ],
   "source": [
    "df.name[df.categories.str.contains('Pizza')]"
   ]
  },
  {
   "cell_type": "code",
   "execution_count": 61,
   "id": "f706b7e1",
   "metadata": {
    "ExecuteTime": {
     "end_time": "2022-05-24T18:55:55.142883Z",
     "start_time": "2022-05-24T18:55:55.106009Z"
    }
   },
   "outputs": [
    {
     "data": {
      "text/plain": [
       "66"
      ]
     },
     "execution_count": 61,
     "metadata": {},
     "output_type": "execute_result"
    }
   ],
   "source": [
    "df.name[df.categories.str.contains('Pizza')].index[2]"
   ]
  },
  {
   "cell_type": "markdown",
   "id": "73ce8809",
   "metadata": {},
   "source": [
    "#### В этом задании снова нужно добавить столбец `update_delta`, куда будет записана разница в днях между `dateUpdated` и `dateAdded`.  Посчитайте среднее и медиану получившейся колонки.\n",
    "\n",
    "Перечислите значения через пробел (сначала среднее, затем медиану), округлив до 2 знаков. "
   ]
  },
  {
   "cell_type": "code",
   "execution_count": 62,
   "id": "788d43c0",
   "metadata": {
    "ExecuteTime": {
     "end_time": "2022-05-24T18:56:02.466835Z",
     "start_time": "2022-05-24T18:56:02.456705Z"
    }
   },
   "outputs": [
    {
     "name": "stdout",
     "output_type": "stream",
     "text": [
      "326.22 364.0\n"
     ]
    }
   ],
   "source": [
    "print(f'{round(df.update_delta.mean(), 2)} {round(df.update_delta.median(), 2)}')"
   ]
  },
  {
   "cell_type": "code",
   "execution_count": 49,
   "id": "bce19b8c",
   "metadata": {
    "ExecuteTime": {
     "end_time": "2022-05-24T18:54:04.512531Z",
     "start_time": "2022-05-24T18:54:04.498569Z"
    }
   },
   "outputs": [
    {
     "data": {
      "text/plain": [
       "-365.0"
      ]
     },
     "execution_count": 49,
     "metadata": {},
     "output_type": "execute_result"
    }
   ],
   "source": [
    "df.update_delta.median()"
   ]
  },
  {
   "cell_type": "code",
   "execution_count": 50,
   "id": "52994575",
   "metadata": {
    "ExecuteTime": {
     "end_time": "2022-05-24T18:54:04.527490Z",
     "start_time": "2022-05-24T18:54:04.513527Z"
    }
   },
   "outputs": [
    {
     "data": {
      "text/plain": [
       "count    77260.000000\n",
       "mean      -327.157986\n",
       "std        219.528157\n",
       "min      -1277.000000\n",
       "25%       -467.000000\n",
       "50%       -365.000000\n",
       "75%       -150.000000\n",
       "max          0.000000\n",
       "Name: update_delta, dtype: float64"
      ]
     },
     "execution_count": 50,
     "metadata": {},
     "output_type": "execute_result"
    }
   ],
   "source": [
    "df.update_delta.describe()"
   ]
  },
  {
   "cell_type": "markdown",
   "id": "dbaad7a5",
   "metadata": {},
   "source": [
    "#### В этом задании нужно отобрать записи, у которых более 20 категорий, далее их нужно сгруппировать по провинциям и подсчитать минимальную `longitude` в каждой. Округлите значения `longitude` до 3-х знаков после запятой.\n",
    "\n",
    "Далее сохраните результирующий датафрейм в файл в формате csv с сепаратором `;`. Сам датафрейм должен содержать две колонки: `province` и `longitude`."
   ]
  },
  {
   "cell_type": "code",
   "execution_count": 51,
   "id": "b45e89d2",
   "metadata": {
    "ExecuteTime": {
     "end_time": "2022-05-24T18:54:04.635182Z",
     "start_time": "2022-05-24T18:54:04.528490Z"
    }
   },
   "outputs": [],
   "source": [
    "result_df = df[df.categories.str.split(',').apply(len) > 20].\\\n",
    "    groupby('province').agg({'longitude': 'min'}).reset_index()"
   ]
  },
  {
   "cell_type": "code",
   "execution_count": 52,
   "id": "aae1ad3e",
   "metadata": {
    "ExecuteTime": {
     "end_time": "2022-05-24T18:54:04.650186Z",
     "start_time": "2022-05-24T18:54:04.636206Z"
    }
   },
   "outputs": [
    {
     "data": {
      "text/html": [
       "<div>\n",
       "<style scoped>\n",
       "    .dataframe tbody tr th:only-of-type {\n",
       "        vertical-align: middle;\n",
       "    }\n",
       "\n",
       "    .dataframe tbody tr th {\n",
       "        vertical-align: top;\n",
       "    }\n",
       "\n",
       "    .dataframe thead th {\n",
       "        text-align: right;\n",
       "    }\n",
       "</style>\n",
       "<table border=\"1\" class=\"dataframe\">\n",
       "  <thead>\n",
       "    <tr style=\"text-align: right;\">\n",
       "      <th></th>\n",
       "      <th>province</th>\n",
       "      <th>longitude</th>\n",
       "    </tr>\n",
       "  </thead>\n",
       "  <tbody>\n",
       "    <tr>\n",
       "      <th>0</th>\n",
       "      <td>AZ</td>\n",
       "      <td>-110.136168</td>\n",
       "    </tr>\n",
       "    <tr>\n",
       "      <th>1</th>\n",
       "      <td>CA</td>\n",
       "      <td>-122.417190</td>\n",
       "    </tr>\n",
       "    <tr>\n",
       "      <th>2</th>\n",
       "      <td>DC</td>\n",
       "      <td>-77.074610</td>\n",
       "    </tr>\n",
       "    <tr>\n",
       "      <th>3</th>\n",
       "      <td>G P O</td>\n",
       "      <td>-73.990491</td>\n",
       "    </tr>\n",
       "    <tr>\n",
       "      <th>4</th>\n",
       "      <td>KY</td>\n",
       "      <td>-87.454722</td>\n",
       "    </tr>\n",
       "  </tbody>\n",
       "</table>\n",
       "</div>"
      ],
      "text/plain": [
       "  province   longitude\n",
       "0       AZ -110.136168\n",
       "1       CA -122.417190\n",
       "2       DC  -77.074610\n",
       "3    G P O  -73.990491\n",
       "4       KY  -87.454722"
      ]
     },
     "execution_count": 52,
     "metadata": {},
     "output_type": "execute_result"
    }
   ],
   "source": [
    "result_df.head()"
   ]
  },
  {
   "cell_type": "code",
   "execution_count": 53,
   "id": "29053857",
   "metadata": {
    "ExecuteTime": {
     "end_time": "2022-05-24T18:54:04.666146Z",
     "start_time": "2022-05-24T18:54:04.651166Z"
    }
   },
   "outputs": [],
   "source": [
    "result_df.longitude = round(result_df.longitude, 3)"
   ]
  },
  {
   "cell_type": "code",
   "execution_count": 54,
   "id": "fecb91ed",
   "metadata": {
    "ExecuteTime": {
     "end_time": "2022-05-24T18:54:04.681123Z",
     "start_time": "2022-05-24T18:54:04.667123Z"
    }
   },
   "outputs": [
    {
     "data": {
      "text/html": [
       "<div>\n",
       "<style scoped>\n",
       "    .dataframe tbody tr th:only-of-type {\n",
       "        vertical-align: middle;\n",
       "    }\n",
       "\n",
       "    .dataframe tbody tr th {\n",
       "        vertical-align: top;\n",
       "    }\n",
       "\n",
       "    .dataframe thead th {\n",
       "        text-align: right;\n",
       "    }\n",
       "</style>\n",
       "<table border=\"1\" class=\"dataframe\">\n",
       "  <thead>\n",
       "    <tr style=\"text-align: right;\">\n",
       "      <th></th>\n",
       "      <th>province</th>\n",
       "      <th>longitude</th>\n",
       "    </tr>\n",
       "  </thead>\n",
       "  <tbody>\n",
       "    <tr>\n",
       "      <th>0</th>\n",
       "      <td>AZ</td>\n",
       "      <td>-110.136</td>\n",
       "    </tr>\n",
       "    <tr>\n",
       "      <th>1</th>\n",
       "      <td>CA</td>\n",
       "      <td>-122.417</td>\n",
       "    </tr>\n",
       "    <tr>\n",
       "      <th>2</th>\n",
       "      <td>DC</td>\n",
       "      <td>-77.075</td>\n",
       "    </tr>\n",
       "    <tr>\n",
       "      <th>3</th>\n",
       "      <td>G P O</td>\n",
       "      <td>-73.990</td>\n",
       "    </tr>\n",
       "    <tr>\n",
       "      <th>4</th>\n",
       "      <td>KY</td>\n",
       "      <td>-87.455</td>\n",
       "    </tr>\n",
       "    <tr>\n",
       "      <th>5</th>\n",
       "      <td>MA</td>\n",
       "      <td>-71.055</td>\n",
       "    </tr>\n",
       "    <tr>\n",
       "      <th>6</th>\n",
       "      <td>MD</td>\n",
       "      <td>-77.453</td>\n",
       "    </tr>\n",
       "    <tr>\n",
       "      <th>7</th>\n",
       "      <td>NY</td>\n",
       "      <td>-76.794</td>\n",
       "    </tr>\n",
       "    <tr>\n",
       "      <th>8</th>\n",
       "      <td>St Simons Is</td>\n",
       "      <td>-81.394</td>\n",
       "    </tr>\n",
       "    <tr>\n",
       "      <th>9</th>\n",
       "      <td>TX</td>\n",
       "      <td>-94.939</td>\n",
       "    </tr>\n",
       "    <tr>\n",
       "      <th>10</th>\n",
       "      <td>VA</td>\n",
       "      <td>-77.093</td>\n",
       "    </tr>\n",
       "    <tr>\n",
       "      <th>11</th>\n",
       "      <td>WA</td>\n",
       "      <td>-122.383</td>\n",
       "    </tr>\n",
       "    <tr>\n",
       "      <th>12</th>\n",
       "      <td>WI</td>\n",
       "      <td>-89.377</td>\n",
       "    </tr>\n",
       "  </tbody>\n",
       "</table>\n",
       "</div>"
      ],
      "text/plain": [
       "        province  longitude\n",
       "0             AZ   -110.136\n",
       "1             CA   -122.417\n",
       "2             DC    -77.075\n",
       "3          G P O    -73.990\n",
       "4             KY    -87.455\n",
       "5             MA    -71.055\n",
       "6             MD    -77.453\n",
       "7             NY    -76.794\n",
       "8   St Simons Is    -81.394\n",
       "9             TX    -94.939\n",
       "10            VA    -77.093\n",
       "11            WA   -122.383\n",
       "12            WI    -89.377"
      ]
     },
     "execution_count": 54,
     "metadata": {},
     "output_type": "execute_result"
    }
   ],
   "source": [
    "result_df"
   ]
  },
  {
   "cell_type": "code",
   "execution_count": 55,
   "id": "5a1ef162",
   "metadata": {
    "ExecuteTime": {
     "end_time": "2022-05-24T18:54:04.696071Z",
     "start_time": "2022-05-24T18:54:04.682083Z"
    }
   },
   "outputs": [],
   "source": [
    "result_df.to_csv('output.csv', sep=';', index=False)"
   ]
  }
 ],
 "metadata": {
  "kernelspec": {
   "display_name": "Python 3 (ipykernel)",
   "language": "python",
   "name": "python3"
  },
  "language_info": {
   "codemirror_mode": {
    "name": "ipython",
    "version": 3
   },
   "file_extension": ".py",
   "mimetype": "text/x-python",
   "name": "python",
   "nbconvert_exporter": "python",
   "pygments_lexer": "ipython3",
   "version": "3.9.7"
  },
  "varInspector": {
   "cols": {
    "lenName": 16,
    "lenType": 16,
    "lenVar": 40
   },
   "kernels_config": {
    "python": {
     "delete_cmd_postfix": "",
     "delete_cmd_prefix": "del ",
     "library": "var_list.py",
     "varRefreshCmd": "print(var_dic_list())"
    },
    "r": {
     "delete_cmd_postfix": ") ",
     "delete_cmd_prefix": "rm(",
     "library": "var_list.r",
     "varRefreshCmd": "cat(var_dic_list()) "
    }
   },
   "types_to_exclude": [
    "module",
    "function",
    "builtin_function_or_method",
    "instance",
    "_Feature"
   ],
   "window_display": false
  }
 },
 "nbformat": 4,
 "nbformat_minor": 5
}
