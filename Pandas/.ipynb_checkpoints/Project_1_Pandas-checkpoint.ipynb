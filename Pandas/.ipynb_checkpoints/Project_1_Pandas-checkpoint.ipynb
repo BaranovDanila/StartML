{
 "cells": [
  {
   "cell_type": "markdown",
   "id": "bf667922",
   "metadata": {},
   "source": [
    "### Минипроект\n",
    "Всем привет! А вот и наш первый минипроект! Прежде чем приступим, немного общей информации о минипроектах. В них вам даются данные и ряд задач разной сложности.\n",
    "\n",
    "В этом минипроекте вам предстоит проанализировать данные из _Google Play Store_. Чуть ниже вы можете ознакомиться с описанием данных. Мы разбили задачи на степы, чтобы было проще их проверить. В некоторых из задач также можно встретить небольшие подсказки. Успехов :)\n",
    "\n",
    "**Описание данных**\n",
    "\n",
    "`App` — название приложения\n",
    "\n",
    "`Category` — категория, к которой относится приложение\n",
    "\n",
    "`Rating` — рейтинг пользователей\n",
    "\n",
    "`Reviews` — количество отзывов пользователей о приложении\n",
    "\n",
    "`Size` — размер приложения\n",
    "\n",
    "`Installs` — количество загрузок/установок приложения пользователями\n",
    "\n",
    "`Type` — платное или бесплатное приложение\n",
    "\n",
    "`Price` — цена приложения\n",
    "\n",
    "`Content Rating` — возрастная группа, на которую ориентировано приложение\n",
    "\n",
    "`Genres` — принадлежность приложения к нескольким жанрам\n",
    "\n",
    "`Last Updated` — дата последнего обновления приложения в Play Store\n",
    "\n",
    "`Current Ver` — текущая версия приложения в Play Store\n",
    "\n",
    "`Android Ver` — минимальная требуемая версия Android"
   ]
  },
  {
   "cell_type": "code",
   "execution_count": 1,
   "id": "33699580",
   "metadata": {
    "ExecuteTime": {
     "end_time": "2022-05-25T10:28:12.670869Z",
     "start_time": "2022-05-25T10:28:12.268320Z"
    }
   },
   "outputs": [],
   "source": [
    "import pandas as pd\n",
    "import numpy as  np"
   ]
  },
  {
   "cell_type": "code",
   "execution_count": 2,
   "id": "3424a116",
   "metadata": {
    "ExecuteTime": {
     "end_time": "2022-05-25T10:28:12.734189Z",
     "start_time": "2022-05-25T10:28:12.670869Z"
    }
   },
   "outputs": [
    {
     "data": {
      "text/html": [
       "<div>\n",
       "<style scoped>\n",
       "    .dataframe tbody tr th:only-of-type {\n",
       "        vertical-align: middle;\n",
       "    }\n",
       "\n",
       "    .dataframe tbody tr th {\n",
       "        vertical-align: top;\n",
       "    }\n",
       "\n",
       "    .dataframe thead th {\n",
       "        text-align: right;\n",
       "    }\n",
       "</style>\n",
       "<table border=\"1\" class=\"dataframe\">\n",
       "  <thead>\n",
       "    <tr style=\"text-align: right;\">\n",
       "      <th></th>\n",
       "      <th>App</th>\n",
       "      <th>Category</th>\n",
       "      <th>Rating</th>\n",
       "      <th>Reviews</th>\n",
       "      <th>Size</th>\n",
       "      <th>Installs</th>\n",
       "      <th>Type</th>\n",
       "      <th>Price</th>\n",
       "      <th>Content Rating</th>\n",
       "      <th>Genres</th>\n",
       "      <th>Last Updated</th>\n",
       "      <th>Current Ver</th>\n",
       "      <th>Android Ver</th>\n",
       "    </tr>\n",
       "  </thead>\n",
       "  <tbody>\n",
       "    <tr>\n",
       "      <th>0</th>\n",
       "      <td>Photo Editor &amp; Candy Camera &amp; Grid &amp; ScrapBook</td>\n",
       "      <td>ART_AND_DESIGN</td>\n",
       "      <td>4.1</td>\n",
       "      <td>159</td>\n",
       "      <td>19M</td>\n",
       "      <td>10,000+</td>\n",
       "      <td>Free</td>\n",
       "      <td>0</td>\n",
       "      <td>Everyone</td>\n",
       "      <td>Art &amp; Design</td>\n",
       "      <td>January 7, 2018</td>\n",
       "      <td>1.0.0</td>\n",
       "      <td>4.0.3 and up</td>\n",
       "    </tr>\n",
       "    <tr>\n",
       "      <th>1</th>\n",
       "      <td>Coloring book moana</td>\n",
       "      <td>ART_AND_DESIGN</td>\n",
       "      <td>3.9</td>\n",
       "      <td>967</td>\n",
       "      <td>14M</td>\n",
       "      <td>500,000+</td>\n",
       "      <td>Free</td>\n",
       "      <td>0</td>\n",
       "      <td>Everyone</td>\n",
       "      <td>Art &amp; Design;Pretend Play</td>\n",
       "      <td>January 15, 2018</td>\n",
       "      <td>2.0.0</td>\n",
       "      <td>4.0.3 and up</td>\n",
       "    </tr>\n",
       "    <tr>\n",
       "      <th>2</th>\n",
       "      <td>U Launcher Lite – FREE Live Cool Themes, Hide ...</td>\n",
       "      <td>ART_AND_DESIGN</td>\n",
       "      <td>4.7</td>\n",
       "      <td>87510</td>\n",
       "      <td>8.7M</td>\n",
       "      <td>5,000,000+</td>\n",
       "      <td>Free</td>\n",
       "      <td>0</td>\n",
       "      <td>Everyone</td>\n",
       "      <td>Art &amp; Design</td>\n",
       "      <td>August 1, 2018</td>\n",
       "      <td>1.2.4</td>\n",
       "      <td>4.0.3 and up</td>\n",
       "    </tr>\n",
       "    <tr>\n",
       "      <th>3</th>\n",
       "      <td>Sketch - Draw &amp; Paint</td>\n",
       "      <td>ART_AND_DESIGN</td>\n",
       "      <td>4.5</td>\n",
       "      <td>215644</td>\n",
       "      <td>25M</td>\n",
       "      <td>50,000,000+</td>\n",
       "      <td>Free</td>\n",
       "      <td>0</td>\n",
       "      <td>Teen</td>\n",
       "      <td>Art &amp; Design</td>\n",
       "      <td>June 8, 2018</td>\n",
       "      <td>Varies with device</td>\n",
       "      <td>4.2 and up</td>\n",
       "    </tr>\n",
       "    <tr>\n",
       "      <th>4</th>\n",
       "      <td>Pixel Draw - Number Art Coloring Book</td>\n",
       "      <td>ART_AND_DESIGN</td>\n",
       "      <td>4.3</td>\n",
       "      <td>967</td>\n",
       "      <td>2.8M</td>\n",
       "      <td>100,000+</td>\n",
       "      <td>Free</td>\n",
       "      <td>0</td>\n",
       "      <td>Everyone</td>\n",
       "      <td>Art &amp; Design;Creativity</td>\n",
       "      <td>June 20, 2018</td>\n",
       "      <td>1.1</td>\n",
       "      <td>4.4 and up</td>\n",
       "    </tr>\n",
       "  </tbody>\n",
       "</table>\n",
       "</div>"
      ],
      "text/plain": [
       "                                                 App        Category  Rating  \\\n",
       "0     Photo Editor & Candy Camera & Grid & ScrapBook  ART_AND_DESIGN     4.1   \n",
       "1                                Coloring book moana  ART_AND_DESIGN     3.9   \n",
       "2  U Launcher Lite – FREE Live Cool Themes, Hide ...  ART_AND_DESIGN     4.7   \n",
       "3                              Sketch - Draw & Paint  ART_AND_DESIGN     4.5   \n",
       "4              Pixel Draw - Number Art Coloring Book  ART_AND_DESIGN     4.3   \n",
       "\n",
       "   Reviews  Size     Installs  Type Price Content Rating  \\\n",
       "0      159   19M      10,000+  Free     0       Everyone   \n",
       "1      967   14M     500,000+  Free     0       Everyone   \n",
       "2    87510  8.7M   5,000,000+  Free     0       Everyone   \n",
       "3   215644   25M  50,000,000+  Free     0           Teen   \n",
       "4      967  2.8M     100,000+  Free     0       Everyone   \n",
       "\n",
       "                      Genres      Last Updated         Current Ver  \\\n",
       "0               Art & Design   January 7, 2018               1.0.0   \n",
       "1  Art & Design;Pretend Play  January 15, 2018               2.0.0   \n",
       "2               Art & Design    August 1, 2018               1.2.4   \n",
       "3               Art & Design      June 8, 2018  Varies with device   \n",
       "4    Art & Design;Creativity     June 20, 2018                 1.1   \n",
       "\n",
       "    Android Ver  \n",
       "0  4.0.3 and up  \n",
       "1  4.0.3 and up  \n",
       "2  4.0.3 and up  \n",
       "3    4.2 and up  \n",
       "4    4.4 and up  "
      ]
     },
     "execution_count": 2,
     "metadata": {},
     "output_type": "execute_result"
    }
   ],
   "source": [
    "df = pd.read_csv('playstore.csv', index_col=0)\n",
    "df.head()"
   ]
  },
  {
   "cell_type": "markdown",
   "id": "91ec1256",
   "metadata": {},
   "source": [
    "#### Сохраните в переменные `data_head` и `data_tail` первые и последние 3 строки из датафрейма соответственно."
   ]
  },
  {
   "cell_type": "code",
   "execution_count": 3,
   "id": "5388afc9",
   "metadata": {
    "ExecuteTime": {
     "end_time": "2022-05-25T10:28:12.749539Z",
     "start_time": "2022-05-25T10:28:12.736147Z"
    }
   },
   "outputs": [],
   "source": [
    "data_head = df.head(3)\n",
    "data_tail = df.tail(3)"
   ]
  },
  {
   "cell_type": "markdown",
   "id": "f62b020b",
   "metadata": {},
   "source": [
    "#### Сохраните в переменные `n_col` и `n_row` количество столбцов и строк в датафрейме соответственно."
   ]
  },
  {
   "cell_type": "code",
   "execution_count": 4,
   "id": "16f1dbc9",
   "metadata": {
    "ExecuteTime": {
     "end_time": "2022-05-25T10:28:12.764315Z",
     "start_time": "2022-05-25T10:28:12.750550Z"
    }
   },
   "outputs": [
    {
     "name": "stdout",
     "output_type": "stream",
     "text": [
      "В дарафрейме 10840 записей и 13 полей (колонок).\n"
     ]
    }
   ],
   "source": [
    "n_row = df.shape[0]\n",
    "n_col = df.shape[1]\n",
    "print(f'В дарафрейме {n_row} записей и {n_col} полей (колонок).')"
   ]
  },
  {
   "cell_type": "markdown",
   "id": "168806fb",
   "metadata": {},
   "source": [
    "#### Давайте теперь посмотрим, какое количество уникальных приложений есть у нас в наших данных (колонка `App`)."
   ]
  },
  {
   "cell_type": "code",
   "execution_count": 5,
   "id": "24fd9cd9",
   "metadata": {
    "ExecuteTime": {
     "end_time": "2022-05-25T10:28:12.779273Z",
     "start_time": "2022-05-25T10:28:12.765311Z"
    }
   },
   "outputs": [
    {
     "name": "stdout",
     "output_type": "stream",
     "text": [
      "Уникальных приложений в нашем датафрейме 9659 штук.\n"
     ]
    }
   ],
   "source": [
    "print(f'Уникальных приложений в нашем датафрейме {df.App.nunique()} штук.')"
   ]
  },
  {
   "cell_type": "code",
   "execution_count": 6,
   "id": "cae7c774",
   "metadata": {
    "ExecuteTime": {
     "end_time": "2022-05-25T10:28:12.794237Z",
     "start_time": "2022-05-25T10:28:12.780274Z"
    }
   },
   "outputs": [
    {
     "data": {
      "text/plain": [
       "App               9659\n",
       "Category            33\n",
       "Rating              39\n",
       "Reviews           6001\n",
       "Size               461\n",
       "Installs            21\n",
       "Type                 2\n",
       "Price               92\n",
       "Content Rating       6\n",
       "Genres             119\n",
       "Last Updated      1377\n",
       "Current Ver       2831\n",
       "Android Ver         33\n",
       "dtype: int64"
      ]
     },
     "execution_count": 6,
     "metadata": {},
     "output_type": "execute_result"
    }
   ],
   "source": [
    "df.nunique()"
   ]
  },
  {
   "cell_type": "markdown",
   "id": "5007b389",
   "metadata": {},
   "source": [
    "#### Для дальнейшего анализа нам необходимо убрать дубликаты приложений (колонка `App`) и сбросить индекс. Сохраните полученный результат в виде датафрейма в переменную `unique_playstore`. "
   ]
  },
  {
   "cell_type": "code",
   "execution_count": 7,
   "id": "e62dd03e",
   "metadata": {
    "ExecuteTime": {
     "end_time": "2022-05-25T10:28:12.809195Z",
     "start_time": "2022-05-25T10:28:12.795234Z"
    }
   },
   "outputs": [],
   "source": [
    "unique_playstore = df.drop_duplicates(subset=['App']).reset_index(drop=True)"
   ]
  },
  {
   "cell_type": "code",
   "execution_count": 8,
   "id": "865d46b2",
   "metadata": {
    "ExecuteTime": {
     "end_time": "2022-05-25T10:28:12.824155Z",
     "start_time": "2022-05-25T10:28:12.810192Z"
    },
    "scrolled": true
   },
   "outputs": [
    {
     "data": {
      "text/html": [
       "<div>\n",
       "<style scoped>\n",
       "    .dataframe tbody tr th:only-of-type {\n",
       "        vertical-align: middle;\n",
       "    }\n",
       "\n",
       "    .dataframe tbody tr th {\n",
       "        vertical-align: top;\n",
       "    }\n",
       "\n",
       "    .dataframe thead th {\n",
       "        text-align: right;\n",
       "    }\n",
       "</style>\n",
       "<table border=\"1\" class=\"dataframe\">\n",
       "  <thead>\n",
       "    <tr style=\"text-align: right;\">\n",
       "      <th></th>\n",
       "      <th>App</th>\n",
       "      <th>Category</th>\n",
       "      <th>Rating</th>\n",
       "      <th>Reviews</th>\n",
       "      <th>Size</th>\n",
       "      <th>Installs</th>\n",
       "      <th>Type</th>\n",
       "      <th>Price</th>\n",
       "      <th>Content Rating</th>\n",
       "      <th>Genres</th>\n",
       "      <th>Last Updated</th>\n",
       "      <th>Current Ver</th>\n",
       "      <th>Android Ver</th>\n",
       "    </tr>\n",
       "  </thead>\n",
       "  <tbody>\n",
       "    <tr>\n",
       "      <th>0</th>\n",
       "      <td>Photo Editor &amp; Candy Camera &amp; Grid &amp; ScrapBook</td>\n",
       "      <td>ART_AND_DESIGN</td>\n",
       "      <td>4.1</td>\n",
       "      <td>159</td>\n",
       "      <td>19M</td>\n",
       "      <td>10,000+</td>\n",
       "      <td>Free</td>\n",
       "      <td>0</td>\n",
       "      <td>Everyone</td>\n",
       "      <td>Art &amp; Design</td>\n",
       "      <td>January 7, 2018</td>\n",
       "      <td>1.0.0</td>\n",
       "      <td>4.0.3 and up</td>\n",
       "    </tr>\n",
       "    <tr>\n",
       "      <th>1</th>\n",
       "      <td>Coloring book moana</td>\n",
       "      <td>ART_AND_DESIGN</td>\n",
       "      <td>3.9</td>\n",
       "      <td>967</td>\n",
       "      <td>14M</td>\n",
       "      <td>500,000+</td>\n",
       "      <td>Free</td>\n",
       "      <td>0</td>\n",
       "      <td>Everyone</td>\n",
       "      <td>Art &amp; Design;Pretend Play</td>\n",
       "      <td>January 15, 2018</td>\n",
       "      <td>2.0.0</td>\n",
       "      <td>4.0.3 and up</td>\n",
       "    </tr>\n",
       "    <tr>\n",
       "      <th>2</th>\n",
       "      <td>U Launcher Lite – FREE Live Cool Themes, Hide ...</td>\n",
       "      <td>ART_AND_DESIGN</td>\n",
       "      <td>4.7</td>\n",
       "      <td>87510</td>\n",
       "      <td>8.7M</td>\n",
       "      <td>5,000,000+</td>\n",
       "      <td>Free</td>\n",
       "      <td>0</td>\n",
       "      <td>Everyone</td>\n",
       "      <td>Art &amp; Design</td>\n",
       "      <td>August 1, 2018</td>\n",
       "      <td>1.2.4</td>\n",
       "      <td>4.0.3 and up</td>\n",
       "    </tr>\n",
       "    <tr>\n",
       "      <th>3</th>\n",
       "      <td>Sketch - Draw &amp; Paint</td>\n",
       "      <td>ART_AND_DESIGN</td>\n",
       "      <td>4.5</td>\n",
       "      <td>215644</td>\n",
       "      <td>25M</td>\n",
       "      <td>50,000,000+</td>\n",
       "      <td>Free</td>\n",
       "      <td>0</td>\n",
       "      <td>Teen</td>\n",
       "      <td>Art &amp; Design</td>\n",
       "      <td>June 8, 2018</td>\n",
       "      <td>Varies with device</td>\n",
       "      <td>4.2 and up</td>\n",
       "    </tr>\n",
       "    <tr>\n",
       "      <th>4</th>\n",
       "      <td>Pixel Draw - Number Art Coloring Book</td>\n",
       "      <td>ART_AND_DESIGN</td>\n",
       "      <td>4.3</td>\n",
       "      <td>967</td>\n",
       "      <td>2.8M</td>\n",
       "      <td>100,000+</td>\n",
       "      <td>Free</td>\n",
       "      <td>0</td>\n",
       "      <td>Everyone</td>\n",
       "      <td>Art &amp; Design;Creativity</td>\n",
       "      <td>June 20, 2018</td>\n",
       "      <td>1.1</td>\n",
       "      <td>4.4 and up</td>\n",
       "    </tr>\n",
       "  </tbody>\n",
       "</table>\n",
       "</div>"
      ],
      "text/plain": [
       "                                                 App        Category  Rating  \\\n",
       "0     Photo Editor & Candy Camera & Grid & ScrapBook  ART_AND_DESIGN     4.1   \n",
       "1                                Coloring book moana  ART_AND_DESIGN     3.9   \n",
       "2  U Launcher Lite – FREE Live Cool Themes, Hide ...  ART_AND_DESIGN     4.7   \n",
       "3                              Sketch - Draw & Paint  ART_AND_DESIGN     4.5   \n",
       "4              Pixel Draw - Number Art Coloring Book  ART_AND_DESIGN     4.3   \n",
       "\n",
       "   Reviews  Size     Installs  Type Price Content Rating  \\\n",
       "0      159   19M      10,000+  Free     0       Everyone   \n",
       "1      967   14M     500,000+  Free     0       Everyone   \n",
       "2    87510  8.7M   5,000,000+  Free     0       Everyone   \n",
       "3   215644   25M  50,000,000+  Free     0           Teen   \n",
       "4      967  2.8M     100,000+  Free     0       Everyone   \n",
       "\n",
       "                      Genres      Last Updated         Current Ver  \\\n",
       "0               Art & Design   January 7, 2018               1.0.0   \n",
       "1  Art & Design;Pretend Play  January 15, 2018               2.0.0   \n",
       "2               Art & Design    August 1, 2018               1.2.4   \n",
       "3               Art & Design      June 8, 2018  Varies with device   \n",
       "4    Art & Design;Creativity     June 20, 2018                 1.1   \n",
       "\n",
       "    Android Ver  \n",
       "0  4.0.3 and up  \n",
       "1  4.0.3 and up  \n",
       "2  4.0.3 and up  \n",
       "3    4.2 and up  \n",
       "4    4.4 and up  "
      ]
     },
     "execution_count": 8,
     "metadata": {},
     "output_type": "execute_result"
    }
   ],
   "source": [
    "unique_playstore.head()"
   ]
  },
  {
   "cell_type": "code",
   "execution_count": 9,
   "id": "ddbcd193",
   "metadata": {
    "ExecuteTime": {
     "end_time": "2022-05-25T10:28:12.839136Z",
     "start_time": "2022-05-25T10:28:12.826151Z"
    }
   },
   "outputs": [
    {
     "data": {
      "text/plain": [
       "RangeIndex(start=0, stop=9659, step=1)"
      ]
     },
     "execution_count": 9,
     "metadata": {},
     "output_type": "execute_result"
    }
   ],
   "source": [
    "unique_playstore.index"
   ]
  },
  {
   "cell_type": "markdown",
   "id": "947a1c15",
   "metadata": {},
   "source": [
    "#### В этом задании названия колонок необходимо привести к стандартному виду — все буквы должны быть нижнего регистра, а пробелы должны быть заменены на нижние подчеркивания. \n"
   ]
  },
  {
   "cell_type": "code",
   "execution_count": 10,
   "id": "bee418d6",
   "metadata": {
    "ExecuteTime": {
     "end_time": "2022-05-25T10:28:12.855085Z",
     "start_time": "2022-05-25T10:28:12.840113Z"
    },
    "scrolled": true
   },
   "outputs": [
    {
     "data": {
      "text/plain": [
       "Index(['App', 'Category', 'Rating', 'Reviews', 'Size', 'Installs', 'Type',\n",
       "       'Price', 'Content Rating', 'Genres', 'Last Updated', 'Current Ver',\n",
       "       'Android Ver'],\n",
       "      dtype='object')"
      ]
     },
     "execution_count": 10,
     "metadata": {},
     "output_type": "execute_result"
    }
   ],
   "source": [
    "unique_playstore.columns"
   ]
  },
  {
   "cell_type": "code",
   "execution_count": 11,
   "id": "94f6fc68",
   "metadata": {
    "ExecuteTime": {
     "end_time": "2022-05-25T10:28:12.871049Z",
     "start_time": "2022-05-25T10:28:12.856071Z"
    },
    "scrolled": true
   },
   "outputs": [
    {
     "data": {
      "text/plain": [
       "Index(['app', 'category', 'rating', 'reviews', 'size', 'installs', 'type',\n",
       "       'price', 'content_rating', 'genres', 'last_updated', 'current_ver',\n",
       "       'android_ver'],\n",
       "      dtype='object')"
      ]
     },
     "execution_count": 11,
     "metadata": {},
     "output_type": "execute_result"
    }
   ],
   "source": [
    "rename_func = lambda x: x.replace(' ', '_').lower()\n",
    "unique_playstore = unique_playstore.rename(rename_func, axis=1)\n",
    "unique_playstore.columns"
   ]
  },
  {
   "cell_type": "markdown",
   "id": "7d4e94cd",
   "metadata": {},
   "source": [
    "Можно добиться аналогичного результата, воспользовавшись _list comprehension_."
   ]
  },
  {
   "cell_type": "code",
   "execution_count": 12,
   "id": "b44841ad",
   "metadata": {
    "ExecuteTime": {
     "end_time": "2022-05-25T10:28:12.886011Z",
     "start_time": "2022-05-25T10:28:12.872027Z"
    }
   },
   "outputs": [],
   "source": [
    "unique_playstore.columns = [str(i).replace(' ', '_').lower() for i in unique_playstore.columns]"
   ]
  },
  {
   "cell_type": "markdown",
   "id": "7d647039",
   "metadata": {},
   "source": [
    "#### Давайте посмотрим на долю платных и бесплатных приложений. В качестве ответа введите долю бесплатных приложений. Ответ округлите до сотых, в качестве десятичного разделителя используйте точку."
   ]
  },
  {
   "cell_type": "code",
   "execution_count": 13,
   "id": "d9b085a3",
   "metadata": {
    "ExecuteTime": {
     "end_time": "2022-05-25T10:28:12.900962Z",
     "start_time": "2022-05-25T10:28:12.886987Z"
    }
   },
   "outputs": [
    {
     "data": {
      "text/plain": [
       "array(['0', '$4.99', '$3.99', '$6.99', '$1.49', '$2.99', '$7.99', '$5.99',\n",
       "       '$3.49', '$1.99', '$9.99', '$7.49', '$0.99', '$9.00', '$5.49',\n",
       "       '$10.00', '$24.99', '$11.99', '$79.99', '$16.99', '$14.99',\n",
       "       '$1.00', '$29.99', '$12.99', '$2.49', '$10.99', '$1.50', '$19.99',\n",
       "       '$15.99', '$33.99', '$74.99', '$39.99', '$3.95', '$4.49', '$1.70',\n",
       "       '$8.99', '$2.00', '$3.88', '$25.99', '$399.99', '$17.99',\n",
       "       '$400.00', '$3.02', '$1.76', '$4.84', '$4.77', '$1.61', '$2.50',\n",
       "       '$1.59', '$6.49', '$1.29', '$5.00', '$13.99', '$299.99', '$379.99',\n",
       "       '$37.99', '$18.99', '$389.99', '$19.90', '$8.49', '$1.75',\n",
       "       '$14.00', '$4.85', '$46.99', '$109.99', '$154.99', '$3.08',\n",
       "       '$2.59', '$4.80', '$1.96', '$19.40', '$3.90', '$4.59', '$15.46',\n",
       "       '$3.04', '$4.29', '$2.60', '$3.28', '$4.60', '$28.99', '$2.95',\n",
       "       '$2.90', '$1.97', '$200.00', '$89.99', '$2.56', '$30.99', '$3.61',\n",
       "       '$394.99', '$1.26', '$1.20', '$1.04'], dtype=object)"
      ]
     },
     "execution_count": 13,
     "metadata": {},
     "output_type": "execute_result"
    }
   ],
   "source": [
    "unique_playstore.price.unique()"
   ]
  },
  {
   "cell_type": "markdown",
   "id": "7355cfd1",
   "metadata": {},
   "source": [
    "Бесплатные приложения - цена 0, платные != 0 (> 0)."
   ]
  },
  {
   "cell_type": "code",
   "execution_count": 14,
   "id": "3affdf01",
   "metadata": {
    "ExecuteTime": {
     "end_time": "2022-05-25T10:28:12.916925Z",
     "start_time": "2022-05-25T10:28:12.901946Z"
    }
   },
   "outputs": [
    {
     "name": "stdout",
     "output_type": "stream",
     "text": [
      "Доля платных приложений: 0.08.\n",
      "Доля бесплатных приложений: 0.92.\n"
     ]
    }
   ],
   "source": [
    "print(f'Доля платных приложений: \\\n",
    "{round(unique_playstore[unique_playstore.price != \"0\"].shape[0] / unique_playstore.shape[0], 2)}.')\n",
    "\n",
    "print(f'Доля бесплатных приложений: \\\n",
    "{round(unique_playstore[unique_playstore.price == \"0\"].shape[0] / unique_playstore.shape[0], 2)}.')"
   ]
  },
  {
   "cell_type": "markdown",
   "id": "93a61d96",
   "metadata": {},
   "source": [
    "Другой вариант решения:"
   ]
  },
  {
   "cell_type": "markdown",
   "id": "4f20802b",
   "metadata": {},
   "source": [
    "`type` — платное или бесплатное приложение"
   ]
  },
  {
   "cell_type": "code",
   "execution_count": 15,
   "id": "a5ee0647",
   "metadata": {
    "ExecuteTime": {
     "end_time": "2022-05-25T10:28:12.932878Z",
     "start_time": "2022-05-25T10:28:12.917904Z"
    }
   },
   "outputs": [
    {
     "data": {
      "text/plain": [
       "Free    0.92\n",
       "Paid    0.08\n",
       "Name: type, dtype: float64"
      ]
     },
     "execution_count": 15,
     "metadata": {},
     "output_type": "execute_result"
    }
   ],
   "source": [
    "round(unique_playstore.type.value_counts(normalize=True), 2)"
   ]
  },
  {
   "cell_type": "markdown",
   "id": "674e97b7",
   "metadata": {},
   "source": [
    "`normalize=True` - отвечает за подсчёт доли, а не частоты появления. "
   ]
  },
  {
   "cell_type": "markdown",
   "id": "f19e05b0",
   "metadata": {},
   "source": [
    "#### Отберите из датафрейма только те приложения, которые относятся к образовательной категории  (`EDUCATION`) и с количеством отзывов пользователей более 1000. Сохраните новый датафрейм в переменную `education_playstore`."
   ]
  },
  {
   "cell_type": "markdown",
   "id": "dc5e03f3",
   "metadata": {},
   "source": [
    "`category` — категория, к которой относится приложение\n",
    "\n",
    "`reviews` — количество отзывов пользователей о приложении"
   ]
  },
  {
   "cell_type": "code",
   "execution_count": 16,
   "id": "95f0e171",
   "metadata": {
    "ExecuteTime": {
     "end_time": "2022-05-25T10:28:12.948846Z",
     "start_time": "2022-05-25T10:28:12.933861Z"
    }
   },
   "outputs": [
    {
     "data": {
      "text/plain": [
       "array(['ART_AND_DESIGN', 'AUTO_AND_VEHICLES', 'BEAUTY',\n",
       "       'BOOKS_AND_REFERENCE', 'BUSINESS', 'COMICS', 'COMMUNICATION',\n",
       "       'DATING', 'EDUCATION', 'ENTERTAINMENT', 'EVENTS', 'FINANCE',\n",
       "       'FOOD_AND_DRINK', 'HEALTH_AND_FITNESS', 'HOUSE_AND_HOME',\n",
       "       'LIBRARIES_AND_DEMO', 'LIFESTYLE', 'GAME', 'FAMILY', 'MEDICAL',\n",
       "       'SOCIAL', 'SHOPPING', 'PHOTOGRAPHY', 'SPORTS', 'TRAVEL_AND_LOCAL',\n",
       "       'TOOLS', 'PERSONALIZATION', 'PRODUCTIVITY', 'PARENTING', 'WEATHER',\n",
       "       'VIDEO_PLAYERS', 'NEWS_AND_MAGAZINES', 'MAPS_AND_NAVIGATION'],\n",
       "      dtype=object)"
      ]
     },
     "execution_count": 16,
     "metadata": {},
     "output_type": "execute_result"
    }
   ],
   "source": [
    "unique_playstore.category.unique()"
   ]
  },
  {
   "cell_type": "code",
   "execution_count": 17,
   "id": "648b0929",
   "metadata": {
    "ExecuteTime": {
     "end_time": "2022-05-25T10:28:12.964778Z",
     "start_time": "2022-05-25T10:28:12.949819Z"
    }
   },
   "outputs": [
    {
     "data": {
      "text/plain": [
       "dtype('int64')"
      ]
     },
     "execution_count": 17,
     "metadata": {},
     "output_type": "execute_result"
    }
   ],
   "source": [
    "unique_playstore.reviews.dtype"
   ]
  },
  {
   "cell_type": "code",
   "execution_count": 18,
   "id": "ec03e484",
   "metadata": {
    "ExecuteTime": {
     "end_time": "2022-05-25T10:28:12.980736Z",
     "start_time": "2022-05-25T10:28:12.965776Z"
    }
   },
   "outputs": [
    {
     "data": {
      "text/html": [
       "<div>\n",
       "<style scoped>\n",
       "    .dataframe tbody tr th:only-of-type {\n",
       "        vertical-align: middle;\n",
       "    }\n",
       "\n",
       "    .dataframe tbody tr th {\n",
       "        vertical-align: top;\n",
       "    }\n",
       "\n",
       "    .dataframe thead th {\n",
       "        text-align: right;\n",
       "    }\n",
       "</style>\n",
       "<table border=\"1\" class=\"dataframe\">\n",
       "  <thead>\n",
       "    <tr style=\"text-align: right;\">\n",
       "      <th></th>\n",
       "      <th>app</th>\n",
       "      <th>category</th>\n",
       "      <th>rating</th>\n",
       "      <th>reviews</th>\n",
       "      <th>size</th>\n",
       "      <th>installs</th>\n",
       "      <th>type</th>\n",
       "      <th>price</th>\n",
       "      <th>content_rating</th>\n",
       "      <th>genres</th>\n",
       "      <th>last_updated</th>\n",
       "      <th>current_ver</th>\n",
       "      <th>android_ver</th>\n",
       "    </tr>\n",
       "  </thead>\n",
       "  <tbody>\n",
       "    <tr>\n",
       "      <th>0</th>\n",
       "      <td>Duolingo: Learn Languages Free</td>\n",
       "      <td>EDUCATION</td>\n",
       "      <td>4.7</td>\n",
       "      <td>6289924</td>\n",
       "      <td>Varies with device</td>\n",
       "      <td>100,000,000+</td>\n",
       "      <td>Free</td>\n",
       "      <td>0</td>\n",
       "      <td>Everyone</td>\n",
       "      <td>Education;Education</td>\n",
       "      <td>August 1, 2018</td>\n",
       "      <td>Varies with device</td>\n",
       "      <td>Varies with device</td>\n",
       "    </tr>\n",
       "    <tr>\n",
       "      <th>1</th>\n",
       "      <td>TED</td>\n",
       "      <td>EDUCATION</td>\n",
       "      <td>4.6</td>\n",
       "      <td>181893</td>\n",
       "      <td>18M</td>\n",
       "      <td>10,000,000+</td>\n",
       "      <td>Free</td>\n",
       "      <td>0</td>\n",
       "      <td>Everyone 10+</td>\n",
       "      <td>Education</td>\n",
       "      <td>July 27, 2018</td>\n",
       "      <td>3.2.5</td>\n",
       "      <td>4.1 and up</td>\n",
       "    </tr>\n",
       "    <tr>\n",
       "      <th>2</th>\n",
       "      <td>English Communication - Learn English for Chin...</td>\n",
       "      <td>EDUCATION</td>\n",
       "      <td>4.7</td>\n",
       "      <td>2544</td>\n",
       "      <td>18M</td>\n",
       "      <td>100,000+</td>\n",
       "      <td>Free</td>\n",
       "      <td>0</td>\n",
       "      <td>Everyone</td>\n",
       "      <td>Education</td>\n",
       "      <td>December 29, 2017</td>\n",
       "      <td>3.1</td>\n",
       "      <td>4.0 and up</td>\n",
       "    </tr>\n",
       "    <tr>\n",
       "      <th>3</th>\n",
       "      <td>Khan Academy</td>\n",
       "      <td>EDUCATION</td>\n",
       "      <td>4.6</td>\n",
       "      <td>85375</td>\n",
       "      <td>21M</td>\n",
       "      <td>5,000,000+</td>\n",
       "      <td>Free</td>\n",
       "      <td>0</td>\n",
       "      <td>Everyone</td>\n",
       "      <td>Education</td>\n",
       "      <td>July 27, 2018</td>\n",
       "      <td>5.0.0</td>\n",
       "      <td>4.1 and up</td>\n",
       "    </tr>\n",
       "    <tr>\n",
       "      <th>4</th>\n",
       "      <td>Learn English with Wlingua</td>\n",
       "      <td>EDUCATION</td>\n",
       "      <td>4.7</td>\n",
       "      <td>314299</td>\n",
       "      <td>3.3M</td>\n",
       "      <td>10,000,000+</td>\n",
       "      <td>Free</td>\n",
       "      <td>0</td>\n",
       "      <td>Everyone</td>\n",
       "      <td>Education</td>\n",
       "      <td>May 2, 2018</td>\n",
       "      <td>1.94.9</td>\n",
       "      <td>4.0 and up</td>\n",
       "    </tr>\n",
       "  </tbody>\n",
       "</table>\n",
       "</div>"
      ],
      "text/plain": [
       "                                                 app   category  rating  \\\n",
       "0                     Duolingo: Learn Languages Free  EDUCATION     4.7   \n",
       "1                                                TED  EDUCATION     4.6   \n",
       "2  English Communication - Learn English for Chin...  EDUCATION     4.7   \n",
       "3                                       Khan Academy  EDUCATION     4.6   \n",
       "4                         Learn English with Wlingua  EDUCATION     4.7   \n",
       "\n",
       "   reviews                size      installs  type price content_rating  \\\n",
       "0  6289924  Varies with device  100,000,000+  Free     0       Everyone   \n",
       "1   181893                 18M   10,000,000+  Free     0   Everyone 10+   \n",
       "2     2544                 18M      100,000+  Free     0       Everyone   \n",
       "3    85375                 21M    5,000,000+  Free     0       Everyone   \n",
       "4   314299                3.3M   10,000,000+  Free     0       Everyone   \n",
       "\n",
       "                genres       last_updated         current_ver  \\\n",
       "0  Education;Education     August 1, 2018  Varies with device   \n",
       "1            Education      July 27, 2018               3.2.5   \n",
       "2            Education  December 29, 2017                 3.1   \n",
       "3            Education      July 27, 2018               5.0.0   \n",
       "4            Education        May 2, 2018              1.94.9   \n",
       "\n",
       "          android_ver  \n",
       "0  Varies with device  \n",
       "1          4.1 and up  \n",
       "2          4.0 and up  \n",
       "3          4.1 and up  \n",
       "4          4.0 and up  "
      ]
     },
     "execution_count": 18,
     "metadata": {},
     "output_type": "execute_result"
    }
   ],
   "source": [
    "education_playstore = unique_playstore.query('(category == \"EDUCATION\") & (reviews > 1000)').reset_index(drop=True)\n",
    "education_playstore.head()"
   ]
  },
  {
   "cell_type": "markdown",
   "id": "d94038e0",
   "metadata": {},
   "source": [
    "#### Трансформируйте данные о времени последнего обновления из датафрейма формат времени. Сохраните результат в столбец датафрейма `unique_playstore.last_updated`."
   ]
  },
  {
   "cell_type": "code",
   "execution_count": 19,
   "id": "6937f4f0",
   "metadata": {
    "ExecuteTime": {
     "end_time": "2022-05-25T10:28:12.996715Z",
     "start_time": "2022-05-25T10:28:12.981733Z"
    }
   },
   "outputs": [],
   "source": [
    "unique_playstore.last_updated = pd.to_datetime(education_playstore.last_updated)"
   ]
  },
  {
   "cell_type": "code",
   "execution_count": 20,
   "id": "ca736839",
   "metadata": {
    "ExecuteTime": {
     "end_time": "2022-05-25T10:28:13.012650Z",
     "start_time": "2022-05-25T10:28:12.997692Z"
    }
   },
   "outputs": [
    {
     "data": {
      "text/plain": [
       "app                       object\n",
       "category                  object\n",
       "rating                   float64\n",
       "reviews                    int64\n",
       "size                      object\n",
       "installs                  object\n",
       "type                      object\n",
       "price                     object\n",
       "content_rating            object\n",
       "genres                    object\n",
       "last_updated      datetime64[ns]\n",
       "current_ver               object\n",
       "android_ver               object\n",
       "dtype: object"
      ]
     },
     "execution_count": 20,
     "metadata": {},
     "output_type": "execute_result"
    }
   ],
   "source": [
    "unique_playstore.dtypes"
   ]
  },
  {
   "cell_type": "markdown",
   "id": "df5f52e9",
   "metadata": {},
   "source": [
    "#### Давайте уберем лишние символы из колонки с ценой (`price`), чтобы далее с ней было удобнее работать, и переведем данные в тип `float`. "
   ]
  },
  {
   "cell_type": "code",
   "execution_count": 21,
   "id": "869397a3",
   "metadata": {
    "ExecuteTime": {
     "end_time": "2022-05-25T10:28:13.028629Z",
     "start_time": "2022-05-25T10:28:13.014648Z"
    }
   },
   "outputs": [],
   "source": [
    "replace_symb_to_float = lambda x: float(x.replace('$', ''))\n",
    "unique_playstore.price = unique_playstore.price.apply(replace_symb_to_float)"
   ]
  },
  {
   "cell_type": "code",
   "execution_count": 22,
   "id": "5ca7c13a",
   "metadata": {
    "ExecuteTime": {
     "end_time": "2022-05-25T10:28:13.044565Z",
     "start_time": "2022-05-25T10:28:13.029605Z"
    }
   },
   "outputs": [
    {
     "data": {
      "text/html": [
       "<div>\n",
       "<style scoped>\n",
       "    .dataframe tbody tr th:only-of-type {\n",
       "        vertical-align: middle;\n",
       "    }\n",
       "\n",
       "    .dataframe tbody tr th {\n",
       "        vertical-align: top;\n",
       "    }\n",
       "\n",
       "    .dataframe thead th {\n",
       "        text-align: right;\n",
       "    }\n",
       "</style>\n",
       "<table border=\"1\" class=\"dataframe\">\n",
       "  <thead>\n",
       "    <tr style=\"text-align: right;\">\n",
       "      <th></th>\n",
       "      <th>app</th>\n",
       "      <th>category</th>\n",
       "      <th>rating</th>\n",
       "      <th>reviews</th>\n",
       "      <th>size</th>\n",
       "      <th>installs</th>\n",
       "      <th>type</th>\n",
       "      <th>price</th>\n",
       "      <th>content_rating</th>\n",
       "      <th>genres</th>\n",
       "      <th>last_updated</th>\n",
       "      <th>current_ver</th>\n",
       "      <th>android_ver</th>\n",
       "    </tr>\n",
       "  </thead>\n",
       "  <tbody>\n",
       "    <tr>\n",
       "      <th>0</th>\n",
       "      <td>Photo Editor &amp; Candy Camera &amp; Grid &amp; ScrapBook</td>\n",
       "      <td>ART_AND_DESIGN</td>\n",
       "      <td>4.1</td>\n",
       "      <td>159</td>\n",
       "      <td>19M</td>\n",
       "      <td>10,000+</td>\n",
       "      <td>Free</td>\n",
       "      <td>0.0</td>\n",
       "      <td>Everyone</td>\n",
       "      <td>Art &amp; Design</td>\n",
       "      <td>2018-08-01</td>\n",
       "      <td>1.0.0</td>\n",
       "      <td>4.0.3 and up</td>\n",
       "    </tr>\n",
       "    <tr>\n",
       "      <th>1</th>\n",
       "      <td>Coloring book moana</td>\n",
       "      <td>ART_AND_DESIGN</td>\n",
       "      <td>3.9</td>\n",
       "      <td>967</td>\n",
       "      <td>14M</td>\n",
       "      <td>500,000+</td>\n",
       "      <td>Free</td>\n",
       "      <td>0.0</td>\n",
       "      <td>Everyone</td>\n",
       "      <td>Art &amp; Design;Pretend Play</td>\n",
       "      <td>2018-07-27</td>\n",
       "      <td>2.0.0</td>\n",
       "      <td>4.0.3 and up</td>\n",
       "    </tr>\n",
       "    <tr>\n",
       "      <th>2</th>\n",
       "      <td>U Launcher Lite – FREE Live Cool Themes, Hide ...</td>\n",
       "      <td>ART_AND_DESIGN</td>\n",
       "      <td>4.7</td>\n",
       "      <td>87510</td>\n",
       "      <td>8.7M</td>\n",
       "      <td>5,000,000+</td>\n",
       "      <td>Free</td>\n",
       "      <td>0.0</td>\n",
       "      <td>Everyone</td>\n",
       "      <td>Art &amp; Design</td>\n",
       "      <td>2017-12-29</td>\n",
       "      <td>1.2.4</td>\n",
       "      <td>4.0.3 and up</td>\n",
       "    </tr>\n",
       "    <tr>\n",
       "      <th>3</th>\n",
       "      <td>Sketch - Draw &amp; Paint</td>\n",
       "      <td>ART_AND_DESIGN</td>\n",
       "      <td>4.5</td>\n",
       "      <td>215644</td>\n",
       "      <td>25M</td>\n",
       "      <td>50,000,000+</td>\n",
       "      <td>Free</td>\n",
       "      <td>0.0</td>\n",
       "      <td>Teen</td>\n",
       "      <td>Art &amp; Design</td>\n",
       "      <td>2018-07-27</td>\n",
       "      <td>Varies with device</td>\n",
       "      <td>4.2 and up</td>\n",
       "    </tr>\n",
       "    <tr>\n",
       "      <th>4</th>\n",
       "      <td>Pixel Draw - Number Art Coloring Book</td>\n",
       "      <td>ART_AND_DESIGN</td>\n",
       "      <td>4.3</td>\n",
       "      <td>967</td>\n",
       "      <td>2.8M</td>\n",
       "      <td>100,000+</td>\n",
       "      <td>Free</td>\n",
       "      <td>0.0</td>\n",
       "      <td>Everyone</td>\n",
       "      <td>Art &amp; Design;Creativity</td>\n",
       "      <td>2018-05-02</td>\n",
       "      <td>1.1</td>\n",
       "      <td>4.4 and up</td>\n",
       "    </tr>\n",
       "  </tbody>\n",
       "</table>\n",
       "</div>"
      ],
      "text/plain": [
       "                                                 app        category  rating  \\\n",
       "0     Photo Editor & Candy Camera & Grid & ScrapBook  ART_AND_DESIGN     4.1   \n",
       "1                                Coloring book moana  ART_AND_DESIGN     3.9   \n",
       "2  U Launcher Lite – FREE Live Cool Themes, Hide ...  ART_AND_DESIGN     4.7   \n",
       "3                              Sketch - Draw & Paint  ART_AND_DESIGN     4.5   \n",
       "4              Pixel Draw - Number Art Coloring Book  ART_AND_DESIGN     4.3   \n",
       "\n",
       "   reviews  size     installs  type  price content_rating  \\\n",
       "0      159   19M      10,000+  Free    0.0       Everyone   \n",
       "1      967   14M     500,000+  Free    0.0       Everyone   \n",
       "2    87510  8.7M   5,000,000+  Free    0.0       Everyone   \n",
       "3   215644   25M  50,000,000+  Free    0.0           Teen   \n",
       "4      967  2.8M     100,000+  Free    0.0       Everyone   \n",
       "\n",
       "                      genres last_updated         current_ver   android_ver  \n",
       "0               Art & Design   2018-08-01               1.0.0  4.0.3 and up  \n",
       "1  Art & Design;Pretend Play   2018-07-27               2.0.0  4.0.3 and up  \n",
       "2               Art & Design   2017-12-29               1.2.4  4.0.3 and up  \n",
       "3               Art & Design   2018-07-27  Varies with device    4.2 and up  \n",
       "4    Art & Design;Creativity   2018-05-02                 1.1    4.4 and up  "
      ]
     },
     "execution_count": 22,
     "metadata": {},
     "output_type": "execute_result"
    }
   ],
   "source": [
    "unique_playstore.head()"
   ]
  },
  {
   "cell_type": "markdown",
   "id": "f2747a4c",
   "metadata": {},
   "source": [
    "#### Рассчитаем медиану и среднее значение `price` и сохраним это в переменные `price_median` и `price_mean`, округлив значения до 2-х знаков после запятой.\n",
    "\n"
   ]
  },
  {
   "cell_type": "code",
   "execution_count": 23,
   "id": "a503f967",
   "metadata": {
    "ExecuteTime": {
     "end_time": "2022-05-25T10:28:13.060536Z",
     "start_time": "2022-05-25T10:28:13.045564Z"
    }
   },
   "outputs": [
    {
     "name": "stdout",
     "output_type": "stream",
     "text": [
      "Медиана по полю peice: 0.0, среднее значение: 1.1.\n"
     ]
    }
   ],
   "source": [
    "price_median = round(unique_playstore.price.median(), 2)\n",
    "price_mean = round(unique_playstore.price.mean(), 2)\n",
    "print(f'Медиана по полю peice: {price_median}, среднее значение: {price_mean}.')"
   ]
  }
 ],
 "metadata": {
  "kernelspec": {
   "display_name": "Python 3 (ipykernel)",
   "language": "python",
   "name": "python3"
  },
  "language_info": {
   "codemirror_mode": {
    "name": "ipython",
    "version": 3
   },
   "file_extension": ".py",
   "mimetype": "text/x-python",
   "name": "python",
   "nbconvert_exporter": "python",
   "pygments_lexer": "ipython3",
   "version": "3.9.7"
  },
  "varInspector": {
   "cols": {
    "lenName": 16,
    "lenType": 16,
    "lenVar": 40
   },
   "kernels_config": {
    "python": {
     "delete_cmd_postfix": "",
     "delete_cmd_prefix": "del ",
     "library": "var_list.py",
     "varRefreshCmd": "print(var_dic_list())"
    },
    "r": {
     "delete_cmd_postfix": ") ",
     "delete_cmd_prefix": "rm(",
     "library": "var_list.r",
     "varRefreshCmd": "cat(var_dic_list()) "
    }
   },
   "types_to_exclude": [
    "module",
    "function",
    "builtin_function_or_method",
    "instance",
    "_Feature"
   ],
   "window_display": false
  }
 },
 "nbformat": 4,
 "nbformat_minor": 5
}
